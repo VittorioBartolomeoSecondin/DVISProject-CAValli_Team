{
  "nbformat": 4,
  "nbformat_minor": 0,
  "metadata": {
    "colab": {
      "provenance": [],
      "authorship_tag": "ABX9TyM0Q228djY+u+nCoDtO2PHO",
      "include_colab_link": true
    },
    "kernelspec": {
      "name": "python3",
      "display_name": "Python 3"
    },
    "language_info": {
      "name": "python"
    }
  },
  "cells": [
    {
      "cell_type": "markdown",
      "metadata": {
        "id": "view-in-github",
        "colab_type": "text"
      },
      "source": [
        "<a href=\"https://colab.research.google.com/github/VittorioBartolomeoSecondin/DVISProject-CAValli_Team/blob/main/Preprocessing_story2.ipynb\" target=\"_parent\"><img src=\"https://colab.research.google.com/assets/colab-badge.svg\" alt=\"Open In Colab\"/></a>"
      ]
    },
    {
      "cell_type": "markdown",
      "source": [
        "# Importing libraries and connecting to Google Drive"
      ],
      "metadata": {
        "id": "jYXUHoAb6l2w"
      }
    },
    {
      "cell_type": "code",
      "execution_count": 5,
      "metadata": {
        "colab": {
          "base_uri": "https://localhost:8080/"
        },
        "id": "X5bxYVYS6aTo",
        "outputId": "a03c841f-a035-4b40-92b6-2b91d377ddf5"
      },
      "outputs": [
        {
          "output_type": "stream",
          "name": "stdout",
          "text": [
            "Drive already mounted at /content/drive; to attempt to forcibly remount, call drive.mount(\"/content/drive\", force_remount=True).\n"
          ]
        }
      ],
      "source": [
        "import pandas as pd\n",
        "import matplotlib.pyplot as plt\n",
        "import numpy as np\n",
        "import glob\n",
        "import json\n",
        "import csv\n",
        "import requests\n",
        "import os\n",
        "import zipfile\n",
        "from google.colab import files\n",
        "from google.colab import drive\n",
        "drive.mount('/content/drive')"
      ]
    },
    {
      "cell_type": "markdown",
      "source": [
        "# Reading the data"
      ],
      "metadata": {
        "id": "YivPdgm36wlH"
      }
    },
    {
      "cell_type": "code",
      "source": [
        "all_files = glob.glob(\"/content/drive/MyDrive/DV_project/story2/*.xlsx\")\n",
        "all_files.sort()\n",
        "print(all_files)"
      ],
      "metadata": {
        "colab": {
          "base_uri": "https://localhost:8080/"
        },
        "id": "PU8YUJ2E6w-H",
        "outputId": "c9dfcd3f-a55c-404d-f42c-7f724199caa9"
      },
      "execution_count": 6,
      "outputs": [
        {
          "output_type": "stream",
          "name": "stdout",
          "text": [
            "['/content/drive/MyDrive/DV_project/story2/early_leavers_by_sex_labour.xlsx', '/content/drive/MyDrive/DV_project/story2/pop_edu_sex_age_absolute.xlsx', '/content/drive/MyDrive/DV_project/story2/pop_edu_sex_age_percentage.xlsx', '/content/drive/MyDrive/DV_project/story2/poverty_exclusion_risk.xlsx', '/content/drive/MyDrive/DV_project/story2/poverty_exclusion_risk_by_age.xlsx', '/content/drive/MyDrive/DV_project/story2/poverty_exclusion_risk_by_education.xlsx']\n"
          ]
        }
      ]
    },
    {
      "cell_type": "markdown",
      "source": [
        "## Education level: absolute value"
      ],
      "metadata": {
        "id": "3zcBvZmqh3IG"
      }
    },
    {
      "cell_type": "markdown",
      "source": [
        "We import the 36 sheets of the *pop_edu_sex_age_absolute* excel file (skipping useless rows/columns and avoiding the print of unharmful warnings) in a dictionary of datasets named *education_abs_sheets*."
      ],
      "metadata": {
        "id": "lzecIhphxsLr"
      }
    },
    {
      "cell_type": "code",
      "source": [
        "sheet_names = [f'Sheet {i}' for i in range(1, 37)]\n",
        "file_path = '/content/drive/MyDrive/DV_project/story2/pop_edu_sex_age_absolute.xlsx'\n",
        "rows_to_skip = list(range(0, 10)) + [11, 12, 13, 44] + list(range(49, 56))\n",
        "selected_columns = ['TIME'] + [str(year) for year in range(2009, 2023)]\n",
        "\n",
        "# Just to suppress the unharmful warnings we were getting\n",
        "import warnings\n",
        "with warnings.catch_warnings():\n",
        "    warnings.filterwarnings(\"ignore\", category = UserWarning, module = \"openpyxl\")\n",
        "    # Dictionary with datasets: 'education_abs_sheet1', ..., 'education_abs_sheet36'\n",
        "    education_abs_sheets = {f'education_abs_sheet{i}': pd.read_excel(file_path, sheet_name = sheet_name, skiprows = rows_to_skip, na_values = ':', usecols = selected_columns)\n",
        "                            for i, sheet_name in enumerate(sheet_names, start = 1)}"
      ],
      "metadata": {
        "id": "PUNxFSzS3wN4"
      },
      "execution_count": 7,
      "outputs": []
    },
    {
      "cell_type": "markdown",
      "source": [
        "We create 2 dictionaries linking each country to its short abbreviation (*country_abbreviations*) and viceversa (*country_abbreviations_reversed*)."
      ],
      "metadata": {
        "id": "MOTxKCJCx99z"
      }
    },
    {
      "cell_type": "code",
      "source": [
        "country_abbreviations = {\n",
        "    'Belgium': 'BEL',\n",
        "    'Bulgaria': 'BGR',\n",
        "    'Czechia': 'CZE',\n",
        "    'Denmark': 'DNK',\n",
        "    'Germany': 'DEU',\n",
        "    'Estonia': 'EST',\n",
        "    'Ireland': 'IRL',\n",
        "    'Greece': 'GRC',\n",
        "    'Spain': 'ESP',\n",
        "    'France': 'FRA',\n",
        "    'Croatia': 'HRV',\n",
        "    'Italy': 'ITA',\n",
        "    'Cyprus': 'CYP',\n",
        "    'Latvia': 'LVA',\n",
        "    'Lithuania': 'LTU',\n",
        "    'Luxembourg': 'LUX',\n",
        "    'Hungary': 'HUN',\n",
        "    'Malta': 'MLT',\n",
        "    'Netherlands': 'NLD',\n",
        "    'Austria': 'AUT',\n",
        "    'Poland': 'POL',\n",
        "    'Portugal': 'PRT',\n",
        "    'Romania': 'ROU',\n",
        "    'Slovenia': 'SVN',\n",
        "    'Slovakia': 'SVK',\n",
        "    'Finland': 'FIN',\n",
        "    'Sweden': 'SWE',\n",
        "    'Iceland': 'ISL',\n",
        "    'Norway': 'NOR',\n",
        "    'Switzerland': 'CHE',\n",
        "    'Montenegro': 'MNE',\n",
        "    'North Macedonia': 'MKD',\n",
        "    'Serbia': 'SRB',\n",
        "    'Türkiye': 'TUR',\n",
        "}\n",
        "\n",
        "country_abbreviations_reversed = {value: key for key, value in country_abbreviations.items()}"
      ],
      "metadata": {
        "id": "7nS7WfqZRFyr"
      },
      "execution_count": null,
      "outputs": []
    },
    {
      "cell_type": "markdown",
      "source": [
        "We add a column *Abbreviation* to the 12 datasets."
      ],
      "metadata": {
        "id": "EQNuBYFaySE9"
      }
    },
    {
      "cell_type": "code",
      "source": [
        "for i in range(1, 13):\n",
        "    neet_sheets[f'neet_sheet{i}'].rename(columns = {'TIME': 'Country'}, inplace = True)\n",
        "    neet_sheets[f'neet_sheet{i}']['Abbreviation'] = neet_sheets[f'neet_sheet{i}']['Country'].map(country_abbreviations)"
      ],
      "metadata": {
        "id": "-2kCGOau4-n3"
      },
      "execution_count": null,
      "outputs": []
    },
    {
      "cell_type": "markdown",
      "source": [
        "## Education level: percentage"
      ],
      "metadata": {
        "id": "v8Z8ecZph_WC"
      }
    },
    {
      "cell_type": "markdown",
      "source": [
        "## Enrolment by age"
      ],
      "metadata": {
        "id": "XX96WGlBh_da"
      }
    },
    {
      "cell_type": "code",
      "source": [
        "enrolment = pd.read_csv(\"/content/drive/MyDrive/DV_project/story2/enrolment_by_age.csv\")"
      ],
      "metadata": {
        "id": "Zu9LLuH7enFD"
      },
      "execution_count": 3,
      "outputs": []
    },
    {
      "cell_type": "code",
      "source": [
        "enrolment"
      ],
      "metadata": {
        "colab": {
          "base_uri": "https://localhost:8080/",
          "height": 527
        },
        "id": "VBNXPD0nfIbt",
        "outputId": "20571731-d73e-40a2-c666-2c993912394c"
      },
      "execution_count": 4,
      "outputs": [
        {
          "output_type": "execute_result",
          "data": {
            "text/plain": [
              "       COUNTRY   Country SEX  Gender  AGE       Age INTENSITY  Intensity  \\\n",
              "0          AUT   Austria   F  Female  Y15  15 years        PT  Part-time   \n",
              "1          AUT   Austria   F  Female  Y15  15 years        PT  Part-time   \n",
              "2          AUT   Austria   F  Female  Y15  15 years        PT  Part-time   \n",
              "3          AUT   Austria   F  Female  Y15  15 years        PT  Part-time   \n",
              "4          AUT   Austria   F  Female  Y15  15 years        PT  Part-time   \n",
              "...        ...       ...  ..     ...  ...       ...       ...        ...   \n",
              "524155     BGR  Bulgaria   M    Male   _T     Total        PT  Part-time   \n",
              "524156     BGR  Bulgaria   M    Male   _T     Total        PT  Part-time   \n",
              "524157     BGR  Bulgaria   M    Male   _T     Total        PT  Part-time   \n",
              "524158     BGR  Bulgaria   M    Male   _T     Total        PT  Part-time   \n",
              "524159     BGR  Bulgaria   M    Male   _T     Total        PT  Part-time   \n",
              "\n",
              "       EDUCATION_LEV            Education level  YEAR  Year    Value  \\\n",
              "0          ISCED11_0  Early childhood education  2013  2013      NaN   \n",
              "1          ISCED11_0  Early childhood education  2014  2014      NaN   \n",
              "2          ISCED11_0  Early childhood education  2015  2015      NaN   \n",
              "3          ISCED11_0  Early childhood education  2016  2016      NaN   \n",
              "4          ISCED11_0  Early childhood education  2017  2017      NaN   \n",
              "...              ...                        ...   ...   ...      ...   \n",
              "524155     ISCED11_T                      Total  2017  2017  55553.0   \n",
              "524156     ISCED11_T                      Total  2018  2018  57230.0   \n",
              "524157     ISCED11_T                      Total  2019  2019  48242.0   \n",
              "524158     ISCED11_T                      Total  2020  2020  42941.0   \n",
              "524159     ISCED11_T                      Total  2021  2021  40767.0   \n",
              "\n",
              "       Flag Codes                             Flags  \n",
              "0               m  Missing value; data cannot exist  \n",
              "1               m  Missing value; data cannot exist  \n",
              "2               m  Missing value; data cannot exist  \n",
              "3               m  Missing value; data cannot exist  \n",
              "4               m  Missing value; data cannot exist  \n",
              "...           ...                               ...  \n",
              "524155        NaN                               NaN  \n",
              "524156        NaN                               NaN  \n",
              "524157        NaN                               NaN  \n",
              "524158        NaN                               NaN  \n",
              "524159        NaN                               NaN  \n",
              "\n",
              "[524160 rows x 15 columns]"
            ],
            "text/html": [
              "\n",
              "  <div id=\"df-dae0cd2f-243a-476b-86d9-4368ff1d6cdc\" class=\"colab-df-container\">\n",
              "    <div>\n",
              "<style scoped>\n",
              "    .dataframe tbody tr th:only-of-type {\n",
              "        vertical-align: middle;\n",
              "    }\n",
              "\n",
              "    .dataframe tbody tr th {\n",
              "        vertical-align: top;\n",
              "    }\n",
              "\n",
              "    .dataframe thead th {\n",
              "        text-align: right;\n",
              "    }\n",
              "</style>\n",
              "<table border=\"1\" class=\"dataframe\">\n",
              "  <thead>\n",
              "    <tr style=\"text-align: right;\">\n",
              "      <th></th>\n",
              "      <th>COUNTRY</th>\n",
              "      <th>Country</th>\n",
              "      <th>SEX</th>\n",
              "      <th>Gender</th>\n",
              "      <th>AGE</th>\n",
              "      <th>Age</th>\n",
              "      <th>INTENSITY</th>\n",
              "      <th>Intensity</th>\n",
              "      <th>EDUCATION_LEV</th>\n",
              "      <th>Education level</th>\n",
              "      <th>YEAR</th>\n",
              "      <th>Year</th>\n",
              "      <th>Value</th>\n",
              "      <th>Flag Codes</th>\n",
              "      <th>Flags</th>\n",
              "    </tr>\n",
              "  </thead>\n",
              "  <tbody>\n",
              "    <tr>\n",
              "      <th>0</th>\n",
              "      <td>AUT</td>\n",
              "      <td>Austria</td>\n",
              "      <td>F</td>\n",
              "      <td>Female</td>\n",
              "      <td>Y15</td>\n",
              "      <td>15 years</td>\n",
              "      <td>PT</td>\n",
              "      <td>Part-time</td>\n",
              "      <td>ISCED11_0</td>\n",
              "      <td>Early childhood education</td>\n",
              "      <td>2013</td>\n",
              "      <td>2013</td>\n",
              "      <td>NaN</td>\n",
              "      <td>m</td>\n",
              "      <td>Missing value; data cannot exist</td>\n",
              "    </tr>\n",
              "    <tr>\n",
              "      <th>1</th>\n",
              "      <td>AUT</td>\n",
              "      <td>Austria</td>\n",
              "      <td>F</td>\n",
              "      <td>Female</td>\n",
              "      <td>Y15</td>\n",
              "      <td>15 years</td>\n",
              "      <td>PT</td>\n",
              "      <td>Part-time</td>\n",
              "      <td>ISCED11_0</td>\n",
              "      <td>Early childhood education</td>\n",
              "      <td>2014</td>\n",
              "      <td>2014</td>\n",
              "      <td>NaN</td>\n",
              "      <td>m</td>\n",
              "      <td>Missing value; data cannot exist</td>\n",
              "    </tr>\n",
              "    <tr>\n",
              "      <th>2</th>\n",
              "      <td>AUT</td>\n",
              "      <td>Austria</td>\n",
              "      <td>F</td>\n",
              "      <td>Female</td>\n",
              "      <td>Y15</td>\n",
              "      <td>15 years</td>\n",
              "      <td>PT</td>\n",
              "      <td>Part-time</td>\n",
              "      <td>ISCED11_0</td>\n",
              "      <td>Early childhood education</td>\n",
              "      <td>2015</td>\n",
              "      <td>2015</td>\n",
              "      <td>NaN</td>\n",
              "      <td>m</td>\n",
              "      <td>Missing value; data cannot exist</td>\n",
              "    </tr>\n",
              "    <tr>\n",
              "      <th>3</th>\n",
              "      <td>AUT</td>\n",
              "      <td>Austria</td>\n",
              "      <td>F</td>\n",
              "      <td>Female</td>\n",
              "      <td>Y15</td>\n",
              "      <td>15 years</td>\n",
              "      <td>PT</td>\n",
              "      <td>Part-time</td>\n",
              "      <td>ISCED11_0</td>\n",
              "      <td>Early childhood education</td>\n",
              "      <td>2016</td>\n",
              "      <td>2016</td>\n",
              "      <td>NaN</td>\n",
              "      <td>m</td>\n",
              "      <td>Missing value; data cannot exist</td>\n",
              "    </tr>\n",
              "    <tr>\n",
              "      <th>4</th>\n",
              "      <td>AUT</td>\n",
              "      <td>Austria</td>\n",
              "      <td>F</td>\n",
              "      <td>Female</td>\n",
              "      <td>Y15</td>\n",
              "      <td>15 years</td>\n",
              "      <td>PT</td>\n",
              "      <td>Part-time</td>\n",
              "      <td>ISCED11_0</td>\n",
              "      <td>Early childhood education</td>\n",
              "      <td>2017</td>\n",
              "      <td>2017</td>\n",
              "      <td>NaN</td>\n",
              "      <td>m</td>\n",
              "      <td>Missing value; data cannot exist</td>\n",
              "    </tr>\n",
              "    <tr>\n",
              "      <th>...</th>\n",
              "      <td>...</td>\n",
              "      <td>...</td>\n",
              "      <td>...</td>\n",
              "      <td>...</td>\n",
              "      <td>...</td>\n",
              "      <td>...</td>\n",
              "      <td>...</td>\n",
              "      <td>...</td>\n",
              "      <td>...</td>\n",
              "      <td>...</td>\n",
              "      <td>...</td>\n",
              "      <td>...</td>\n",
              "      <td>...</td>\n",
              "      <td>...</td>\n",
              "      <td>...</td>\n",
              "    </tr>\n",
              "    <tr>\n",
              "      <th>524155</th>\n",
              "      <td>BGR</td>\n",
              "      <td>Bulgaria</td>\n",
              "      <td>M</td>\n",
              "      <td>Male</td>\n",
              "      <td>_T</td>\n",
              "      <td>Total</td>\n",
              "      <td>PT</td>\n",
              "      <td>Part-time</td>\n",
              "      <td>ISCED11_T</td>\n",
              "      <td>Total</td>\n",
              "      <td>2017</td>\n",
              "      <td>2017</td>\n",
              "      <td>55553.0</td>\n",
              "      <td>NaN</td>\n",
              "      <td>NaN</td>\n",
              "    </tr>\n",
              "    <tr>\n",
              "      <th>524156</th>\n",
              "      <td>BGR</td>\n",
              "      <td>Bulgaria</td>\n",
              "      <td>M</td>\n",
              "      <td>Male</td>\n",
              "      <td>_T</td>\n",
              "      <td>Total</td>\n",
              "      <td>PT</td>\n",
              "      <td>Part-time</td>\n",
              "      <td>ISCED11_T</td>\n",
              "      <td>Total</td>\n",
              "      <td>2018</td>\n",
              "      <td>2018</td>\n",
              "      <td>57230.0</td>\n",
              "      <td>NaN</td>\n",
              "      <td>NaN</td>\n",
              "    </tr>\n",
              "    <tr>\n",
              "      <th>524157</th>\n",
              "      <td>BGR</td>\n",
              "      <td>Bulgaria</td>\n",
              "      <td>M</td>\n",
              "      <td>Male</td>\n",
              "      <td>_T</td>\n",
              "      <td>Total</td>\n",
              "      <td>PT</td>\n",
              "      <td>Part-time</td>\n",
              "      <td>ISCED11_T</td>\n",
              "      <td>Total</td>\n",
              "      <td>2019</td>\n",
              "      <td>2019</td>\n",
              "      <td>48242.0</td>\n",
              "      <td>NaN</td>\n",
              "      <td>NaN</td>\n",
              "    </tr>\n",
              "    <tr>\n",
              "      <th>524158</th>\n",
              "      <td>BGR</td>\n",
              "      <td>Bulgaria</td>\n",
              "      <td>M</td>\n",
              "      <td>Male</td>\n",
              "      <td>_T</td>\n",
              "      <td>Total</td>\n",
              "      <td>PT</td>\n",
              "      <td>Part-time</td>\n",
              "      <td>ISCED11_T</td>\n",
              "      <td>Total</td>\n",
              "      <td>2020</td>\n",
              "      <td>2020</td>\n",
              "      <td>42941.0</td>\n",
              "      <td>NaN</td>\n",
              "      <td>NaN</td>\n",
              "    </tr>\n",
              "    <tr>\n",
              "      <th>524159</th>\n",
              "      <td>BGR</td>\n",
              "      <td>Bulgaria</td>\n",
              "      <td>M</td>\n",
              "      <td>Male</td>\n",
              "      <td>_T</td>\n",
              "      <td>Total</td>\n",
              "      <td>PT</td>\n",
              "      <td>Part-time</td>\n",
              "      <td>ISCED11_T</td>\n",
              "      <td>Total</td>\n",
              "      <td>2021</td>\n",
              "      <td>2021</td>\n",
              "      <td>40767.0</td>\n",
              "      <td>NaN</td>\n",
              "      <td>NaN</td>\n",
              "    </tr>\n",
              "  </tbody>\n",
              "</table>\n",
              "<p>524160 rows × 15 columns</p>\n",
              "</div>\n",
              "    <div class=\"colab-df-buttons\">\n",
              "\n",
              "  <div class=\"colab-df-container\">\n",
              "    <button class=\"colab-df-convert\" onclick=\"convertToInteractive('df-dae0cd2f-243a-476b-86d9-4368ff1d6cdc')\"\n",
              "            title=\"Convert this dataframe to an interactive table.\"\n",
              "            style=\"display:none;\">\n",
              "\n",
              "  <svg xmlns=\"http://www.w3.org/2000/svg\" height=\"24px\" viewBox=\"0 -960 960 960\">\n",
              "    <path d=\"M120-120v-720h720v720H120Zm60-500h600v-160H180v160Zm220 220h160v-160H400v160Zm0 220h160v-160H400v160ZM180-400h160v-160H180v160Zm440 0h160v-160H620v160ZM180-180h160v-160H180v160Zm440 0h160v-160H620v160Z\"/>\n",
              "  </svg>\n",
              "    </button>\n",
              "\n",
              "  <style>\n",
              "    .colab-df-container {\n",
              "      display:flex;\n",
              "      gap: 12px;\n",
              "    }\n",
              "\n",
              "    .colab-df-convert {\n",
              "      background-color: #E8F0FE;\n",
              "      border: none;\n",
              "      border-radius: 50%;\n",
              "      cursor: pointer;\n",
              "      display: none;\n",
              "      fill: #1967D2;\n",
              "      height: 32px;\n",
              "      padding: 0 0 0 0;\n",
              "      width: 32px;\n",
              "    }\n",
              "\n",
              "    .colab-df-convert:hover {\n",
              "      background-color: #E2EBFA;\n",
              "      box-shadow: 0px 1px 2px rgba(60, 64, 67, 0.3), 0px 1px 3px 1px rgba(60, 64, 67, 0.15);\n",
              "      fill: #174EA6;\n",
              "    }\n",
              "\n",
              "    .colab-df-buttons div {\n",
              "      margin-bottom: 4px;\n",
              "    }\n",
              "\n",
              "    [theme=dark] .colab-df-convert {\n",
              "      background-color: #3B4455;\n",
              "      fill: #D2E3FC;\n",
              "    }\n",
              "\n",
              "    [theme=dark] .colab-df-convert:hover {\n",
              "      background-color: #434B5C;\n",
              "      box-shadow: 0px 1px 3px 1px rgba(0, 0, 0, 0.15);\n",
              "      filter: drop-shadow(0px 1px 2px rgba(0, 0, 0, 0.3));\n",
              "      fill: #FFFFFF;\n",
              "    }\n",
              "  </style>\n",
              "\n",
              "    <script>\n",
              "      const buttonEl =\n",
              "        document.querySelector('#df-dae0cd2f-243a-476b-86d9-4368ff1d6cdc button.colab-df-convert');\n",
              "      buttonEl.style.display =\n",
              "        google.colab.kernel.accessAllowed ? 'block' : 'none';\n",
              "\n",
              "      async function convertToInteractive(key) {\n",
              "        const element = document.querySelector('#df-dae0cd2f-243a-476b-86d9-4368ff1d6cdc');\n",
              "        const dataTable =\n",
              "          await google.colab.kernel.invokeFunction('convertToInteractive',\n",
              "                                                    [key], {});\n",
              "        if (!dataTable) return;\n",
              "\n",
              "        const docLinkHtml = 'Like what you see? Visit the ' +\n",
              "          '<a target=\"_blank\" href=https://colab.research.google.com/notebooks/data_table.ipynb>data table notebook</a>'\n",
              "          + ' to learn more about interactive tables.';\n",
              "        element.innerHTML = '';\n",
              "        dataTable['output_type'] = 'display_data';\n",
              "        await google.colab.output.renderOutput(dataTable, element);\n",
              "        const docLink = document.createElement('div');\n",
              "        docLink.innerHTML = docLinkHtml;\n",
              "        element.appendChild(docLink);\n",
              "      }\n",
              "    </script>\n",
              "  </div>\n",
              "\n",
              "\n",
              "<div id=\"df-c3e1c6ce-0c98-4da7-8f44-32c438ae4338\">\n",
              "  <button class=\"colab-df-quickchart\" onclick=\"quickchart('df-c3e1c6ce-0c98-4da7-8f44-32c438ae4338')\"\n",
              "            title=\"Suggest charts\"\n",
              "            style=\"display:none;\">\n",
              "\n",
              "<svg xmlns=\"http://www.w3.org/2000/svg\" height=\"24px\"viewBox=\"0 0 24 24\"\n",
              "     width=\"24px\">\n",
              "    <g>\n",
              "        <path d=\"M19 3H5c-1.1 0-2 .9-2 2v14c0 1.1.9 2 2 2h14c1.1 0 2-.9 2-2V5c0-1.1-.9-2-2-2zM9 17H7v-7h2v7zm4 0h-2V7h2v10zm4 0h-2v-4h2v4z\"/>\n",
              "    </g>\n",
              "</svg>\n",
              "  </button>\n",
              "\n",
              "<style>\n",
              "  .colab-df-quickchart {\n",
              "      --bg-color: #E8F0FE;\n",
              "      --fill-color: #1967D2;\n",
              "      --hover-bg-color: #E2EBFA;\n",
              "      --hover-fill-color: #174EA6;\n",
              "      --disabled-fill-color: #AAA;\n",
              "      --disabled-bg-color: #DDD;\n",
              "  }\n",
              "\n",
              "  [theme=dark] .colab-df-quickchart {\n",
              "      --bg-color: #3B4455;\n",
              "      --fill-color: #D2E3FC;\n",
              "      --hover-bg-color: #434B5C;\n",
              "      --hover-fill-color: #FFFFFF;\n",
              "      --disabled-bg-color: #3B4455;\n",
              "      --disabled-fill-color: #666;\n",
              "  }\n",
              "\n",
              "  .colab-df-quickchart {\n",
              "    background-color: var(--bg-color);\n",
              "    border: none;\n",
              "    border-radius: 50%;\n",
              "    cursor: pointer;\n",
              "    display: none;\n",
              "    fill: var(--fill-color);\n",
              "    height: 32px;\n",
              "    padding: 0;\n",
              "    width: 32px;\n",
              "  }\n",
              "\n",
              "  .colab-df-quickchart:hover {\n",
              "    background-color: var(--hover-bg-color);\n",
              "    box-shadow: 0 1px 2px rgba(60, 64, 67, 0.3), 0 1px 3px 1px rgba(60, 64, 67, 0.15);\n",
              "    fill: var(--button-hover-fill-color);\n",
              "  }\n",
              "\n",
              "  .colab-df-quickchart-complete:disabled,\n",
              "  .colab-df-quickchart-complete:disabled:hover {\n",
              "    background-color: var(--disabled-bg-color);\n",
              "    fill: var(--disabled-fill-color);\n",
              "    box-shadow: none;\n",
              "  }\n",
              "\n",
              "  .colab-df-spinner {\n",
              "    border: 2px solid var(--fill-color);\n",
              "    border-color: transparent;\n",
              "    border-bottom-color: var(--fill-color);\n",
              "    animation:\n",
              "      spin 1s steps(1) infinite;\n",
              "  }\n",
              "\n",
              "  @keyframes spin {\n",
              "    0% {\n",
              "      border-color: transparent;\n",
              "      border-bottom-color: var(--fill-color);\n",
              "      border-left-color: var(--fill-color);\n",
              "    }\n",
              "    20% {\n",
              "      border-color: transparent;\n",
              "      border-left-color: var(--fill-color);\n",
              "      border-top-color: var(--fill-color);\n",
              "    }\n",
              "    30% {\n",
              "      border-color: transparent;\n",
              "      border-left-color: var(--fill-color);\n",
              "      border-top-color: var(--fill-color);\n",
              "      border-right-color: var(--fill-color);\n",
              "    }\n",
              "    40% {\n",
              "      border-color: transparent;\n",
              "      border-right-color: var(--fill-color);\n",
              "      border-top-color: var(--fill-color);\n",
              "    }\n",
              "    60% {\n",
              "      border-color: transparent;\n",
              "      border-right-color: var(--fill-color);\n",
              "    }\n",
              "    80% {\n",
              "      border-color: transparent;\n",
              "      border-right-color: var(--fill-color);\n",
              "      border-bottom-color: var(--fill-color);\n",
              "    }\n",
              "    90% {\n",
              "      border-color: transparent;\n",
              "      border-bottom-color: var(--fill-color);\n",
              "    }\n",
              "  }\n",
              "</style>\n",
              "\n",
              "  <script>\n",
              "    async function quickchart(key) {\n",
              "      const quickchartButtonEl =\n",
              "        document.querySelector('#' + key + ' button');\n",
              "      quickchartButtonEl.disabled = true;  // To prevent multiple clicks.\n",
              "      quickchartButtonEl.classList.add('colab-df-spinner');\n",
              "      try {\n",
              "        const charts = await google.colab.kernel.invokeFunction(\n",
              "            'suggestCharts', [key], {});\n",
              "      } catch (error) {\n",
              "        console.error('Error during call to suggestCharts:', error);\n",
              "      }\n",
              "      quickchartButtonEl.classList.remove('colab-df-spinner');\n",
              "      quickchartButtonEl.classList.add('colab-df-quickchart-complete');\n",
              "    }\n",
              "    (() => {\n",
              "      let quickchartButtonEl =\n",
              "        document.querySelector('#df-c3e1c6ce-0c98-4da7-8f44-32c438ae4338 button');\n",
              "      quickchartButtonEl.style.display =\n",
              "        google.colab.kernel.accessAllowed ? 'block' : 'none';\n",
              "    })();\n",
              "  </script>\n",
              "</div>\n",
              "    </div>\n",
              "  </div>\n"
            ]
          },
          "metadata": {},
          "execution_count": 4
        }
      ]
    },
    {
      "cell_type": "markdown",
      "source": [
        "# Download all CSV files"
      ],
      "metadata": {
        "id": "QYptvL_UF1vf"
      }
    },
    {
      "cell_type": "markdown",
      "source": [
        "We download all the CSV files we created."
      ],
      "metadata": {
        "id": "vhSy4rob1NaT"
      }
    },
    {
      "cell_type": "code",
      "source": [
        "directory_path = '/content'\n",
        "file_type = \".csv\"\n",
        "files_to_download = glob.glob(f\"{directory_path}/*{file_type}\")\n",
        "zip_filename = \"datasets.zip\"\n",
        "with zipfile.ZipFile(zip_filename, \"w\") as zipf:\n",
        "    for file in files_to_download:\n",
        "        zipf.write(file, arcname = os.path.basename(file))\n",
        "files.download(zip_filename)"
      ],
      "metadata": {
        "colab": {
          "base_uri": "https://localhost:8080/",
          "height": 17
        },
        "id": "XKYseRagF5Gu",
        "outputId": "6097cd4d-42cb-419d-afde-ababd2d197a6"
      },
      "execution_count": null,
      "outputs": [
        {
          "output_type": "display_data",
          "data": {
            "text/plain": [
              "<IPython.core.display.Javascript object>"
            ],
            "application/javascript": [
              "\n",
              "    async function download(id, filename, size) {\n",
              "      if (!google.colab.kernel.accessAllowed) {\n",
              "        return;\n",
              "      }\n",
              "      const div = document.createElement('div');\n",
              "      const label = document.createElement('label');\n",
              "      label.textContent = `Downloading \"${filename}\": `;\n",
              "      div.appendChild(label);\n",
              "      const progress = document.createElement('progress');\n",
              "      progress.max = size;\n",
              "      div.appendChild(progress);\n",
              "      document.body.appendChild(div);\n",
              "\n",
              "      const buffers = [];\n",
              "      let downloaded = 0;\n",
              "\n",
              "      const channel = await google.colab.kernel.comms.open(id);\n",
              "      // Send a message to notify the kernel that we're ready.\n",
              "      channel.send({})\n",
              "\n",
              "      for await (const message of channel.messages) {\n",
              "        // Send a message to notify the kernel that we're ready.\n",
              "        channel.send({})\n",
              "        if (message.buffers) {\n",
              "          for (const buffer of message.buffers) {\n",
              "            buffers.push(buffer);\n",
              "            downloaded += buffer.byteLength;\n",
              "            progress.value = downloaded;\n",
              "          }\n",
              "        }\n",
              "      }\n",
              "      const blob = new Blob(buffers, {type: 'application/binary'});\n",
              "      const a = document.createElement('a');\n",
              "      a.href = window.URL.createObjectURL(blob);\n",
              "      a.download = filename;\n",
              "      div.appendChild(a);\n",
              "      a.click();\n",
              "      div.remove();\n",
              "    }\n",
              "  "
            ]
          },
          "metadata": {}
        },
        {
          "output_type": "display_data",
          "data": {
            "text/plain": [
              "<IPython.core.display.Javascript object>"
            ],
            "application/javascript": [
              "download(\"download_3789161e-1a4f-411e-b84c-fa7df2a6f9c2\", \"datasets.zip\", 14440)"
            ]
          },
          "metadata": {}
        }
      ]
    }
  ]
}