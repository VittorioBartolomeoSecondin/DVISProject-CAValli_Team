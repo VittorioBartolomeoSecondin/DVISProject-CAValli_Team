{
  "nbformat": 4,
  "nbformat_minor": 0,
  "metadata": {
    "colab": {
      "provenance": [],
      "authorship_tag": "ABX9TyMhDcZe2oQoLBucPfq+FXW5",
      "include_colab_link": true
    },
    "kernelspec": {
      "name": "python3",
      "display_name": "Python 3"
    },
    "language_info": {
      "name": "python"
    }
  },
  "cells": [
    {
      "cell_type": "markdown",
      "metadata": {
        "id": "view-in-github",
        "colab_type": "text"
      },
      "source": [
        "<a href=\"https://colab.research.google.com/github/VittorioBartolomeoSecondin/DVISProject-CAValli_Team/blob/main/Preprocessing_story2.ipynb\" target=\"_parent\"><img src=\"https://colab.research.google.com/assets/colab-badge.svg\" alt=\"Open In Colab\"/></a>"
      ]
    },
    {
      "cell_type": "markdown",
      "source": [
        "# Importing libraries and connecting to Google Drive"
      ],
      "metadata": {
        "id": "jYXUHoAb6l2w"
      }
    },
    {
      "cell_type": "code",
      "execution_count": 1,
      "metadata": {
        "colab": {
          "base_uri": "https://localhost:8080/"
        },
        "id": "X5bxYVYS6aTo",
        "outputId": "9fcbecda-2904-425f-f515-ed6567dfb326"
      },
      "outputs": [
        {
          "output_type": "stream",
          "name": "stdout",
          "text": [
            "Mounted at /content/drive\n"
          ]
        }
      ],
      "source": [
        "import pandas as pd\n",
        "import matplotlib.pyplot as plt\n",
        "import numpy as np\n",
        "import glob\n",
        "import json\n",
        "import csv\n",
        "import requests\n",
        "import os\n",
        "import zipfile\n",
        "from google.colab import files\n",
        "from google.colab import drive\n",
        "drive.mount('/content/drive')"
      ]
    },
    {
      "cell_type": "markdown",
      "source": [
        "# Preliminary actions"
      ],
      "metadata": {
        "id": "YivPdgm36wlH"
      }
    },
    {
      "cell_type": "code",
      "source": [
        "all_files = glob.glob(\"/content/drive/MyDrive/DV_project/story2/*\")\n",
        "all_files.sort()\n",
        "print(all_files)"
      ],
      "metadata": {
        "colab": {
          "base_uri": "https://localhost:8080/"
        },
        "id": "PU8YUJ2E6w-H",
        "outputId": "e5573bf4-fd2c-444d-8285-9d941b414f0f"
      },
      "execution_count": 2,
      "outputs": [
        {
          "output_type": "stream",
          "name": "stdout",
          "text": [
            "['/content/drive/MyDrive/DV_project/story2/disability.csv', '/content/drive/MyDrive/DV_project/story2/early_leavers_by_sex_labour.xlsx', '/content/drive/MyDrive/DV_project/story2/enrolment_by_age.csv', '/content/drive/MyDrive/DV_project/story2/pop_edu_sex_age_absolute.xlsx', '/content/drive/MyDrive/DV_project/story2/poverty_exclusion_risk.xlsx', '/content/drive/MyDrive/DV_project/story2/risk_2003_2020.xlsx', '/content/drive/MyDrive/DV_project/story2/risk_education.xlsx', '/content/drive/MyDrive/DV_project/story2/risk_labour.xlsx', '/content/drive/MyDrive/DV_project/story2/risk_sex_age.xlsx']\n"
          ]
        }
      ]
    },
    {
      "cell_type": "markdown",
      "source": [
        "## Dictionaries: country --> abbreviation (and viceversa)"
      ],
      "metadata": {
        "id": "luqSEIgmvytW"
      }
    },
    {
      "cell_type": "markdown",
      "source": [
        "We create 2 dictionaries linking each country to its short abbreviation (*country_abbreviations*) and viceversa (*country_abbreviations_reversed*)."
      ],
      "metadata": {
        "id": "MOTxKCJCx99z"
      }
    },
    {
      "cell_type": "code",
      "source": [
        "country_abbreviations = {\n",
        "    'European Union - 27 countries (from 2020)': 'EU',\n",
        "    'Belgium': 'BEL',\n",
        "    'Bulgaria': 'BGR',\n",
        "    'Czechia': 'CZE',\n",
        "    'Denmark': 'DNK',\n",
        "    'Germany': 'DEU',\n",
        "    'Estonia': 'EST',\n",
        "    'Ireland': 'IRL',\n",
        "    'Greece': 'GRC',\n",
        "    'Spain': 'ESP',\n",
        "    'France': 'FRA',\n",
        "    'Croatia': 'HRV',\n",
        "    'Italy': 'ITA',\n",
        "    'Cyprus': 'CYP',\n",
        "    'Latvia': 'LVA',\n",
        "    'Lithuania': 'LTU',\n",
        "    'Luxembourg': 'LUX',\n",
        "    'Hungary': 'HUN',\n",
        "    'Malta': 'MLT',\n",
        "    'Netherlands': 'NLD',\n",
        "    'Austria': 'AUT',\n",
        "    'Poland': 'POL',\n",
        "    'Portugal': 'PRT',\n",
        "    'Romania': 'ROU',\n",
        "    'Slovenia': 'SVN',\n",
        "    'Slovakia': 'SVK',\n",
        "    'Finland': 'FIN',\n",
        "    'Sweden': 'SWE',\n",
        "    'Iceland': 'ISL',\n",
        "    'Norway': 'NOR',\n",
        "    'Switzerland': 'CHE',\n",
        "    'Montenegro': 'MNE',\n",
        "    'North Macedonia': 'MKD',\n",
        "    'Serbia': 'SRB',\n",
        "    'Türkiye': 'TUR',\n",
        "}\n",
        "\n",
        "country_abbreviations_reversed = {value: key for key, value in country_abbreviations.items()}"
      ],
      "metadata": {
        "id": "7nS7WfqZRFyr"
      },
      "execution_count": 3,
      "outputs": []
    },
    {
      "cell_type": "markdown",
      "source": [
        "# Disabilities: percentage of NEETs with disabilities in 2009-2022"
      ],
      "metadata": {
        "id": "JjR2e7geXKDt"
      }
    },
    {
      "cell_type": "markdown",
      "source": [
        "We import NEETS absolute values."
      ],
      "metadata": {
        "id": "IODxHl9WZaq-"
      }
    },
    {
      "cell_type": "code",
      "source": [
        "years = range(2009, 2023)\n",
        "file_path = '/content/drive/MyDrive/DV_project/story1/NEET.xlsx'\n",
        "sheet_names = 'Sheet 3'\n",
        "rows_to_skip = list(range(0, 9)) + [10, 11, 12] + list(range(47, 53))\n",
        "selected_columns = ['TIME'] + [str(year) for year in years]\n",
        "\n",
        "import warnings\n",
        "with warnings.catch_warnings():\n",
        "    warnings.filterwarnings(\"ignore\", category = UserWarning, module = \"openpyxl\")\n",
        "    neet_absolute = pd.read_excel(file_path, sheet_name = sheet_names, skiprows = rows_to_skip, na_values = ':', usecols = selected_columns)\n",
        "\n",
        "neet_absolute.rename(columns = {'TIME': 'Country'}, inplace = True)\n",
        "neet_absolute['Abbreviation'] = neet_absolute['Country'].map(country_abbreviations)\n",
        "neet_absolute.set_index(['Abbreviation', 'Country'], inplace = True)\n",
        "\n",
        "# We drop countries for which we have no info on NEETs with disability\n",
        "neet_absolute.drop(index = ('MNE', 'Montenegro'), inplace = True)\n",
        "neet_absolute.drop(index = ('MKD', 'North Macedonia'), inplace = True)\n",
        "neet_absolute.drop(index = ('TUR', 'Türkiye'), inplace = True)\n",
        "\n",
        "# We order by Abbreviation\n",
        "neet_absolute.sort_index(inplace = True)"
      ],
      "metadata": {
        "id": "tO2x1CcaZdpn"
      },
      "execution_count": 17,
      "outputs": []
    },
    {
      "cell_type": "markdown",
      "source": [
        "We import NEETS WITH DISABILITY absolute values."
      ],
      "metadata": {
        "id": "Exn6oPN9Zw6O"
      }
    },
    {
      "cell_type": "code",
      "source": [
        "disabilities = pd.read_csv('/content/drive/MyDrive/DV_project/story2/disability.csv')\n",
        "\n",
        "disabilities['Abbreviation'] = disabilities['Country'].map(country_abbreviations)\n",
        "disabilities.set_index(['Abbreviation', 'Country'], inplace = True)\n",
        "\n",
        "# We order by Abbreviation\n",
        "disabilities.sort_index(inplace = True)"
      ],
      "metadata": {
        "id": "MYIfFic1XMfc"
      },
      "execution_count": 18,
      "outputs": []
    },
    {
      "cell_type": "markdown",
      "source": [
        "We calculate the percentage of people with disabilities among NEETS and we make a yearly mean for all the countries considered."
      ],
      "metadata": {
        "id": "r2EyggpF1HF2"
      }
    },
    {
      "cell_type": "code",
      "source": [
        "disability_neet = np.ceil( (disabilities / neet_absolute) * 100 )\n",
        "mean_values = round(disability_neet.mean(), 1)\n",
        "\n",
        "column_names = list(disability_neet.columns)\n",
        "\n",
        "# dataset with also the complementary value for the stacked area chart\n",
        "disability_neet_data = []\n",
        "for idx, year in enumerate(years):\n",
        "    disability_neet_data.append({'year': year, 'type': 'percentage of NEETs with disability', 'value': mean_values[idx]})\n",
        "    disability_neet_data.append({'year': year, 'type': 'percentage of NEETs without disability', 'value': 100 - mean_values[idx]})\n",
        "\n",
        "stacked_area_data = pd.DataFrame(disability_neet_data)"
      ],
      "metadata": {
        "id": "yPabJVVbfeQG"
      },
      "execution_count": 19,
      "outputs": []
    },
    {
      "cell_type": "markdown",
      "source": [
        "We export the dataset to a CSV file"
      ],
      "metadata": {
        "id": "TJATWIrQ1ZPv"
      }
    },
    {
      "cell_type": "code",
      "source": [
        "stacked_area_data.to_csv('areachart.csv', index = False)"
      ],
      "metadata": {
        "id": "CC7G_c81zqXq"
      },
      "execution_count": 20,
      "outputs": []
    },
    {
      "cell_type": "markdown",
      "source": [
        "# Education level: absolute value (15-29) in 2009-2022"
      ],
      "metadata": {
        "id": "3zcBvZmqh3IG"
      }
    },
    {
      "cell_type": "markdown",
      "source": [
        "We import the 36 sheets of the *pop_edu_sex_age_absolute* excel file (skipping useless rows/columns and avoiding the print of unharmful warnings) in a dictionary of datasets named *education_abs_sheets*."
      ],
      "metadata": {
        "id": "lzecIhphxsLr"
      }
    },
    {
      "cell_type": "code",
      "source": [
        "years = range(2009, 2023)\n",
        "sheet_names = [f'Sheet {i}' for i in range(1, 37)]\n",
        "file_path = '/content/drive/MyDrive/DV_project/story2/pop_edu_sex_age_absolute.xlsx'\n",
        "rows_to_skip = list(range(0, 10)) + [11, 12, 13, 44] + list(range(49, 58))\n",
        "selected_columns = ['TIME'] + [str(year) for year in years]\n",
        "\n",
        "# Just to suppress the unharmful warnings we were getting\n",
        "import warnings\n",
        "with warnings.catch_warnings():\n",
        "    warnings.filterwarnings(\"ignore\", category = UserWarning, module = \"openpyxl\")\n",
        "    # Dictionary with datasets: 'education_abs_sheet1', ..., 'education_abs_sheet36'\n",
        "    education_abs_sheets = {f'education_abs_sheet{i}': pd.read_excel(file_path, sheet_name = sheet_name, skiprows = rows_to_skip, na_values = ':', usecols = selected_columns)\n",
        "                            for i, sheet_name in enumerate(sheet_names, start = 1)}"
      ],
      "metadata": {
        "id": "PUNxFSzS3wN4"
      },
      "execution_count": null,
      "outputs": []
    },
    {
      "cell_type": "markdown",
      "source": [
        "We add a column *Abbreviation* to the 36 datasets."
      ],
      "metadata": {
        "id": "EQNuBYFaySE9"
      }
    },
    {
      "cell_type": "code",
      "source": [
        "for i in range(1, 37):\n",
        "    education_abs_sheets[f'education_abs_sheet{i}'].rename(columns = {'TIME': 'Country'}, inplace = True)\n",
        "    education_abs_sheets[f'education_abs_sheet{i}']['Abbreviation'] = education_abs_sheets[f'education_abs_sheet{i}']['Country'].map(country_abbreviations)"
      ],
      "metadata": {
        "id": "-2kCGOau4-n3"
      },
      "execution_count": null,
      "outputs": []
    },
    {
      "cell_type": "markdown",
      "source": [
        "We sum data about 15-24 y.o. people and data about 25-29 y.o. people to have data coherent to what we used in story 1 (people aged between 15 and 29).\n",
        "\n",
        "We create 3 different dataset, one for each educational level (low, medium and high)."
      ],
      "metadata": {
        "id": "4gMGCDqf-t0H"
      }
    },
    {
      "cell_type": "code",
      "source": [
        "low1 = education_abs_sheets['education_abs_sheet2']\n",
        "low2 = education_abs_sheets['education_abs_sheet8']\n",
        "\n",
        "medium1 = education_abs_sheets['education_abs_sheet3']\n",
        "medium2 = education_abs_sheets['education_abs_sheet9']\n",
        "\n",
        "high1 = education_abs_sheets['education_abs_sheet6']\n",
        "high2 = education_abs_sheets['education_abs_sheet12']"
      ],
      "metadata": {
        "id": "qKQ9FWIb-t7M"
      },
      "execution_count": null,
      "outputs": []
    },
    {
      "cell_type": "code",
      "source": [
        "# we preprocess data removing cases with nulls for either one of the 2 datasets\n",
        "low1.set_index(['Country', 'Abbreviation'], inplace = True)\n",
        "low2.set_index(['Country', 'Abbreviation'], inplace = True)\n",
        "low = low1.fillna(1000000).add(low2.fillna(1000000), fill_value = 0).round(1)\n",
        "low = low.where(low < 1000000)\n",
        "low1.reset_index(inplace = True)\n",
        "low2.reset_index(inplace = True)\n",
        "low.reset_index(inplace = True)"
      ],
      "metadata": {
        "id": "G0iNZ2w9EA-9"
      },
      "execution_count": null,
      "outputs": []
    },
    {
      "cell_type": "code",
      "source": [
        "# we preprocess data removing cases with nulls for either one of the 2 datasets\n",
        "medium1.set_index(['Country', 'Abbreviation'], inplace = True)\n",
        "medium2.set_index(['Country', 'Abbreviation'], inplace = True)\n",
        "medium = medium1.fillna(1000000).add(medium2.fillna(1000000), fill_value = 0).round(1)\n",
        "medium = medium.where(medium < 1000000)\n",
        "medium1.reset_index(inplace = True)\n",
        "medium2.reset_index(inplace = True)\n",
        "medium.reset_index(inplace = True)"
      ],
      "metadata": {
        "id": "RC0Vnk9GEY_O"
      },
      "execution_count": null,
      "outputs": []
    },
    {
      "cell_type": "code",
      "source": [
        "# we preprocess data removing cases with nulls for either one of the 2 datasets\n",
        "high1.set_index(['Country', 'Abbreviation'], inplace = True)\n",
        "high2.set_index(['Country', 'Abbreviation'], inplace = True)\n",
        "high = high1.fillna(1000000).add(high2.fillna(1000000), fill_value = 0).round(1)\n",
        "high = high.where(high < 1000000)\n",
        "high1.reset_index(inplace = True)\n",
        "high2.reset_index(inplace = True)\n",
        "high.reset_index(inplace = True)"
      ],
      "metadata": {
        "id": "rcOim5UsC8Y9"
      },
      "execution_count": null,
      "outputs": []
    },
    {
      "cell_type": "markdown",
      "source": [
        "## Stacked barcharts: education level for each country"
      ],
      "metadata": {
        "id": "pLqkYUNBflcB"
      }
    },
    {
      "cell_type": "markdown",
      "source": [
        "We create one dataset for each year to use for the stacked barchart (percentage)."
      ],
      "metadata": {
        "id": "2OD8Ki7GkCY0"
      }
    },
    {
      "cell_type": "code",
      "source": [
        "# we define a function to create the dataset for the stacked barcharts\n",
        "def create_stacked_dataset(year):\n",
        "    stacked = pd.DataFrame()\n",
        "\n",
        "    low_year = low[['Country', 'Abbreviation', year]].rename(columns = {year: 'low'})\n",
        "    medium_year = medium[['Country', 'Abbreviation', year]].rename(columns = {year: 'medium'})\n",
        "    high_year = high[['Country', 'Abbreviation', year]].rename(columns = {year: 'high'})\n",
        "\n",
        "    stacked = pd.merge(low_year, medium_year, on = ['Country', 'Abbreviation'])\n",
        "    stacked = pd.merge(stacked, high_year, on = ['Country', 'Abbreviation'])\n",
        "    stacked = stacked.dropna(subset = ['low', 'medium', 'high'])\n",
        "\n",
        "    return stacked\n",
        "\n",
        "# we create a CSV for dataset sorted by alphabetic order\n",
        "for year in range(2009, 2023):\n",
        "    stacked_year = create_stacked_dataset(str(year))\n",
        "    stacked_year = stacked_year.sort_values(by = 'Country')\n",
        "    stacked_year.to_csv(f\"stacked{year}_alphabetic.csv\", index = False, na_rep = 'nan')\n",
        "\n",
        "# we create a CSV for dataset sorted from highest to lowest absolute value of low education\n",
        "for year in range(2009, 2023):\n",
        "    stacked_year = create_stacked_dataset(str(year))\n",
        "    stacked_year = stacked_year.sort_values(by = 'low', ascending = False)\n",
        "    stacked_year.to_csv(f\"stacked{year}_low.csv\", index = False, na_rep = 'nan')\n",
        "\n",
        "# we create a CSV for dataset sorted from highest to lowest percentage of low education\n",
        "for year in range(2009, 2023):\n",
        "    stacked_year = create_stacked_dataset(str(year))\n",
        "    stacked_year['total'] = stacked_year[['low', 'medium', 'high']].sum(axis = 1)\n",
        "    stacked_year['low_percentage'] = (stacked_year['low'] / stacked_year['total']) * 100\n",
        "    stacked_year = stacked_year.sort_values(by = 'low_percentage', ascending = False)\n",
        "    stacked_year.drop(['total', 'low_percentage'], axis = 1, inplace = True)\n",
        "    stacked_year.to_csv(f\"stacked{year}.csv\", index = False, na_rep = 'nan')"
      ],
      "metadata": {
        "id": "_-Qq06FDkBzf"
      },
      "execution_count": null,
      "outputs": []
    },
    {
      "cell_type": "markdown",
      "source": [
        "## Donut charts: highest gender gap in education level"
      ],
      "metadata": {
        "id": "plZLMqTWfqW5"
      }
    },
    {
      "cell_type": "markdown",
      "source": [
        "We create 3 different dataset, one for each educational level (low, medium and high), as before, for males."
      ],
      "metadata": {
        "id": "hqoh1FqT_CKc"
      }
    },
    {
      "cell_type": "code",
      "source": [
        "low1_M = education_abs_sheets['education_abs_sheet14']\n",
        "low2_M = education_abs_sheets['education_abs_sheet20']\n",
        "\n",
        "medium1_M = education_abs_sheets['education_abs_sheet15']\n",
        "medium2_M = education_abs_sheets['education_abs_sheet21']\n",
        "\n",
        "high1_M = education_abs_sheets['education_abs_sheet18']\n",
        "high2_M = education_abs_sheets['education_abs_sheet24']"
      ],
      "metadata": {
        "id": "8NYoor1kxbt0"
      },
      "execution_count": null,
      "outputs": []
    },
    {
      "cell_type": "code",
      "source": [
        "# we preprocess data removing cases with nulls for either one of the 2 datasets\n",
        "low1_M.set_index(['Country', 'Abbreviation'], inplace = True)\n",
        "low2_M.set_index(['Country', 'Abbreviation'], inplace = True)\n",
        "low_M = low1_M.fillna(1000000).add(low2_M.fillna(1000000), fill_value = 0).round(1)\n",
        "low_M = low_M.where(low_M < 1000000)\n",
        "low1_M.reset_index(inplace = True)\n",
        "low2_M.reset_index(inplace = True)\n",
        "low_M.reset_index(inplace = True)"
      ],
      "metadata": {
        "id": "hdUgMC0iSHnm"
      },
      "execution_count": null,
      "outputs": []
    },
    {
      "cell_type": "code",
      "source": [
        "# we preprocess data removing cases with nulls for either one of the 2 datasets\n",
        "medium1_M.set_index(['Country', 'Abbreviation'], inplace = True)\n",
        "medium2_M.set_index(['Country', 'Abbreviation'], inplace = True)\n",
        "medium_M = medium1_M.fillna(1000000).add(medium2_M.fillna(1000000), fill_value = 0).round(1)\n",
        "medium_M = medium_M.where(medium_M < 1000000)\n",
        "medium1_M.reset_index(inplace = True)\n",
        "medium2_M.reset_index(inplace = True)\n",
        "medium_M.reset_index(inplace = True)"
      ],
      "metadata": {
        "id": "4szl6vdVSHno"
      },
      "execution_count": null,
      "outputs": []
    },
    {
      "cell_type": "code",
      "source": [
        "# we preprocess data removing cases with nulls for either one of the 2 datasets\n",
        "high1_M.set_index(['Country', 'Abbreviation'], inplace = True)\n",
        "high2_M.set_index(['Country', 'Abbreviation'], inplace = True)\n",
        "high_M = high1_M.fillna(1000000).add(high2_M.fillna(1000000), fill_value = 0).round(1)\n",
        "high_M = high_M.where(high_M < 1000000)\n",
        "high1_M.reset_index(inplace = True)\n",
        "high2_M.reset_index(inplace = True)\n",
        "high_M.reset_index(inplace = True)"
      ],
      "metadata": {
        "id": "THdQn0BxSHno"
      },
      "execution_count": null,
      "outputs": []
    },
    {
      "cell_type": "markdown",
      "source": [
        "We do the same for females."
      ],
      "metadata": {
        "id": "_gUnhfm_SPtZ"
      }
    },
    {
      "cell_type": "code",
      "source": [
        "low1_F = education_abs_sheets['education_abs_sheet26']\n",
        "low2_F = education_abs_sheets['education_abs_sheet32']\n",
        "\n",
        "medium1_F = education_abs_sheets['education_abs_sheet27']\n",
        "medium2_F = education_abs_sheets['education_abs_sheet33']\n",
        "\n",
        "high1_F = education_abs_sheets['education_abs_sheet30']\n",
        "high2_F = education_abs_sheets['education_abs_sheet36']"
      ],
      "metadata": {
        "id": "l-XJ24F4SSps"
      },
      "execution_count": null,
      "outputs": []
    },
    {
      "cell_type": "code",
      "source": [
        "# we preprocess data removing cases with nulls for either one of the 2 datasets\n",
        "low1_F.set_index(['Country', 'Abbreviation'], inplace = True)\n",
        "low2_F.set_index(['Country', 'Abbreviation'], inplace = True)\n",
        "low_F = low1_F.fillna(1000000).add(low2_F.fillna(1000000), fill_value = 0).round(1)\n",
        "low_F = low_F.where(low_F < 1000000)\n",
        "low1_F.reset_index(inplace = True)\n",
        "low2_F.reset_index(inplace = True)\n",
        "low_F.reset_index(inplace = True)"
      ],
      "metadata": {
        "id": "VaHGENMfSSp1"
      },
      "execution_count": null,
      "outputs": []
    },
    {
      "cell_type": "code",
      "source": [
        "# we preprocess data removing cases with nulls for either one of the 2 datasets\n",
        "medium1_F.set_index(['Country', 'Abbreviation'], inplace = True)\n",
        "medium2_F.set_index(['Country', 'Abbreviation'], inplace = True)\n",
        "medium_F = medium1_F.fillna(1000000).add(medium2_F.fillna(1000000), fill_value = 0).round(1)\n",
        "medium_F = medium_F.where(medium_F < 1000000)\n",
        "medium1_F.reset_index(inplace = True)\n",
        "medium2_F.reset_index(inplace = True)\n",
        "medium_F.reset_index(inplace = True)"
      ],
      "metadata": {
        "id": "Ea1o7M7sSSp1"
      },
      "execution_count": null,
      "outputs": []
    },
    {
      "cell_type": "code",
      "source": [
        "# we preprocess data removing cases with nulls for either one of the 2 datasets\n",
        "high1_F.set_index(['Country', 'Abbreviation'], inplace = True)\n",
        "high2_F.set_index(['Country', 'Abbreviation'], inplace = True)\n",
        "high_F = high1_F.fillna(1000000).add(high2_F.fillna(1000000), fill_value = 0).round(1)\n",
        "high_F = high_F.where(high_F < 1000000)\n",
        "high1_F.reset_index(inplace = True)\n",
        "high2_F.reset_index(inplace = True)\n",
        "high_F.reset_index(inplace = True)"
      ],
      "metadata": {
        "id": "ga6OpcaqSSp2"
      },
      "execution_count": null,
      "outputs": []
    },
    {
      "cell_type": "markdown",
      "source": [
        "We extract info on differences between M and F."
      ],
      "metadata": {
        "id": "0BrzXrKbs2AM"
      }
    },
    {
      "cell_type": "code",
      "source": [
        "levels = ['low', 'medium', 'high']\n",
        "genders = ['M', 'F']\n",
        "\n",
        "sum_datasets = {}\n",
        "difference_datasets = {}\n",
        "percentage_datasets = {}\n",
        "\n",
        "# we prepare dictionaries of datasets for sum, difference and percentage (ratio) between M and F\n",
        "for level in levels:\n",
        "    for gender in genders:\n",
        "\n",
        "        male_dataframe = f\"{level}_M\"\n",
        "        female_dataframe = f\"{level}_F\"\n",
        "        sum_dataframe = f\"{level}_sum\"\n",
        "        difference_dataframe = f\"{level}_difference\"\n",
        "        percentage_dataframe = f\"{level}_percentage\"\n",
        "\n",
        "        male_df = locals()[male_dataframe]\n",
        "        female_df = locals()[female_dataframe]\n",
        "\n",
        "        sum_df = male_df.copy()\n",
        "        sum_df.iloc[:, 2:] = male_df.iloc[:, 2:] + female_df.iloc[:, 2:]\n",
        "        sum_datasets[sum_dataframe] = sum_df\n",
        "\n",
        "        difference_df = male_df.copy()\n",
        "        difference_df.iloc[:, 2:] = male_df.iloc[:, 2:] - female_df.iloc[:, 2:]\n",
        "        difference_datasets[difference_dataframe] = difference_df\n",
        "\n",
        "        percentage_df = male_df.copy()\n",
        "        percentage_df.iloc[:, 2:] = (difference_df.iloc[:, 2:] / sum_df.iloc[:, 2:]) * 100\n",
        "        percentage_datasets[percentage_dataframe] = percentage_df"
      ],
      "metadata": {
        "id": "LmIQboTktGf_"
      },
      "execution_count": null,
      "outputs": []
    },
    {
      "cell_type": "markdown",
      "source": [
        "For each year (from 2009 to 2022) we retrieve the top 3 countries with highest percentual difference between M and F (for low, medium and high education level), considering just the ABSOLUTE VALUE of this percentage (NOT considering the sign)."
      ],
      "metadata": {
        "id": "T0Pb4gLk75zr"
      }
    },
    {
      "cell_type": "code",
      "source": [
        "def ordinal(n):\n",
        "    suffix = 'th' if 11 <= n <= 13 else {1: 'st', 2: 'nd', 3: 'rd'}.get(n % 10, 'th')\n",
        "    return f\"{n}{suffix}\"\n",
        "\n",
        "# Function to convert the percentage column to numeric\n",
        "def convert_to_numeric(df, column):\n",
        "    df[column] = pd.to_numeric(df[column], errors = 'coerce')\n",
        "    return df\n",
        "\n",
        "level_datasets = {\n",
        "    'low': {'M': low_M, 'F': low_F},\n",
        "    'medium': {'M': medium_M, 'F': medium_F},\n",
        "    'high': {'M': high_M, 'F': high_F}\n",
        "}\n",
        "\n",
        "for year in range(2009, 2023):\n",
        "    print(f\"\\nIn the year {year}:\")\n",
        "    donut_data = []\n",
        "    for level in levels:\n",
        "        percentage_df = percentage_datasets[f\"{level}_percentage\"]\n",
        "\n",
        "        # We reshape data using melt\n",
        "        melted_df = pd.melt(percentage_df, id_vars = ['Country'], var_name = 'Year', value_name = f\"{level}_difference\")\n",
        "\n",
        "        # We convert 'Year' and difference columns to numeric\n",
        "        melted_df = convert_to_numeric(melted_df, 'Year')\n",
        "        melted_df = convert_to_numeric(melted_df, f\"{level}_difference\")\n",
        "\n",
        "        # We get the top 3 countries with the highest difference in absolute percentage\n",
        "        top_countries = melted_df[melted_df['Year'] == year].sort_values(by = f\"{level}_difference\", key = lambda x: x.abs(), ascending = False).head(3)[['Country', f\"{level}_difference\"]]\n",
        "\n",
        "        # We print info on top 3 countries with highest gap in gender for low, medium and high for each year\n",
        "        for i, (country, percentage) in enumerate(top_countries.itertuples(index = False, name = None), start = 1):\n",
        "            print(f\"The {ordinal(i)} country with the highest difference in percentage between M and F for {level} education is {country} with a percentage of {percentage:.2f}%\")\n",
        "            valueM = level_datasets[level]['M'].loc[ level_datasets[level]['M']['Country'] == country, str(year) ].values[0]\n",
        "            valueF = level_datasets[level]['F'].loc[ level_datasets[level]['F']['Country'] == country, str(year) ].values[0]\n",
        "            donut_data.append({'name': country, 'abbreviation': country_abbreviations.get(country),'level': level, 'rank': i, 'valueM': valueM, 'valueF': valueF})\n",
        "\n",
        "    # We export the CSV files with top countries for each year\n",
        "    donut_df = pd.DataFrame(donut_data)\n",
        "    donut_df.to_csv(f\"donut{year}.csv\", index = False)"
      ],
      "metadata": {
        "id": "Cpc-gHI449Qk",
        "outputId": "903d0ca3-f797-4e97-eb9e-ea9276ce90f7",
        "colab": {
          "base_uri": "https://localhost:8080/"
        }
      },
      "execution_count": null,
      "outputs": [
        {
          "output_type": "stream",
          "name": "stdout",
          "text": [
            "\n",
            "In the year 2009:\n",
            "The 1st country with the highest difference in percentage between M and F for low education is Spain with a percentage of 14.90%\n",
            "The 2nd country with the highest difference in percentage between M and F for low education is Greece with a percentage of 12.12%\n",
            "The 3rd country with the highest difference in percentage between M and F for low education is Malta with a percentage of 11.71%\n",
            "The 1st country with the highest difference in percentage between M and F for medium education is Bulgaria with a percentage of 12.53%\n",
            "The 2nd country with the highest difference in percentage between M and F for medium education is Türkiye with a percentage of 11.79%\n",
            "The 3rd country with the highest difference in percentage between M and F for medium education is North Macedonia with a percentage of 11.33%\n",
            "The 1st country with the highest difference in percentage between M and F for high education is Croatia with a percentage of -33.95%\n",
            "The 2nd country with the highest difference in percentage between M and F for high education is Slovenia with a percentage of -32.77%\n",
            "The 3rd country with the highest difference in percentage between M and F for high education is Estonia with a percentage of -32.51%\n",
            "\n",
            "In the year 2010:\n",
            "The 1st country with the highest difference in percentage between M and F for low education is Malta with a percentage of 18.39%\n",
            "The 2nd country with the highest difference in percentage between M and F for low education is Spain with a percentage of 14.86%\n",
            "The 3rd country with the highest difference in percentage between M and F for low education is Estonia with a percentage of 13.27%\n",
            "The 1st country with the highest difference in percentage between M and F for medium education is Bulgaria with a percentage of 11.69%\n",
            "The 2nd country with the highest difference in percentage between M and F for medium education is North Macedonia with a percentage of 11.64%\n",
            "The 3rd country with the highest difference in percentage between M and F for medium education is Türkiye with a percentage of 10.07%\n",
            "The 1st country with the highest difference in percentage between M and F for high education is Latvia with a percentage of -36.73%\n",
            "The 2nd country with the highest difference in percentage between M and F for high education is Slovenia with a percentage of -33.33%\n",
            "The 3rd country with the highest difference in percentage between M and F for high education is Estonia with a percentage of -33.20%\n",
            "\n",
            "In the year 2011:\n",
            "The 1st country with the highest difference in percentage between M and F for low education is Malta with a percentage of 20.00%\n",
            "The 2nd country with the highest difference in percentage between M and F for low education is Spain with a percentage of 14.88%\n",
            "The 3rd country with the highest difference in percentage between M and F for low education is Slovenia with a percentage of 13.70%\n",
            "The 1st country with the highest difference in percentage between M and F for medium education is North Macedonia with a percentage of 12.45%\n",
            "The 2nd country with the highest difference in percentage between M and F for medium education is Bulgaria with a percentage of 11.25%\n",
            "The 3rd country with the highest difference in percentage between M and F for medium education is Serbia with a percentage of 10.51%\n",
            "The 1st country with the highest difference in percentage between M and F for high education is Slovenia with a percentage of -37.40%\n",
            "The 2nd country with the highest difference in percentage between M and F for high education is Latvia with a percentage of -34.00%\n",
            "The 3rd country with the highest difference in percentage between M and F for high education is Cyprus with a percentage of -28.47%\n",
            "\n",
            "In the year 2012:\n",
            "The 1st country with the highest difference in percentage between M and F for low education is Malta with a percentage of 15.79%\n",
            "The 2nd country with the highest difference in percentage between M and F for low education is Latvia with a percentage of 14.77%\n",
            "The 3rd country with the highest difference in percentage between M and F for low education is Spain with a percentage of 14.08%\n",
            "The 1st country with the highest difference in percentage between M and F for medium education is North Macedonia with a percentage of 14.04%\n",
            "The 2nd country with the highest difference in percentage between M and F for medium education is Serbia with a percentage of 10.91%\n",
            "The 3rd country with the highest difference in percentage between M and F for medium education is Poland with a percentage of 10.07%\n",
            "The 1st country with the highest difference in percentage between M and F for high education is Latvia with a percentage of -33.25%\n",
            "The 2nd country with the highest difference in percentage between M and F for high education is Slovenia with a percentage of -31.95%\n",
            "The 3rd country with the highest difference in percentage between M and F for high education is Finland with a percentage of -29.16%\n",
            "\n",
            "In the year 2013:\n",
            "The 1st country with the highest difference in percentage between M and F for low education is Malta with a percentage of 17.47%\n",
            "The 2nd country with the highest difference in percentage between M and F for low education is Latvia with a percentage of 14.47%\n",
            "The 3rd country with the highest difference in percentage between M and F for low education is Iceland with a percentage of 13.31%\n",
            "The 1st country with the highest difference in percentage between M and F for medium education is North Macedonia with a percentage of 15.99%\n",
            "The 2nd country with the highest difference in percentage between M and F for medium education is Bulgaria with a percentage of 10.98%\n",
            "The 3rd country with the highest difference in percentage between M and F for medium education is Slovenia with a percentage of 9.88%\n",
            "The 1st country with the highest difference in percentage between M and F for high education is Portugal with a percentage of -31.81%\n",
            "The 2nd country with the highest difference in percentage between M and F for high education is Latvia with a percentage of -31.56%\n",
            "The 3rd country with the highest difference in percentage between M and F for high education is Cyprus with a percentage of -31.20%\n",
            "\n",
            "In the year 2014:\n",
            "The 1st country with the highest difference in percentage between M and F for low education is Estonia with a percentage of 17.31%\n",
            "The 2nd country with the highest difference in percentage between M and F for low education is Malta with a percentage of 15.15%\n",
            "The 3rd country with the highest difference in percentage between M and F for low education is Iceland with a percentage of 14.19%\n",
            "The 1st country with the highest difference in percentage between M and F for medium education is Cyprus with a percentage of 18.00%\n",
            "The 2nd country with the highest difference in percentage between M and F for medium education is North Macedonia with a percentage of 12.57%\n",
            "The 3rd country with the highest difference in percentage between M and F for medium education is Slovakia with a percentage of 10.98%\n",
            "The 1st country with the highest difference in percentage between M and F for high education is Cyprus with a percentage of -36.42%\n",
            "The 2nd country with the highest difference in percentage between M and F for high education is Latvia with a percentage of -27.51%\n",
            "The 3rd country with the highest difference in percentage between M and F for high education is Portugal with a percentage of -26.73%\n",
            "\n",
            "In the year 2015:\n",
            "The 1st country with the highest difference in percentage between M and F for low education is Malta with a percentage of 14.40%\n",
            "The 2nd country with the highest difference in percentage between M and F for low education is Spain with a percentage of 14.02%\n",
            "The 3rd country with the highest difference in percentage between M and F for low education is Iceland with a percentage of 13.46%\n",
            "The 1st country with the highest difference in percentage between M and F for medium education is Cyprus with a percentage of 14.73%\n",
            "The 2nd country with the highest difference in percentage between M and F for medium education is Latvia with a percentage of 12.18%\n",
            "The 3rd country with the highest difference in percentage between M and F for medium education is North Macedonia with a percentage of 11.88%\n",
            "The 1st country with the highest difference in percentage between M and F for high education is Cyprus with a percentage of -34.89%\n",
            "The 2nd country with the highest difference in percentage between M and F for high education is Latvia with a percentage of -34.79%\n",
            "The 3rd country with the highest difference in percentage between M and F for high education is Finland with a percentage of -26.84%\n",
            "\n",
            "In the year 2016:\n",
            "The 1st country with the highest difference in percentage between M and F for low education is Malta with a percentage of 21.21%\n",
            "The 2nd country with the highest difference in percentage between M and F for low education is Iceland with a percentage of 15.75%\n",
            "The 3rd country with the highest difference in percentage between M and F for low education is Estonia with a percentage of 13.85%\n",
            "The 1st country with the highest difference in percentage between M and F for medium education is Cyprus with a percentage of 15.64%\n",
            "The 2nd country with the highest difference in percentage between M and F for medium education is North Macedonia with a percentage of 13.79%\n",
            "The 3rd country with the highest difference in percentage between M and F for medium education is Montenegro with a percentage of 12.63%\n",
            "The 1st country with the highest difference in percentage between M and F for high education is Estonia with a percentage of -33.63%\n",
            "The 2nd country with the highest difference in percentage between M and F for high education is Cyprus with a percentage of -33.57%\n",
            "The 3rd country with the highest difference in percentage between M and F for high education is Latvia with a percentage of -28.07%\n",
            "\n",
            "In the year 2017:\n",
            "The 1st country with the highest difference in percentage between M and F for low education is Malta with a percentage of 21.93%\n",
            "The 2nd country with the highest difference in percentage between M and F for low education is Estonia with a percentage of 13.99%\n",
            "The 3rd country with the highest difference in percentage between M and F for low education is Portugal with a percentage of 13.20%\n",
            "The 1st country with the highest difference in percentage between M and F for medium education is Cyprus with a percentage of 16.48%\n",
            "The 2nd country with the highest difference in percentage between M and F for medium education is Montenegro with a percentage of 15.78%\n",
            "The 3rd country with the highest difference in percentage between M and F for medium education is Slovakia with a percentage of 12.30%\n",
            "The 1st country with the highest difference in percentage between M and F for high education is Estonia with a percentage of -31.63%\n",
            "The 2nd country with the highest difference in percentage between M and F for high education is Cyprus with a percentage of -30.12%\n",
            "The 3rd country with the highest difference in percentage between M and F for high education is Portugal with a percentage of -29.73%\n",
            "\n",
            "In the year 2018:\n",
            "The 1st country with the highest difference in percentage between M and F for low education is Malta with a percentage of 16.67%\n",
            "The 2nd country with the highest difference in percentage between M and F for low education is Iceland with a percentage of 13.90%\n",
            "The 3rd country with the highest difference in percentage between M and F for low education is Spain with a percentage of 13.17%\n",
            "The 1st country with the highest difference in percentage between M and F for medium education is Cyprus with a percentage of 14.92%\n",
            "The 2nd country with the highest difference in percentage between M and F for medium education is Montenegro with a percentage of 12.74%\n",
            "The 3rd country with the highest difference in percentage between M and F for medium education is Slovakia with a percentage of 11.86%\n",
            "The 1st country with the highest difference in percentage between M and F for high education is Cyprus with a percentage of -27.70%\n",
            "The 2nd country with the highest difference in percentage between M and F for high education is Portugal with a percentage of -26.94%\n",
            "The 3rd country with the highest difference in percentage between M and F for high education is Estonia with a percentage of -25.67%\n",
            "\n",
            "In the year 2019:\n",
            "The 1st country with the highest difference in percentage between M and F for low education is Iceland with a percentage of 18.44%\n",
            "The 2nd country with the highest difference in percentage between M and F for low education is Spain with a percentage of 14.96%\n",
            "The 3rd country with the highest difference in percentage between M and F for low education is Malta with a percentage of 14.42%\n",
            "The 1st country with the highest difference in percentage between M and F for medium education is Croatia with a percentage of 13.76%\n",
            "The 2nd country with the highest difference in percentage between M and F for medium education is Cyprus with a percentage of 13.64%\n",
            "The 3rd country with the highest difference in percentage between M and F for medium education is Sweden with a percentage of 11.90%\n",
            "The 1st country with the highest difference in percentage between M and F for high education is Croatia with a percentage of -35.20%\n",
            "The 2nd country with the highest difference in percentage between M and F for high education is Estonia with a percentage of -29.03%\n",
            "The 3rd country with the highest difference in percentage between M and F for high education is Cyprus with a percentage of -28.67%\n",
            "\n",
            "In the year 2020:\n",
            "The 1st country with the highest difference in percentage between M and F for low education is Malta with a percentage of 21.69%\n",
            "The 2nd country with the highest difference in percentage between M and F for low education is Iceland with a percentage of 16.13%\n",
            "The 3rd country with the highest difference in percentage between M and F for low education is Spain with a percentage of 14.55%\n",
            "The 1st country with the highest difference in percentage between M and F for medium education is Norway with a percentage of 13.66%\n",
            "The 2nd country with the highest difference in percentage between M and F for medium education is Slovenia with a percentage of 13.08%\n",
            "The 3rd country with the highest difference in percentage between M and F for medium education is Slovakia with a percentage of 12.95%\n",
            "The 1st country with the highest difference in percentage between M and F for high education is Croatia with a percentage of -28.94%\n",
            "The 2nd country with the highest difference in percentage between M and F for high education is Latvia with a percentage of -28.21%\n",
            "The 3rd country with the highest difference in percentage between M and F for high education is Cyprus with a percentage of -28.06%\n",
            "\n",
            "In the year 2021:\n",
            "The 1st country with the highest difference in percentage between M and F for low education is Malta with a percentage of 25.88%\n",
            "The 2nd country with the highest difference in percentage between M and F for low education is Iceland with a percentage of 16.31%\n",
            "The 3rd country with the highest difference in percentage between M and F for low education is Portugal with a percentage of 13.18%\n",
            "The 1st country with the highest difference in percentage between M and F for medium education is Slovakia with a percentage of 14.02%\n",
            "The 2nd country with the highest difference in percentage between M and F for medium education is Malta with a percentage of 11.75%\n",
            "The 3rd country with the highest difference in percentage between M and F for medium education is Slovenia with a percentage of 11.50%\n",
            "The 1st country with the highest difference in percentage between M and F for high education is Slovakia with a percentage of -28.45%\n",
            "The 2nd country with the highest difference in percentage between M and F for high education is Portugal with a percentage of -24.93%\n",
            "The 3rd country with the highest difference in percentage between M and F for high education is Croatia with a percentage of -23.10%\n",
            "\n",
            "In the year 2022:\n",
            "The 1st country with the highest difference in percentage between M and F for low education is Malta with a percentage of 17.32%\n",
            "The 2nd country with the highest difference in percentage between M and F for low education is Iceland with a percentage of 11.86%\n",
            "The 3rd country with the highest difference in percentage between M and F for low education is Portugal with a percentage of 11.80%\n",
            "The 1st country with the highest difference in percentage between M and F for medium education is Slovenia with a percentage of 14.75%\n",
            "The 2nd country with the highest difference in percentage between M and F for medium education is Slovakia with a percentage of 14.59%\n",
            "The 3rd country with the highest difference in percentage between M and F for medium education is Malta with a percentage of 11.92%\n",
            "The 1st country with the highest difference in percentage between M and F for high education is Croatia with a percentage of -28.58%\n",
            "The 2nd country with the highest difference in percentage between M and F for high education is Slovakia with a percentage of -27.86%\n",
            "The 3rd country with the highest difference in percentage between M and F for high education is Latvia with a percentage of -27.71%\n"
          ]
        }
      ]
    },
    {
      "cell_type": "markdown",
      "source": [
        "For each year (from 2009 to 2022) we retrieve the top 3 countries with highest percentual difference between M and F (for low, medium and high education level), considering THE SIGN of this percentage (NOT considering the absolute value)."
      ],
      "metadata": {
        "id": "_-9ZbPsP7yOx"
      }
    },
    {
      "cell_type": "code",
      "source": [
        "for year in range(2009, 2023):\n",
        "    print(f\"\\nIn the year {year}:\")\n",
        "\n",
        "    for level in levels:\n",
        "        percentage_df = percentage_datasets[f\"{level}_percentage\"]\n",
        "\n",
        "        # We reshape data using melt\n",
        "        melted_df = pd.melt(percentage_df, id_vars=['Country'], var_name='Year', value_name=f\"{level}_difference\")\n",
        "\n",
        "        # We convert 'Year' and difference columns to numeric\n",
        "        melted_df = convert_to_numeric(melted_df, 'Year')\n",
        "        melted_df = convert_to_numeric(melted_df, f\"{level}_difference\")\n",
        "\n",
        "        # We get the top 3 countries with the highest difference in percentage\n",
        "        top_countries = melted_df[melted_df['Year'] == year].nlargest(3, f\"{level}_difference\")[['Country', f\"{level}_difference\"]]\n",
        "\n",
        "        # We print info on top 3 countries with highest gap in gender for low, medium and high for each year\n",
        "        for i, (country, percentage) in enumerate(top_countries.itertuples(index = False, name = None), start=1):\n",
        "            print(f\"The {ordinal(i)} country with the highest difference in percentage between M and F for {level} education is {country} with a percentage of {percentage:.2f}%\")"
      ],
      "metadata": {
        "id": "2tuKrtp_1Fet",
        "outputId": "290d9d22-e00b-4f78-c547-86e4dfecc102",
        "colab": {
          "base_uri": "https://localhost:8080/"
        }
      },
      "execution_count": null,
      "outputs": [
        {
          "output_type": "stream",
          "name": "stdout",
          "text": [
            "\n",
            "In the year 2009:\n",
            "The 1st country with the highest difference in percentage between M and F for low education is Spain with a percentage of 14.90%\n",
            "The 2nd country with the highest difference in percentage between M and F for low education is Greece with a percentage of 12.12%\n",
            "The 3rd country with the highest difference in percentage between M and F for low education is Malta with a percentage of 11.71%\n",
            "The 1st country with the highest difference in percentage between M and F for medium education is Bulgaria with a percentage of 12.53%\n",
            "The 2nd country with the highest difference in percentage between M and F for medium education is Türkiye with a percentage of 11.79%\n",
            "The 3rd country with the highest difference in percentage between M and F for medium education is North Macedonia with a percentage of 11.33%\n",
            "The 1st country with the highest difference in percentage between M and F for high education is Switzerland with a percentage of 2.22%\n",
            "The 2nd country with the highest difference in percentage between M and F for high education is Türkiye with a percentage of -2.03%\n",
            "The 3rd country with the highest difference in percentage between M and F for high education is France with a percentage of -12.66%\n",
            "\n",
            "In the year 2010:\n",
            "The 1st country with the highest difference in percentage between M and F for low education is Malta with a percentage of 18.39%\n",
            "The 2nd country with the highest difference in percentage between M and F for low education is Spain with a percentage of 14.86%\n",
            "The 3rd country with the highest difference in percentage between M and F for low education is Estonia with a percentage of 13.27%\n",
            "The 1st country with the highest difference in percentage between M and F for medium education is Bulgaria with a percentage of 11.69%\n",
            "The 2nd country with the highest difference in percentage between M and F for medium education is North Macedonia with a percentage of 11.64%\n",
            "The 3rd country with the highest difference in percentage between M and F for medium education is Türkiye with a percentage of 10.07%\n",
            "The 1st country with the highest difference in percentage between M and F for high education is Switzerland with a percentage of 1.04%\n",
            "The 2nd country with the highest difference in percentage between M and F for high education is Türkiye with a percentage of -0.85%\n",
            "The 3rd country with the highest difference in percentage between M and F for high education is Romania with a percentage of -7.38%\n",
            "\n",
            "In the year 2011:\n",
            "The 1st country with the highest difference in percentage between M and F for low education is Malta with a percentage of 20.00%\n",
            "The 2nd country with the highest difference in percentage between M and F for low education is Spain with a percentage of 14.88%\n",
            "The 3rd country with the highest difference in percentage between M and F for low education is Slovenia with a percentage of 13.70%\n",
            "The 1st country with the highest difference in percentage between M and F for medium education is North Macedonia with a percentage of 12.45%\n",
            "The 2nd country with the highest difference in percentage between M and F for medium education is Bulgaria with a percentage of 11.25%\n",
            "The 3rd country with the highest difference in percentage between M and F for medium education is Serbia with a percentage of 10.51%\n",
            "The 1st country with the highest difference in percentage between M and F for high education is Türkiye with a percentage of 0.36%\n",
            "The 2nd country with the highest difference in percentage between M and F for high education is Switzerland with a percentage of -2.18%\n",
            "The 3rd country with the highest difference in percentage between M and F for high education is Romania with a percentage of -10.16%\n",
            "\n",
            "In the year 2012:\n",
            "The 1st country with the highest difference in percentage between M and F for low education is Malta with a percentage of 15.79%\n",
            "The 2nd country with the highest difference in percentage between M and F for low education is Latvia with a percentage of 14.77%\n",
            "The 3rd country with the highest difference in percentage between M and F for low education is Spain with a percentage of 14.08%\n",
            "The 1st country with the highest difference in percentage between M and F for medium education is North Macedonia with a percentage of 14.04%\n",
            "The 2nd country with the highest difference in percentage between M and F for medium education is Serbia with a percentage of 10.91%\n",
            "The 3rd country with the highest difference in percentage between M and F for medium education is Poland with a percentage of 10.07%\n",
            "The 1st country with the highest difference in percentage between M and F for high education is Türkiye with a percentage of 1.35%\n",
            "The 2nd country with the highest difference in percentage between M and F for high education is Switzerland with a percentage of -2.48%\n",
            "The 3rd country with the highest difference in percentage between M and F for high education is France with a percentage of -10.47%\n",
            "\n",
            "In the year 2013:\n",
            "The 1st country with the highest difference in percentage between M and F for low education is Malta with a percentage of 17.47%\n",
            "The 2nd country with the highest difference in percentage between M and F for low education is Latvia with a percentage of 14.47%\n",
            "The 3rd country with the highest difference in percentage between M and F for low education is Iceland with a percentage of 13.31%\n",
            "The 1st country with the highest difference in percentage between M and F for medium education is North Macedonia with a percentage of 15.99%\n",
            "The 2nd country with the highest difference in percentage between M and F for medium education is Bulgaria with a percentage of 10.98%\n",
            "The 3rd country with the highest difference in percentage between M and F for medium education is Slovenia with a percentage of 9.88%\n",
            "The 1st country with the highest difference in percentage between M and F for high education is Switzerland with a percentage of -0.23%\n",
            "The 2nd country with the highest difference in percentage between M and F for high education is Türkiye with a percentage of -0.84%\n",
            "The 3rd country with the highest difference in percentage between M and F for high education is Romania with a percentage of -11.28%\n",
            "\n",
            "In the year 2014:\n",
            "The 1st country with the highest difference in percentage between M and F for low education is Estonia with a percentage of 17.31%\n",
            "The 2nd country with the highest difference in percentage between M and F for low education is Malta with a percentage of 15.15%\n",
            "The 3rd country with the highest difference in percentage between M and F for low education is Iceland with a percentage of 14.19%\n",
            "The 1st country with the highest difference in percentage between M and F for medium education is Cyprus with a percentage of 18.00%\n",
            "The 2nd country with the highest difference in percentage between M and F for medium education is North Macedonia with a percentage of 12.57%\n",
            "The 3rd country with the highest difference in percentage between M and F for medium education is Slovakia with a percentage of 10.98%\n",
            "The 1st country with the highest difference in percentage between M and F for high education is Switzerland with a percentage of -1.44%\n",
            "The 2nd country with the highest difference in percentage between M and F for high education is Türkiye with a percentage of -1.90%\n",
            "The 3rd country with the highest difference in percentage between M and F for high education is Germany with a percentage of -7.66%\n",
            "\n",
            "In the year 2015:\n",
            "The 1st country with the highest difference in percentage between M and F for low education is Malta with a percentage of 14.40%\n",
            "The 2nd country with the highest difference in percentage between M and F for low education is Spain with a percentage of 14.02%\n",
            "The 3rd country with the highest difference in percentage between M and F for low education is Iceland with a percentage of 13.46%\n",
            "The 1st country with the highest difference in percentage between M and F for medium education is Cyprus with a percentage of 14.73%\n",
            "The 2nd country with the highest difference in percentage between M and F for medium education is Latvia with a percentage of 12.18%\n",
            "The 3rd country with the highest difference in percentage between M and F for medium education is North Macedonia with a percentage of 11.88%\n",
            "The 1st country with the highest difference in percentage between M and F for high education is Switzerland with a percentage of -3.53%\n",
            "The 2nd country with the highest difference in percentage between M and F for high education is Türkiye with a percentage of -4.84%\n",
            "The 3rd country with the highest difference in percentage between M and F for high education is Germany with a percentage of -7.15%\n",
            "\n",
            "In the year 2016:\n",
            "The 1st country with the highest difference in percentage between M and F for low education is Malta with a percentage of 21.21%\n",
            "The 2nd country with the highest difference in percentage between M and F for low education is Iceland with a percentage of 15.75%\n",
            "The 3rd country with the highest difference in percentage between M and F for low education is Estonia with a percentage of 13.85%\n",
            "The 1st country with the highest difference in percentage between M and F for medium education is Cyprus with a percentage of 15.64%\n",
            "The 2nd country with the highest difference in percentage between M and F for medium education is North Macedonia with a percentage of 13.79%\n",
            "The 3rd country with the highest difference in percentage between M and F for medium education is Montenegro with a percentage of 12.63%\n",
            "The 1st country with the highest difference in percentage between M and F for high education is Switzerland with a percentage of -0.35%\n",
            "The 2nd country with the highest difference in percentage between M and F for high education is Germany with a percentage of -4.27%\n",
            "The 3rd country with the highest difference in percentage between M and F for high education is Türkiye with a percentage of -6.40%\n",
            "\n",
            "In the year 2017:\n",
            "The 1st country with the highest difference in percentage between M and F for low education is Malta with a percentage of 21.93%\n",
            "The 2nd country with the highest difference in percentage between M and F for low education is Estonia with a percentage of 13.99%\n",
            "The 3rd country with the highest difference in percentage between M and F for low education is Portugal with a percentage of 13.20%\n",
            "The 1st country with the highest difference in percentage between M and F for medium education is Cyprus with a percentage of 16.48%\n",
            "The 2nd country with the highest difference in percentage between M and F for medium education is Montenegro with a percentage of 15.78%\n",
            "The 3rd country with the highest difference in percentage between M and F for medium education is Slovakia with a percentage of 12.30%\n",
            "The 1st country with the highest difference in percentage between M and F for high education is Germany with a percentage of -3.96%\n",
            "The 2nd country with the highest difference in percentage between M and F for high education is Switzerland with a percentage of -5.20%\n",
            "The 3rd country with the highest difference in percentage between M and F for high education is Türkiye with a percentage of -7.12%\n",
            "\n",
            "In the year 2018:\n",
            "The 1st country with the highest difference in percentage between M and F for low education is Malta with a percentage of 16.67%\n",
            "The 2nd country with the highest difference in percentage between M and F for low education is Iceland with a percentage of 13.90%\n",
            "The 3rd country with the highest difference in percentage between M and F for low education is Spain with a percentage of 13.17%\n",
            "The 1st country with the highest difference in percentage between M and F for medium education is Cyprus with a percentage of 14.92%\n",
            "The 2nd country with the highest difference in percentage between M and F for medium education is Montenegro with a percentage of 12.74%\n",
            "The 3rd country with the highest difference in percentage between M and F for medium education is Slovakia with a percentage of 11.86%\n",
            "The 1st country with the highest difference in percentage between M and F for high education is Germany with a percentage of -4.79%\n",
            "The 2nd country with the highest difference in percentage between M and F for high education is Malta with a percentage of -6.51%\n",
            "The 3rd country with the highest difference in percentage between M and F for high education is Switzerland with a percentage of -8.28%\n",
            "\n",
            "In the year 2019:\n",
            "The 1st country with the highest difference in percentage between M and F for low education is Iceland with a percentage of 18.44%\n",
            "The 2nd country with the highest difference in percentage between M and F for low education is Spain with a percentage of 14.96%\n",
            "The 3rd country with the highest difference in percentage between M and F for low education is Malta with a percentage of 14.42%\n",
            "The 1st country with the highest difference in percentage between M and F for medium education is Croatia with a percentage of 13.76%\n",
            "The 2nd country with the highest difference in percentage between M and F for medium education is Cyprus with a percentage of 13.64%\n",
            "The 3rd country with the highest difference in percentage between M and F for medium education is Sweden with a percentage of 11.90%\n",
            "The 1st country with the highest difference in percentage between M and F for high education is Iceland with a percentage of -3.88%\n",
            "The 2nd country with the highest difference in percentage between M and F for high education is Germany with a percentage of -4.06%\n",
            "The 3rd country with the highest difference in percentage between M and F for high education is Switzerland with a percentage of -4.10%\n",
            "\n",
            "In the year 2020:\n",
            "The 1st country with the highest difference in percentage between M and F for low education is Malta with a percentage of 21.69%\n",
            "The 2nd country with the highest difference in percentage between M and F for low education is Iceland with a percentage of 16.13%\n",
            "The 3rd country with the highest difference in percentage between M and F for low education is Spain with a percentage of 14.55%\n",
            "The 1st country with the highest difference in percentage between M and F for medium education is Norway with a percentage of 13.66%\n",
            "The 2nd country with the highest difference in percentage between M and F for medium education is Slovenia with a percentage of 13.08%\n",
            "The 3rd country with the highest difference in percentage between M and F for medium education is Slovakia with a percentage of 12.95%\n",
            "The 1st country with the highest difference in percentage between M and F for high education is Malta with a percentage of -1.17%\n",
            "The 2nd country with the highest difference in percentage between M and F for high education is Switzerland with a percentage of -7.26%\n",
            "The 3rd country with the highest difference in percentage between M and F for high education is Germany with a percentage of -7.46%\n",
            "\n",
            "In the year 2021:\n",
            "The 1st country with the highest difference in percentage between M and F for low education is Malta with a percentage of 25.88%\n",
            "The 2nd country with the highest difference in percentage between M and F for low education is Iceland with a percentage of 16.31%\n",
            "The 3rd country with the highest difference in percentage between M and F for low education is Portugal with a percentage of 13.18%\n",
            "The 1st country with the highest difference in percentage between M and F for medium education is Slovakia with a percentage of 14.02%\n",
            "The 2nd country with the highest difference in percentage between M and F for medium education is Malta with a percentage of 11.75%\n",
            "The 3rd country with the highest difference in percentage between M and F for medium education is Slovenia with a percentage of 11.50%\n",
            "The 1st country with the highest difference in percentage between M and F for high education is Switzerland with a percentage of -4.17%\n",
            "The 2nd country with the highest difference in percentage between M and F for high education is Germany with a percentage of -8.52%\n",
            "The 3rd country with the highest difference in percentage between M and F for high education is France with a percentage of -8.95%\n",
            "\n",
            "In the year 2022:\n",
            "The 1st country with the highest difference in percentage between M and F for low education is Malta with a percentage of 17.32%\n",
            "The 2nd country with the highest difference in percentage between M and F for low education is Iceland with a percentage of 11.86%\n",
            "The 3rd country with the highest difference in percentage between M and F for low education is Portugal with a percentage of 11.80%\n",
            "The 1st country with the highest difference in percentage between M and F for medium education is Slovenia with a percentage of 14.75%\n",
            "The 2nd country with the highest difference in percentage between M and F for medium education is Slovakia with a percentage of 14.59%\n",
            "The 3rd country with the highest difference in percentage between M and F for medium education is Malta with a percentage of 11.92%\n",
            "The 1st country with the highest difference in percentage between M and F for high education is Switzerland with a percentage of -7.50%\n",
            "The 2nd country with the highest difference in percentage between M and F for high education is Greece with a percentage of -7.62%\n",
            "The 3rd country with the highest difference in percentage between M and F for high education is Netherlands with a percentage of -7.83%\n"
          ]
        }
      ]
    },
    {
      "cell_type": "markdown",
      "source": [
        "# Early leavers: percentage (18-24) in 2009-2022\n",
        "\n"
      ],
      "metadata": {
        "id": "HrsoI50ypzOJ"
      }
    },
    {
      "cell_type": "markdown",
      "source": [
        "We import the 15 sheets of the *early_leavers_by_sex_labour* excel file (skipping useless rows/columns and avoiding the print of unharmful warnings) in a dictionary of datasets named *early_leavers_sheets*."
      ],
      "metadata": {
        "id": "7ykept1athal"
      }
    },
    {
      "cell_type": "code",
      "source": [
        "years = range(2009, 2023)\n",
        "sheet_names = [f'Sheet {i}' for i in range(1, 16)]\n",
        "file_path = '/content/drive/MyDrive/DV_project/story2/early_leavers_by_sex_labour.xlsx'\n",
        "rows_to_skip = list(range(0, 10)) + [11, 13, 44] + list(range(49, 58))\n",
        "selected_columns = ['TIME'] + [str(year) for year in years]\n",
        "\n",
        "# Just to suppress the unharmful warnings we were getting\n",
        "import warnings\n",
        "with warnings.catch_warnings():\n",
        "    warnings.filterwarnings(\"ignore\", category = UserWarning, module = \"openpyxl\")\n",
        "    # Dictionary with datasets: 'early_leavers_sheet1', ..., 'early_leavers_sheet15'\n",
        "    early_leavers_sheets = {f'early_leavers_sheet{i}': pd.read_excel(file_path, sheet_name = sheet_name, skiprows = rows_to_skip, na_values = ':', usecols = selected_columns)\n",
        "                            for i, sheet_name in enumerate(sheet_names, start = 1)}"
      ],
      "metadata": {
        "id": "Lbq2kx43q97_"
      },
      "execution_count": null,
      "outputs": []
    },
    {
      "cell_type": "markdown",
      "source": [
        "We add a column *Abbreviation* to the 15 datasets."
      ],
      "metadata": {
        "id": "uiBZMRfGuvfb"
      }
    },
    {
      "cell_type": "code",
      "source": [
        "for i in range(1, 16):\n",
        "    early_leavers_sheets[f'early_leavers_sheet{i}'].rename(columns = {'TIME': 'Country'}, inplace = True)\n",
        "    early_leavers_sheets[f'early_leavers_sheet{i}']['Abbreviation'] = early_leavers_sheets[f'early_leavers_sheet{i}']['Country'].map(country_abbreviations)"
      ],
      "metadata": {
        "id": "rrlwDUWZuvfn"
      },
      "execution_count": null,
      "outputs": []
    },
    {
      "cell_type": "markdown",
      "source": [
        "## Lollipop charts: percentage of early leavers for each country"
      ],
      "metadata": {
        "id": "TGcWscxFqs-_"
      }
    },
    {
      "cell_type": "markdown",
      "source": [
        "We prepare the dataset for a lollipop chart (like a barchart) for each year."
      ],
      "metadata": {
        "id": "UL_gpzKKtHG4"
      }
    },
    {
      "cell_type": "code",
      "source": [
        "early_leavers_datasets = {}\n",
        "\n",
        "# We drop null values and sort by descending values\n",
        "for year in years:\n",
        "    early_leavers_datasets[f'early_leavers_{year}'] = early_leavers_sheets['early_leavers_sheet1'][['Country', str(year), 'Abbreviation']].copy()\n",
        "    early_leavers_datasets[f'early_leavers_{year}'].dropna(subset = [str(year)], inplace = True)\n",
        "    early_leavers_datasets[f'early_leavers_{year}'].sort_values(by = [str(year)], ascending = [False], inplace = True)"
      ],
      "metadata": {
        "id": "-mVYhmIGxMge"
      },
      "execution_count": null,
      "outputs": []
    },
    {
      "cell_type": "code",
      "source": [
        "header = ['name', 'abundance', 'abbreviation']\n",
        "\n",
        "# We export data for each year\n",
        "for year in years:\n",
        "  df = early_leavers_datasets[f'early_leavers_{year}'].copy()\n",
        "\n",
        "  # With EU value in the middle of the dataset\n",
        "  df.to_csv(f'lollipop{year}.csv', index = False, header = header)\n",
        "\n",
        "  # With EU value as first observation of the dataset\n",
        "  df['sorting_key'] = (df['Abbreviation'] == 'EU')\n",
        "  df = df.sort_values(by = ['sorting_key', str(year), 'Country'], ascending = [False, False, True]).drop('sorting_key', axis = 1).reset_index(drop = True)\n",
        "  df.to_csv(f'lollipop{year}_EU.csv', index = False, header = header)"
      ],
      "metadata": {
        "id": "Elz7HLzIq1TY"
      },
      "execution_count": null,
      "outputs": []
    },
    {
      "cell_type": "markdown",
      "source": [
        "## Sankey: recap on distribution of early leavers for EU, ITA, TUR"
      ],
      "metadata": {
        "id": "kzT5JOz4q0NH"
      }
    },
    {
      "cell_type": "markdown",
      "source": [
        "We prepare a small recap dataset (for EU, Italy and Turkey) for a final visualization on early leavers."
      ],
      "metadata": {
        "id": "kf0oraIStV3e"
      }
    },
    {
      "cell_type": "code",
      "source": [
        "early_leavers_sheets[f'early_leavers_sheet2']['Employed'] = round(early_leavers_sheets[f'early_leavers_sheet2'].iloc[:, 1:15].mean(axis = 1), 1)\n",
        "employed_df = early_leavers_sheets[f'early_leavers_sheet2'][['Country', 'Abbreviation', 'Employed']]\n",
        "\n",
        "early_leavers_sheets[f'early_leavers_sheet4']['Want to work (searching)'] = round(early_leavers_sheets[f'early_leavers_sheet4'].iloc[:, 1:15].mean(axis = 1), 1)\n",
        "want_to_work_df = early_leavers_sheets[f'early_leavers_sheet4'][['Country', 'Abbreviation', 'Want to work (searching)']]\n",
        "\n",
        "early_leavers_sheets[f'early_leavers_sheet5']['Do not want to work (not searching)'] = round(early_leavers_sheets[f'early_leavers_sheet5'].iloc[:, 1:15].mean(axis = 1), 1)\n",
        "do_not_want_to_work_df = early_leavers_sheets[f'early_leavers_sheet5'][['Country', 'Abbreviation', 'Do not want to work (not searching)']]"
      ],
      "metadata": {
        "id": "W8BGbNc7xMaM"
      },
      "execution_count": null,
      "outputs": []
    },
    {
      "cell_type": "code",
      "source": [
        "# We merge data on employed, searching and not searching for work\n",
        "pyramid_df = pd.merge(employed_df, want_to_work_df, on = ['Country', 'Abbreviation'], how = 'inner') \\\n",
        "               .merge(do_not_want_to_work_df, on = ['Country', 'Abbreviation'], how = 'inner')"
      ],
      "metadata": {
        "id": "0QBslDjXzn2t"
      },
      "execution_count": null,
      "outputs": []
    },
    {
      "cell_type": "markdown",
      "source": [
        "We show this dataset."
      ],
      "metadata": {
        "id": "OiY-Tuw3AEww"
      }
    },
    {
      "cell_type": "code",
      "source": [
        "pyramid_recap_df = pyramid_df[pyramid_df['Abbreviation'].isin(['ITA', 'TUR', 'EU'])]\n",
        "pyramid_recap_df = pyramid_recap_df.copy() ### To avoid warning\n",
        "pyramid_recap_df['Not employed'] = pyramid_recap_df['Want to work (searching)'] + pyramid_recap_df['Do not want to work (not searching)']\n",
        "pyramid_recap_df"
      ],
      "metadata": {
        "colab": {
          "base_uri": "https://localhost:8080/",
          "height": 143
        },
        "id": "zlvmGmBo0DMV",
        "outputId": "2aad0b80-62c8-4192-dd0f-a603c4d9ada9"
      },
      "execution_count": null,
      "outputs": [
        {
          "output_type": "execute_result",
          "data": {
            "text/plain": [
              "                                      Country Abbreviation  Employed  \\\n",
              "0   European Union - 27 countries (from 2020)           EU       4.9   \n",
              "12                                      Italy          ITA       5.5   \n",
              "34                                    Türkiye          TUR      16.0   \n",
              "\n",
              "    Want to work (searching)  Do not want to work (not searching)  \\\n",
              "0                        4.3                                  2.2   \n",
              "12                       7.3                                  2.4   \n",
              "34                       5.2                                 14.9   \n",
              "\n",
              "    Not employed  \n",
              "0            6.5  \n",
              "12           9.7  \n",
              "34          20.1  "
            ],
            "text/html": [
              "\n",
              "  <div id=\"df-47f267d6-e738-4cc8-a771-51d2b51447ef\" class=\"colab-df-container\">\n",
              "    <div>\n",
              "<style scoped>\n",
              "    .dataframe tbody tr th:only-of-type {\n",
              "        vertical-align: middle;\n",
              "    }\n",
              "\n",
              "    .dataframe tbody tr th {\n",
              "        vertical-align: top;\n",
              "    }\n",
              "\n",
              "    .dataframe thead th {\n",
              "        text-align: right;\n",
              "    }\n",
              "</style>\n",
              "<table border=\"1\" class=\"dataframe\">\n",
              "  <thead>\n",
              "    <tr style=\"text-align: right;\">\n",
              "      <th></th>\n",
              "      <th>Country</th>\n",
              "      <th>Abbreviation</th>\n",
              "      <th>Employed</th>\n",
              "      <th>Want to work (searching)</th>\n",
              "      <th>Do not want to work (not searching)</th>\n",
              "      <th>Not employed</th>\n",
              "    </tr>\n",
              "  </thead>\n",
              "  <tbody>\n",
              "    <tr>\n",
              "      <th>0</th>\n",
              "      <td>European Union - 27 countries (from 2020)</td>\n",
              "      <td>EU</td>\n",
              "      <td>4.9</td>\n",
              "      <td>4.3</td>\n",
              "      <td>2.2</td>\n",
              "      <td>6.5</td>\n",
              "    </tr>\n",
              "    <tr>\n",
              "      <th>12</th>\n",
              "      <td>Italy</td>\n",
              "      <td>ITA</td>\n",
              "      <td>5.5</td>\n",
              "      <td>7.3</td>\n",
              "      <td>2.4</td>\n",
              "      <td>9.7</td>\n",
              "    </tr>\n",
              "    <tr>\n",
              "      <th>34</th>\n",
              "      <td>Türkiye</td>\n",
              "      <td>TUR</td>\n",
              "      <td>16.0</td>\n",
              "      <td>5.2</td>\n",
              "      <td>14.9</td>\n",
              "      <td>20.1</td>\n",
              "    </tr>\n",
              "  </tbody>\n",
              "</table>\n",
              "</div>\n",
              "    <div class=\"colab-df-buttons\">\n",
              "\n",
              "  <div class=\"colab-df-container\">\n",
              "    <button class=\"colab-df-convert\" onclick=\"convertToInteractive('df-47f267d6-e738-4cc8-a771-51d2b51447ef')\"\n",
              "            title=\"Convert this dataframe to an interactive table.\"\n",
              "            style=\"display:none;\">\n",
              "\n",
              "  <svg xmlns=\"http://www.w3.org/2000/svg\" height=\"24px\" viewBox=\"0 -960 960 960\">\n",
              "    <path d=\"M120-120v-720h720v720H120Zm60-500h600v-160H180v160Zm220 220h160v-160H400v160Zm0 220h160v-160H400v160ZM180-400h160v-160H180v160Zm440 0h160v-160H620v160ZM180-180h160v-160H180v160Zm440 0h160v-160H620v160Z\"/>\n",
              "  </svg>\n",
              "    </button>\n",
              "\n",
              "  <style>\n",
              "    .colab-df-container {\n",
              "      display:flex;\n",
              "      gap: 12px;\n",
              "    }\n",
              "\n",
              "    .colab-df-convert {\n",
              "      background-color: #E8F0FE;\n",
              "      border: none;\n",
              "      border-radius: 50%;\n",
              "      cursor: pointer;\n",
              "      display: none;\n",
              "      fill: #1967D2;\n",
              "      height: 32px;\n",
              "      padding: 0 0 0 0;\n",
              "      width: 32px;\n",
              "    }\n",
              "\n",
              "    .colab-df-convert:hover {\n",
              "      background-color: #E2EBFA;\n",
              "      box-shadow: 0px 1px 2px rgba(60, 64, 67, 0.3), 0px 1px 3px 1px rgba(60, 64, 67, 0.15);\n",
              "      fill: #174EA6;\n",
              "    }\n",
              "\n",
              "    .colab-df-buttons div {\n",
              "      margin-bottom: 4px;\n",
              "    }\n",
              "\n",
              "    [theme=dark] .colab-df-convert {\n",
              "      background-color: #3B4455;\n",
              "      fill: #D2E3FC;\n",
              "    }\n",
              "\n",
              "    [theme=dark] .colab-df-convert:hover {\n",
              "      background-color: #434B5C;\n",
              "      box-shadow: 0px 1px 3px 1px rgba(0, 0, 0, 0.15);\n",
              "      filter: drop-shadow(0px 1px 2px rgba(0, 0, 0, 0.3));\n",
              "      fill: #FFFFFF;\n",
              "    }\n",
              "  </style>\n",
              "\n",
              "    <script>\n",
              "      const buttonEl =\n",
              "        document.querySelector('#df-47f267d6-e738-4cc8-a771-51d2b51447ef button.colab-df-convert');\n",
              "      buttonEl.style.display =\n",
              "        google.colab.kernel.accessAllowed ? 'block' : 'none';\n",
              "\n",
              "      async function convertToInteractive(key) {\n",
              "        const element = document.querySelector('#df-47f267d6-e738-4cc8-a771-51d2b51447ef');\n",
              "        const dataTable =\n",
              "          await google.colab.kernel.invokeFunction('convertToInteractive',\n",
              "                                                    [key], {});\n",
              "        if (!dataTable) return;\n",
              "\n",
              "        const docLinkHtml = 'Like what you see? Visit the ' +\n",
              "          '<a target=\"_blank\" href=https://colab.research.google.com/notebooks/data_table.ipynb>data table notebook</a>'\n",
              "          + ' to learn more about interactive tables.';\n",
              "        element.innerHTML = '';\n",
              "        dataTable['output_type'] = 'display_data';\n",
              "        await google.colab.output.renderOutput(dataTable, element);\n",
              "        const docLink = document.createElement('div');\n",
              "        docLink.innerHTML = docLinkHtml;\n",
              "        element.appendChild(docLink);\n",
              "      }\n",
              "    </script>\n",
              "  </div>\n",
              "\n",
              "\n",
              "<div id=\"df-e2fea2b9-3bb1-4f47-9aef-8073466fb3c7\">\n",
              "  <button class=\"colab-df-quickchart\" onclick=\"quickchart('df-e2fea2b9-3bb1-4f47-9aef-8073466fb3c7')\"\n",
              "            title=\"Suggest charts\"\n",
              "            style=\"display:none;\">\n",
              "\n",
              "<svg xmlns=\"http://www.w3.org/2000/svg\" height=\"24px\"viewBox=\"0 0 24 24\"\n",
              "     width=\"24px\">\n",
              "    <g>\n",
              "        <path d=\"M19 3H5c-1.1 0-2 .9-2 2v14c0 1.1.9 2 2 2h14c1.1 0 2-.9 2-2V5c0-1.1-.9-2-2-2zM9 17H7v-7h2v7zm4 0h-2V7h2v10zm4 0h-2v-4h2v4z\"/>\n",
              "    </g>\n",
              "</svg>\n",
              "  </button>\n",
              "\n",
              "<style>\n",
              "  .colab-df-quickchart {\n",
              "      --bg-color: #E8F0FE;\n",
              "      --fill-color: #1967D2;\n",
              "      --hover-bg-color: #E2EBFA;\n",
              "      --hover-fill-color: #174EA6;\n",
              "      --disabled-fill-color: #AAA;\n",
              "      --disabled-bg-color: #DDD;\n",
              "  }\n",
              "\n",
              "  [theme=dark] .colab-df-quickchart {\n",
              "      --bg-color: #3B4455;\n",
              "      --fill-color: #D2E3FC;\n",
              "      --hover-bg-color: #434B5C;\n",
              "      --hover-fill-color: #FFFFFF;\n",
              "      --disabled-bg-color: #3B4455;\n",
              "      --disabled-fill-color: #666;\n",
              "  }\n",
              "\n",
              "  .colab-df-quickchart {\n",
              "    background-color: var(--bg-color);\n",
              "    border: none;\n",
              "    border-radius: 50%;\n",
              "    cursor: pointer;\n",
              "    display: none;\n",
              "    fill: var(--fill-color);\n",
              "    height: 32px;\n",
              "    padding: 0;\n",
              "    width: 32px;\n",
              "  }\n",
              "\n",
              "  .colab-df-quickchart:hover {\n",
              "    background-color: var(--hover-bg-color);\n",
              "    box-shadow: 0 1px 2px rgba(60, 64, 67, 0.3), 0 1px 3px 1px rgba(60, 64, 67, 0.15);\n",
              "    fill: var(--button-hover-fill-color);\n",
              "  }\n",
              "\n",
              "  .colab-df-quickchart-complete:disabled,\n",
              "  .colab-df-quickchart-complete:disabled:hover {\n",
              "    background-color: var(--disabled-bg-color);\n",
              "    fill: var(--disabled-fill-color);\n",
              "    box-shadow: none;\n",
              "  }\n",
              "\n",
              "  .colab-df-spinner {\n",
              "    border: 2px solid var(--fill-color);\n",
              "    border-color: transparent;\n",
              "    border-bottom-color: var(--fill-color);\n",
              "    animation:\n",
              "      spin 1s steps(1) infinite;\n",
              "  }\n",
              "\n",
              "  @keyframes spin {\n",
              "    0% {\n",
              "      border-color: transparent;\n",
              "      border-bottom-color: var(--fill-color);\n",
              "      border-left-color: var(--fill-color);\n",
              "    }\n",
              "    20% {\n",
              "      border-color: transparent;\n",
              "      border-left-color: var(--fill-color);\n",
              "      border-top-color: var(--fill-color);\n",
              "    }\n",
              "    30% {\n",
              "      border-color: transparent;\n",
              "      border-left-color: var(--fill-color);\n",
              "      border-top-color: var(--fill-color);\n",
              "      border-right-color: var(--fill-color);\n",
              "    }\n",
              "    40% {\n",
              "      border-color: transparent;\n",
              "      border-right-color: var(--fill-color);\n",
              "      border-top-color: var(--fill-color);\n",
              "    }\n",
              "    60% {\n",
              "      border-color: transparent;\n",
              "      border-right-color: var(--fill-color);\n",
              "    }\n",
              "    80% {\n",
              "      border-color: transparent;\n",
              "      border-right-color: var(--fill-color);\n",
              "      border-bottom-color: var(--fill-color);\n",
              "    }\n",
              "    90% {\n",
              "      border-color: transparent;\n",
              "      border-bottom-color: var(--fill-color);\n",
              "    }\n",
              "  }\n",
              "</style>\n",
              "\n",
              "  <script>\n",
              "    async function quickchart(key) {\n",
              "      const quickchartButtonEl =\n",
              "        document.querySelector('#' + key + ' button');\n",
              "      quickchartButtonEl.disabled = true;  // To prevent multiple clicks.\n",
              "      quickchartButtonEl.classList.add('colab-df-spinner');\n",
              "      try {\n",
              "        const charts = await google.colab.kernel.invokeFunction(\n",
              "            'suggestCharts', [key], {});\n",
              "      } catch (error) {\n",
              "        console.error('Error during call to suggestCharts:', error);\n",
              "      }\n",
              "      quickchartButtonEl.classList.remove('colab-df-spinner');\n",
              "      quickchartButtonEl.classList.add('colab-df-quickchart-complete');\n",
              "    }\n",
              "    (() => {\n",
              "      let quickchartButtonEl =\n",
              "        document.querySelector('#df-e2fea2b9-3bb1-4f47-9aef-8073466fb3c7 button');\n",
              "      quickchartButtonEl.style.display =\n",
              "        google.colab.kernel.accessAllowed ? 'block' : 'none';\n",
              "    })();\n",
              "  </script>\n",
              "</div>\n",
              "    </div>\n",
              "  </div>\n"
            ]
          },
          "metadata": {},
          "execution_count": 186
        }
      ]
    },
    {
      "cell_type": "markdown",
      "source": [
        "We prepare 3 CSV files for the sankeys."
      ],
      "metadata": {
        "id": "NkjriIy6Abym"
      }
    },
    {
      "cell_type": "code",
      "source": [
        "countries_recap = list(pyramid_recap_df['Abbreviation'])\n",
        "\n",
        "# Each row specifies source node, target node and value of the link\n",
        "for idx, country_abbreviation in enumerate(countries_recap):\n",
        "    data = {\n",
        "        'source': [ list(pyramid_recap_df['Abbreviation'])[idx],\n",
        "                   list(pyramid_recap_df['Abbreviation'])[idx],\n",
        "                    pyramid_recap_df.columns[5],\n",
        "                    pyramid_recap_df.columns[5] ],\n",
        "        'target': [ pyramid_recap_df.columns[2],\n",
        "                   pyramid_recap_df.columns[5],\n",
        "                    pyramid_recap_df.columns[3],\n",
        "                    pyramid_recap_df.columns[4] ],\n",
        "        'value': [ list(pyramid_recap_df['Employed'])[idx],\n",
        "                  list(pyramid_recap_df['Not employed'])[idx],\n",
        "                   list(pyramid_recap_df['Want to work (searching)'])[idx],\n",
        "                   list(pyramid_recap_df['Do not want to work (not searching)'])[idx] ]\n",
        "    }\n",
        "\n",
        "    sankey_df = pd.DataFrame(data)\n",
        "    sankey_df.to_csv(f'sankey_{country_abbreviation}.csv', index = False)"
      ],
      "metadata": {
        "id": "vu4p1MWJ8tjb"
      },
      "execution_count": null,
      "outputs": []
    },
    {
      "cell_type": "markdown",
      "source": [
        "# Poverty: distribution of the risk of poverty among the 34 countries"
      ],
      "metadata": {
        "id": "wyPHz9yAQO_Q"
      }
    },
    {
      "cell_type": "markdown",
      "source": [
        "We import data about the percentage of people at risk of poverty from 2003 to 2020."
      ],
      "metadata": {
        "id": "47cDzy5HQsf2"
      }
    },
    {
      "cell_type": "code",
      "source": [
        "years = range(2003, 2021)\n",
        "file_path = '/content/drive/MyDrive/DV_project/story2/risk_2003_2020.xlsx'\n",
        "rows_to_skip = list(range(0, 9)) + list(range(10, 19)) + [49, 52] + list(range(55, 63))\n",
        "selected_columns = ['TIME'] + [str(year) for year in years]\n",
        "\n",
        "import warnings\n",
        "with warnings.catch_warnings():\n",
        "    warnings.filterwarnings(\"ignore\", category = UserWarning, module = \"openpyxl\")\n",
        "    risk = pd.read_excel(file_path, sheet_name = 'Sheet 1', skiprows = rows_to_skip, na_values = ':', usecols = selected_columns)\n",
        "\n",
        "risk.rename(columns = {'TIME': 'Country'}, inplace = True)\n",
        "risk['Abbreviation'] = risk['Country'].map(country_abbreviations)"
      ],
      "metadata": {
        "id": "z3_CikjkQsoI"
      },
      "execution_count": null,
      "outputs": []
    },
    {
      "cell_type": "markdown",
      "source": [
        "We sort by mean (descending)."
      ],
      "metadata": {
        "id": "cNg0KBtvXnQv"
      }
    },
    {
      "cell_type": "code",
      "source": [
        "risk['Mean'] = np.round(risk.mean(axis = 1, numeric_only = True), 1)\n",
        "risk_sorted = risk.sort_values(by = 'Mean', ascending = False)\n",
        "risk_sorted.drop(columns = 'Mean', inplace = True)"
      ],
      "metadata": {
        "id": "YI845J3cUl0g"
      },
      "execution_count": null,
      "outputs": []
    },
    {
      "cell_type": "markdown",
      "source": [
        "We drop countries having more than a certain number of missings (**number_of_tolered_missings**), for example 3."
      ],
      "metadata": {
        "id": "i5KUMo9GXrJz"
      }
    },
    {
      "cell_type": "code",
      "source": [
        "number_of_tolered_missings = 3\n",
        "risk_dropna = risk_sorted.dropna(thresh = 2 + len(years) - number_of_tolered_missings)"
      ],
      "metadata": {
        "id": "cNVwYjyXUYt7"
      },
      "execution_count": null,
      "outputs": []
    },
    {
      "cell_type": "markdown",
      "source": [
        "We visualize a boxplot for each country."
      ],
      "metadata": {
        "id": "mtZnaH4kQiEh"
      }
    },
    {
      "cell_type": "code",
      "source": [
        "risk_copy = risk_dropna.copy()\n",
        "risk_copy.set_index('Abbreviation', inplace = True)\n",
        "risk_copy.drop(columns = 'Country', inplace = True)\n",
        "risk_transposed = risk_copy.T\n",
        "plt.figure(figsize = (16, 8))\n",
        "risk_transposed.boxplot()\n",
        "plt.title('Boxplot for Each Country')\n",
        "plt.xlabel('Country')\n",
        "plt.ylabel('Values')\n",
        "plt.show()"
      ],
      "metadata": {
        "colab": {
          "base_uri": "https://localhost:8080/",
          "height": 718
        },
        "id": "xubTRV4GQPa4",
        "outputId": "0727b216-bed5-408e-8ec4-232930abdadc"
      },
      "execution_count": null,
      "outputs": [
        {
          "output_type": "display_data",
          "data": {
            "text/plain": [
              "<Figure size 1600x800 with 1 Axes>"
            ],
            "image/png": "[encoded data removed]"
          },
          "metadata": {}
        }
      ]
    },
    {
      "cell_type": "markdown",
      "source": [
        "## Boxplot: one for each country on a total of 18 years (max 3 nulls)"
      ],
      "metadata": {
        "id": "ly0VpBEca2i8"
      }
    },
    {
      "cell_type": "markdown",
      "source": [
        "We prepare the CSV file for the JavaScript."
      ],
      "metadata": {
        "id": "BtWDQ85tawNr"
      }
    },
    {
      "cell_type": "code",
      "source": [
        "countries = []\n",
        "abbreviations = []\n",
        "values = []\n",
        "\n",
        "for abbreviation in risk_transposed.columns:\n",
        "    for year, value in risk_transposed[abbreviation].items():\n",
        "        if not pd.isna(value):\n",
        "            countries.append(country_abbreviations_reversed.get(abbreviation))\n",
        "            abbreviations.append(abbreviation)\n",
        "            values.append(value)\n",
        "\n",
        "boxplot_dataframe = pd.DataFrame({'country': countries, 'abbreviation': abbreviations, 'value': values})\n",
        "boxplot_dataframe.to_csv('boxplot.csv', index = False)"
      ],
      "metadata": {
        "id": "j3mU8mmfTL0x"
      },
      "execution_count": null,
      "outputs": []
    },
    {
      "cell_type": "markdown",
      "source": [
        "# Poverty: NEET vs Risk of Poverty (15-29) in 2009-2020"
      ],
      "metadata": {
        "id": "1f4G6VjmpH8t"
      }
    },
    {
      "cell_type": "markdown",
      "source": [
        "We import data about NEET percentage for each country."
      ],
      "metadata": {
        "id": "G9Cl6gZipw1U"
      }
    },
    {
      "cell_type": "code",
      "source": [
        "years = range(2009, 2023)\n",
        "file_path = '/content/drive/MyDrive/DV_project/story1/NEET.xlsx'\n",
        "sheet_names = 'Sheet 4'\n",
        "rows_to_skip = list(range(0, 9)) + [10, 11, 12] + list(range(47, 53))\n",
        "selected_columns = ['TIME'] + [str(year) for year in years]\n",
        "\n",
        "import warnings\n",
        "with warnings.catch_warnings():\n",
        "    warnings.filterwarnings(\"ignore\", category = UserWarning, module = \"openpyxl\")\n",
        "    neet_percentage = pd.read_excel(file_path, sheet_name = sheet_names, skiprows = rows_to_skip, na_values = ':', usecols = selected_columns)\n",
        "\n",
        "neet_percentage.rename(columns = {'TIME': 'Country'}, inplace = True)\n",
        "neet_percentage['Abbreviation'] = neet_percentage['Country'].map(country_abbreviations)"
      ],
      "metadata": {
        "id": "PNrSgrS1pKio"
      },
      "execution_count": null,
      "outputs": []
    },
    {
      "cell_type": "code",
      "source": [
        "neet_years = {}\n",
        "for year in years:\n",
        "    neet_years[f'neet_{year}'] = neet_percentage[['Country', 'Abbreviation', str(year)]].copy()\n",
        "    neet_years[f'neet_{year}'].dropna(subset = [str(year)], inplace = True)"
      ],
      "metadata": {
        "id": "1rq-JCpYp7jq"
      },
      "execution_count": null,
      "outputs": []
    },
    {
      "cell_type": "markdown",
      "source": [
        "We import data about RISK OF POVERTY percentage for each country."
      ],
      "metadata": {
        "id": "wlbKHovKriFJ"
      }
    },
    {
      "cell_type": "code",
      "source": [
        "years = range(2009, 2021)\n",
        "file_path = '/content/drive/MyDrive/DV_project/story2/poverty_exclusion_risk.xlsx'\n",
        "sheet_names = 'Sheet 1'\n",
        "rows_to_skip = list(range(0, 9)) + list(range(10, 19)) + [49, 52] + list(range(55, 63))\n",
        "selected_columns = ['TIME'] + [str(year) for year in years]\n",
        "\n",
        "import warnings\n",
        "with warnings.catch_warnings():\n",
        "    warnings.filterwarnings(\"ignore\", category = UserWarning, module = \"openpyxl\")\n",
        "    poverty_percentage = pd.read_excel(file_path, sheet_name = sheet_names, skiprows = rows_to_skip, na_values = ':', usecols = selected_columns)\n",
        "\n",
        "poverty_percentage.rename(columns = {'TIME': 'Country'}, inplace = True)\n",
        "poverty_percentage['Abbreviation'] = poverty_percentage['Country'].map(country_abbreviations)"
      ],
      "metadata": {
        "id": "0lsOVLIZrhaY"
      },
      "execution_count": null,
      "outputs": []
    },
    {
      "cell_type": "code",
      "source": [
        "poverty_years = {}\n",
        "for year in years:\n",
        "    poverty_years[f'poverty_{year}'] = poverty_percentage[['Country', 'Abbreviation', str(year)]].copy()\n",
        "    poverty_years[f'poverty_{year}'].dropna(subset = [str(year)], inplace = True)"
      ],
      "metadata": {
        "id": "qI8Ipo22tv17"
      },
      "execution_count": null,
      "outputs": []
    },
    {
      "cell_type": "markdown",
      "source": [
        "## Scatterplots: NEET and Risk of Poverty for each country"
      ],
      "metadata": {
        "id": "ZKecl5ExBYra"
      }
    },
    {
      "cell_type": "code",
      "source": [
        "# We prepare the datasets for the scatterplots (one for year), merging values from the two datasets (NEETs and POVERTY)\n",
        "merged_years = {}\n",
        "for year in years:\n",
        "    merged_years[f'merged_{year}'] = pd.merge(neet_years[f'neet_{year}'], poverty_years[f'poverty_{year}'], on = ['Country', 'Abbreviation'], how = 'left')\n",
        "    merged_years[f'merged_{year}'].rename(columns = {f'{year}_x': 'neet', f'{year}_y': 'poverty'}, inplace = True)\n",
        "    merged_years[f'merged_{year}'].to_csv(f'scatterplot{year}.csv', index = False)"
      ],
      "metadata": {
        "id": "KSsdhC20uK29"
      },
      "execution_count": null,
      "outputs": []
    },
    {
      "cell_type": "markdown",
      "source": [
        "# Poverty: risk by sex and age (0+), by education and labour status (18+) in 2009-2020"
      ],
      "metadata": {
        "id": "uGlRC4XKCOuN"
      }
    },
    {
      "cell_type": "code",
      "source": [
        "poverty = {}\n",
        "years = range(2009, 2021)"
      ],
      "metadata": {
        "id": "LPEWSUpbNK8N"
      },
      "execution_count": null,
      "outputs": []
    },
    {
      "cell_type": "markdown",
      "source": [
        "We import data about RISK OF POVERTY percentage by sex for each country."
      ],
      "metadata": {
        "id": "rfFXC3idCOuZ"
      }
    },
    {
      "cell_type": "code",
      "source": [
        "file_path = '/content/drive/MyDrive/DV_project/story2/risk_sex_age.xlsx'\n",
        "sheet_names = ['Sheet 2', 'Sheet 3']\n",
        "suffixes1 = ['Male', 'Female']\n",
        "rows_to_skip = list(range(0, 9)) + [10, 11, 13] + list(range(15, 19)) + [49, 52] + list(range(55, 63))\n",
        "selected_columns = ['TIME'] + [str(year) for year in years]\n",
        "\n",
        "import warnings\n",
        "with warnings.catch_warnings():\n",
        "    warnings.filterwarnings(\"ignore\", category = UserWarning, module = \"openpyxl\")\n",
        "    poverty['Sex'] = {f'{suffix}': pd.read_excel(file_path, sheet_name = sheet_names[i], skiprows = rows_to_skip, na_values = ':', usecols = selected_columns)\n",
        "                      for i, suffix in enumerate(suffixes1)}\n",
        "\n",
        "for suffix in suffixes1:\n",
        "    poverty['Sex'][f'{suffix}'].rename(columns = {'TIME': 'Country'}, inplace = True)\n",
        "    poverty['Sex'][f'{suffix}'].at[0, '2009'] = poverty['Sex'][f'{suffix}'].at[1, '2009'].copy()\n",
        "    poverty['Sex'][f'{suffix}']['Abbreviation'] = poverty['Sex'][f'{suffix}']['Country'].map(country_abbreviations)\n",
        "    poverty['Sex'][f'{suffix}'].drop(1, inplace = True)\n",
        "    poverty['Sex'][f'{suffix}'].reset_index(drop = True, inplace = True)"
      ],
      "metadata": {
        "id": "gbKhZVJFCOuZ"
      },
      "execution_count": null,
      "outputs": []
    },
    {
      "cell_type": "markdown",
      "source": [
        "We import data about RISK OF POVERTY percentage by age range for each country."
      ],
      "metadata": {
        "id": "qp7HqB7ADwP6"
      }
    },
    {
      "cell_type": "code",
      "source": [
        "file_path = '/content/drive/MyDrive/DV_project/story2/risk_sex_age.xlsx'\n",
        "sheet_names = ['Sheet 4', 'Sheet 7', 'Sheet 10', 'Sheet 13', 'Sheet 16']\n",
        "suffixes2 = ['Less than 18', '18-24', '25-49', '50-64', '65 and over']\n",
        "rows_to_skip = list(range(0, 9)) + [10, 11, 13] + list(range(15, 19)) + [49, 52] + list(range(55, 63))\n",
        "selected_columns = ['TIME'] + [str(year) for year in years]\n",
        "\n",
        "import warnings\n",
        "with warnings.catch_warnings():\n",
        "    warnings.filterwarnings(\"ignore\", category = UserWarning, module = \"openpyxl\")\n",
        "    poverty['Age range'] = {f'{suffix}': pd.read_excel(file_path, sheet_name = sheet_names[i], skiprows = rows_to_skip, na_values = ':', usecols = selected_columns)\n",
        "                      for i, suffix in enumerate(suffixes2)}\n",
        "\n",
        "for suffix in suffixes2:\n",
        "    poverty['Age range'][f'{suffix}'].rename(columns = {'TIME': 'Country'}, inplace = True)\n",
        "    poverty['Age range'][f'{suffix}'].at[0, '2009'] = poverty['Age range'][f'{suffix}'].at[1, '2009'].copy()\n",
        "    poverty['Age range'][f'{suffix}']['Abbreviation'] = poverty['Age range'][f'{suffix}']['Country'].map(country_abbreviations)\n",
        "    poverty['Age range'][f'{suffix}'].drop(1, inplace = True)\n",
        "    poverty['Age range'][f'{suffix}'].reset_index(drop = True, inplace = True)"
      ],
      "metadata": {
        "id": "jaJDpFarDzF-"
      },
      "execution_count": null,
      "outputs": []
    },
    {
      "cell_type": "markdown",
      "source": [
        "We import data about RISK OF POVERTY percentage by education level for each country."
      ],
      "metadata": {
        "id": "hvooNEw1DxQT"
      }
    },
    {
      "cell_type": "code",
      "source": [
        "file_path = '/content/drive/MyDrive/DV_project/story2/risk_education.xlsx'\n",
        "sheet_names = ['Sheet 1', 'Sheet 2', 'Sheet 3']\n",
        "suffixes3 = ['Low', 'Medium', 'High']\n",
        "rows_to_skip = list(range(0, 10)) + [11, 12, 14] + list(range(16, 19)) + [49, 52] + list(range(55, 65))\n",
        "selected_columns = ['TIME'] + [str(year) for year in years]\n",
        "\n",
        "import warnings\n",
        "with warnings.catch_warnings():\n",
        "    warnings.filterwarnings(\"ignore\", category = UserWarning, module = \"openpyxl\")\n",
        "    poverty['Education'] = {f'{suffix}': pd.read_excel(file_path, sheet_name = sheet_names[i], skiprows = rows_to_skip, na_values = ':', usecols = selected_columns)\n",
        "                            for i, suffix in enumerate(suffixes3)}\n",
        "\n",
        "for suffix in suffixes3:\n",
        "    poverty['Education'][f'{suffix}'].rename(columns = {'TIME': 'Country'}, inplace = True)\n",
        "    poverty['Education'][f'{suffix}'].at[0, '2009'] = poverty['Education'][f'{suffix}'].at[1, '2009'].copy()\n",
        "    poverty['Education'][f'{suffix}']['Abbreviation'] = poverty['Education'][f'{suffix}']['Country'].map(country_abbreviations)\n",
        "    poverty['Education'][f'{suffix}'].drop(1, inplace = True)\n",
        "    poverty['Education'][f'{suffix}'].reset_index(drop = True, inplace = True)"
      ],
      "metadata": {
        "id": "npXNHrkxLVm1"
      },
      "execution_count": null,
      "outputs": []
    },
    {
      "cell_type": "markdown",
      "source": [
        "We import data about RISK OF POVERTY percentage by activity status for each country."
      ],
      "metadata": {
        "id": "wcUnNQDEDxk5"
      }
    },
    {
      "cell_type": "code",
      "source": [
        "file_path = '/content/drive/MyDrive/DV_project/story2/risk_labour.xlsx'\n",
        "sheet_names = ['Sheet 1', 'Sheet 2', 'Sheet 3', 'Sheet 4']\n",
        "suffixes4 = ['Employed', 'Unemployed', 'Retired', 'Inactive']\n",
        "rows_to_skip = list(range(0, 10)) + [11, 12, 14] + list(range(16, 19)) + [49, 52] + list(range(55, 63))\n",
        "selected_columns = ['TIME'] + [str(year) for year in years]\n",
        "\n",
        "import warnings\n",
        "with warnings.catch_warnings():\n",
        "    warnings.filterwarnings(\"ignore\", category = UserWarning, module = \"openpyxl\")\n",
        "    poverty['Activity status'] = {f'{suffix}': pd.read_excel(file_path, sheet_name = sheet_names[i], skiprows = rows_to_skip, na_values = ':', usecols = selected_columns)\n",
        "                            for i, suffix in enumerate(suffixes4)}\n",
        "\n",
        "for suffix in suffixes4:\n",
        "    poverty['Activity status'][f'{suffix}'].rename(columns = {'TIME': 'Country'}, inplace = True)\n",
        "    poverty['Activity status'][f'{suffix}'].at[0, '2009'] = poverty['Activity status'][f'{suffix}'].at[1, '2009'].copy()\n",
        "    poverty['Activity status'][f'{suffix}']['Abbreviation'] = poverty['Activity status'][f'{suffix}']['Country'].map(country_abbreviations)\n",
        "    poverty['Activity status'][f'{suffix}'].drop(1, inplace = True)\n",
        "    poverty['Activity status'][f'{suffix}'].reset_index(drop = True, inplace = True)"
      ],
      "metadata": {
        "id": "rZ-0iz6hOx6r"
      },
      "execution_count": null,
      "outputs": []
    },
    {
      "cell_type": "markdown",
      "source": [
        "## Barcharts: sex, age, education and labour"
      ],
      "metadata": {
        "id": "avYF9IptP27M"
      }
    },
    {
      "cell_type": "markdown",
      "source": [
        "We export one CSV file for each country (excluded EU, which is the observation of index 0)."
      ],
      "metadata": {
        "id": "Nk2VjODOwgD3"
      }
    },
    {
      "cell_type": "code",
      "source": [
        "country_barcharts = {}\n",
        "countries_in_dataset_order = list(poverty['Sex']['Male']['Country'])[1:]\n",
        "for idx, country in enumerate(countries_in_dataset_order, start = 1):\n",
        "    rows = []\n",
        "    for year in years:\n",
        "        for indicator in list(poverty.keys()):\n",
        "            for category in list(poverty[indicator].keys()):\n",
        "                rows.append(pd.DataFrame([{'year': str(year), 'indicator': indicator, 'category': category, 'value': poverty[indicator][f'{category}'][str(year)][idx]}]))\n",
        "\n",
        "    country_barcharts[f'{country_abbreviations.get(country)}'] = pd.concat(rows, ignore_index = True)\n",
        "    country_barcharts[f'{country_abbreviations.get(country)}'].to_csv(f'barchart_{country_abbreviations.get(country)}.csv', index = False)"
      ],
      "metadata": {
        "id": "1joGopxnw6XZ"
      },
      "execution_count": null,
      "outputs": []
    },
    {
      "cell_type": "markdown",
      "source": [
        "We export one CSV file for EU."
      ],
      "metadata": {
        "id": "9e6pqiJywjlQ"
      }
    },
    {
      "cell_type": "code",
      "source": [
        "rows = []\n",
        "for year in years:\n",
        "    for indicator in list(poverty.keys()):\n",
        "        for category in list(poverty[indicator].keys()):\n",
        "            rows.append(pd.DataFrame([{'year': str(year), 'indicator': indicator, 'category': category, 'value': poverty[indicator][f'{category}'][str(year)][0]}]))\n",
        "poverty_EU = pd.concat(rows, ignore_index = True)\n",
        "poverty_EU.to_csv('barchart_EU.csv', index = False)"
      ],
      "metadata": {
        "id": "ornrhc0fVrGw"
      },
      "execution_count": null,
      "outputs": []
    },
    {
      "cell_type": "markdown",
      "source": [
        "# Download all CSV files"
      ],
      "metadata": {
        "id": "QYptvL_UF1vf"
      }
    },
    {
      "cell_type": "markdown",
      "source": [
        "We download all the CSV files we created."
      ],
      "metadata": {
        "id": "vhSy4rob1NaT"
      }
    },
    {
      "cell_type": "code",
      "source": [
        "directory_path = '/content'\n",
        "file_type = \".csv\"\n",
        "files_to_download = glob.glob(f\"{directory_path}/*{file_type}\")\n",
        "zip_filename = \"barchart_per_country.zip\"\n",
        "with zipfile.ZipFile(zip_filename, \"w\") as zipf:\n",
        "    for file in files_to_download:\n",
        "        zipf.write(file, arcname = os.path.basename(file))\n",
        "files.download(zip_filename)"
      ],
      "metadata": {
        "colab": {
          "base_uri": "https://localhost:8080/"
        },
        "id": "XKYseRagF5Gu",
        "outputId": "54c811b1-d269-4da3-98bf-5094a450780e"
      },
      "execution_count": null,
      "outputs": [
        {
          "output_type": "display_data",
          "data": {
            "text/plain": [
              "<IPython.core.display.Javascript object>"
            ],
            "application/javascript": [
              "\n",
              "    async function download(id, filename, size) {\n",
              "      if (!google.colab.kernel.accessAllowed) {\n",
              "        return;\n",
              "      }\n",
              "      const div = document.createElement('div');\n",
              "      const label = document.createElement('label');\n",
              "      label.textContent = `Downloading \"${filename}\": `;\n",
              "      div.appendChild(label);\n",
              "      const progress = document.createElement('progress');\n",
              "      progress.max = size;\n",
              "      div.appendChild(progress);\n",
              "      document.body.appendChild(div);\n",
              "\n",
              "      const buffers = [];\n",
              "      let downloaded = 0;\n",
              "\n",
              "      const channel = await google.colab.kernel.comms.open(id);\n",
              "      // Send a message to notify the kernel that we're ready.\n",
              "      channel.send({})\n",
              "\n",
              "      for await (const message of channel.messages) {\n",
              "        // Send a message to notify the kernel that we're ready.\n",
              "        channel.send({})\n",
              "        if (message.buffers) {\n",
              "          for (const buffer of message.buffers) {\n",
              "            buffers.push(buffer);\n",
              "            downloaded += buffer.byteLength;\n",
              "            progress.value = downloaded;\n",
              "          }\n",
              "        }\n",
              "      }\n",
              "      const blob = new Blob(buffers, {type: 'application/binary'});\n",
              "      const a = document.createElement('a');\n",
              "      a.href = window.URL.createObjectURL(blob);\n",
              "      a.download = filename;\n",
              "      div.appendChild(a);\n",
              "      a.click();\n",
              "      div.remove();\n",
              "    }\n",
              "  "
            ]
          },
          "metadata": {}
        },
        {
          "output_type": "display_data",
          "data": {
            "text/plain": [
              "<IPython.core.display.Javascript object>"
            ],
            "application/javascript": [
              "download(\"download_53a4b2ae-6c43-4882-bc86-d2c7004c263e\", \"barchart_per_country.zip\", 166770)"
            ]
          },
          "metadata": {}
        }
      ]
    },
    {
      "cell_type": "markdown",
      "source": [
        "We remove all the CSV files we downloaded."
      ],
      "metadata": {
        "id": "8Tdp7NSO6ID2"
      }
    },
    {
      "cell_type": "code",
      "source": [
        "for file in files_to_download:\n",
        "    os.remove(file)"
      ],
      "metadata": {
        "id": "c_K8gA5D6Hv3"
      },
      "execution_count": null,
      "outputs": []
    },
    {
      "cell_type": "markdown",
      "source": [
        "# EXTRA: Enrolment by age (15-29) in 2013-2021 --> we are NOT using this dataset for visualisations!"
      ],
      "metadata": {
        "id": "XX96WGlBh_da"
      }
    },
    {
      "cell_type": "markdown",
      "source": [
        "We read the CSV dataset."
      ],
      "metadata": {
        "id": "oiIChxs6pfMU"
      }
    },
    {
      "cell_type": "code",
      "source": [
        "enrolment = pd.read_csv(\"/content/drive/MyDrive/DV_project/story2/enrolment_by_age.csv\")"
      ],
      "metadata": {
        "id": "Zu9LLuH7enFD"
      },
      "execution_count": null,
      "outputs": []
    },
    {
      "cell_type": "markdown",
      "source": [
        "We observe the column values."
      ],
      "metadata": {
        "id": "IBlbEZktpi7u"
      }
    },
    {
      "cell_type": "code",
      "source": [
        "distinct_values_dict = {col: enrolment[col].unique() for col in enrolment.columns}\n",
        "for col, values in distinct_values_dict.items():\n",
        "    print(f\"\\nDistinct values for column '{col}': {values}\")"
      ],
      "metadata": {
        "colab": {
          "base_uri": "https://localhost:8080/"
        },
        "id": "VBNXPD0nfIbt",
        "outputId": "e671f01a-f5fe-421d-88b7-6f3e699327af"
      },
      "execution_count": null,
      "outputs": [
        {
          "output_type": "stream",
          "name": "stdout",
          "text": [
            "\n",
            "Distinct values for column 'COUNTRY': ['AUT' 'BEL' 'CZE' 'DNK' 'FIN' 'FRA' 'DEU' 'GRC' 'HUN' 'ISL' 'IRL' 'ITA'\n",
            " 'LUX' 'NLD' 'NOR' 'POL' 'PRT' 'SVK' 'ESP' 'SWE' 'CHE' 'TUR' 'EST' 'LVA'\n",
            " 'LTU' 'SVN' 'BGR' 'HRV' 'ROU']\n",
            "\n",
            "Distinct values for column 'Country': ['Austria' 'Belgium' 'Czechia' 'Denmark' 'Finland' 'France' 'Germany'\n",
            " 'Greece' 'Hungary' 'Iceland' 'Ireland' 'Italy' 'Luxembourg' 'Netherlands'\n",
            " 'Norway' 'Poland' 'Portugal' 'Slovak Republic' 'Spain' 'Sweden'\n",
            " 'Switzerland' 'Türkiye' 'Estonia' 'Latvia' 'Lithuania' 'Slovenia'\n",
            " 'Bulgaria' 'Croatia' 'Romania']\n",
            "\n",
            "Distinct values for column 'SEX': ['F' 'M' '_T']\n",
            "\n",
            "Distinct values for column 'Gender': ['Female' 'Male' 'Total']\n",
            "\n",
            "Distinct values for column 'AGE': ['Y15' 'Y16' 'Y17' 'Y18' 'Y19' 'Y20' 'Y21' 'Y22' 'Y23' 'Y24' 'Y25' 'Y26'\n",
            " 'Y27' 'Y28' 'Y29' '_T']\n",
            "\n",
            "Distinct values for column 'Age': ['15 years' '16 years' '17 years' '18 years' '19 years' '20 years'\n",
            " '21 years' '22 years' '23 years' '24 years' '25 years' '26 years'\n",
            " '27 years' '28 years' '29 years' 'Total']\n",
            "\n",
            "Distinct values for column 'INTENSITY': ['PT' '_T']\n",
            "\n",
            "Distinct values for column 'Intensity': ['Part-time' 'Full- and part-time']\n",
            "\n",
            "Distinct values for column 'EDUCATION_LEV': ['ISCED11_0' 'ISCED11_01' 'ISCED11_02' 'ISCED11_1' 'ISCED11_2'\n",
            " 'ISCED11_24' 'ISCED11_25' 'ISCED11_3' 'ISCED11_34' 'ISCED11_35'\n",
            " 'ISCED11_4' 'ISCED11_44' 'ISCED11_45' 'ISCED11_5' 'ISCED11_54'\n",
            " 'ISCED11_55' 'ISCED11_6' 'ISCED11_7' 'ISCED11_8' 'ISCED11_5T8'\n",
            " 'ISCED11_T']\n",
            "\n",
            "Distinct values for column 'Education level': ['Early childhood education' 'Early childhood educational development'\n",
            " 'Pre-primary education' 'Primary education' 'Lower secondary education'\n",
            " 'Lower secondary general education'\n",
            " 'Lower secondary vocational education' 'Upper secondary education'\n",
            " 'Upper secondary general education'\n",
            " 'Upper secondary vocational education'\n",
            " 'Post-secondary non-tertiary education'\n",
            " 'Post-secondary non-tertiary general education'\n",
            " 'Post-secondary non-tertiary vocational education'\n",
            " 'Short-cycle tertiary education' 'Short-cycle tertiary general education'\n",
            " 'Short-cycle tertiary vocational education'\n",
            " 'Bachelor’s or equivalent level' 'Master’s or equivalent level'\n",
            " 'Doctoral or equivalent level' 'Tertiary education' 'Total']\n",
            "\n",
            "Distinct values for column 'YEAR': [2013 2014 2015 2016 2017 2018 2019 2020 2021]\n",
            "\n",
            "Distinct values for column 'Year': [2013 2014 2015 2016 2017 2018 2019 2020 2021]\n",
            "\n",
            "Distinct values for column 'Value': [       nan 0.0000e+00 2.0000e+00 ... 4.8242e+04 4.2941e+04 4.0767e+04]\n",
            "\n",
            "Distinct values for column 'Flag Codes': ['m' nan 'o' 'k' 'w']\n",
            "\n",
            "Distinct values for column 'Flags': ['Missing value; data cannot exist' nan 'Missing value'\n",
            " 'Data included in another category' 'Includes data from another category']\n"
          ]
        }
      ]
    },
    {
      "cell_type": "markdown",
      "source": [
        "We discard missing values, 0s and uninteresting information (like the gender, because we are going to consider just the total value)."
      ],
      "metadata": {
        "id": "GZJuQguEpoHf"
      }
    },
    {
      "cell_type": "code",
      "source": [
        "filtered_enrolment = enrolment[~enrolment['Flag Codes'].isin(['m', 'o']) \\\n",
        "                               & (enrolment['Value'].notna()) \\\n",
        "                               & (enrolment['Value']!= 0) \\\n",
        "                               & (enrolment['INTENSITY'] == '_T') \\\n",
        "                               & (enrolment['SEX'] == '_T')\n",
        "                               ]"
      ],
      "metadata": {
        "id": "3W8GGBVQ6JKg"
      },
      "execution_count": null,
      "outputs": []
    },
    {
      "cell_type": "markdown",
      "source": [
        "We drop useless columns and we round the absolute value to an int (it could have been a float because it could derive from a mean over a wider range of ages)."
      ],
      "metadata": {
        "id": "URiNlxJgp4bx"
      }
    },
    {
      "cell_type": "code",
      "source": [
        "enrolment_final = filtered_enrolment.copy()\n",
        "enrolment_final.drop(['SEX', 'Gender', 'AGE', 'INTENSITY', 'Intensity', 'YEAR', 'Flag Codes', 'Flags'], axis = 1, inplace = True)\n",
        "enrolment_final['Value'] = enrolment_final['Value'].round(0).astype(int)\n",
        "enrolment_final.rename(columns = {'COUNTRY': 'Abbreviation'}, inplace = True)\n",
        "enrolment_final['Country'] = enrolment_final['Abbreviation'].map(country_abbreviations_reversed)"
      ],
      "metadata": {
        "id": "uNgu1DhbCRrX"
      },
      "execution_count": null,
      "outputs": []
    },
    {
      "cell_type": "markdown",
      "source": [
        "We again observe the column values left."
      ],
      "metadata": {
        "id": "f_zn_NjGqXJL"
      }
    },
    {
      "cell_type": "code",
      "source": [
        "filtered_distinct_values_dict = {col: enrolment_final[col].unique() for col in enrolment_final.columns}\n",
        "for col, values in filtered_distinct_values_dict.items():\n",
        "    print(f\"\\nDistinct values for column '{col}': {values}\")"
      ],
      "metadata": {
        "colab": {
          "base_uri": "https://localhost:8080/"
        },
        "id": "-1vqiAoKBxMp",
        "outputId": "a4182c3d-5733-4175-eee9-07614de724d0"
      },
      "execution_count": null,
      "outputs": [
        {
          "output_type": "stream",
          "name": "stdout",
          "text": [
            "\n",
            "Distinct values for column 'Abbreviation': ['AUT' 'BEL' 'CZE' 'DNK' 'FIN' 'FRA' 'DEU' 'GRC' 'HUN' 'ISL' 'IRL' 'ITA'\n",
            " 'LUX' 'NLD' 'NOR' 'POL' 'PRT' 'SVK' 'ESP' 'SWE' 'CHE' 'TUR' 'EST' 'LVA'\n",
            " 'LTU' 'SVN' 'BGR' 'HRV' 'ROU']\n",
            "\n",
            "Distinct values for column 'Country': ['Austria' 'Belgium' 'Czechia' 'Denmark' 'Finland' 'France' 'Germany'\n",
            " 'Greece' 'Hungary' 'Iceland' 'Ireland' 'Italy' 'Luxembourg' 'Netherlands'\n",
            " 'Norway' 'Poland' 'Portugal' 'Slovakia' 'Spain' 'Sweden' 'Switzerland'\n",
            " 'Türkiye' 'Estonia' 'Latvia' 'Lithuania' 'Slovenia' 'Bulgaria' 'Croatia'\n",
            " 'Romania']\n",
            "\n",
            "Distinct values for column 'Age': ['15 years' '16 years' '17 years' '18 years' '19 years' '20 years'\n",
            " '21 years' '22 years' '23 years' '24 years' '25 years' '26 years'\n",
            " '27 years' '28 years' '29 years' 'Total']\n",
            "\n",
            "Distinct values for column 'EDUCATION_LEV': ['ISCED11_1' 'ISCED11_2' 'ISCED11_24' 'ISCED11_3' 'ISCED11_34'\n",
            " 'ISCED11_35' 'ISCED11_5' 'ISCED11_55' 'ISCED11_7' 'ISCED11_5T8'\n",
            " 'ISCED11_T' 'ISCED11_25' 'ISCED11_4' 'ISCED11_44' 'ISCED11_45'\n",
            " 'ISCED11_6' 'ISCED11_8' 'ISCED11_0' 'ISCED11_02' 'ISCED11_54'\n",
            " 'ISCED11_01']\n",
            "\n",
            "Distinct values for column 'Education level': ['Primary education' 'Lower secondary education'\n",
            " 'Lower secondary general education' 'Upper secondary education'\n",
            " 'Upper secondary general education'\n",
            " 'Upper secondary vocational education' 'Short-cycle tertiary education'\n",
            " 'Short-cycle tertiary vocational education'\n",
            " 'Master’s or equivalent level' 'Tertiary education' 'Total'\n",
            " 'Lower secondary vocational education'\n",
            " 'Post-secondary non-tertiary education'\n",
            " 'Post-secondary non-tertiary general education'\n",
            " 'Post-secondary non-tertiary vocational education'\n",
            " 'Bachelor’s or equivalent level' 'Doctoral or equivalent level'\n",
            " 'Early childhood education' 'Pre-primary education'\n",
            " 'Short-cycle tertiary general education'\n",
            " 'Early childhood educational development']\n",
            "\n",
            "Distinct values for column 'Year': [2013 2014 2015 2016 2017 2018 2019 2020 2021]\n",
            "\n",
            "Distinct values for column 'Value': [   3    2    1 ... 9868 9696 9978]\n"
          ]
        }
      ]
    },
    {
      "cell_type": "markdown",
      "source": [
        "We create a dictionary linking each education level code to its description."
      ],
      "metadata": {
        "id": "lMROocf8qcp3"
      }
    },
    {
      "cell_type": "code",
      "source": [
        "education_level_dict = dict(zip(enrolment_final['EDUCATION_LEV'].unique(), enrolment_final['Education level'].unique()))\n",
        "sorted_education_level_dict = dict(sorted(education_level_dict.items()))\n",
        "print(sorted_education_level_dict)"
      ],
      "metadata": {
        "colab": {
          "base_uri": "https://localhost:8080/"
        },
        "id": "DjUAIOkXG8zA",
        "outputId": "b0d36949-ce23-49ef-d877-c427662ac33a"
      },
      "execution_count": null,
      "outputs": [
        {
          "output_type": "stream",
          "name": "stdout",
          "text": [
            "{'ISCED11_0': 'Early childhood education', 'ISCED11_01': 'Early childhood educational development', 'ISCED11_02': 'Pre-primary education', 'ISCED11_1': 'Primary education', 'ISCED11_2': 'Lower secondary education', 'ISCED11_24': 'Lower secondary general education', 'ISCED11_25': 'Lower secondary vocational education', 'ISCED11_3': 'Upper secondary education', 'ISCED11_34': 'Upper secondary general education', 'ISCED11_35': 'Upper secondary vocational education', 'ISCED11_4': 'Post-secondary non-tertiary education', 'ISCED11_44': 'Post-secondary non-tertiary general education', 'ISCED11_45': 'Post-secondary non-tertiary vocational education', 'ISCED11_5': 'Short-cycle tertiary education', 'ISCED11_54': 'Short-cycle tertiary general education', 'ISCED11_55': 'Short-cycle tertiary vocational education', 'ISCED11_5T8': 'Tertiary education', 'ISCED11_6': 'Bachelor’s or equivalent level', 'ISCED11_7': 'Master’s or equivalent level', 'ISCED11_8': 'Doctoral or equivalent level', 'ISCED11_T': 'Total'}\n"
          ]
        }
      ]
    },
    {
      "cell_type": "markdown",
      "source": [
        "We retrieve the information for each country and for each year between 2013 and 2021."
      ],
      "metadata": {
        "id": "jY91HZF_qioo"
      }
    },
    {
      "cell_type": "code",
      "source": [
        "years = range(2013, 2022)\n",
        "enrolment_country = {}\n",
        "\n",
        "for country in enrolment_final['Country'].unique():\n",
        "    enrolment_country[country] = {}\n",
        "\n",
        "    for year in years:\n",
        "        current_data = enrolment_final[(enrolment_final['Country'] == country) & (enrolment_final['Year'] == year)].copy()\n",
        "        enrolment_country[country][f'enrolment{year}_unfiltered'] = current_data.copy()\n",
        "        current_data = current_data[current_data['Age'] != 'Total']\n",
        "        enrolment_country[country][f'enrolment{year}'] = current_data.copy()"
      ],
      "metadata": {
        "id": "On3Bd0L4NDLr"
      },
      "execution_count": null,
      "outputs": []
    },
    {
      "cell_type": "markdown",
      "source": [
        "### Streamgraphs --> we do not use this type of visualization"
      ],
      "metadata": {
        "id": "7HWhgBkKeiaA"
      }
    },
    {
      "cell_type": "markdown",
      "source": [
        "We modify the structure of the data we have, to obtain for each country and for each year a dataframe with 15 rows (one for each age between 15 and 29) and columns for each education level (with its absolute value)."
      ],
      "metadata": {
        "id": "XnJLsym6ref6"
      }
    },
    {
      "cell_type": "code",
      "source": [
        "education_levels = list(sorted_education_level_dict.values())\n",
        "streamgraph_dataframes = {}\n",
        "\n",
        "for year in years:\n",
        "    for country in enrolment_final['Country'].unique():\n",
        "\n",
        "        df = enrolment_country[country][f'enrolment{year}'].copy()\n",
        "        pivoted_df = df.pivot_table(index = 'Age', columns = 'Education level', values = 'Value', fill_value = 0) ### We pivot the dataset\n",
        "        pivoted_df = pivoted_df.reindex(columns = education_levels, fill_value = 0) ### We reindex to include all education levels, fill missing values with 0\n",
        "        pivoted_df = pivoted_df.reset_index() ### We reset the index to make 'Age' a regular column\n",
        "        streamgraph_dataframes[f'enrolment_{country_abbreviations.get(country)}_{year}'] = pivoted_df.copy() ### We store the pivoted DataFrame in the dictionary"
      ],
      "metadata": {
        "id": "vN3eX8Ica4cJ"
      },
      "execution_count": null,
      "outputs": []
    },
    {
      "cell_type": "markdown",
      "source": [
        "We sum values for all the countries, and then we average the value over the 9 years."
      ],
      "metadata": {
        "id": "gXOfCec0ryzW"
      }
    },
    {
      "cell_type": "code",
      "source": [
        "for year in years:\n",
        "    keys_with_same_year = [key for key in streamgraph_dataframes.keys() if key.endswith(str(year))]\n",
        "    concatenated_dataframe = pd.concat([streamgraph_dataframes[key] for key in keys_with_same_year])\n",
        "    sum_dataframe = concatenated_dataframe.groupby('Age').sum(numeric_only = True)\n",
        "    sum_dataframe = sum_dataframe.reset_index() ### We reset the index to make 'Age' a regular column\n",
        "    streamgraph_dataframes[f'enrolment_{year}_all'] = sum_dataframe.copy()\n",
        "\n",
        "keys_with_all = [key for key in streamgraph_dataframes.keys() if key.endswith('all')]\n",
        "concatenated_dataframe = pd.concat([streamgraph_dataframes[key] for key in keys_with_all])\n",
        "streamgraph_dataframes['enrolment_all'] = concatenated_dataframe.groupby('Age').mean().round(0).astype(int)\n",
        "streamgraph_dataframes['enrolment_all'] = streamgraph_dataframes['enrolment_all'].reset_index()"
      ],
      "metadata": {
        "id": "pYDagwAKU8ZZ"
      },
      "execution_count": null,
      "outputs": []
    },
    {
      "cell_type": "markdown",
      "source": [
        "We show the final dataset,  summed over countries and averaged over years."
      ],
      "metadata": {
        "id": "Y2ZY_VlAsHOi"
      }
    },
    {
      "cell_type": "code",
      "source": [
        "streamgraph_dataframes['enrolment_all']"
      ],
      "metadata": {
        "colab": {
          "base_uri": "https://localhost:8080/",
          "height": 896
        },
        "id": "0ESm7P8osnod",
        "outputId": "d625be8a-4441-409d-d3aa-3fc91a4a7a81"
      },
      "execution_count": null,
      "outputs": [
        {
          "output_type": "execute_result",
          "data": {
            "text/plain": [
              "Education level       Age  Early childhood education  \\\n",
              "0                15 years                       1369   \n",
              "1                16 years                       1130   \n",
              "2                17 years                        843   \n",
              "3                18 years                        668   \n",
              "4                19 years                        495   \n",
              "5                20 years                        240   \n",
              "6                21 years                        102   \n",
              "7                22 years                         49   \n",
              "8                23 years                         24   \n",
              "9                24 years                         11   \n",
              "10               25 years                          4   \n",
              "11               26 years                          2   \n",
              "12               27 years                          1   \n",
              "13               28 years                          0   \n",
              "14               29 years                          0   \n",
              "\n",
              "Education level  Early childhood educational development  \\\n",
              "0                                                      0   \n",
              "1                                                      0   \n",
              "2                                                      0   \n",
              "3                                                      0   \n",
              "4                                                      0   \n",
              "5                                                      0   \n",
              "6                                                      0   \n",
              "7                                                      0   \n",
              "8                                                      0   \n",
              "9                                                      0   \n",
              "10                                                     0   \n",
              "11                                                     0   \n",
              "12                                                     0   \n",
              "13                                                     0   \n",
              "14                                                     0   \n",
              "\n",
              "Education level  Pre-primary education  Primary education  \\\n",
              "0                                 1369              17863   \n",
              "1                                 1130              13521   \n",
              "2                                  843              13382   \n",
              "3                                  668               8208   \n",
              "4                                  495               7327   \n",
              "5                                  240               8201   \n",
              "6                                  102               7723   \n",
              "7                                   49               7453   \n",
              "8                                   24               7759   \n",
              "9                                   11               8312   \n",
              "10                                   4               9602   \n",
              "11                                   2               9645   \n",
              "12                                   1               9969   \n",
              "13                                   0              10182   \n",
              "14                                   0              10179   \n",
              "\n",
              "Education level  Lower secondary education  Lower secondary general education  \\\n",
              "0                                  2051469                            2023774   \n",
              "1                                   709582                             644002   \n",
              "2                                   251647                             177988   \n",
              "3                                   122733                              80503   \n",
              "4                                    60259                              39875   \n",
              "5                                    43094                              30391   \n",
              "6                                    30714                              22556   \n",
              "7                                    25014                              19881   \n",
              "8                                    21800                              18312   \n",
              "9                                    19319                              16833   \n",
              "10                                   19312                              17541   \n",
              "11                                   18846                              17227   \n",
              "12                                   19209                              18093   \n",
              "13                                   20241                              19183   \n",
              "14                                   21508                              20426   \n",
              "\n",
              "Education level  Lower secondary vocational education  \\\n",
              "0                                               27695   \n",
              "1                                               65581   \n",
              "2                                               73928   \n",
              "3                                               42596   \n",
              "4                                               20797   \n",
              "5                                               12935   \n",
              "6                                                8661   \n",
              "7                                                5619   \n",
              "8                                                4007   \n",
              "9                                                3007   \n",
              "10                                               2291   \n",
              "11                                               2139   \n",
              "12                                               1637   \n",
              "13                                               1580   \n",
              "14                                               1603   \n",
              "\n",
              "Education level  Upper secondary education  Upper secondary general education  \\\n",
              "0                                  3701373                            2293020   \n",
              "1                                  4892472                            2893315   \n",
              "2                                  5052201                            2890262   \n",
              "3                                  3247631                            1587018   \n",
              "4                                  1398748                             469303   \n",
              "5                                   694334                             207352   \n",
              "6                                   448951                             131761   \n",
              "7                                   318714                             104934   \n",
              "8                                   245358                              87295   \n",
              "9                                   201462                              75090   \n",
              "10                                  157208                              62780   \n",
              "11                                  131484                              55203   \n",
              "12                                  113163                              48887   \n",
              "13                                   99801                              44053   \n",
              "14                                   95346                              40567   \n",
              "\n",
              "Education level  ...  Post-secondary non-tertiary general education  \\\n",
              "0                ...                                             21   \n",
              "1                ...                                            258   \n",
              "2                ...                                            821   \n",
              "3                ...                                           3196   \n",
              "4                ...                                           7192   \n",
              "5                ...                                          10450   \n",
              "6                ...                                          11120   \n",
              "7                ...                                          10088   \n",
              "8                ...                                           8408   \n",
              "9                ...                                           6923   \n",
              "10               ...                                           5326   \n",
              "11               ...                                           4195   \n",
              "12               ...                                           3249   \n",
              "13               ...                                           2539   \n",
              "14               ...                                           2279   \n",
              "\n",
              "Education level  Post-secondary non-tertiary vocational education  \\\n",
              "0                                                            1084   \n",
              "1                                                           12553   \n",
              "2                                                           34014   \n",
              "3                                                           87306   \n",
              "4                                                          181031   \n",
              "5                                                          198650   \n",
              "6                                                          167038   \n",
              "7                                                          125462   \n",
              "8                                                           93977   \n",
              "9                                                           83590   \n",
              "10                                                          51795   \n",
              "11                                                          38000   \n",
              "12                                                          31211   \n",
              "13                                                          26635   \n",
              "14                                                          32057   \n",
              "\n",
              "Education level  Short-cycle tertiary education  \\\n",
              "0                                            45   \n",
              "1                                           421   \n",
              "2                                         22152   \n",
              "3                                        263421   \n",
              "4                                        442686   \n",
              "5                                        416280   \n",
              "6                                        333958   \n",
              "7                                        264269   \n",
              "8                                        216338   \n",
              "9                                        183557   \n",
              "10                                       158994   \n",
              "11                                       139702   \n",
              "12                                       123193   \n",
              "13                                       109705   \n",
              "14                                        98750   \n",
              "\n",
              "Education level  Short-cycle tertiary general education  \\\n",
              "0                                                     0   \n",
              "1                                                     0   \n",
              "2                                                     0   \n",
              "3                                                     6   \n",
              "4                                                   233   \n",
              "5                                                   403   \n",
              "6                                                   403   \n",
              "7                                                   381   \n",
              "8                                                   359   \n",
              "9                                                   332   \n",
              "10                                                  284   \n",
              "11                                                  260   \n",
              "12                                                  221   \n",
              "13                                                  187   \n",
              "14                                                  170   \n",
              "\n",
              "Education level  Short-cycle tertiary vocational education  \\\n",
              "0                                                       45   \n",
              "1                                                      334   \n",
              "2                                                    21899   \n",
              "3                                                   262301   \n",
              "4                                                   440637   \n",
              "5                                                   414297   \n",
              "6                                                   332494   \n",
              "7                                                   262643   \n",
              "8                                                   215300   \n",
              "9                                                   182537   \n",
              "10                                                  158053   \n",
              "11                                                  138794   \n",
              "12                                                  122372   \n",
              "13                                                  108945   \n",
              "14                                                   98029   \n",
              "\n",
              "Education level  Tertiary education  Bachelor’s or equivalent level  \\\n",
              "0                               261                             195   \n",
              "1                              2182                            1685   \n",
              "2                             78569                           49648   \n",
              "3                           1119200                          761111   \n",
              "4                           2170450                         1535742   \n",
              "5                           2611262                         1925619   \n",
              "6                           2640181                         1924707   \n",
              "7                           2446117                         1597285   \n",
              "8                           2127086                         1174906   \n",
              "9                           1740036                          875484   \n",
              "10                          1396989                          676057   \n",
              "11                          1136082                          542906   \n",
              "12                           944527                          448889   \n",
              "13                           793242                          377490   \n",
              "14                           689262                          340263   \n",
              "\n",
              "Education level  Master’s or equivalent level  Doctoral or equivalent level  \\\n",
              "0                                          20                             0   \n",
              "1                                          76                             0   \n",
              "2                                        6769                             0   \n",
              "3                                       94658                            10   \n",
              "4                                      192011                            11   \n",
              "5                                      269340                            22   \n",
              "6                                      381409                           107   \n",
              "7                                      583583                           980   \n",
              "8                                      728551                          7291   \n",
              "9                                      657424                         23570   \n",
              "10                                     517522                         44417   \n",
              "11                                     393347                         60127   \n",
              "12                                     299795                         72650   \n",
              "13                                     232638                         73409   \n",
              "14                                     182466                         67783   \n",
              "\n",
              "Education level    Total  \n",
              "0                5773441  \n",
              "1                5631699  \n",
              "2                5431476  \n",
              "3                4588940  \n",
              "4                3770496  \n",
              "5                3566230  \n",
              "6                3305827  \n",
              "7                2932899  \n",
              "8                2504415  \n",
              "9                2021761  \n",
              "10               1637225  \n",
              "11               1324273  \n",
              "12               1109922  \n",
              "13                942586  \n",
              "14                841316  \n",
              "\n",
              "[15 rows x 22 columns]"
            ],
            "text/html": [
              "\n",
              "  <div id=\"df-afe8e8b1-afc2-439d-b079-1d9e4cb7281c\" class=\"colab-df-container\">\n",
              "    <div>\n",
              "<style scoped>\n",
              "    .dataframe tbody tr th:only-of-type {\n",
              "        vertical-align: middle;\n",
              "    }\n",
              "\n",
              "    .dataframe tbody tr th {\n",
              "        vertical-align: top;\n",
              "    }\n",
              "\n",
              "    .dataframe thead th {\n",
              "        text-align: right;\n",
              "    }\n",
              "</style>\n",
              "<table border=\"1\" class=\"dataframe\">\n",
              "  <thead>\n",
              "    <tr style=\"text-align: right;\">\n",
              "      <th>Education level</th>\n",
              "      <th>Age</th>\n",
              "      <th>Early childhood education</th>\n",
              "      <th>Early childhood educational development</th>\n",
              "      <th>Pre-primary education</th>\n",
              "      <th>Primary education</th>\n",
              "      <th>Lower secondary education</th>\n",
              "      <th>Lower secondary general education</th>\n",
              "      <th>Lower secondary vocational education</th>\n",
              "      <th>Upper secondary education</th>\n",
              "      <th>Upper secondary general education</th>\n",
              "      <th>...</th>\n",
              "      <th>Post-secondary non-tertiary general education</th>\n",
              "      <th>Post-secondary non-tertiary vocational education</th>\n",
              "      <th>Short-cycle tertiary education</th>\n",
              "      <th>Short-cycle tertiary general education</th>\n",
              "      <th>Short-cycle tertiary vocational education</th>\n",
              "      <th>Tertiary education</th>\n",
              "      <th>Bachelor’s or equivalent level</th>\n",
              "      <th>Master’s or equivalent level</th>\n",
              "      <th>Doctoral or equivalent level</th>\n",
              "      <th>Total</th>\n",
              "    </tr>\n",
              "  </thead>\n",
              "  <tbody>\n",
              "    <tr>\n",
              "      <th>0</th>\n",
              "      <td>15 years</td>\n",
              "      <td>1369</td>\n",
              "      <td>0</td>\n",
              "      <td>1369</td>\n",
              "      <td>17863</td>\n",
              "      <td>2051469</td>\n",
              "      <td>2023774</td>\n",
              "      <td>27695</td>\n",
              "      <td>3701373</td>\n",
              "      <td>2293020</td>\n",
              "      <td>...</td>\n",
              "      <td>21</td>\n",
              "      <td>1084</td>\n",
              "      <td>45</td>\n",
              "      <td>0</td>\n",
              "      <td>45</td>\n",
              "      <td>261</td>\n",
              "      <td>195</td>\n",
              "      <td>20</td>\n",
              "      <td>0</td>\n",
              "      <td>5773441</td>\n",
              "    </tr>\n",
              "    <tr>\n",
              "      <th>1</th>\n",
              "      <td>16 years</td>\n",
              "      <td>1130</td>\n",
              "      <td>0</td>\n",
              "      <td>1130</td>\n",
              "      <td>13521</td>\n",
              "      <td>709582</td>\n",
              "      <td>644002</td>\n",
              "      <td>65581</td>\n",
              "      <td>4892472</td>\n",
              "      <td>2893315</td>\n",
              "      <td>...</td>\n",
              "      <td>258</td>\n",
              "      <td>12553</td>\n",
              "      <td>421</td>\n",
              "      <td>0</td>\n",
              "      <td>334</td>\n",
              "      <td>2182</td>\n",
              "      <td>1685</td>\n",
              "      <td>76</td>\n",
              "      <td>0</td>\n",
              "      <td>5631699</td>\n",
              "    </tr>\n",
              "    <tr>\n",
              "      <th>2</th>\n",
              "      <td>17 years</td>\n",
              "      <td>843</td>\n",
              "      <td>0</td>\n",
              "      <td>843</td>\n",
              "      <td>13382</td>\n",
              "      <td>251647</td>\n",
              "      <td>177988</td>\n",
              "      <td>73928</td>\n",
              "      <td>5052201</td>\n",
              "      <td>2890262</td>\n",
              "      <td>...</td>\n",
              "      <td>821</td>\n",
              "      <td>34014</td>\n",
              "      <td>22152</td>\n",
              "      <td>0</td>\n",
              "      <td>21899</td>\n",
              "      <td>78569</td>\n",
              "      <td>49648</td>\n",
              "      <td>6769</td>\n",
              "      <td>0</td>\n",
              "      <td>5431476</td>\n",
              "    </tr>\n",
              "    <tr>\n",
              "      <th>3</th>\n",
              "      <td>18 years</td>\n",
              "      <td>668</td>\n",
              "      <td>0</td>\n",
              "      <td>668</td>\n",
              "      <td>8208</td>\n",
              "      <td>122733</td>\n",
              "      <td>80503</td>\n",
              "      <td>42596</td>\n",
              "      <td>3247631</td>\n",
              "      <td>1587018</td>\n",
              "      <td>...</td>\n",
              "      <td>3196</td>\n",
              "      <td>87306</td>\n",
              "      <td>263421</td>\n",
              "      <td>6</td>\n",
              "      <td>262301</td>\n",
              "      <td>1119200</td>\n",
              "      <td>761111</td>\n",
              "      <td>94658</td>\n",
              "      <td>10</td>\n",
              "      <td>4588940</td>\n",
              "    </tr>\n",
              "    <tr>\n",
              "      <th>4</th>\n",
              "      <td>19 years</td>\n",
              "      <td>495</td>\n",
              "      <td>0</td>\n",
              "      <td>495</td>\n",
              "      <td>7327</td>\n",
              "      <td>60259</td>\n",
              "      <td>39875</td>\n",
              "      <td>20797</td>\n",
              "      <td>1398748</td>\n",
              "      <td>469303</td>\n",
              "      <td>...</td>\n",
              "      <td>7192</td>\n",
              "      <td>181031</td>\n",
              "      <td>442686</td>\n",
              "      <td>233</td>\n",
              "      <td>440637</td>\n",
              "      <td>2170450</td>\n",
              "      <td>1535742</td>\n",
              "      <td>192011</td>\n",
              "      <td>11</td>\n",
              "      <td>3770496</td>\n",
              "    </tr>\n",
              "    <tr>\n",
              "      <th>5</th>\n",
              "      <td>20 years</td>\n",
              "      <td>240</td>\n",
              "      <td>0</td>\n",
              "      <td>240</td>\n",
              "      <td>8201</td>\n",
              "      <td>43094</td>\n",
              "      <td>30391</td>\n",
              "      <td>12935</td>\n",
              "      <td>694334</td>\n",
              "      <td>207352</td>\n",
              "      <td>...</td>\n",
              "      <td>10450</td>\n",
              "      <td>198650</td>\n",
              "      <td>416280</td>\n",
              "      <td>403</td>\n",
              "      <td>414297</td>\n",
              "      <td>2611262</td>\n",
              "      <td>1925619</td>\n",
              "      <td>269340</td>\n",
              "      <td>22</td>\n",
              "      <td>3566230</td>\n",
              "    </tr>\n",
              "    <tr>\n",
              "      <th>6</th>\n",
              "      <td>21 years</td>\n",
              "      <td>102</td>\n",
              "      <td>0</td>\n",
              "      <td>102</td>\n",
              "      <td>7723</td>\n",
              "      <td>30714</td>\n",
              "      <td>22556</td>\n",
              "      <td>8661</td>\n",
              "      <td>448951</td>\n",
              "      <td>131761</td>\n",
              "      <td>...</td>\n",
              "      <td>11120</td>\n",
              "      <td>167038</td>\n",
              "      <td>333958</td>\n",
              "      <td>403</td>\n",
              "      <td>332494</td>\n",
              "      <td>2640181</td>\n",
              "      <td>1924707</td>\n",
              "      <td>381409</td>\n",
              "      <td>107</td>\n",
              "      <td>3305827</td>\n",
              "    </tr>\n",
              "    <tr>\n",
              "      <th>7</th>\n",
              "      <td>22 years</td>\n",
              "      <td>49</td>\n",
              "      <td>0</td>\n",
              "      <td>49</td>\n",
              "      <td>7453</td>\n",
              "      <td>25014</td>\n",
              "      <td>19881</td>\n",
              "      <td>5619</td>\n",
              "      <td>318714</td>\n",
              "      <td>104934</td>\n",
              "      <td>...</td>\n",
              "      <td>10088</td>\n",
              "      <td>125462</td>\n",
              "      <td>264269</td>\n",
              "      <td>381</td>\n",
              "      <td>262643</td>\n",
              "      <td>2446117</td>\n",
              "      <td>1597285</td>\n",
              "      <td>583583</td>\n",
              "      <td>980</td>\n",
              "      <td>2932899</td>\n",
              "    </tr>\n",
              "    <tr>\n",
              "      <th>8</th>\n",
              "      <td>23 years</td>\n",
              "      <td>24</td>\n",
              "      <td>0</td>\n",
              "      <td>24</td>\n",
              "      <td>7759</td>\n",
              "      <td>21800</td>\n",
              "      <td>18312</td>\n",
              "      <td>4007</td>\n",
              "      <td>245358</td>\n",
              "      <td>87295</td>\n",
              "      <td>...</td>\n",
              "      <td>8408</td>\n",
              "      <td>93977</td>\n",
              "      <td>216338</td>\n",
              "      <td>359</td>\n",
              "      <td>215300</td>\n",
              "      <td>2127086</td>\n",
              "      <td>1174906</td>\n",
              "      <td>728551</td>\n",
              "      <td>7291</td>\n",
              "      <td>2504415</td>\n",
              "    </tr>\n",
              "    <tr>\n",
              "      <th>9</th>\n",
              "      <td>24 years</td>\n",
              "      <td>11</td>\n",
              "      <td>0</td>\n",
              "      <td>11</td>\n",
              "      <td>8312</td>\n",
              "      <td>19319</td>\n",
              "      <td>16833</td>\n",
              "      <td>3007</td>\n",
              "      <td>201462</td>\n",
              "      <td>75090</td>\n",
              "      <td>...</td>\n",
              "      <td>6923</td>\n",
              "      <td>83590</td>\n",
              "      <td>183557</td>\n",
              "      <td>332</td>\n",
              "      <td>182537</td>\n",
              "      <td>1740036</td>\n",
              "      <td>875484</td>\n",
              "      <td>657424</td>\n",
              "      <td>23570</td>\n",
              "      <td>2021761</td>\n",
              "    </tr>\n",
              "    <tr>\n",
              "      <th>10</th>\n",
              "      <td>25 years</td>\n",
              "      <td>4</td>\n",
              "      <td>0</td>\n",
              "      <td>4</td>\n",
              "      <td>9602</td>\n",
              "      <td>19312</td>\n",
              "      <td>17541</td>\n",
              "      <td>2291</td>\n",
              "      <td>157208</td>\n",
              "      <td>62780</td>\n",
              "      <td>...</td>\n",
              "      <td>5326</td>\n",
              "      <td>51795</td>\n",
              "      <td>158994</td>\n",
              "      <td>284</td>\n",
              "      <td>158053</td>\n",
              "      <td>1396989</td>\n",
              "      <td>676057</td>\n",
              "      <td>517522</td>\n",
              "      <td>44417</td>\n",
              "      <td>1637225</td>\n",
              "    </tr>\n",
              "    <tr>\n",
              "      <th>11</th>\n",
              "      <td>26 years</td>\n",
              "      <td>2</td>\n",
              "      <td>0</td>\n",
              "      <td>2</td>\n",
              "      <td>9645</td>\n",
              "      <td>18846</td>\n",
              "      <td>17227</td>\n",
              "      <td>2139</td>\n",
              "      <td>131484</td>\n",
              "      <td>55203</td>\n",
              "      <td>...</td>\n",
              "      <td>4195</td>\n",
              "      <td>38000</td>\n",
              "      <td>139702</td>\n",
              "      <td>260</td>\n",
              "      <td>138794</td>\n",
              "      <td>1136082</td>\n",
              "      <td>542906</td>\n",
              "      <td>393347</td>\n",
              "      <td>60127</td>\n",
              "      <td>1324273</td>\n",
              "    </tr>\n",
              "    <tr>\n",
              "      <th>12</th>\n",
              "      <td>27 years</td>\n",
              "      <td>1</td>\n",
              "      <td>0</td>\n",
              "      <td>1</td>\n",
              "      <td>9969</td>\n",
              "      <td>19209</td>\n",
              "      <td>18093</td>\n",
              "      <td>1637</td>\n",
              "      <td>113163</td>\n",
              "      <td>48887</td>\n",
              "      <td>...</td>\n",
              "      <td>3249</td>\n",
              "      <td>31211</td>\n",
              "      <td>123193</td>\n",
              "      <td>221</td>\n",
              "      <td>122372</td>\n",
              "      <td>944527</td>\n",
              "      <td>448889</td>\n",
              "      <td>299795</td>\n",
              "      <td>72650</td>\n",
              "      <td>1109922</td>\n",
              "    </tr>\n",
              "    <tr>\n",
              "      <th>13</th>\n",
              "      <td>28 years</td>\n",
              "      <td>0</td>\n",
              "      <td>0</td>\n",
              "      <td>0</td>\n",
              "      <td>10182</td>\n",
              "      <td>20241</td>\n",
              "      <td>19183</td>\n",
              "      <td>1580</td>\n",
              "      <td>99801</td>\n",
              "      <td>44053</td>\n",
              "      <td>...</td>\n",
              "      <td>2539</td>\n",
              "      <td>26635</td>\n",
              "      <td>109705</td>\n",
              "      <td>187</td>\n",
              "      <td>108945</td>\n",
              "      <td>793242</td>\n",
              "      <td>377490</td>\n",
              "      <td>232638</td>\n",
              "      <td>73409</td>\n",
              "      <td>942586</td>\n",
              "    </tr>\n",
              "    <tr>\n",
              "      <th>14</th>\n",
              "      <td>29 years</td>\n",
              "      <td>0</td>\n",
              "      <td>0</td>\n",
              "      <td>0</td>\n",
              "      <td>10179</td>\n",
              "      <td>21508</td>\n",
              "      <td>20426</td>\n",
              "      <td>1603</td>\n",
              "      <td>95346</td>\n",
              "      <td>40567</td>\n",
              "      <td>...</td>\n",
              "      <td>2279</td>\n",
              "      <td>32057</td>\n",
              "      <td>98750</td>\n",
              "      <td>170</td>\n",
              "      <td>98029</td>\n",
              "      <td>689262</td>\n",
              "      <td>340263</td>\n",
              "      <td>182466</td>\n",
              "      <td>67783</td>\n",
              "      <td>841316</td>\n",
              "    </tr>\n",
              "  </tbody>\n",
              "</table>\n",
              "<p>15 rows × 22 columns</p>\n",
              "</div>\n",
              "    <div class=\"colab-df-buttons\">\n",
              "\n",
              "  <div class=\"colab-df-container\">\n",
              "    <button class=\"colab-df-convert\" onclick=\"convertToInteractive('df-afe8e8b1-afc2-439d-b079-1d9e4cb7281c')\"\n",
              "            title=\"Convert this dataframe to an interactive table.\"\n",
              "            style=\"display:none;\">\n",
              "\n",
              "  <svg xmlns=\"http://www.w3.org/2000/svg\" height=\"24px\" viewBox=\"0 -960 960 960\">\n",
              "    <path d=\"M120-120v-720h720v720H120Zm60-500h600v-160H180v160Zm220 220h160v-160H400v160Zm0 220h160v-160H400v160ZM180-400h160v-160H180v160Zm440 0h160v-160H620v160ZM180-180h160v-160H180v160Zm440 0h160v-160H620v160Z\"/>\n",
              "  </svg>\n",
              "    </button>\n",
              "\n",
              "  <style>\n",
              "    .colab-df-container {\n",
              "      display:flex;\n",
              "      gap: 12px;\n",
              "    }\n",
              "\n",
              "    .colab-df-convert {\n",
              "      background-color: #E8F0FE;\n",
              "      border: none;\n",
              "      border-radius: 50%;\n",
              "      cursor: pointer;\n",
              "      display: none;\n",
              "      fill: #1967D2;\n",
              "      height: 32px;\n",
              "      padding: 0 0 0 0;\n",
              "      width: 32px;\n",
              "    }\n",
              "\n",
              "    .colab-df-convert:hover {\n",
              "      background-color: #E2EBFA;\n",
              "      box-shadow: 0px 1px 2px rgba(60, 64, 67, 0.3), 0px 1px 3px 1px rgba(60, 64, 67, 0.15);\n",
              "      fill: #174EA6;\n",
              "    }\n",
              "\n",
              "    .colab-df-buttons div {\n",
              "      margin-bottom: 4px;\n",
              "    }\n",
              "\n",
              "    [theme=dark] .colab-df-convert {\n",
              "      background-color: #3B4455;\n",
              "      fill: #D2E3FC;\n",
              "    }\n",
              "\n",
              "    [theme=dark] .colab-df-convert:hover {\n",
              "      background-color: #434B5C;\n",
              "      box-shadow: 0px 1px 3px 1px rgba(0, 0, 0, 0.15);\n",
              "      filter: drop-shadow(0px 1px 2px rgba(0, 0, 0, 0.3));\n",
              "      fill: #FFFFFF;\n",
              "    }\n",
              "  </style>\n",
              "\n",
              "    <script>\n",
              "      const buttonEl =\n",
              "        document.querySelector('#df-afe8e8b1-afc2-439d-b079-1d9e4cb7281c button.colab-df-convert');\n",
              "      buttonEl.style.display =\n",
              "        google.colab.kernel.accessAllowed ? 'block' : 'none';\n",
              "\n",
              "      async function convertToInteractive(key) {\n",
              "        const element = document.querySelector('#df-afe8e8b1-afc2-439d-b079-1d9e4cb7281c');\n",
              "        const dataTable =\n",
              "          await google.colab.kernel.invokeFunction('convertToInteractive',\n",
              "                                                    [key], {});\n",
              "        if (!dataTable) return;\n",
              "\n",
              "        const docLinkHtml = 'Like what you see? Visit the ' +\n",
              "          '<a target=\"_blank\" href=https://colab.research.google.com/notebooks/data_table.ipynb>data table notebook</a>'\n",
              "          + ' to learn more about interactive tables.';\n",
              "        element.innerHTML = '';\n",
              "        dataTable['output_type'] = 'display_data';\n",
              "        await google.colab.output.renderOutput(dataTable, element);\n",
              "        const docLink = document.createElement('div');\n",
              "        docLink.innerHTML = docLinkHtml;\n",
              "        element.appendChild(docLink);\n",
              "      }\n",
              "    </script>\n",
              "  </div>\n",
              "\n",
              "\n",
              "<div id=\"df-1acf9eaa-68ef-4d44-9b37-6a4e9608b413\">\n",
              "  <button class=\"colab-df-quickchart\" onclick=\"quickchart('df-1acf9eaa-68ef-4d44-9b37-6a4e9608b413')\"\n",
              "            title=\"Suggest charts\"\n",
              "            style=\"display:none;\">\n",
              "\n",
              "<svg xmlns=\"http://www.w3.org/2000/svg\" height=\"24px\"viewBox=\"0 0 24 24\"\n",
              "     width=\"24px\">\n",
              "    <g>\n",
              "        <path d=\"M19 3H5c-1.1 0-2 .9-2 2v14c0 1.1.9 2 2 2h14c1.1 0 2-.9 2-2V5c0-1.1-.9-2-2-2zM9 17H7v-7h2v7zm4 0h-2V7h2v10zm4 0h-2v-4h2v4z\"/>\n",
              "    </g>\n",
              "</svg>\n",
              "  </button>\n",
              "\n",
              "<style>\n",
              "  .colab-df-quickchart {\n",
              "      --bg-color: #E8F0FE;\n",
              "      --fill-color: #1967D2;\n",
              "      --hover-bg-color: #E2EBFA;\n",
              "      --hover-fill-color: #174EA6;\n",
              "      --disabled-fill-color: #AAA;\n",
              "      --disabled-bg-color: #DDD;\n",
              "  }\n",
              "\n",
              "  [theme=dark] .colab-df-quickchart {\n",
              "      --bg-color: #3B4455;\n",
              "      --fill-color: #D2E3FC;\n",
              "      --hover-bg-color: #434B5C;\n",
              "      --hover-fill-color: #FFFFFF;\n",
              "      --disabled-bg-color: #3B4455;\n",
              "      --disabled-fill-color: #666;\n",
              "  }\n",
              "\n",
              "  .colab-df-quickchart {\n",
              "    background-color: var(--bg-color);\n",
              "    border: none;\n",
              "    border-radius: 50%;\n",
              "    cursor: pointer;\n",
              "    display: none;\n",
              "    fill: var(--fill-color);\n",
              "    height: 32px;\n",
              "    padding: 0;\n",
              "    width: 32px;\n",
              "  }\n",
              "\n",
              "  .colab-df-quickchart:hover {\n",
              "    background-color: var(--hover-bg-color);\n",
              "    box-shadow: 0 1px 2px rgba(60, 64, 67, 0.3), 0 1px 3px 1px rgba(60, 64, 67, 0.15);\n",
              "    fill: var(--button-hover-fill-color);\n",
              "  }\n",
              "\n",
              "  .colab-df-quickchart-complete:disabled,\n",
              "  .colab-df-quickchart-complete:disabled:hover {\n",
              "    background-color: var(--disabled-bg-color);\n",
              "    fill: var(--disabled-fill-color);\n",
              "    box-shadow: none;\n",
              "  }\n",
              "\n",
              "  .colab-df-spinner {\n",
              "    border: 2px solid var(--fill-color);\n",
              "    border-color: transparent;\n",
              "    border-bottom-color: var(--fill-color);\n",
              "    animation:\n",
              "      spin 1s steps(1) infinite;\n",
              "  }\n",
              "\n",
              "  @keyframes spin {\n",
              "    0% {\n",
              "      border-color: transparent;\n",
              "      border-bottom-color: var(--fill-color);\n",
              "      border-left-color: var(--fill-color);\n",
              "    }\n",
              "    20% {\n",
              "      border-color: transparent;\n",
              "      border-left-color: var(--fill-color);\n",
              "      border-top-color: var(--fill-color);\n",
              "    }\n",
              "    30% {\n",
              "      border-color: transparent;\n",
              "      border-left-color: var(--fill-color);\n",
              "      border-top-color: var(--fill-color);\n",
              "      border-right-color: var(--fill-color);\n",
              "    }\n",
              "    40% {\n",
              "      border-color: transparent;\n",
              "      border-right-color: var(--fill-color);\n",
              "      border-top-color: var(--fill-color);\n",
              "    }\n",
              "    60% {\n",
              "      border-color: transparent;\n",
              "      border-right-color: var(--fill-color);\n",
              "    }\n",
              "    80% {\n",
              "      border-color: transparent;\n",
              "      border-right-color: var(--fill-color);\n",
              "      border-bottom-color: var(--fill-color);\n",
              "    }\n",
              "    90% {\n",
              "      border-color: transparent;\n",
              "      border-bottom-color: var(--fill-color);\n",
              "    }\n",
              "  }\n",
              "</style>\n",
              "\n",
              "  <script>\n",
              "    async function quickchart(key) {\n",
              "      const quickchartButtonEl =\n",
              "        document.querySelector('#' + key + ' button');\n",
              "      quickchartButtonEl.disabled = true;  // To prevent multiple clicks.\n",
              "      quickchartButtonEl.classList.add('colab-df-spinner');\n",
              "      try {\n",
              "        const charts = await google.colab.kernel.invokeFunction(\n",
              "            'suggestCharts', [key], {});\n",
              "      } catch (error) {\n",
              "        console.error('Error during call to suggestCharts:', error);\n",
              "      }\n",
              "      quickchartButtonEl.classList.remove('colab-df-spinner');\n",
              "      quickchartButtonEl.classList.add('colab-df-quickchart-complete');\n",
              "    }\n",
              "    (() => {\n",
              "      let quickchartButtonEl =\n",
              "        document.querySelector('#df-1acf9eaa-68ef-4d44-9b37-6a4e9608b413 button');\n",
              "      quickchartButtonEl.style.display =\n",
              "        google.colab.kernel.accessAllowed ? 'block' : 'none';\n",
              "    })();\n",
              "  </script>\n",
              "</div>\n",
              "    </div>\n",
              "  </div>\n"
            ]
          },
          "metadata": {},
          "execution_count": 40
        }
      ]
    },
    {
      "cell_type": "markdown",
      "source": [
        "We drop unrelevant columns and we export it for a possible visualization."
      ],
      "metadata": {
        "id": "IVEJHfYcsRoe"
      }
    },
    {
      "cell_type": "code",
      "source": [
        "streamgraph_final = streamgraph_dataframes['enrolment_all'].copy()\n",
        "streamgraph_final.drop(['Early childhood educational development',\n",
        "                        'Pre-primary education',\n",
        "                        'Lower secondary general education',\n",
        "                        'Lower secondary vocational education',\n",
        "                        'Upper secondary general education',\n",
        "                        'Upper secondary vocational education',\n",
        "                        'Post-secondary non-tertiary general education',\n",
        "                        'Post-secondary non-tertiary vocational education',\n",
        "                        'Short-cycle tertiary general education',\n",
        "                        'Short-cycle tertiary vocational education',\n",
        "                        'Total'], axis = 1, inplace = True)"
      ],
      "metadata": {
        "id": "QGx_pWgGF6pl"
      },
      "execution_count": null,
      "outputs": []
    },
    {
      "cell_type": "code",
      "source": [
        "streamgraph_final.to_csv('streamgraph_final.csv', index = False)"
      ],
      "metadata": {
        "id": "DI-dpm9vsSRD"
      },
      "execution_count": null,
      "outputs": []
    },
    {
      "cell_type": "markdown",
      "source": [
        "### Grouped barcharts --> we do not use this type of visualization"
      ],
      "metadata": {
        "id": "Jab1zK3BF8b-"
      }
    },
    {
      "cell_type": "code",
      "source": [
        "grouped_barchart = streamgraph_dataframes['enrolment_all'].copy()"
      ],
      "metadata": {
        "id": "1jHRm0egF_G2"
      },
      "execution_count": null,
      "outputs": []
    },
    {
      "cell_type": "markdown",
      "source": [
        "We group for low, medium and high level of education."
      ],
      "metadata": {
        "id": "hfo0qbdQsYAC"
      }
    },
    {
      "cell_type": "code",
      "source": [
        "grouped_barchart['low'] = grouped_barchart['Early childhood education'] + grouped_barchart['Primary education'] + grouped_barchart['Lower secondary education']\n",
        "grouped_barchart['medium'] = grouped_barchart['Upper secondary education'] + grouped_barchart['Post-secondary non-tertiary education']\n",
        "grouped_barchart['high'] = grouped_barchart['Tertiary education']"
      ],
      "metadata": {
        "id": "r3Q7W-YQNo8N"
      },
      "execution_count": null,
      "outputs": []
    },
    {
      "cell_type": "markdown",
      "source": [
        "We bin the ages in five different 3-years ranges."
      ],
      "metadata": {
        "id": "6gFZVCaDsdgm"
      }
    },
    {
      "cell_type": "code",
      "source": [
        "bins = [15, 18, 21, 24, 27, 30]\n",
        "labels = ['15-17 years', '18-20 years', '21-23 years', '24-26 years', '27-29 years']\n",
        "grouped_barchart['Age'] = grouped_barchart['Age'].str.extract('(\\d+)').astype(float).astype(int)\n",
        "grouped_barchart['age'] = pd.cut(grouped_barchart['Age'], bins = bins, labels = labels, right = False)"
      ],
      "metadata": {
        "id": "uIFIXtgTOLqm"
      },
      "execution_count": null,
      "outputs": []
    },
    {
      "cell_type": "markdown",
      "source": [
        "#### Low, medium, high"
      ],
      "metadata": {
        "id": "UeQgFNugLDQq"
      }
    },
    {
      "cell_type": "code",
      "source": [
        "grouped_barchart_levels = grouped_barchart.groupby('age').agg({'low': 'sum', 'medium': 'sum', 'high': 'sum'}).reset_index()\n",
        "grouped_barchart_levels.to_csv('grouped_barchart_levels.csv', index = False)"
      ],
      "metadata": {
        "id": "yTgzXPFmIf9_"
      },
      "execution_count": null,
      "outputs": []
    },
    {
      "cell_type": "code",
      "source": [
        "grouped_barchart_levels.iloc[:, 1:4] = grouped_barchart_levels.iloc[:, 1:4].div(1000).round(1)\n",
        "grouped_barchart_levels.to_csv('grouped_barchart_levelsK.csv', index = False)"
      ],
      "metadata": {
        "id": "hcq_V4emOw7d"
      },
      "execution_count": null,
      "outputs": []
    },
    {
      "cell_type": "markdown",
      "source": [
        "#### 5 groups: primary, lower secondary, upper secondary, post-secondary, tertiary"
      ],
      "metadata": {
        "id": "fPVwyIGOLNJP"
      }
    },
    {
      "cell_type": "code",
      "source": [
        "grouped_barchart5 = grouped_barchart.groupby('age').agg({'Primary education': 'sum',\n",
        "                                                         'Lower secondary education': 'sum',\n",
        "                                                         'Upper secondary education': 'sum',\n",
        "                                                         'Post-secondary non-tertiary education': 'sum',\n",
        "                                                         'Tertiary education': 'sum'}).reset_index()\n",
        "grouped_barchart5.to_csv('grouped_barchart.csv', index = False)"
      ],
      "metadata": {
        "id": "bZ3SD1aBMFIO"
      },
      "execution_count": null,
      "outputs": []
    },
    {
      "cell_type": "code",
      "source": [
        "grouped_barchart5.iloc[:, 1:6] = grouped_barchart5.iloc[:, 1:6].div(1000).round(1)\n",
        "grouped_barchart5.to_csv('grouped_barchartK.csv', index = False)"
      ],
      "metadata": {
        "id": "M5fvxutBR742"
      },
      "execution_count": null,
      "outputs": []
    },
    {
      "cell_type": "markdown",
      "source": [
        "#### 3 + tooltip"
      ],
      "metadata": {
        "id": "MyLH_BaxPhVl"
      }
    },
    {
      "cell_type": "code",
      "source": [
        "grouped_barchart_all_levels = grouped_barchart.groupby('age').agg({'low': 'sum',\n",
        "                                                            'medium': 'sum',\n",
        "                                                            'high': 'sum',\n",
        "\n",
        "                                                            'Early childhood education': 'sum',\n",
        "                                                            'Primary education': 'sum',\n",
        "                                                            'Lower secondary education': 'sum',\n",
        "\n",
        "                                                            'Upper secondary education': 'sum',\n",
        "                                                            'Post-secondary non-tertiary education': 'sum',\n",
        "\n",
        "                                                            'Short-cycle tertiary education': 'sum',\n",
        "                                                            'Bachelor’s or equivalent level': 'sum',\n",
        "                                                            'Master’s or equivalent level': 'sum',\n",
        "                                                            'Doctoral or equivalent level': 'sum'}).reset_index()\n",
        "grouped_barchart_all_levels.to_csv('grouped_barchart_all_levels.csv', index = False)"
      ],
      "metadata": {
        "id": "HmNHfjIKPw22"
      },
      "execution_count": null,
      "outputs": []
    },
    {
      "cell_type": "code",
      "source": [
        "grouped_barchart_all_levels.iloc[:, 1:6] = grouped_barchart_all_levels.iloc[:, 1:6].div(1000).round(1)\n",
        "grouped_barchart_all_levels.to_csv('grouped_barchart_all_levelsK.csv', index = False)"
      ],
      "metadata": {
        "id": "oPzGUs26VVxO"
      },
      "execution_count": null,
      "outputs": []
    },
    {
      "cell_type": "markdown",
      "source": [
        "#### 5 + tooltip"
      ],
      "metadata": {
        "id": "kdfIgkVEQ0LW"
      }
    },
    {
      "cell_type": "code",
      "source": [
        "grouped_barchart_all = grouped_barchart.groupby('age').agg({'Primary education': 'sum',\n",
        "                                                             'Lower secondary education': 'sum',\n",
        "                                                             'Upper secondary education': 'sum',\n",
        "                                                             'Post-secondary non-tertiary education': 'sum',\n",
        "                                                             'Tertiary education': 'sum',\n",
        "\n",
        "                                                             'Lower secondary general education': 'sum',\n",
        "                                                             'Lower secondary vocational education': 'sum',\n",
        "\n",
        "                                                             'Upper secondary general education': 'sum',\n",
        "                                                             'Upper secondary vocational education': 'sum',\n",
        "\n",
        "                                                             'Post-secondary non-tertiary general education': 'sum',\n",
        "                                                             'Post-secondary non-tertiary vocational education': 'sum',\n",
        "\n",
        "                                                             'Short-cycle tertiary education': 'sum',\n",
        "                                                             'Bachelor’s or equivalent level': 'sum',\n",
        "                                                             'Master’s or equivalent level': 'sum',\n",
        "                                                             'Doctoral or equivalent level': 'sum'}).reset_index()\n",
        "grouped_barchart_all.to_csv('grouped_barchart_all.csv', index = False)"
      ],
      "metadata": {
        "id": "TwxIJhqDQyIs"
      },
      "execution_count": null,
      "outputs": []
    },
    {
      "cell_type": "code",
      "source": [
        "grouped_barchart_all.iloc[:, 1:6] = grouped_barchart_all.iloc[:, 1:6].div(1000).round(1)\n",
        "grouped_barchart_all.to_csv('grouped_barchart_allK.csv', index = False)"
      ],
      "metadata": {
        "id": "O0I6vtTqVc-2"
      },
      "execution_count": null,
      "outputs": []
    }
  ]
}