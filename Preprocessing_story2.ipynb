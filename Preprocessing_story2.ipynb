{
  "nbformat": 4,
  "nbformat_minor": 0,
  "metadata": {
    "colab": {
      "provenance": [],
      "authorship_tag": "ABX9TyP3+dYHMGMdxYlzE8JzQRdC",
      "include_colab_link": true
    },
    "kernelspec": {
      "name": "python3",
      "display_name": "Python 3"
    },
    "language_info": {
      "name": "python"
    }
  },
  "cells": [
    {
      "cell_type": "markdown",
      "metadata": {
        "id": "view-in-github",
        "colab_type": "text"
      },
      "source": [
        "<a href=\"https://colab.research.google.com/github/VittorioBartolomeoSecondin/DVISProject-CAValli_Team/blob/main/Preprocessing_story2.ipynb\" target=\"_parent\"><img src=\"https://colab.research.google.com/assets/colab-badge.svg\" alt=\"Open In Colab\"/></a>"
      ]
    },
    {
      "cell_type": "markdown",
      "source": [
        "# Importing libraries and connecting to Google Drive"
      ],
      "metadata": {
        "id": "jYXUHoAb6l2w"
      }
    },
    {
      "cell_type": "code",
      "execution_count": 1,
      "metadata": {
        "colab": {
          "base_uri": "https://localhost:8080/"
        },
        "id": "X5bxYVYS6aTo",
        "outputId": "46282599-89ab-4bee-d833-fc0a2f261108"
      },
      "outputs": [
        {
          "output_type": "stream",
          "name": "stdout",
          "text": [
            "Mounted at /content/drive\n"
          ]
        }
      ],
      "source": [
        "import pandas as pd\n",
        "import matplotlib.pyplot as plt\n",
        "import numpy as np\n",
        "import glob\n",
        "import json\n",
        "import csv\n",
        "import requests\n",
        "import os\n",
        "import zipfile\n",
        "from google.colab import files\n",
        "from google.colab import drive\n",
        "drive.mount('/content/drive')"
      ]
    },
    {
      "cell_type": "markdown",
      "source": [
        "# Reading and preprocessing data"
      ],
      "metadata": {
        "id": "YivPdgm36wlH"
      }
    },
    {
      "cell_type": "code",
      "source": [
        "all_files = glob.glob(\"/content/drive/MyDrive/DV_project/story2/*.xlsx\")\n",
        "all_files.sort()\n",
        "print(all_files)"
      ],
      "metadata": {
        "colab": {
          "base_uri": "https://localhost:8080/"
        },
        "id": "PU8YUJ2E6w-H",
        "outputId": "9cdfd2ec-f524-4d93-cf93-a292f034d832"
      },
      "execution_count": 2,
      "outputs": [
        {
          "output_type": "stream",
          "name": "stdout",
          "text": [
            "['/content/drive/MyDrive/DV_project/story2/early_leavers_by_sex_labour.xlsx', '/content/drive/MyDrive/DV_project/story2/pop_edu_sex_age_absolute.xlsx', '/content/drive/MyDrive/DV_project/story2/pop_edu_sex_age_percentage.xlsx', '/content/drive/MyDrive/DV_project/story2/poverty_exclusion_risk.xlsx', '/content/drive/MyDrive/DV_project/story2/poverty_exclusion_risk_by_age.xlsx', '/content/drive/MyDrive/DV_project/story2/poverty_exclusion_risk_by_education.xlsx']\n"
          ]
        }
      ]
    },
    {
      "cell_type": "markdown",
      "source": [
        "## Education level: absolute value"
      ],
      "metadata": {
        "id": "3zcBvZmqh3IG"
      }
    },
    {
      "cell_type": "markdown",
      "source": [
        "We import the 36 sheets of the *pop_edu_sex_age_absolute* excel file (skipping useless rows/columns and avoiding the print of unharmful warnings) in a dictionary of datasets named *education_abs_sheets*."
      ],
      "metadata": {
        "id": "lzecIhphxsLr"
      }
    },
    {
      "cell_type": "code",
      "source": [
        "years = range(2009, 2023)\n",
        "sheet_names = [f'Sheet {i}' for i in range(1, 37)]\n",
        "file_path = '/content/drive/MyDrive/DV_project/story2/pop_edu_sex_age_absolute.xlsx'\n",
        "rows_to_skip = list(range(0, 10)) + [11, 12, 13, 44] + list(range(49, 58))\n",
        "selected_columns = ['TIME'] + [str(year) for year in years]\n",
        "\n",
        "# Just to suppress the unharmful warnings we were getting\n",
        "import warnings\n",
        "with warnings.catch_warnings():\n",
        "    warnings.filterwarnings(\"ignore\", category = UserWarning, module = \"openpyxl\")\n",
        "    # Dictionary with datasets: 'education_abs_sheet1', ..., 'education_abs_sheet36'\n",
        "    education_abs_sheets = {f'education_abs_sheet{i}': pd.read_excel(file_path, sheet_name = sheet_name, skiprows = rows_to_skip, na_values = ':', usecols = selected_columns)\n",
        "                            for i, sheet_name in enumerate(sheet_names, start = 1)}"
      ],
      "metadata": {
        "id": "PUNxFSzS3wN4"
      },
      "execution_count": 36,
      "outputs": []
    },
    {
      "cell_type": "markdown",
      "source": [
        "We create 2 dictionaries linking each country to its short abbreviation (*country_abbreviations*) and viceversa (*country_abbreviations_reversed*)."
      ],
      "metadata": {
        "id": "MOTxKCJCx99z"
      }
    },
    {
      "cell_type": "code",
      "source": [
        "country_abbreviations = {\n",
        "    'European Union - 27 countries (from 2020)': 'EU',\n",
        "    'Belgium': 'BEL',\n",
        "    'Bulgaria': 'BGR',\n",
        "    'Czechia': 'CZE',\n",
        "    'Denmark': 'DNK',\n",
        "    'Germany': 'DEU',\n",
        "    'Estonia': 'EST',\n",
        "    'Ireland': 'IRL',\n",
        "    'Greece': 'GRC',\n",
        "    'Spain': 'ESP',\n",
        "    'France': 'FRA',\n",
        "    'Croatia': 'HRV',\n",
        "    'Italy': 'ITA',\n",
        "    'Cyprus': 'CYP',\n",
        "    'Latvia': 'LVA',\n",
        "    'Lithuania': 'LTU',\n",
        "    'Luxembourg': 'LUX',\n",
        "    'Hungary': 'HUN',\n",
        "    'Malta': 'MLT',\n",
        "    'Netherlands': 'NLD',\n",
        "    'Austria': 'AUT',\n",
        "    'Poland': 'POL',\n",
        "    'Portugal': 'PRT',\n",
        "    'Romania': 'ROU',\n",
        "    'Slovenia': 'SVN',\n",
        "    'Slovakia': 'SVK',\n",
        "    'Finland': 'FIN',\n",
        "    'Sweden': 'SWE',\n",
        "    'Iceland': 'ISL',\n",
        "    'Norway': 'NOR',\n",
        "    'Switzerland': 'CHE',\n",
        "    'Montenegro': 'MNE',\n",
        "    'North Macedonia': 'MKD',\n",
        "    'Serbia': 'SRB',\n",
        "    'Türkiye': 'TUR',\n",
        "}\n",
        "\n",
        "country_abbreviations_reversed = {value: key for key, value in country_abbreviations.items()}"
      ],
      "metadata": {
        "id": "7nS7WfqZRFyr"
      },
      "execution_count": 25,
      "outputs": []
    },
    {
      "cell_type": "markdown",
      "source": [
        "We add a column *Abbreviation* to the 36 datasets."
      ],
      "metadata": {
        "id": "EQNuBYFaySE9"
      }
    },
    {
      "cell_type": "code",
      "source": [
        "for i in range(1, 37):\n",
        "    education_abs_sheets[f'education_abs_sheet{i}'].rename(columns = {'TIME': 'Country'}, inplace = True)\n",
        "    education_abs_sheets[f'education_abs_sheet{i}']['Abbreviation'] = education_abs_sheets[f'education_abs_sheet{i}']['Country'].map(country_abbreviations)"
      ],
      "metadata": {
        "id": "-2kCGOau4-n3"
      },
      "execution_count": 5,
      "outputs": []
    },
    {
      "cell_type": "markdown",
      "source": [
        "We sum data about 15-24 y.o. people and data about 25-29 y.o. people to have data coherent to what we used in story 1 (people aged between 15 and 29).\n",
        "\n",
        "We create 3 different dataset, one for each educational level (low, medium and high)."
      ],
      "metadata": {
        "id": "4gMGCDqf-t0H"
      }
    },
    {
      "cell_type": "code",
      "source": [
        "low1 = education_abs_sheets['education_abs_sheet2']\n",
        "low2 = education_abs_sheets['education_abs_sheet8']\n",
        "\n",
        "medium1 = education_abs_sheets['education_abs_sheet3']\n",
        "medium2 = education_abs_sheets['education_abs_sheet9']\n",
        "\n",
        "high1 = education_abs_sheets['education_abs_sheet6']\n",
        "high2 = education_abs_sheets['education_abs_sheet12']"
      ],
      "metadata": {
        "id": "qKQ9FWIb-t7M"
      },
      "execution_count": 6,
      "outputs": []
    },
    {
      "cell_type": "code",
      "source": [
        "low1.set_index(['Country', 'Abbreviation'], inplace = True)\n",
        "low2.set_index(['Country', 'Abbreviation'], inplace = True)\n",
        "low = low1.fillna(1000000).add(low2.fillna(1000000), fill_value = 0).round(1)\n",
        "low = low.where(low < 1000000)\n",
        "low1.reset_index(inplace = True)\n",
        "low2.reset_index(inplace = True)\n",
        "low.reset_index(inplace = True)"
      ],
      "metadata": {
        "id": "G0iNZ2w9EA-9"
      },
      "execution_count": 7,
      "outputs": []
    },
    {
      "cell_type": "code",
      "source": [
        "medium1.set_index(['Country', 'Abbreviation'], inplace = True)\n",
        "medium2.set_index(['Country', 'Abbreviation'], inplace = True)\n",
        "medium = medium1.fillna(1000000).add(medium2.fillna(1000000), fill_value = 0).round(1)\n",
        "medium = medium.where(medium < 1000000)\n",
        "medium1.reset_index(inplace = True)\n",
        "medium2.reset_index(inplace = True)\n",
        "medium.reset_index(inplace = True)"
      ],
      "metadata": {
        "id": "RC0Vnk9GEY_O"
      },
      "execution_count": 8,
      "outputs": []
    },
    {
      "cell_type": "code",
      "source": [
        "high1.set_index(['Country', 'Abbreviation'], inplace = True)\n",
        "high2.set_index(['Country', 'Abbreviation'], inplace = True)\n",
        "high = high1.fillna(1000000).add(high2.fillna(1000000), fill_value = 0).round(1)\n",
        "high = high.where(high < 1000000)\n",
        "high1.reset_index(inplace = True)\n",
        "high2.reset_index(inplace = True)\n",
        "high.reset_index(inplace = True)"
      ],
      "metadata": {
        "id": "rcOim5UsC8Y9"
      },
      "execution_count": 9,
      "outputs": []
    },
    {
      "cell_type": "markdown",
      "source": [
        "### Stacked barchart"
      ],
      "metadata": {
        "id": "pLqkYUNBflcB"
      }
    },
    {
      "cell_type": "markdown",
      "source": [
        "We create one dataset for each year to use for the stacked barchart (percentage)."
      ],
      "metadata": {
        "id": "2OD8Ki7GkCY0"
      }
    },
    {
      "cell_type": "code",
      "source": [
        "def create_stacked_dataset(year):\n",
        "    stacked = pd.DataFrame()\n",
        "\n",
        "    low_year = low[['Country', 'Abbreviation', year]].rename(columns = {year: 'low'})\n",
        "    medium_year = medium[['Country', 'Abbreviation', year]].rename(columns = {year: 'medium'})\n",
        "    high_year = high[['Country', 'Abbreviation', year]].rename(columns = {year: 'high'})\n",
        "\n",
        "    stacked = pd.merge(low_year, medium_year, on = ['Country', 'Abbreviation'])\n",
        "    stacked = pd.merge(stacked, high_year, on = ['Country', 'Abbreviation'])\n",
        "    stacked = stacked.dropna(subset = ['low', 'medium', 'high'])\n",
        "\n",
        "    return stacked\n",
        "\n",
        "for year in range(2009, 2023):\n",
        "    stacked_year = create_stacked_dataset(str(year))\n",
        "    stacked_year = stacked_year.sort_values(by = 'Country')\n",
        "    stacked_year.to_csv(f\"stacked{year}.csv\", index = False, na_rep = 'nan')\n",
        "\n",
        "for year in range(2009, 2023):\n",
        "    stacked_year = create_stacked_dataset(str(year))\n",
        "    stacked_year = stacked_year.sort_values(by = 'low', ascending = False)\n",
        "    stacked_year.to_csv(f\"stacked{year}_low.csv\", index = False, na_rep = 'nan')"
      ],
      "metadata": {
        "id": "_-Qq06FDkBzf"
      },
      "execution_count": 10,
      "outputs": []
    },
    {
      "cell_type": "markdown",
      "source": [
        "### Donut charts"
      ],
      "metadata": {
        "id": "plZLMqTWfqW5"
      }
    },
    {
      "cell_type": "markdown",
      "source": [
        "We do the same for males."
      ],
      "metadata": {
        "id": "hqoh1FqT_CKc"
      }
    },
    {
      "cell_type": "code",
      "source": [
        "low1_M = education_abs_sheets['education_abs_sheet14']\n",
        "low2_M = education_abs_sheets['education_abs_sheet20']\n",
        "\n",
        "medium1_M = education_abs_sheets['education_abs_sheet15']\n",
        "medium2_M = education_abs_sheets['education_abs_sheet21']\n",
        "\n",
        "high1_M = education_abs_sheets['education_abs_sheet18']\n",
        "high2_M = education_abs_sheets['education_abs_sheet24']"
      ],
      "metadata": {
        "id": "8NYoor1kxbt0"
      },
      "execution_count": 10,
      "outputs": []
    },
    {
      "cell_type": "code",
      "source": [
        "low1_M.set_index(['Country', 'Abbreviation'], inplace = True)\n",
        "low2_M.set_index(['Country', 'Abbreviation'], inplace = True)\n",
        "low_M = low1_M.fillna(1000000).add(low2_M.fillna(1000000), fill_value = 0).round(1)\n",
        "low_M = low_M.where(low_M < 1000000)\n",
        "low1_M.reset_index(inplace = True)\n",
        "low2_M.reset_index(inplace = True)\n",
        "low_M.reset_index(inplace = True)"
      ],
      "metadata": {
        "id": "hdUgMC0iSHnm"
      },
      "execution_count": 11,
      "outputs": []
    },
    {
      "cell_type": "code",
      "source": [
        "medium1_M.set_index(['Country', 'Abbreviation'], inplace = True)\n",
        "medium2_M.set_index(['Country', 'Abbreviation'], inplace = True)\n",
        "medium_M = medium1_M.fillna(1000000).add(medium2_M.fillna(1000000), fill_value = 0).round(1)\n",
        "medium_M = medium_M.where(medium_M < 1000000)\n",
        "medium1_M.reset_index(inplace = True)\n",
        "medium2_M.reset_index(inplace = True)\n",
        "medium_M.reset_index(inplace = True)"
      ],
      "metadata": {
        "id": "4szl6vdVSHno"
      },
      "execution_count": 12,
      "outputs": []
    },
    {
      "cell_type": "code",
      "source": [
        "high1_M.set_index(['Country', 'Abbreviation'], inplace = True)\n",
        "high2_M.set_index(['Country', 'Abbreviation'], inplace = True)\n",
        "high_M = high1_M.fillna(1000000).add(high2_M.fillna(1000000), fill_value = 0).round(1)\n",
        "high_M = high_M.where(high_M < 1000000)\n",
        "high1_M.reset_index(inplace = True)\n",
        "high2_M.reset_index(inplace = True)\n",
        "high_M.reset_index(inplace = True)"
      ],
      "metadata": {
        "id": "THdQn0BxSHno"
      },
      "execution_count": 13,
      "outputs": []
    },
    {
      "cell_type": "markdown",
      "source": [
        "We do the same for females."
      ],
      "metadata": {
        "id": "_gUnhfm_SPtZ"
      }
    },
    {
      "cell_type": "code",
      "source": [
        "low1_F = education_abs_sheets['education_abs_sheet26']\n",
        "low2_F = education_abs_sheets['education_abs_sheet32']\n",
        "\n",
        "medium1_F = education_abs_sheets['education_abs_sheet27']\n",
        "medium2_F = education_abs_sheets['education_abs_sheet33']\n",
        "\n",
        "high1_F = education_abs_sheets['education_abs_sheet30']\n",
        "high2_F = education_abs_sheets['education_abs_sheet36']"
      ],
      "metadata": {
        "id": "l-XJ24F4SSps"
      },
      "execution_count": 14,
      "outputs": []
    },
    {
      "cell_type": "code",
      "source": [
        "low1_F.set_index(['Country', 'Abbreviation'], inplace = True)\n",
        "low2_F.set_index(['Country', 'Abbreviation'], inplace = True)\n",
        "low_F = low1_F.fillna(1000000).add(low2_F.fillna(1000000), fill_value = 0).round(1)\n",
        "low_F = low_F.where(low_F < 1000000)\n",
        "low1_F.reset_index(inplace = True)\n",
        "low2_F.reset_index(inplace = True)\n",
        "low_F.reset_index(inplace = True)"
      ],
      "metadata": {
        "id": "VaHGENMfSSp1"
      },
      "execution_count": 15,
      "outputs": []
    },
    {
      "cell_type": "code",
      "source": [
        "medium1_F.set_index(['Country', 'Abbreviation'], inplace = True)\n",
        "medium2_F.set_index(['Country', 'Abbreviation'], inplace = True)\n",
        "medium_F = medium1_F.fillna(1000000).add(medium2_F.fillna(1000000), fill_value = 0).round(1)\n",
        "medium_F = medium_F.where(medium_F < 1000000)\n",
        "medium1_F.reset_index(inplace = True)\n",
        "medium2_F.reset_index(inplace = True)\n",
        "medium_F.reset_index(inplace = True)"
      ],
      "metadata": {
        "id": "Ea1o7M7sSSp1"
      },
      "execution_count": 16,
      "outputs": []
    },
    {
      "cell_type": "code",
      "source": [
        "high1_F.set_index(['Country', 'Abbreviation'], inplace = True)\n",
        "high2_F.set_index(['Country', 'Abbreviation'], inplace = True)\n",
        "high_F = high1_F.fillna(1000000).add(high2_F.fillna(1000000), fill_value = 0).round(1)\n",
        "high_F = high_F.where(high_F < 1000000)\n",
        "high1_F.reset_index(inplace = True)\n",
        "high2_F.reset_index(inplace = True)\n",
        "high_F.reset_index(inplace = True)"
      ],
      "metadata": {
        "id": "ga6OpcaqSSp2"
      },
      "execution_count": 17,
      "outputs": []
    },
    {
      "cell_type": "markdown",
      "source": [
        "We extract info on differences between M and F."
      ],
      "metadata": {
        "id": "0BrzXrKbs2AM"
      }
    },
    {
      "cell_type": "code",
      "source": [
        "levels = ['low', 'medium', 'high']\n",
        "genders = ['M', 'F']\n",
        "\n",
        "sum_datasets = {}\n",
        "difference_datasets = {}\n",
        "percentage_datasets = {}\n",
        "\n",
        "for level in levels:\n",
        "    for gender in genders:\n",
        "\n",
        "        male_dataframe = f\"{level}_M\"\n",
        "        female_dataframe = f\"{level}_F\"\n",
        "        sum_dataframe = f\"{level}_sum\"\n",
        "        difference_dataframe = f\"{level}_difference\"\n",
        "        percentage_dataframe = f\"{level}_percentage\"\n",
        "\n",
        "        male_df = locals()[male_dataframe]\n",
        "        female_df = locals()[female_dataframe]\n",
        "\n",
        "        sum_df = male_df.copy()\n",
        "        sum_df.iloc[:, 2:] = male_df.iloc[:, 2:] + female_df.iloc[:, 2:]\n",
        "        sum_datasets[sum_dataframe] = sum_df\n",
        "\n",
        "        difference_df = male_df.copy()\n",
        "        difference_df.iloc[:, 2:] = male_df.iloc[:, 2:] - female_df.iloc[:, 2:]\n",
        "        difference_datasets[difference_dataframe] = difference_df\n",
        "\n",
        "        percentage_df = male_df.copy()\n",
        "        percentage_df.iloc[:, 2:] = (difference_df.iloc[:, 2:] / sum_df.iloc[:, 2:]) * 100\n",
        "        percentage_datasets[percentage_dataframe] = percentage_df"
      ],
      "metadata": {
        "id": "LmIQboTktGf_"
      },
      "execution_count": 18,
      "outputs": []
    },
    {
      "cell_type": "markdown",
      "source": [
        "For each year (from 2009 to 2022) we retrieve the top 3 countries with highest percentual difference between M and F (for low, medium and high education level), considering just the ABSOLUTE VALUE of this percentage (NOT considering the sign)."
      ],
      "metadata": {
        "id": "T0Pb4gLk75zr"
      }
    },
    {
      "cell_type": "code",
      "source": [
        "def ordinal(n):\n",
        "    suffix = 'th' if 11 <= n <= 13 else {1: 'st', 2: 'nd', 3: 'rd'}.get(n % 10, 'th')\n",
        "    return f\"{n}{suffix}\"\n",
        "\n",
        "# Function to convert the percentage column to numeric\n",
        "def convert_to_numeric(df, column):\n",
        "    df[column] = pd.to_numeric(df[column], errors = 'coerce')\n",
        "    return df\n",
        "\n",
        "level_datasets = {\n",
        "    'low': {'M': low_M, 'F': low_F},\n",
        "    'medium': {'M': medium_M, 'F': medium_F},\n",
        "    'high': {'M': high_M, 'F': high_F}\n",
        "}\n",
        "\n",
        "for year in range(2009, 2023):\n",
        "    print(f\"\\nIn the year {year}:\")\n",
        "    donut_data = []\n",
        "    for level in levels:\n",
        "        percentage_df = percentage_datasets[f\"{level}_percentage\"]\n",
        "\n",
        "        # Reshape data using melt\n",
        "        melted_df = pd.melt(percentage_df, id_vars = ['Country'], var_name = 'Year', value_name = f\"{level}_difference\")\n",
        "\n",
        "        # Convert 'Year' and difference columns to numeric\n",
        "        melted_df = convert_to_numeric(melted_df, 'Year')\n",
        "        melted_df = convert_to_numeric(melted_df, f\"{level}_difference\")\n",
        "\n",
        "        # Get the top 3 countries with the highest difference in absolute percentage\n",
        "        top_countries = melted_df[melted_df['Year'] == year].sort_values(by = f\"{level}_difference\", key = lambda x: x.abs(), ascending = False).head(3)[['Country', f\"{level}_difference\"]]\n",
        "\n",
        "        for i, (country, percentage) in enumerate(top_countries.itertuples(index = False, name = None), start = 1):\n",
        "            print(f\"The {ordinal(i)} country with the highest difference in percentage between M and F for {level} education is {country} with a percentage of {percentage:.2f}%\")\n",
        "            valueM = level_datasets[level]['M'].loc[ level_datasets[level]['M']['Country'] == country, str(year) ].values[0]\n",
        "            valueF = level_datasets[level]['F'].loc[ level_datasets[level]['F']['Country'] == country, str(year) ].values[0]\n",
        "            donut_data.append({'name': country, 'abbreviation': country_abbreviations.get(country),'level': level, 'rank': i, 'valueM': valueM, 'valueF': valueF})\n",
        "\n",
        "    donut_df = pd.DataFrame(donut_data)\n",
        "    donut_df.to_csv(f\"donut{year}.csv\", index = False)"
      ],
      "metadata": {
        "id": "Cpc-gHI449Qk",
        "outputId": "7aabdfe5-2bee-41f2-884c-09b9c24ead02",
        "colab": {
          "base_uri": "https://localhost:8080/"
        }
      },
      "execution_count": 21,
      "outputs": [
        {
          "output_type": "stream",
          "name": "stdout",
          "text": [
            "\n",
            "In the year 2009:\n",
            "The 1st country with the highest difference in percentage between M and F for low education is Spain with a percentage of 14.90%\n",
            "The 2nd country with the highest difference in percentage between M and F for low education is Greece with a percentage of 12.12%\n",
            "The 3rd country with the highest difference in percentage between M and F for low education is Malta with a percentage of 11.71%\n",
            "The 1st country with the highest difference in percentage between M and F for medium education is Bulgaria with a percentage of 12.53%\n",
            "The 2nd country with the highest difference in percentage between M and F for medium education is Türkiye with a percentage of 11.79%\n",
            "The 3rd country with the highest difference in percentage between M and F for medium education is North Macedonia with a percentage of 11.33%\n",
            "The 1st country with the highest difference in percentage between M and F for high education is Croatia with a percentage of -33.95%\n",
            "The 2nd country with the highest difference in percentage between M and F for high education is Slovenia with a percentage of -32.77%\n",
            "The 3rd country with the highest difference in percentage between M and F for high education is Estonia with a percentage of -32.51%\n",
            "\n",
            "In the year 2010:\n",
            "The 1st country with the highest difference in percentage between M and F for low education is Malta with a percentage of 18.39%\n",
            "The 2nd country with the highest difference in percentage between M and F for low education is Spain with a percentage of 14.86%\n",
            "The 3rd country with the highest difference in percentage between M and F for low education is Estonia with a percentage of 13.27%\n",
            "The 1st country with the highest difference in percentage between M and F for medium education is Bulgaria with a percentage of 11.69%\n",
            "The 2nd country with the highest difference in percentage between M and F for medium education is North Macedonia with a percentage of 11.64%\n",
            "The 3rd country with the highest difference in percentage between M and F for medium education is Türkiye with a percentage of 10.07%\n",
            "The 1st country with the highest difference in percentage between M and F for high education is Latvia with a percentage of -36.73%\n",
            "The 2nd country with the highest difference in percentage between M and F for high education is Slovenia with a percentage of -33.33%\n",
            "The 3rd country with the highest difference in percentage between M and F for high education is Estonia with a percentage of -33.20%\n",
            "\n",
            "In the year 2011:\n",
            "The 1st country with the highest difference in percentage between M and F for low education is Malta with a percentage of 20.00%\n",
            "The 2nd country with the highest difference in percentage between M and F for low education is Spain with a percentage of 14.88%\n",
            "The 3rd country with the highest difference in percentage between M and F for low education is Slovenia with a percentage of 13.70%\n",
            "The 1st country with the highest difference in percentage between M and F for medium education is North Macedonia with a percentage of 12.45%\n",
            "The 2nd country with the highest difference in percentage between M and F for medium education is Bulgaria with a percentage of 11.25%\n",
            "The 3rd country with the highest difference in percentage between M and F for medium education is Serbia with a percentage of 10.51%\n",
            "The 1st country with the highest difference in percentage between M and F for high education is Slovenia with a percentage of -37.40%\n",
            "The 2nd country with the highest difference in percentage between M and F for high education is Latvia with a percentage of -34.00%\n",
            "The 3rd country with the highest difference in percentage between M and F for high education is Cyprus with a percentage of -28.47%\n",
            "\n",
            "In the year 2012:\n",
            "The 1st country with the highest difference in percentage between M and F for low education is Malta with a percentage of 15.79%\n",
            "The 2nd country with the highest difference in percentage between M and F for low education is Latvia with a percentage of 14.77%\n",
            "The 3rd country with the highest difference in percentage between M and F for low education is Spain with a percentage of 14.08%\n",
            "The 1st country with the highest difference in percentage between M and F for medium education is North Macedonia with a percentage of 14.04%\n",
            "The 2nd country with the highest difference in percentage between M and F for medium education is Serbia with a percentage of 10.91%\n",
            "The 3rd country with the highest difference in percentage between M and F for medium education is Poland with a percentage of 10.07%\n",
            "The 1st country with the highest difference in percentage between M and F for high education is Latvia with a percentage of -33.25%\n",
            "The 2nd country with the highest difference in percentage between M and F for high education is Slovenia with a percentage of -31.95%\n",
            "The 3rd country with the highest difference in percentage between M and F for high education is Finland with a percentage of -29.16%\n",
            "\n",
            "In the year 2013:\n",
            "The 1st country with the highest difference in percentage between M and F for low education is Malta with a percentage of 17.47%\n",
            "The 2nd country with the highest difference in percentage between M and F for low education is Latvia with a percentage of 14.47%\n",
            "The 3rd country with the highest difference in percentage between M and F for low education is Iceland with a percentage of 13.31%\n",
            "The 1st country with the highest difference in percentage between M and F for medium education is North Macedonia with a percentage of 15.99%\n",
            "The 2nd country with the highest difference in percentage between M and F for medium education is Bulgaria with a percentage of 10.98%\n",
            "The 3rd country with the highest difference in percentage between M and F for medium education is Slovenia with a percentage of 9.88%\n",
            "The 1st country with the highest difference in percentage between M and F for high education is Portugal with a percentage of -31.81%\n",
            "The 2nd country with the highest difference in percentage between M and F for high education is Latvia with a percentage of -31.56%\n",
            "The 3rd country with the highest difference in percentage between M and F for high education is Cyprus with a percentage of -31.20%\n",
            "\n",
            "In the year 2014:\n",
            "The 1st country with the highest difference in percentage between M and F for low education is Estonia with a percentage of 17.31%\n",
            "The 2nd country with the highest difference in percentage between M and F for low education is Malta with a percentage of 15.15%\n",
            "The 3rd country with the highest difference in percentage between M and F for low education is Iceland with a percentage of 14.19%\n",
            "The 1st country with the highest difference in percentage between M and F for medium education is Cyprus with a percentage of 18.00%\n",
            "The 2nd country with the highest difference in percentage between M and F for medium education is North Macedonia with a percentage of 12.57%\n",
            "The 3rd country with the highest difference in percentage between M and F for medium education is Slovakia with a percentage of 10.98%\n",
            "The 1st country with the highest difference in percentage between M and F for high education is Cyprus with a percentage of -36.42%\n",
            "The 2nd country with the highest difference in percentage between M and F for high education is Latvia with a percentage of -27.51%\n",
            "The 3rd country with the highest difference in percentage between M and F for high education is Portugal with a percentage of -26.73%\n",
            "\n",
            "In the year 2015:\n",
            "The 1st country with the highest difference in percentage between M and F for low education is Malta with a percentage of 14.40%\n",
            "The 2nd country with the highest difference in percentage between M and F for low education is Spain with a percentage of 14.02%\n",
            "The 3rd country with the highest difference in percentage between M and F for low education is Iceland with a percentage of 13.46%\n",
            "The 1st country with the highest difference in percentage between M and F for medium education is Cyprus with a percentage of 14.73%\n",
            "The 2nd country with the highest difference in percentage between M and F for medium education is Latvia with a percentage of 12.18%\n",
            "The 3rd country with the highest difference in percentage between M and F for medium education is North Macedonia with a percentage of 11.88%\n",
            "The 1st country with the highest difference in percentage between M and F for high education is Cyprus with a percentage of -34.89%\n",
            "The 2nd country with the highest difference in percentage between M and F for high education is Latvia with a percentage of -34.79%\n",
            "The 3rd country with the highest difference in percentage between M and F for high education is Finland with a percentage of -26.84%\n",
            "\n",
            "In the year 2016:\n",
            "The 1st country with the highest difference in percentage between M and F for low education is Malta with a percentage of 21.21%\n",
            "The 2nd country with the highest difference in percentage between M and F for low education is Iceland with a percentage of 15.75%\n",
            "The 3rd country with the highest difference in percentage between M and F for low education is Estonia with a percentage of 13.85%\n",
            "The 1st country with the highest difference in percentage between M and F for medium education is Cyprus with a percentage of 15.64%\n",
            "The 2nd country with the highest difference in percentage between M and F for medium education is North Macedonia with a percentage of 13.79%\n",
            "The 3rd country with the highest difference in percentage between M and F for medium education is Montenegro with a percentage of 12.63%\n",
            "The 1st country with the highest difference in percentage between M and F for high education is Estonia with a percentage of -33.63%\n",
            "The 2nd country with the highest difference in percentage between M and F for high education is Cyprus with a percentage of -33.57%\n",
            "The 3rd country with the highest difference in percentage between M and F for high education is Latvia with a percentage of -28.07%\n",
            "\n",
            "In the year 2017:\n",
            "The 1st country with the highest difference in percentage between M and F for low education is Malta with a percentage of 21.93%\n",
            "The 2nd country with the highest difference in percentage between M and F for low education is Estonia with a percentage of 13.99%\n",
            "The 3rd country with the highest difference in percentage between M and F for low education is Portugal with a percentage of 13.20%\n",
            "The 1st country with the highest difference in percentage between M and F for medium education is Cyprus with a percentage of 16.48%\n",
            "The 2nd country with the highest difference in percentage between M and F for medium education is Montenegro with a percentage of 15.78%\n",
            "The 3rd country with the highest difference in percentage between M and F for medium education is Slovakia with a percentage of 12.30%\n",
            "The 1st country with the highest difference in percentage between M and F for high education is Estonia with a percentage of -31.63%\n",
            "The 2nd country with the highest difference in percentage between M and F for high education is Cyprus with a percentage of -30.12%\n",
            "The 3rd country with the highest difference in percentage between M and F for high education is Portugal with a percentage of -29.73%\n",
            "\n",
            "In the year 2018:\n",
            "The 1st country with the highest difference in percentage between M and F for low education is Malta with a percentage of 16.67%\n",
            "The 2nd country with the highest difference in percentage between M and F for low education is Iceland with a percentage of 13.90%\n",
            "The 3rd country with the highest difference in percentage between M and F for low education is Spain with a percentage of 13.17%\n",
            "The 1st country with the highest difference in percentage between M and F for medium education is Cyprus with a percentage of 14.92%\n",
            "The 2nd country with the highest difference in percentage between M and F for medium education is Montenegro with a percentage of 12.74%\n",
            "The 3rd country with the highest difference in percentage between M and F for medium education is Slovakia with a percentage of 11.86%\n",
            "The 1st country with the highest difference in percentage between M and F for high education is Cyprus with a percentage of -27.70%\n",
            "The 2nd country with the highest difference in percentage between M and F for high education is Portugal with a percentage of -26.94%\n",
            "The 3rd country with the highest difference in percentage between M and F for high education is Estonia with a percentage of -25.67%\n",
            "\n",
            "In the year 2019:\n",
            "The 1st country with the highest difference in percentage between M and F for low education is Iceland with a percentage of 18.44%\n",
            "The 2nd country with the highest difference in percentage between M and F for low education is Spain with a percentage of 14.96%\n",
            "The 3rd country with the highest difference in percentage between M and F for low education is Malta with a percentage of 14.42%\n",
            "The 1st country with the highest difference in percentage between M and F for medium education is Croatia with a percentage of 13.76%\n",
            "The 2nd country with the highest difference in percentage between M and F for medium education is Cyprus with a percentage of 13.64%\n",
            "The 3rd country with the highest difference in percentage between M and F for medium education is Sweden with a percentage of 11.90%\n",
            "The 1st country with the highest difference in percentage between M and F for high education is Croatia with a percentage of -35.20%\n",
            "The 2nd country with the highest difference in percentage between M and F for high education is Estonia with a percentage of -29.03%\n",
            "The 3rd country with the highest difference in percentage between M and F for high education is Cyprus with a percentage of -28.67%\n",
            "\n",
            "In the year 2020:\n",
            "The 1st country with the highest difference in percentage between M and F for low education is Malta with a percentage of 21.69%\n",
            "The 2nd country with the highest difference in percentage between M and F for low education is Iceland with a percentage of 16.13%\n",
            "The 3rd country with the highest difference in percentage between M and F for low education is Spain with a percentage of 14.55%\n",
            "The 1st country with the highest difference in percentage between M and F for medium education is Norway with a percentage of 13.66%\n",
            "The 2nd country with the highest difference in percentage between M and F for medium education is Slovenia with a percentage of 13.08%\n",
            "The 3rd country with the highest difference in percentage between M and F for medium education is Slovakia with a percentage of 12.95%\n",
            "The 1st country with the highest difference in percentage between M and F for high education is Croatia with a percentage of -28.94%\n",
            "The 2nd country with the highest difference in percentage between M and F for high education is Latvia with a percentage of -28.21%\n",
            "The 3rd country with the highest difference in percentage between M and F for high education is Cyprus with a percentage of -28.06%\n",
            "\n",
            "In the year 2021:\n",
            "The 1st country with the highest difference in percentage between M and F for low education is Malta with a percentage of 25.88%\n",
            "The 2nd country with the highest difference in percentage between M and F for low education is Iceland with a percentage of 16.31%\n",
            "The 3rd country with the highest difference in percentage between M and F for low education is Portugal with a percentage of 13.18%\n",
            "The 1st country with the highest difference in percentage between M and F for medium education is Slovakia with a percentage of 14.02%\n",
            "The 2nd country with the highest difference in percentage between M and F for medium education is Malta with a percentage of 11.75%\n",
            "The 3rd country with the highest difference in percentage between M and F for medium education is Slovenia with a percentage of 11.50%\n",
            "The 1st country with the highest difference in percentage between M and F for high education is Slovakia with a percentage of -28.45%\n",
            "The 2nd country with the highest difference in percentage between M and F for high education is Portugal with a percentage of -24.93%\n",
            "The 3rd country with the highest difference in percentage between M and F for high education is Croatia with a percentage of -23.10%\n",
            "\n",
            "In the year 2022:\n",
            "The 1st country with the highest difference in percentage between M and F for low education is Malta with a percentage of 17.32%\n",
            "The 2nd country with the highest difference in percentage between M and F for low education is Iceland with a percentage of 11.86%\n",
            "The 3rd country with the highest difference in percentage between M and F for low education is Portugal with a percentage of 11.80%\n",
            "The 1st country with the highest difference in percentage between M and F for medium education is Slovenia with a percentage of 14.75%\n",
            "The 2nd country with the highest difference in percentage between M and F for medium education is Slovakia with a percentage of 14.59%\n",
            "The 3rd country with the highest difference in percentage between M and F for medium education is Malta with a percentage of 11.92%\n",
            "The 1st country with the highest difference in percentage between M and F for high education is Croatia with a percentage of -28.58%\n",
            "The 2nd country with the highest difference in percentage between M and F for high education is Slovakia with a percentage of -27.86%\n",
            "The 3rd country with the highest difference in percentage between M and F for high education is Latvia with a percentage of -27.71%\n"
          ]
        }
      ]
    },
    {
      "cell_type": "markdown",
      "source": [
        "For each year (from 2009 to 2022) we retrieve the top 3 countries with highest percentual difference between M and F (for low, medium and high education level), considering THE SIGN of this percentage (NOT considering the absolute value)."
      ],
      "metadata": {
        "id": "_-9ZbPsP7yOx"
      }
    },
    {
      "cell_type": "code",
      "source": [
        "for year in range(2009, 2023):\n",
        "    print(f\"\\nIn the year {year}:\")\n",
        "\n",
        "    for level in levels:\n",
        "        percentage_df = percentage_datasets[f\"{level}_percentage\"]\n",
        "\n",
        "        # Reshape data using melt\n",
        "        melted_df = pd.melt(percentage_df, id_vars=['Country'], var_name='Year', value_name=f\"{level}_difference\")\n",
        "\n",
        "        # Convert 'Year' and difference columns to numeric\n",
        "        melted_df = convert_to_numeric(melted_df, 'Year')\n",
        "        melted_df = convert_to_numeric(melted_df, f\"{level}_difference\")\n",
        "\n",
        "        # Get the top 3 countries with the highest difference in percentage\n",
        "        top_countries = melted_df[melted_df['Year'] == year].nlargest(3, f\"{level}_difference\")[['Country', f\"{level}_difference\"]]\n",
        "\n",
        "        # Print information for each country\n",
        "        for i, (country, percentage) in enumerate(top_countries.itertuples(index = False, name = None), start=1):\n",
        "            print(f\"The {ordinal(i)} country with the highest difference in percentage between M and F for {level} education is {country} with a percentage of {percentage:.2f}%\")"
      ],
      "metadata": {
        "id": "2tuKrtp_1Fet",
        "outputId": "04680906-8ffe-4b0e-eadc-ffe330d1cda8",
        "colab": {
          "base_uri": "https://localhost:8080/"
        }
      },
      "execution_count": 23,
      "outputs": [
        {
          "output_type": "stream",
          "name": "stdout",
          "text": [
            "\n",
            "In the year 2009:\n",
            "The 1st country with the highest difference in percentage between M and F for low education is Spain with a percentage of 14.90%\n",
            "The 2nd country with the highest difference in percentage between M and F for low education is Greece with a percentage of 12.12%\n",
            "The 3rd country with the highest difference in percentage between M and F for low education is Malta with a percentage of 11.71%\n",
            "The 1st country with the highest difference in percentage between M and F for medium education is Bulgaria with a percentage of 12.53%\n",
            "The 2nd country with the highest difference in percentage between M and F for medium education is Türkiye with a percentage of 11.79%\n",
            "The 3rd country with the highest difference in percentage between M and F for medium education is North Macedonia with a percentage of 11.33%\n",
            "The 1st country with the highest difference in percentage between M and F for high education is Switzerland with a percentage of 2.22%\n",
            "The 2nd country with the highest difference in percentage between M and F for high education is Türkiye with a percentage of -2.03%\n",
            "The 3rd country with the highest difference in percentage between M and F for high education is France with a percentage of -12.66%\n",
            "\n",
            "In the year 2010:\n",
            "The 1st country with the highest difference in percentage between M and F for low education is Malta with a percentage of 18.39%\n",
            "The 2nd country with the highest difference in percentage between M and F for low education is Spain with a percentage of 14.86%\n",
            "The 3rd country with the highest difference in percentage between M and F for low education is Estonia with a percentage of 13.27%\n",
            "The 1st country with the highest difference in percentage between M and F for medium education is Bulgaria with a percentage of 11.69%\n",
            "The 2nd country with the highest difference in percentage between M and F for medium education is North Macedonia with a percentage of 11.64%\n",
            "The 3rd country with the highest difference in percentage between M and F for medium education is Türkiye with a percentage of 10.07%\n",
            "The 1st country with the highest difference in percentage between M and F for high education is Switzerland with a percentage of 1.04%\n",
            "The 2nd country with the highest difference in percentage between M and F for high education is Türkiye with a percentage of -0.85%\n",
            "The 3rd country with the highest difference in percentage between M and F for high education is Romania with a percentage of -7.38%\n",
            "\n",
            "In the year 2011:\n",
            "The 1st country with the highest difference in percentage between M and F for low education is Malta with a percentage of 20.00%\n",
            "The 2nd country with the highest difference in percentage between M and F for low education is Spain with a percentage of 14.88%\n",
            "The 3rd country with the highest difference in percentage between M and F for low education is Slovenia with a percentage of 13.70%\n",
            "The 1st country with the highest difference in percentage between M and F for medium education is North Macedonia with a percentage of 12.45%\n",
            "The 2nd country with the highest difference in percentage between M and F for medium education is Bulgaria with a percentage of 11.25%\n",
            "The 3rd country with the highest difference in percentage between M and F for medium education is Serbia with a percentage of 10.51%\n",
            "The 1st country with the highest difference in percentage between M and F for high education is Türkiye with a percentage of 0.36%\n",
            "The 2nd country with the highest difference in percentage between M and F for high education is Switzerland with a percentage of -2.18%\n",
            "The 3rd country with the highest difference in percentage between M and F for high education is Romania with a percentage of -10.16%\n",
            "\n",
            "In the year 2012:\n",
            "The 1st country with the highest difference in percentage between M and F for low education is Malta with a percentage of 15.79%\n",
            "The 2nd country with the highest difference in percentage between M and F for low education is Latvia with a percentage of 14.77%\n",
            "The 3rd country with the highest difference in percentage between M and F for low education is Spain with a percentage of 14.08%\n",
            "The 1st country with the highest difference in percentage between M and F for medium education is North Macedonia with a percentage of 14.04%\n",
            "The 2nd country with the highest difference in percentage between M and F for medium education is Serbia with a percentage of 10.91%\n",
            "The 3rd country with the highest difference in percentage between M and F for medium education is Poland with a percentage of 10.07%\n",
            "The 1st country with the highest difference in percentage between M and F for high education is Türkiye with a percentage of 1.35%\n",
            "The 2nd country with the highest difference in percentage between M and F for high education is Switzerland with a percentage of -2.48%\n",
            "The 3rd country with the highest difference in percentage between M and F for high education is France with a percentage of -10.47%\n",
            "\n",
            "In the year 2013:\n",
            "The 1st country with the highest difference in percentage between M and F for low education is Malta with a percentage of 17.47%\n",
            "The 2nd country with the highest difference in percentage between M and F for low education is Latvia with a percentage of 14.47%\n",
            "The 3rd country with the highest difference in percentage between M and F for low education is Iceland with a percentage of 13.31%\n",
            "The 1st country with the highest difference in percentage between M and F for medium education is North Macedonia with a percentage of 15.99%\n",
            "The 2nd country with the highest difference in percentage between M and F for medium education is Bulgaria with a percentage of 10.98%\n",
            "The 3rd country with the highest difference in percentage between M and F for medium education is Slovenia with a percentage of 9.88%\n",
            "The 1st country with the highest difference in percentage between M and F for high education is Switzerland with a percentage of -0.23%\n",
            "The 2nd country with the highest difference in percentage between M and F for high education is Türkiye with a percentage of -0.84%\n",
            "The 3rd country with the highest difference in percentage between M and F for high education is Romania with a percentage of -11.28%\n",
            "\n",
            "In the year 2014:\n",
            "The 1st country with the highest difference in percentage between M and F for low education is Estonia with a percentage of 17.31%\n",
            "The 2nd country with the highest difference in percentage between M and F for low education is Malta with a percentage of 15.15%\n",
            "The 3rd country with the highest difference in percentage between M and F for low education is Iceland with a percentage of 14.19%\n",
            "The 1st country with the highest difference in percentage between M and F for medium education is Cyprus with a percentage of 18.00%\n",
            "The 2nd country with the highest difference in percentage between M and F for medium education is North Macedonia with a percentage of 12.57%\n",
            "The 3rd country with the highest difference in percentage between M and F for medium education is Slovakia with a percentage of 10.98%\n",
            "The 1st country with the highest difference in percentage between M and F for high education is Switzerland with a percentage of -1.44%\n",
            "The 2nd country with the highest difference in percentage between M and F for high education is Türkiye with a percentage of -1.90%\n",
            "The 3rd country with the highest difference in percentage between M and F for high education is Germany with a percentage of -7.66%\n",
            "\n",
            "In the year 2015:\n",
            "The 1st country with the highest difference in percentage between M and F for low education is Malta with a percentage of 14.40%\n",
            "The 2nd country with the highest difference in percentage between M and F for low education is Spain with a percentage of 14.02%\n",
            "The 3rd country with the highest difference in percentage between M and F for low education is Iceland with a percentage of 13.46%\n",
            "The 1st country with the highest difference in percentage between M and F for medium education is Cyprus with a percentage of 14.73%\n",
            "The 2nd country with the highest difference in percentage between M and F for medium education is Latvia with a percentage of 12.18%\n",
            "The 3rd country with the highest difference in percentage between M and F for medium education is North Macedonia with a percentage of 11.88%\n",
            "The 1st country with the highest difference in percentage between M and F for high education is Switzerland with a percentage of -3.53%\n",
            "The 2nd country with the highest difference in percentage between M and F for high education is Türkiye with a percentage of -4.84%\n",
            "The 3rd country with the highest difference in percentage between M and F for high education is Germany with a percentage of -7.15%\n",
            "\n",
            "In the year 2016:\n",
            "The 1st country with the highest difference in percentage between M and F for low education is Malta with a percentage of 21.21%\n",
            "The 2nd country with the highest difference in percentage between M and F for low education is Iceland with a percentage of 15.75%\n",
            "The 3rd country with the highest difference in percentage between M and F for low education is Estonia with a percentage of 13.85%\n",
            "The 1st country with the highest difference in percentage between M and F for medium education is Cyprus with a percentage of 15.64%\n",
            "The 2nd country with the highest difference in percentage between M and F for medium education is North Macedonia with a percentage of 13.79%\n",
            "The 3rd country with the highest difference in percentage between M and F for medium education is Montenegro with a percentage of 12.63%\n",
            "The 1st country with the highest difference in percentage between M and F for high education is Switzerland with a percentage of -0.35%\n",
            "The 2nd country with the highest difference in percentage between M and F for high education is Germany with a percentage of -4.27%\n",
            "The 3rd country with the highest difference in percentage between M and F for high education is Türkiye with a percentage of -6.40%\n",
            "\n",
            "In the year 2017:\n",
            "The 1st country with the highest difference in percentage between M and F for low education is Malta with a percentage of 21.93%\n",
            "The 2nd country with the highest difference in percentage between M and F for low education is Estonia with a percentage of 13.99%\n",
            "The 3rd country with the highest difference in percentage between M and F for low education is Portugal with a percentage of 13.20%\n",
            "The 1st country with the highest difference in percentage between M and F for medium education is Cyprus with a percentage of 16.48%\n",
            "The 2nd country with the highest difference in percentage between M and F for medium education is Montenegro with a percentage of 15.78%\n",
            "The 3rd country with the highest difference in percentage between M and F for medium education is Slovakia with a percentage of 12.30%\n",
            "The 1st country with the highest difference in percentage between M and F for high education is Germany with a percentage of -3.96%\n",
            "The 2nd country with the highest difference in percentage between M and F for high education is Switzerland with a percentage of -5.20%\n",
            "The 3rd country with the highest difference in percentage between M and F for high education is Türkiye with a percentage of -7.12%\n",
            "\n",
            "In the year 2018:\n",
            "The 1st country with the highest difference in percentage between M and F for low education is Malta with a percentage of 16.67%\n",
            "The 2nd country with the highest difference in percentage between M and F for low education is Iceland with a percentage of 13.90%\n",
            "The 3rd country with the highest difference in percentage between M and F for low education is Spain with a percentage of 13.17%\n",
            "The 1st country with the highest difference in percentage between M and F for medium education is Cyprus with a percentage of 14.92%\n",
            "The 2nd country with the highest difference in percentage between M and F for medium education is Montenegro with a percentage of 12.74%\n",
            "The 3rd country with the highest difference in percentage between M and F for medium education is Slovakia with a percentage of 11.86%\n",
            "The 1st country with the highest difference in percentage between M and F for high education is Germany with a percentage of -4.79%\n",
            "The 2nd country with the highest difference in percentage between M and F for high education is Malta with a percentage of -6.51%\n",
            "The 3rd country with the highest difference in percentage between M and F for high education is Switzerland with a percentage of -8.28%\n",
            "\n",
            "In the year 2019:\n",
            "The 1st country with the highest difference in percentage between M and F for low education is Iceland with a percentage of 18.44%\n",
            "The 2nd country with the highest difference in percentage between M and F for low education is Spain with a percentage of 14.96%\n",
            "The 3rd country with the highest difference in percentage between M and F for low education is Malta with a percentage of 14.42%\n",
            "The 1st country with the highest difference in percentage between M and F for medium education is Croatia with a percentage of 13.76%\n",
            "The 2nd country with the highest difference in percentage between M and F for medium education is Cyprus with a percentage of 13.64%\n",
            "The 3rd country with the highest difference in percentage between M and F for medium education is Sweden with a percentage of 11.90%\n",
            "The 1st country with the highest difference in percentage between M and F for high education is Iceland with a percentage of -3.88%\n",
            "The 2nd country with the highest difference in percentage between M and F for high education is Germany with a percentage of -4.06%\n",
            "The 3rd country with the highest difference in percentage between M and F for high education is Switzerland with a percentage of -4.10%\n",
            "\n",
            "In the year 2020:\n",
            "The 1st country with the highest difference in percentage between M and F for low education is Malta with a percentage of 21.69%\n",
            "The 2nd country with the highest difference in percentage between M and F for low education is Iceland with a percentage of 16.13%\n",
            "The 3rd country with the highest difference in percentage between M and F for low education is Spain with a percentage of 14.55%\n",
            "The 1st country with the highest difference in percentage between M and F for medium education is Norway with a percentage of 13.66%\n",
            "The 2nd country with the highest difference in percentage between M and F for medium education is Slovenia with a percentage of 13.08%\n",
            "The 3rd country with the highest difference in percentage between M and F for medium education is Slovakia with a percentage of 12.95%\n",
            "The 1st country with the highest difference in percentage between M and F for high education is Malta with a percentage of -1.17%\n",
            "The 2nd country with the highest difference in percentage between M and F for high education is Switzerland with a percentage of -7.26%\n",
            "The 3rd country with the highest difference in percentage between M and F for high education is Germany with a percentage of -7.46%\n",
            "\n",
            "In the year 2021:\n",
            "The 1st country with the highest difference in percentage between M and F for low education is Malta with a percentage of 25.88%\n",
            "The 2nd country with the highest difference in percentage between M and F for low education is Iceland with a percentage of 16.31%\n",
            "The 3rd country with the highest difference in percentage between M and F for low education is Portugal with a percentage of 13.18%\n",
            "The 1st country with the highest difference in percentage between M and F for medium education is Slovakia with a percentage of 14.02%\n",
            "The 2nd country with the highest difference in percentage between M and F for medium education is Malta with a percentage of 11.75%\n",
            "The 3rd country with the highest difference in percentage between M and F for medium education is Slovenia with a percentage of 11.50%\n",
            "The 1st country with the highest difference in percentage between M and F for high education is Switzerland with a percentage of -4.17%\n",
            "The 2nd country with the highest difference in percentage between M and F for high education is Germany with a percentage of -8.52%\n",
            "The 3rd country with the highest difference in percentage between M and F for high education is France with a percentage of -8.95%\n",
            "\n",
            "In the year 2022:\n",
            "The 1st country with the highest difference in percentage between M and F for low education is Malta with a percentage of 17.32%\n",
            "The 2nd country with the highest difference in percentage between M and F for low education is Iceland with a percentage of 11.86%\n",
            "The 3rd country with the highest difference in percentage between M and F for low education is Portugal with a percentage of 11.80%\n",
            "The 1st country with the highest difference in percentage between M and F for medium education is Slovenia with a percentage of 14.75%\n",
            "The 2nd country with the highest difference in percentage between M and F for medium education is Slovakia with a percentage of 14.59%\n",
            "The 3rd country with the highest difference in percentage between M and F for medium education is Malta with a percentage of 11.92%\n",
            "The 1st country with the highest difference in percentage between M and F for high education is Switzerland with a percentage of -7.50%\n",
            "The 2nd country with the highest difference in percentage between M and F for high education is Greece with a percentage of -7.62%\n",
            "The 3rd country with the highest difference in percentage between M and F for high education is Netherlands with a percentage of -7.83%\n"
          ]
        }
      ]
    },
    {
      "cell_type": "markdown",
      "source": [
        "## Education level: percentage --> we are NOT using this dataset for now!"
      ],
      "metadata": {
        "id": "v8Z8ecZph_WC"
      }
    },
    {
      "cell_type": "markdown",
      "source": [
        "We import the 18 sheets of the *pop_edu_sex_age_percentage* excel file (skipping useless rows/columns and avoiding the print of unharmful warnings) in a dictionary of datasets named *education_per_sheets*."
      ],
      "metadata": {
        "id": "Ae1albAoz1NT"
      }
    },
    {
      "cell_type": "code",
      "source": [
        "sheet_names = [f'Sheet {i}' for i in range(1, 19)]\n",
        "file_path = '/content/drive/MyDrive/DV_project/story2/pop_edu_sex_age_percentage.xlsx'\n",
        "rows_to_skip = list(range(0, 10)) + [11, 12, 13, 44] + list(range(49, 56))\n",
        "selected_columns = ['TIME'] + [str(year) for year in years]\n",
        "\n",
        "# Just to suppress the unharmful warnings we were getting\n",
        "import warnings\n",
        "with warnings.catch_warnings():\n",
        "    warnings.filterwarnings(\"ignore\", category = UserWarning, module = \"openpyxl\")\n",
        "    # Dictionary with datasets: 'education_per_sheet1', ..., 'education_per_sheet36'\n",
        "    education_per_sheets = {f'education_per_sheet{i}': pd.read_excel(file_path, sheet_name = sheet_name, skiprows = rows_to_skip, na_values = ':', usecols = selected_columns)\n",
        "                            for i, sheet_name in enumerate(sheet_names, start = 1)}"
      ],
      "metadata": {
        "id": "8VQXjq95z1NU"
      },
      "execution_count": 37,
      "outputs": []
    },
    {
      "cell_type": "markdown",
      "source": [
        "We add a column *Abbreviation* to the 18 datasets."
      ],
      "metadata": {
        "id": "o7MrEcFYz1NU"
      }
    },
    {
      "cell_type": "code",
      "source": [
        "for i in range(1, 19):\n",
        "    education_per_sheets[f'education_per_sheet{i}'].rename(columns = {'TIME': 'Country'}, inplace = True)\n",
        "    education_per_sheets[f'education_per_sheet{i}']['Abbreviation'] = education_per_sheets[f'education_per_sheet{i}']['Country'].map(country_abbreviations)"
      ],
      "metadata": {
        "id": "LFogvnuYz1NU"
      },
      "execution_count": null,
      "outputs": []
    },
    {
      "cell_type": "markdown",
      "source": [
        "## Enrolment by age --> still to explore!"
      ],
      "metadata": {
        "id": "XX96WGlBh_da"
      }
    },
    {
      "cell_type": "markdown",
      "source": [
        "Grafico 3 : solo per alcuni paesi (solo totale, no maschi/femmine)\n",
        "\n",
        "full and part-time\n",
        "\n",
        "età sull'asse x,\n",
        "\n",
        "numero sulle y,\n",
        "\n",
        "stacked (o streamgraph)\n",
        "\n",
        "colori diversi per categorie diverse"
      ],
      "metadata": {
        "id": "r24tBforqjlH"
      }
    },
    {
      "cell_type": "code",
      "source": [
        "enrolment = pd.read_csv(\"/content/drive/MyDrive/DV_project/story2/enrolment_by_age.csv\")"
      ],
      "metadata": {
        "id": "Zu9LLuH7enFD"
      },
      "execution_count": null,
      "outputs": []
    },
    {
      "cell_type": "code",
      "source": [
        "enrolment"
      ],
      "metadata": {
        "colab": {
          "base_uri": "https://localhost:8080/",
          "height": 424
        },
        "id": "VBNXPD0nfIbt",
        "outputId": "20571731-d73e-40a2-c666-2c993912394c"
      },
      "execution_count": null,
      "outputs": [
        {
          "output_type": "execute_result",
          "data": {
            "text/plain": [
              "       COUNTRY   Country SEX  Gender  AGE       Age INTENSITY  Intensity  \\\n",
              "0          AUT   Austria   F  Female  Y15  15 years        PT  Part-time   \n",
              "1          AUT   Austria   F  Female  Y15  15 years        PT  Part-time   \n",
              "2          AUT   Austria   F  Female  Y15  15 years        PT  Part-time   \n",
              "3          AUT   Austria   F  Female  Y15  15 years        PT  Part-time   \n",
              "4          AUT   Austria   F  Female  Y15  15 years        PT  Part-time   \n",
              "...        ...       ...  ..     ...  ...       ...       ...        ...   \n",
              "524155     BGR  Bulgaria   M    Male   _T     Total        PT  Part-time   \n",
              "524156     BGR  Bulgaria   M    Male   _T     Total        PT  Part-time   \n",
              "524157     BGR  Bulgaria   M    Male   _T     Total        PT  Part-time   \n",
              "524158     BGR  Bulgaria   M    Male   _T     Total        PT  Part-time   \n",
              "524159     BGR  Bulgaria   M    Male   _T     Total        PT  Part-time   \n",
              "\n",
              "       EDUCATION_LEV            Education level  YEAR  Year    Value  \\\n",
              "0          ISCED11_0  Early childhood education  2013  2013      NaN   \n",
              "1          ISCED11_0  Early childhood education  2014  2014      NaN   \n",
              "2          ISCED11_0  Early childhood education  2015  2015      NaN   \n",
              "3          ISCED11_0  Early childhood education  2016  2016      NaN   \n",
              "4          ISCED11_0  Early childhood education  2017  2017      NaN   \n",
              "...              ...                        ...   ...   ...      ...   \n",
              "524155     ISCED11_T                      Total  2017  2017  55553.0   \n",
              "524156     ISCED11_T                      Total  2018  2018  57230.0   \n",
              "524157     ISCED11_T                      Total  2019  2019  48242.0   \n",
              "524158     ISCED11_T                      Total  2020  2020  42941.0   \n",
              "524159     ISCED11_T                      Total  2021  2021  40767.0   \n",
              "\n",
              "       Flag Codes                             Flags  \n",
              "0               m  Missing value; data cannot exist  \n",
              "1               m  Missing value; data cannot exist  \n",
              "2               m  Missing value; data cannot exist  \n",
              "3               m  Missing value; data cannot exist  \n",
              "4               m  Missing value; data cannot exist  \n",
              "...           ...                               ...  \n",
              "524155        NaN                               NaN  \n",
              "524156        NaN                               NaN  \n",
              "524157        NaN                               NaN  \n",
              "524158        NaN                               NaN  \n",
              "524159        NaN                               NaN  \n",
              "\n",
              "[524160 rows x 15 columns]"
            ],
            "text/html": [
              "\n",
              "  <div id=\"df-dae0cd2f-243a-476b-86d9-4368ff1d6cdc\" class=\"colab-df-container\">\n",
              "    <div>\n",
              "<style scoped>\n",
              "    .dataframe tbody tr th:only-of-type {\n",
              "        vertical-align: middle;\n",
              "    }\n",
              "\n",
              "    .dataframe tbody tr th {\n",
              "        vertical-align: top;\n",
              "    }\n",
              "\n",
              "    .dataframe thead th {\n",
              "        text-align: right;\n",
              "    }\n",
              "</style>\n",
              "<table border=\"1\" class=\"dataframe\">\n",
              "  <thead>\n",
              "    <tr style=\"text-align: right;\">\n",
              "      <th></th>\n",
              "      <th>COUNTRY</th>\n",
              "      <th>Country</th>\n",
              "      <th>SEX</th>\n",
              "      <th>Gender</th>\n",
              "      <th>AGE</th>\n",
              "      <th>Age</th>\n",
              "      <th>INTENSITY</th>\n",
              "      <th>Intensity</th>\n",
              "      <th>EDUCATION_LEV</th>\n",
              "      <th>Education level</th>\n",
              "      <th>YEAR</th>\n",
              "      <th>Year</th>\n",
              "      <th>Value</th>\n",
              "      <th>Flag Codes</th>\n",
              "      <th>Flags</th>\n",
              "    </tr>\n",
              "  </thead>\n",
              "  <tbody>\n",
              "    <tr>\n",
              "      <th>0</th>\n",
              "      <td>AUT</td>\n",
              "      <td>Austria</td>\n",
              "      <td>F</td>\n",
              "      <td>Female</td>\n",
              "      <td>Y15</td>\n",
              "      <td>15 years</td>\n",
              "      <td>PT</td>\n",
              "      <td>Part-time</td>\n",
              "      <td>ISCED11_0</td>\n",
              "      <td>Early childhood education</td>\n",
              "      <td>2013</td>\n",
              "      <td>2013</td>\n",
              "      <td>NaN</td>\n",
              "      <td>m</td>\n",
              "      <td>Missing value; data cannot exist</td>\n",
              "    </tr>\n",
              "    <tr>\n",
              "      <th>1</th>\n",
              "      <td>AUT</td>\n",
              "      <td>Austria</td>\n",
              "      <td>F</td>\n",
              "      <td>Female</td>\n",
              "      <td>Y15</td>\n",
              "      <td>15 years</td>\n",
              "      <td>PT</td>\n",
              "      <td>Part-time</td>\n",
              "      <td>ISCED11_0</td>\n",
              "      <td>Early childhood education</td>\n",
              "      <td>2014</td>\n",
              "      <td>2014</td>\n",
              "      <td>NaN</td>\n",
              "      <td>m</td>\n",
              "      <td>Missing value; data cannot exist</td>\n",
              "    </tr>\n",
              "    <tr>\n",
              "      <th>2</th>\n",
              "      <td>AUT</td>\n",
              "      <td>Austria</td>\n",
              "      <td>F</td>\n",
              "      <td>Female</td>\n",
              "      <td>Y15</td>\n",
              "      <td>15 years</td>\n",
              "      <td>PT</td>\n",
              "      <td>Part-time</td>\n",
              "      <td>ISCED11_0</td>\n",
              "      <td>Early childhood education</td>\n",
              "      <td>2015</td>\n",
              "      <td>2015</td>\n",
              "      <td>NaN</td>\n",
              "      <td>m</td>\n",
              "      <td>Missing value; data cannot exist</td>\n",
              "    </tr>\n",
              "    <tr>\n",
              "      <th>3</th>\n",
              "      <td>AUT</td>\n",
              "      <td>Austria</td>\n",
              "      <td>F</td>\n",
              "      <td>Female</td>\n",
              "      <td>Y15</td>\n",
              "      <td>15 years</td>\n",
              "      <td>PT</td>\n",
              "      <td>Part-time</td>\n",
              "      <td>ISCED11_0</td>\n",
              "      <td>Early childhood education</td>\n",
              "      <td>2016</td>\n",
              "      <td>2016</td>\n",
              "      <td>NaN</td>\n",
              "      <td>m</td>\n",
              "      <td>Missing value; data cannot exist</td>\n",
              "    </tr>\n",
              "    <tr>\n",
              "      <th>4</th>\n",
              "      <td>AUT</td>\n",
              "      <td>Austria</td>\n",
              "      <td>F</td>\n",
              "      <td>Female</td>\n",
              "      <td>Y15</td>\n",
              "      <td>15 years</td>\n",
              "      <td>PT</td>\n",
              "      <td>Part-time</td>\n",
              "      <td>ISCED11_0</td>\n",
              "      <td>Early childhood education</td>\n",
              "      <td>2017</td>\n",
              "      <td>2017</td>\n",
              "      <td>NaN</td>\n",
              "      <td>m</td>\n",
              "      <td>Missing value; data cannot exist</td>\n",
              "    </tr>\n",
              "    <tr>\n",
              "      <th>...</th>\n",
              "      <td>...</td>\n",
              "      <td>...</td>\n",
              "      <td>...</td>\n",
              "      <td>...</td>\n",
              "      <td>...</td>\n",
              "      <td>...</td>\n",
              "      <td>...</td>\n",
              "      <td>...</td>\n",
              "      <td>...</td>\n",
              "      <td>...</td>\n",
              "      <td>...</td>\n",
              "      <td>...</td>\n",
              "      <td>...</td>\n",
              "      <td>...</td>\n",
              "      <td>...</td>\n",
              "    </tr>\n",
              "    <tr>\n",
              "      <th>524155</th>\n",
              "      <td>BGR</td>\n",
              "      <td>Bulgaria</td>\n",
              "      <td>M</td>\n",
              "      <td>Male</td>\n",
              "      <td>_T</td>\n",
              "      <td>Total</td>\n",
              "      <td>PT</td>\n",
              "      <td>Part-time</td>\n",
              "      <td>ISCED11_T</td>\n",
              "      <td>Total</td>\n",
              "      <td>2017</td>\n",
              "      <td>2017</td>\n",
              "      <td>55553.0</td>\n",
              "      <td>NaN</td>\n",
              "      <td>NaN</td>\n",
              "    </tr>\n",
              "    <tr>\n",
              "      <th>524156</th>\n",
              "      <td>BGR</td>\n",
              "      <td>Bulgaria</td>\n",
              "      <td>M</td>\n",
              "      <td>Male</td>\n",
              "      <td>_T</td>\n",
              "      <td>Total</td>\n",
              "      <td>PT</td>\n",
              "      <td>Part-time</td>\n",
              "      <td>ISCED11_T</td>\n",
              "      <td>Total</td>\n",
              "      <td>2018</td>\n",
              "      <td>2018</td>\n",
              "      <td>57230.0</td>\n",
              "      <td>NaN</td>\n",
              "      <td>NaN</td>\n",
              "    </tr>\n",
              "    <tr>\n",
              "      <th>524157</th>\n",
              "      <td>BGR</td>\n",
              "      <td>Bulgaria</td>\n",
              "      <td>M</td>\n",
              "      <td>Male</td>\n",
              "      <td>_T</td>\n",
              "      <td>Total</td>\n",
              "      <td>PT</td>\n",
              "      <td>Part-time</td>\n",
              "      <td>ISCED11_T</td>\n",
              "      <td>Total</td>\n",
              "      <td>2019</td>\n",
              "      <td>2019</td>\n",
              "      <td>48242.0</td>\n",
              "      <td>NaN</td>\n",
              "      <td>NaN</td>\n",
              "    </tr>\n",
              "    <tr>\n",
              "      <th>524158</th>\n",
              "      <td>BGR</td>\n",
              "      <td>Bulgaria</td>\n",
              "      <td>M</td>\n",
              "      <td>Male</td>\n",
              "      <td>_T</td>\n",
              "      <td>Total</td>\n",
              "      <td>PT</td>\n",
              "      <td>Part-time</td>\n",
              "      <td>ISCED11_T</td>\n",
              "      <td>Total</td>\n",
              "      <td>2020</td>\n",
              "      <td>2020</td>\n",
              "      <td>42941.0</td>\n",
              "      <td>NaN</td>\n",
              "      <td>NaN</td>\n",
              "    </tr>\n",
              "    <tr>\n",
              "      <th>524159</th>\n",
              "      <td>BGR</td>\n",
              "      <td>Bulgaria</td>\n",
              "      <td>M</td>\n",
              "      <td>Male</td>\n",
              "      <td>_T</td>\n",
              "      <td>Total</td>\n",
              "      <td>PT</td>\n",
              "      <td>Part-time</td>\n",
              "      <td>ISCED11_T</td>\n",
              "      <td>Total</td>\n",
              "      <td>2021</td>\n",
              "      <td>2021</td>\n",
              "      <td>40767.0</td>\n",
              "      <td>NaN</td>\n",
              "      <td>NaN</td>\n",
              "    </tr>\n",
              "  </tbody>\n",
              "</table>\n",
              "<p>524160 rows × 15 columns</p>\n",
              "</div>\n",
              "    <div class=\"colab-df-buttons\">\n",
              "\n",
              "  <div class=\"colab-df-container\">\n",
              "    <button class=\"colab-df-convert\" onclick=\"convertToInteractive('df-dae0cd2f-243a-476b-86d9-4368ff1d6cdc')\"\n",
              "            title=\"Convert this dataframe to an interactive table.\"\n",
              "            style=\"display:none;\">\n",
              "\n",
              "  <svg xmlns=\"http://www.w3.org/2000/svg\" height=\"24px\" viewBox=\"0 -960 960 960\">\n",
              "    <path d=\"M120-120v-720h720v720H120Zm60-500h600v-160H180v160Zm220 220h160v-160H400v160Zm0 220h160v-160H400v160ZM180-400h160v-160H180v160Zm440 0h160v-160H620v160ZM180-180h160v-160H180v160Zm440 0h160v-160H620v160Z\"/>\n",
              "  </svg>\n",
              "    </button>\n",
              "\n",
              "  <style>\n",
              "    .colab-df-container {\n",
              "      display:flex;\n",
              "      gap: 12px;\n",
              "    }\n",
              "\n",
              "    .colab-df-convert {\n",
              "      background-color: #E8F0FE;\n",
              "      border: none;\n",
              "      border-radius: 50%;\n",
              "      cursor: pointer;\n",
              "      display: none;\n",
              "      fill: #1967D2;\n",
              "      height: 32px;\n",
              "      padding: 0 0 0 0;\n",
              "      width: 32px;\n",
              "    }\n",
              "\n",
              "    .colab-df-convert:hover {\n",
              "      background-color: #E2EBFA;\n",
              "      box-shadow: 0px 1px 2px rgba(60, 64, 67, 0.3), 0px 1px 3px 1px rgba(60, 64, 67, 0.15);\n",
              "      fill: #174EA6;\n",
              "    }\n",
              "\n",
              "    .colab-df-buttons div {\n",
              "      margin-bottom: 4px;\n",
              "    }\n",
              "\n",
              "    [theme=dark] .colab-df-convert {\n",
              "      background-color: #3B4455;\n",
              "      fill: #D2E3FC;\n",
              "    }\n",
              "\n",
              "    [theme=dark] .colab-df-convert:hover {\n",
              "      background-color: #434B5C;\n",
              "      box-shadow: 0px 1px 3px 1px rgba(0, 0, 0, 0.15);\n",
              "      filter: drop-shadow(0px 1px 2px rgba(0, 0, 0, 0.3));\n",
              "      fill: #FFFFFF;\n",
              "    }\n",
              "  </style>\n",
              "\n",
              "    <script>\n",
              "      const buttonEl =\n",
              "        document.querySelector('#df-dae0cd2f-243a-476b-86d9-4368ff1d6cdc button.colab-df-convert');\n",
              "      buttonEl.style.display =\n",
              "        google.colab.kernel.accessAllowed ? 'block' : 'none';\n",
              "\n",
              "      async function convertToInteractive(key) {\n",
              "        const element = document.querySelector('#df-dae0cd2f-243a-476b-86d9-4368ff1d6cdc');\n",
              "        const dataTable =\n",
              "          await google.colab.kernel.invokeFunction('convertToInteractive',\n",
              "                                                    [key], {});\n",
              "        if (!dataTable) return;\n",
              "\n",
              "        const docLinkHtml = 'Like what you see? Visit the ' +\n",
              "          '<a target=\"_blank\" href=https://colab.research.google.com/notebooks/data_table.ipynb>data table notebook</a>'\n",
              "          + ' to learn more about interactive tables.';\n",
              "        element.innerHTML = '';\n",
              "        dataTable['output_type'] = 'display_data';\n",
              "        await google.colab.output.renderOutput(dataTable, element);\n",
              "        const docLink = document.createElement('div');\n",
              "        docLink.innerHTML = docLinkHtml;\n",
              "        element.appendChild(docLink);\n",
              "      }\n",
              "    </script>\n",
              "  </div>\n",
              "\n",
              "\n",
              "<div id=\"df-c3e1c6ce-0c98-4da7-8f44-32c438ae4338\">\n",
              "  <button class=\"colab-df-quickchart\" onclick=\"quickchart('df-c3e1c6ce-0c98-4da7-8f44-32c438ae4338')\"\n",
              "            title=\"Suggest charts\"\n",
              "            style=\"display:none;\">\n",
              "\n",
              "<svg xmlns=\"http://www.w3.org/2000/svg\" height=\"24px\"viewBox=\"0 0 24 24\"\n",
              "     width=\"24px\">\n",
              "    <g>\n",
              "        <path d=\"M19 3H5c-1.1 0-2 .9-2 2v14c0 1.1.9 2 2 2h14c1.1 0 2-.9 2-2V5c0-1.1-.9-2-2-2zM9 17H7v-7h2v7zm4 0h-2V7h2v10zm4 0h-2v-4h2v4z\"/>\n",
              "    </g>\n",
              "</svg>\n",
              "  </button>\n",
              "\n",
              "<style>\n",
              "  .colab-df-quickchart {\n",
              "      --bg-color: #E8F0FE;\n",
              "      --fill-color: #1967D2;\n",
              "      --hover-bg-color: #E2EBFA;\n",
              "      --hover-fill-color: #174EA6;\n",
              "      --disabled-fill-color: #AAA;\n",
              "      --disabled-bg-color: #DDD;\n",
              "  }\n",
              "\n",
              "  [theme=dark] .colab-df-quickchart {\n",
              "      --bg-color: #3B4455;\n",
              "      --fill-color: #D2E3FC;\n",
              "      --hover-bg-color: #434B5C;\n",
              "      --hover-fill-color: #FFFFFF;\n",
              "      --disabled-bg-color: #3B4455;\n",
              "      --disabled-fill-color: #666;\n",
              "  }\n",
              "\n",
              "  .colab-df-quickchart {\n",
              "    background-color: var(--bg-color);\n",
              "    border: none;\n",
              "    border-radius: 50%;\n",
              "    cursor: pointer;\n",
              "    display: none;\n",
              "    fill: var(--fill-color);\n",
              "    height: 32px;\n",
              "    padding: 0;\n",
              "    width: 32px;\n",
              "  }\n",
              "\n",
              "  .colab-df-quickchart:hover {\n",
              "    background-color: var(--hover-bg-color);\n",
              "    box-shadow: 0 1px 2px rgba(60, 64, 67, 0.3), 0 1px 3px 1px rgba(60, 64, 67, 0.15);\n",
              "    fill: var(--button-hover-fill-color);\n",
              "  }\n",
              "\n",
              "  .colab-df-quickchart-complete:disabled,\n",
              "  .colab-df-quickchart-complete:disabled:hover {\n",
              "    background-color: var(--disabled-bg-color);\n",
              "    fill: var(--disabled-fill-color);\n",
              "    box-shadow: none;\n",
              "  }\n",
              "\n",
              "  .colab-df-spinner {\n",
              "    border: 2px solid var(--fill-color);\n",
              "    border-color: transparent;\n",
              "    border-bottom-color: var(--fill-color);\n",
              "    animation:\n",
              "      spin 1s steps(1) infinite;\n",
              "  }\n",
              "\n",
              "  @keyframes spin {\n",
              "    0% {\n",
              "      border-color: transparent;\n",
              "      border-bottom-color: var(--fill-color);\n",
              "      border-left-color: var(--fill-color);\n",
              "    }\n",
              "    20% {\n",
              "      border-color: transparent;\n",
              "      border-left-color: var(--fill-color);\n",
              "      border-top-color: var(--fill-color);\n",
              "    }\n",
              "    30% {\n",
              "      border-color: transparent;\n",
              "      border-left-color: var(--fill-color);\n",
              "      border-top-color: var(--fill-color);\n",
              "      border-right-color: var(--fill-color);\n",
              "    }\n",
              "    40% {\n",
              "      border-color: transparent;\n",
              "      border-right-color: var(--fill-color);\n",
              "      border-top-color: var(--fill-color);\n",
              "    }\n",
              "    60% {\n",
              "      border-color: transparent;\n",
              "      border-right-color: var(--fill-color);\n",
              "    }\n",
              "    80% {\n",
              "      border-color: transparent;\n",
              "      border-right-color: var(--fill-color);\n",
              "      border-bottom-color: var(--fill-color);\n",
              "    }\n",
              "    90% {\n",
              "      border-color: transparent;\n",
              "      border-bottom-color: var(--fill-color);\n",
              "    }\n",
              "  }\n",
              "</style>\n",
              "\n",
              "  <script>\n",
              "    async function quickchart(key) {\n",
              "      const quickchartButtonEl =\n",
              "        document.querySelector('#' + key + ' button');\n",
              "      quickchartButtonEl.disabled = true;  // To prevent multiple clicks.\n",
              "      quickchartButtonEl.classList.add('colab-df-spinner');\n",
              "      try {\n",
              "        const charts = await google.colab.kernel.invokeFunction(\n",
              "            'suggestCharts', [key], {});\n",
              "      } catch (error) {\n",
              "        console.error('Error during call to suggestCharts:', error);\n",
              "      }\n",
              "      quickchartButtonEl.classList.remove('colab-df-spinner');\n",
              "      quickchartButtonEl.classList.add('colab-df-quickchart-complete');\n",
              "    }\n",
              "    (() => {\n",
              "      let quickchartButtonEl =\n",
              "        document.querySelector('#df-c3e1c6ce-0c98-4da7-8f44-32c438ae4338 button');\n",
              "      quickchartButtonEl.style.display =\n",
              "        google.colab.kernel.accessAllowed ? 'block' : 'none';\n",
              "    })();\n",
              "  </script>\n",
              "</div>\n",
              "    </div>\n",
              "  </div>\n"
            ]
          },
          "metadata": {},
          "execution_count": 4
        }
      ]
    },
    {
      "cell_type": "markdown",
      "source": [
        "## Early leavers --> still to explore!"
      ],
      "metadata": {
        "id": "HrsoI50ypzOJ"
      }
    },
    {
      "cell_type": "markdown",
      "source": [
        "We import the 15 sheets of the *early_leavers_by_sex_labour* excel file (skipping useless rows/columns and avoiding the print of unharmful warnings) in a dictionary of datasets named *early_leavers_sheets*."
      ],
      "metadata": {
        "id": "7ykept1athal"
      }
    },
    {
      "cell_type": "code",
      "source": [
        "sheet_names = [f'Sheet {i}' for i in range(1, 16)]\n",
        "file_path = '/content/drive/MyDrive/DV_project/story2/early_leavers_by_sex_labour.xlsx'\n",
        "rows_to_skip = list(range(0, 10)) + [11, 13, 44] + list(range(49, 58))\n",
        "selected_columns = ['TIME'] + [str(year) for year in years]\n",
        "\n",
        "# Just to suppress the unharmful warnings we were getting\n",
        "import warnings\n",
        "with warnings.catch_warnings():\n",
        "    warnings.filterwarnings(\"ignore\", category = UserWarning, module = \"openpyxl\")\n",
        "    # Dictionary with datasets: 'early_leavers_sheet1', ..., 'early_leavers_sheet15'\n",
        "    early_leavers_sheets = {f'early_leavers_sheet{i}': pd.read_excel(file_path, sheet_name = sheet_name, skiprows = rows_to_skip, na_values = ':', usecols = selected_columns)\n",
        "                            for i, sheet_name in enumerate(sheet_names, start = 1)}"
      ],
      "metadata": {
        "id": "Lbq2kx43q97_"
      },
      "execution_count": 46,
      "outputs": []
    },
    {
      "cell_type": "markdown",
      "source": [
        "We add a column *Abbreviation* to the 15 datasets."
      ],
      "metadata": {
        "id": "uiBZMRfGuvfb"
      }
    },
    {
      "cell_type": "code",
      "source": [
        "for i in range(1, 16):\n",
        "    early_leavers_sheets[f'early_leavers_sheet{i}'].rename(columns = {'TIME': 'Country'}, inplace = True)\n",
        "    early_leavers_sheets[f'early_leavers_sheet{i}']['Abbreviation'] = early_leavers_sheets[f'early_leavers_sheet{i}']['Country'].map(country_abbreviations)"
      ],
      "metadata": {
        "id": "rrlwDUWZuvfn"
      },
      "execution_count": 47,
      "outputs": []
    },
    {
      "cell_type": "markdown",
      "source": [
        "Grafico 4 : n. early leavers senza distinzioni (ne per genere ne per occupazione) per ogni paese e , lollipop chart + dato complessivo UE"
      ],
      "metadata": {
        "id": "TGcWscxFqs-_"
      }
    },
    {
      "cell_type": "code",
      "source": [
        "early_leavers_datasets = {}\n",
        "\n",
        "for year in years:\n",
        "    early_leavers_datasets[f'early_leavers_{year}'] = early_leavers_sheets['early_leavers_sheet1'][['Country', str(year), 'Abbreviation']].copy()\n",
        "    early_leavers_datasets[f'early_leavers_{year}'].dropna(subset = [str(year)], inplace = True)\n",
        "    early_leavers_datasets[f'early_leavers_{year}'].sort_values(by = [str(year)], ascending = [False], inplace = True)"
      ],
      "metadata": {
        "id": "-mVYhmIGxMge"
      },
      "execution_count": 50,
      "outputs": []
    },
    {
      "cell_type": "code",
      "source": [
        "header = ['name', 'abundance', 'abbreviation']\n",
        "\n",
        "for year in years:\n",
        "  csv_name = f'lollipop{year}.csv'\n",
        "  early_leavers_datasets[f'early_leavers_{year}'].to_csv(csv_name, index = False, header = header)\n",
        "\n",
        "  # csv_name = f'lollipop{year}_EU.csv'\n",
        "  # eu_index = early_leavers_datasets[f'early_leavers_{year}'][early_leavers_datasets[f'early_leavers_{year}']['Abbreviation'] == 'EU'].index[0]\n",
        "  # early_leavers_datasets[f'early_leavers_{year}'] = pd.concat([early_leavers_datasets[f'early_leavers_{year}'].loc[eu_index:],\n",
        "  #                                                              early_leavers_datasets[f'early_leavers_{year}'].loc[:eu_index - 1]], ignore_index = True)\n",
        "  # early_leavers_datasets[f'early_leavers_{year}'].to_csv(csv_name, index = False, header = header)"
      ],
      "metadata": {
        "id": "Elz7HLzIq1TY"
      },
      "execution_count": 54,
      "outputs": []
    },
    {
      "cell_type": "markdown",
      "source": [
        "Grafico 5 : visualizzare early leavers, piramide con categorie (cercano, non cercano, etc.) a livello complessivo, NO valori per stato e per anno"
      ],
      "metadata": {
        "id": "kzT5JOz4q0NH"
      }
    },
    {
      "cell_type": "code",
      "source": [],
      "metadata": {
        "id": "nWm0tDhOq7gG"
      },
      "execution_count": null,
      "outputs": []
    },
    {
      "cell_type": "markdown",
      "source": [
        "# Download all CSV files"
      ],
      "metadata": {
        "id": "QYptvL_UF1vf"
      }
    },
    {
      "cell_type": "markdown",
      "source": [
        "We download all the CSV files we created."
      ],
      "metadata": {
        "id": "vhSy4rob1NaT"
      }
    },
    {
      "cell_type": "code",
      "source": [
        "directory_path = '/content'\n",
        "file_type = \".csv\"\n",
        "files_to_download = glob.glob(f\"{directory_path}/*{file_type}\")\n",
        "zip_filename = \"datasets.zip\"\n",
        "with zipfile.ZipFile(zip_filename, \"w\") as zipf:\n",
        "    for file in files_to_download:\n",
        "        zipf.write(file, arcname = os.path.basename(file))\n",
        "files.download(zip_filename)"
      ],
      "metadata": {
        "colab": {
          "base_uri": "https://localhost:8080/",
          "height": 17
        },
        "id": "XKYseRagF5Gu",
        "outputId": "450247ec-ed91-479e-df4a-36ac4712ab43"
      },
      "execution_count": 55,
      "outputs": [
        {
          "output_type": "display_data",
          "data": {
            "text/plain": [
              "<IPython.core.display.Javascript object>"
            ],
            "application/javascript": [
              "\n",
              "    async function download(id, filename, size) {\n",
              "      if (!google.colab.kernel.accessAllowed) {\n",
              "        return;\n",
              "      }\n",
              "      const div = document.createElement('div');\n",
              "      const label = document.createElement('label');\n",
              "      label.textContent = `Downloading \"${filename}\": `;\n",
              "      div.appendChild(label);\n",
              "      const progress = document.createElement('progress');\n",
              "      progress.max = size;\n",
              "      div.appendChild(progress);\n",
              "      document.body.appendChild(div);\n",
              "\n",
              "      const buffers = [];\n",
              "      let downloaded = 0;\n",
              "\n",
              "      const channel = await google.colab.kernel.comms.open(id);\n",
              "      // Send a message to notify the kernel that we're ready.\n",
              "      channel.send({})\n",
              "\n",
              "      for await (const message of channel.messages) {\n",
              "        // Send a message to notify the kernel that we're ready.\n",
              "        channel.send({})\n",
              "        if (message.buffers) {\n",
              "          for (const buffer of message.buffers) {\n",
              "            buffers.push(buffer);\n",
              "            downloaded += buffer.byteLength;\n",
              "            progress.value = downloaded;\n",
              "          }\n",
              "        }\n",
              "      }\n",
              "      const blob = new Blob(buffers, {type: 'application/binary'});\n",
              "      const a = document.createElement('a');\n",
              "      a.href = window.URL.createObjectURL(blob);\n",
              "      a.download = filename;\n",
              "      div.appendChild(a);\n",
              "      a.click();\n",
              "      div.remove();\n",
              "    }\n",
              "  "
            ]
          },
          "metadata": {}
        },
        {
          "output_type": "display_data",
          "data": {
            "text/plain": [
              "<IPython.core.display.Javascript object>"
            ],
            "application/javascript": [
              "download(\"download_22c7d9a5-0ab2-48ac-855c-ab3db8356033\", \"datasets.zip\", 10475)"
            ]
          },
          "metadata": {}
        }
      ]
    }
  ]
}