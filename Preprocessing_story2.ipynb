{
  "nbformat": 4,
  "nbformat_minor": 0,
  "metadata": {
    "colab": {
      "provenance": [],
      "authorship_tag": "ABX9TyNj9uVFZOudqr+2X6kD4DuE",
      "include_colab_link": true
    },
    "kernelspec": {
      "name": "python3",
      "display_name": "Python 3"
    },
    "language_info": {
      "name": "python"
    }
  },
  "cells": [
    {
      "cell_type": "markdown",
      "metadata": {
        "id": "view-in-github",
        "colab_type": "text"
      },
      "source": [
        "<a href=\"https://colab.research.google.com/github/VittorioBartolomeoSecondin/DVISProject-CAValli_Team/blob/main/Preprocessing_story2.ipynb\" target=\"_parent\"><img src=\"https://colab.research.google.com/assets/colab-badge.svg\" alt=\"Open In Colab\"/></a>"
      ]
    },
    {
      "cell_type": "markdown",
      "source": [
        "# Importing libraries and connecting to Google Drive"
      ],
      "metadata": {
        "id": "jYXUHoAb6l2w"
      }
    },
    {
      "cell_type": "code",
      "execution_count": 1,
      "metadata": {
        "colab": {
          "base_uri": "https://localhost:8080/"
        },
        "id": "X5bxYVYS6aTo",
        "outputId": "7f258e67-9e5b-420e-ce22-1878a9819279"
      },
      "outputs": [
        {
          "output_type": "stream",
          "name": "stdout",
          "text": [
            "Mounted at /content/drive\n"
          ]
        }
      ],
      "source": [
        "import pandas as pd\n",
        "import matplotlib.pyplot as plt\n",
        "import numpy as np\n",
        "import glob\n",
        "import json\n",
        "import csv\n",
        "import requests\n",
        "import os\n",
        "import zipfile\n",
        "from google.colab import files\n",
        "from google.colab import drive\n",
        "drive.mount('/content/drive')"
      ]
    },
    {
      "cell_type": "markdown",
      "source": [
        "# Reading and preprocessing data"
      ],
      "metadata": {
        "id": "YivPdgm36wlH"
      }
    },
    {
      "cell_type": "code",
      "source": [
        "all_files = glob.glob(\"/content/drive/MyDrive/DV_project/story2/*.xlsx\")\n",
        "all_files.sort()\n",
        "print(all_files)"
      ],
      "metadata": {
        "colab": {
          "base_uri": "https://localhost:8080/"
        },
        "id": "PU8YUJ2E6w-H",
        "outputId": "58f43a82-1aa2-4eb2-dad3-98681cb40fab"
      },
      "execution_count": 2,
      "outputs": [
        {
          "output_type": "stream",
          "name": "stdout",
          "text": [
            "['/content/drive/MyDrive/DV_project/story2/early_leavers_by_sex_labour.xlsx', '/content/drive/MyDrive/DV_project/story2/pop_edu_sex_age_absolute.xlsx', '/content/drive/MyDrive/DV_project/story2/pop_edu_sex_age_percentage.xlsx', '/content/drive/MyDrive/DV_project/story2/poverty_exclusion_risk.xlsx', '/content/drive/MyDrive/DV_project/story2/poverty_exclusion_risk_by_age.xlsx', '/content/drive/MyDrive/DV_project/story2/poverty_exclusion_risk_by_education.xlsx']\n"
          ]
        }
      ]
    },
    {
      "cell_type": "markdown",
      "source": [
        "## Dictionaries: country --> abbreviation (and viceversa)"
      ],
      "metadata": {
        "id": "luqSEIgmvytW"
      }
    },
    {
      "cell_type": "markdown",
      "source": [
        "We create 2 dictionaries linking each country to its short abbreviation (*country_abbreviations*) and viceversa (*country_abbreviations_reversed*)."
      ],
      "metadata": {
        "id": "MOTxKCJCx99z"
      }
    },
    {
      "cell_type": "code",
      "source": [
        "country_abbreviations = {\n",
        "    'European Union - 27 countries (from 2020)': 'EU',\n",
        "    'Belgium': 'BEL',\n",
        "    'Bulgaria': 'BGR',\n",
        "    'Czechia': 'CZE',\n",
        "    'Denmark': 'DNK',\n",
        "    'Germany': 'DEU',\n",
        "    'Estonia': 'EST',\n",
        "    'Ireland': 'IRL',\n",
        "    'Greece': 'GRC',\n",
        "    'Spain': 'ESP',\n",
        "    'France': 'FRA',\n",
        "    'Croatia': 'HRV',\n",
        "    'Italy': 'ITA',\n",
        "    'Cyprus': 'CYP',\n",
        "    'Latvia': 'LVA',\n",
        "    'Lithuania': 'LTU',\n",
        "    'Luxembourg': 'LUX',\n",
        "    'Hungary': 'HUN',\n",
        "    'Malta': 'MLT',\n",
        "    'Netherlands': 'NLD',\n",
        "    'Austria': 'AUT',\n",
        "    'Poland': 'POL',\n",
        "    'Portugal': 'PRT',\n",
        "    'Romania': 'ROU',\n",
        "    'Slovenia': 'SVN',\n",
        "    'Slovakia': 'SVK',\n",
        "    'Finland': 'FIN',\n",
        "    'Sweden': 'SWE',\n",
        "    'Iceland': 'ISL',\n",
        "    'Norway': 'NOR',\n",
        "    'Switzerland': 'CHE',\n",
        "    'Montenegro': 'MNE',\n",
        "    'North Macedonia': 'MKD',\n",
        "    'Serbia': 'SRB',\n",
        "    'Türkiye': 'TUR',\n",
        "}\n",
        "\n",
        "country_abbreviations_reversed = {value: key for key, value in country_abbreviations.items()}"
      ],
      "metadata": {
        "id": "7nS7WfqZRFyr"
      },
      "execution_count": 6,
      "outputs": []
    },
    {
      "cell_type": "markdown",
      "source": [
        "## Education level: absolute value"
      ],
      "metadata": {
        "id": "3zcBvZmqh3IG"
      }
    },
    {
      "cell_type": "markdown",
      "source": [
        "We import the 36 sheets of the *pop_edu_sex_age_absolute* excel file (skipping useless rows/columns and avoiding the print of unharmful warnings) in a dictionary of datasets named *education_abs_sheets*."
      ],
      "metadata": {
        "id": "lzecIhphxsLr"
      }
    },
    {
      "cell_type": "code",
      "source": [
        "years = range(2009, 2023)\n",
        "sheet_names = [f'Sheet {i}' for i in range(1, 37)]\n",
        "file_path = '/content/drive/MyDrive/DV_project/story2/pop_edu_sex_age_absolute.xlsx'\n",
        "rows_to_skip = list(range(0, 10)) + [11, 12, 13, 44] + list(range(49, 58))\n",
        "selected_columns = ['TIME'] + [str(year) for year in years]\n",
        "\n",
        "# Just to suppress the unharmful warnings we were getting\n",
        "import warnings\n",
        "with warnings.catch_warnings():\n",
        "    warnings.filterwarnings(\"ignore\", category = UserWarning, module = \"openpyxl\")\n",
        "    # Dictionary with datasets: 'education_abs_sheet1', ..., 'education_abs_sheet36'\n",
        "    education_abs_sheets = {f'education_abs_sheet{i}': pd.read_excel(file_path, sheet_name = sheet_name, skiprows = rows_to_skip, na_values = ':', usecols = selected_columns)\n",
        "                            for i, sheet_name in enumerate(sheet_names, start = 1)}"
      ],
      "metadata": {
        "id": "PUNxFSzS3wN4"
      },
      "execution_count": null,
      "outputs": []
    },
    {
      "cell_type": "markdown",
      "source": [
        "We add a column *Abbreviation* to the 36 datasets."
      ],
      "metadata": {
        "id": "EQNuBYFaySE9"
      }
    },
    {
      "cell_type": "code",
      "source": [
        "for i in range(1, 37):\n",
        "    education_abs_sheets[f'education_abs_sheet{i}'].rename(columns = {'TIME': 'Country'}, inplace = True)\n",
        "    education_abs_sheets[f'education_abs_sheet{i}']['Abbreviation'] = education_abs_sheets[f'education_abs_sheet{i}']['Country'].map(country_abbreviations)"
      ],
      "metadata": {
        "id": "-2kCGOau4-n3"
      },
      "execution_count": null,
      "outputs": []
    },
    {
      "cell_type": "markdown",
      "source": [
        "We sum data about 15-24 y.o. people and data about 25-29 y.o. people to have data coherent to what we used in story 1 (people aged between 15 and 29).\n",
        "\n",
        "We create 3 different dataset, one for each educational level (low, medium and high)."
      ],
      "metadata": {
        "id": "4gMGCDqf-t0H"
      }
    },
    {
      "cell_type": "code",
      "source": [
        "low1 = education_abs_sheets['education_abs_sheet2']\n",
        "low2 = education_abs_sheets['education_abs_sheet8']\n",
        "\n",
        "medium1 = education_abs_sheets['education_abs_sheet3']\n",
        "medium2 = education_abs_sheets['education_abs_sheet9']\n",
        "\n",
        "high1 = education_abs_sheets['education_abs_sheet6']\n",
        "high2 = education_abs_sheets['education_abs_sheet12']"
      ],
      "metadata": {
        "id": "qKQ9FWIb-t7M"
      },
      "execution_count": null,
      "outputs": []
    },
    {
      "cell_type": "code",
      "source": [
        "low1.set_index(['Country', 'Abbreviation'], inplace = True)\n",
        "low2.set_index(['Country', 'Abbreviation'], inplace = True)\n",
        "low = low1.fillna(1000000).add(low2.fillna(1000000), fill_value = 0).round(1)\n",
        "low = low.where(low < 1000000)\n",
        "low1.reset_index(inplace = True)\n",
        "low2.reset_index(inplace = True)\n",
        "low.reset_index(inplace = True)"
      ],
      "metadata": {
        "id": "G0iNZ2w9EA-9"
      },
      "execution_count": null,
      "outputs": []
    },
    {
      "cell_type": "code",
      "source": [
        "medium1.set_index(['Country', 'Abbreviation'], inplace = True)\n",
        "medium2.set_index(['Country', 'Abbreviation'], inplace = True)\n",
        "medium = medium1.fillna(1000000).add(medium2.fillna(1000000), fill_value = 0).round(1)\n",
        "medium = medium.where(medium < 1000000)\n",
        "medium1.reset_index(inplace = True)\n",
        "medium2.reset_index(inplace = True)\n",
        "medium.reset_index(inplace = True)"
      ],
      "metadata": {
        "id": "RC0Vnk9GEY_O"
      },
      "execution_count": null,
      "outputs": []
    },
    {
      "cell_type": "code",
      "source": [
        "high1.set_index(['Country', 'Abbreviation'], inplace = True)\n",
        "high2.set_index(['Country', 'Abbreviation'], inplace = True)\n",
        "high = high1.fillna(1000000).add(high2.fillna(1000000), fill_value = 0).round(1)\n",
        "high = high.where(high < 1000000)\n",
        "high1.reset_index(inplace = True)\n",
        "high2.reset_index(inplace = True)\n",
        "high.reset_index(inplace = True)"
      ],
      "metadata": {
        "id": "rcOim5UsC8Y9"
      },
      "execution_count": null,
      "outputs": []
    },
    {
      "cell_type": "markdown",
      "source": [
        "### Stacked barcharts"
      ],
      "metadata": {
        "id": "pLqkYUNBflcB"
      }
    },
    {
      "cell_type": "markdown",
      "source": [
        "We create one dataset for each year to use for the stacked barchart (percentage)."
      ],
      "metadata": {
        "id": "2OD8Ki7GkCY0"
      }
    },
    {
      "cell_type": "code",
      "source": [
        "def create_stacked_dataset(year):\n",
        "    stacked = pd.DataFrame()\n",
        "\n",
        "    low_year = low[['Country', 'Abbreviation', year]].rename(columns = {year: 'low'})\n",
        "    medium_year = medium[['Country', 'Abbreviation', year]].rename(columns = {year: 'medium'})\n",
        "    high_year = high[['Country', 'Abbreviation', year]].rename(columns = {year: 'high'})\n",
        "\n",
        "    stacked = pd.merge(low_year, medium_year, on = ['Country', 'Abbreviation'])\n",
        "    stacked = pd.merge(stacked, high_year, on = ['Country', 'Abbreviation'])\n",
        "    stacked = stacked.dropna(subset = ['low', 'medium', 'high'])\n",
        "\n",
        "    return stacked\n",
        "\n",
        "for year in range(2009, 2023):\n",
        "    stacked_year = create_stacked_dataset(str(year))\n",
        "    stacked_year = stacked_year.sort_values(by = 'Country')\n",
        "    stacked_year.to_csv(f\"stacked{year}_alphabetic.csv\", index = False, na_rep = 'nan')\n",
        "\n",
        "for year in range(2009, 2023):\n",
        "    stacked_year = create_stacked_dataset(str(year))\n",
        "    stacked_year = stacked_year.sort_values(by = 'low', ascending = False)\n",
        "    stacked_year.to_csv(f\"stacked{year}_low.csv\", index = False, na_rep = 'nan')\n",
        "\n",
        "for year in range(2009, 2023):\n",
        "    stacked_year = create_stacked_dataset(str(year))\n",
        "    stacked_year['total'] = stacked_year[['low', 'medium', 'high']].sum(axis = 1)\n",
        "    stacked_year['low_percentage'] = (stacked_year['low'] / stacked_year['total']) * 100\n",
        "    stacked_year = stacked_year.sort_values(by = 'low_percentage', ascending = False)\n",
        "    stacked_year.drop(['total', 'low_percentage'], axis = 1, inplace = True)\n",
        "    stacked_year.to_csv(f\"stacked{year}.csv\", index = False, na_rep = 'nan')"
      ],
      "metadata": {
        "id": "_-Qq06FDkBzf"
      },
      "execution_count": null,
      "outputs": []
    },
    {
      "cell_type": "markdown",
      "source": [
        "### Donut charts"
      ],
      "metadata": {
        "id": "plZLMqTWfqW5"
      }
    },
    {
      "cell_type": "markdown",
      "source": [
        "We do the same for males."
      ],
      "metadata": {
        "id": "hqoh1FqT_CKc"
      }
    },
    {
      "cell_type": "code",
      "source": [
        "low1_M = education_abs_sheets['education_abs_sheet14']\n",
        "low2_M = education_abs_sheets['education_abs_sheet20']\n",
        "\n",
        "medium1_M = education_abs_sheets['education_abs_sheet15']\n",
        "medium2_M = education_abs_sheets['education_abs_sheet21']\n",
        "\n",
        "high1_M = education_abs_sheets['education_abs_sheet18']\n",
        "high2_M = education_abs_sheets['education_abs_sheet24']"
      ],
      "metadata": {
        "id": "8NYoor1kxbt0"
      },
      "execution_count": null,
      "outputs": []
    },
    {
      "cell_type": "code",
      "source": [
        "low1_M.set_index(['Country', 'Abbreviation'], inplace = True)\n",
        "low2_M.set_index(['Country', 'Abbreviation'], inplace = True)\n",
        "low_M = low1_M.fillna(1000000).add(low2_M.fillna(1000000), fill_value = 0).round(1)\n",
        "low_M = low_M.where(low_M < 1000000)\n",
        "low1_M.reset_index(inplace = True)\n",
        "low2_M.reset_index(inplace = True)\n",
        "low_M.reset_index(inplace = True)"
      ],
      "metadata": {
        "id": "hdUgMC0iSHnm"
      },
      "execution_count": null,
      "outputs": []
    },
    {
      "cell_type": "code",
      "source": [
        "medium1_M.set_index(['Country', 'Abbreviation'], inplace = True)\n",
        "medium2_M.set_index(['Country', 'Abbreviation'], inplace = True)\n",
        "medium_M = medium1_M.fillna(1000000).add(medium2_M.fillna(1000000), fill_value = 0).round(1)\n",
        "medium_M = medium_M.where(medium_M < 1000000)\n",
        "medium1_M.reset_index(inplace = True)\n",
        "medium2_M.reset_index(inplace = True)\n",
        "medium_M.reset_index(inplace = True)"
      ],
      "metadata": {
        "id": "4szl6vdVSHno"
      },
      "execution_count": null,
      "outputs": []
    },
    {
      "cell_type": "code",
      "source": [
        "high1_M.set_index(['Country', 'Abbreviation'], inplace = True)\n",
        "high2_M.set_index(['Country', 'Abbreviation'], inplace = True)\n",
        "high_M = high1_M.fillna(1000000).add(high2_M.fillna(1000000), fill_value = 0).round(1)\n",
        "high_M = high_M.where(high_M < 1000000)\n",
        "high1_M.reset_index(inplace = True)\n",
        "high2_M.reset_index(inplace = True)\n",
        "high_M.reset_index(inplace = True)"
      ],
      "metadata": {
        "id": "THdQn0BxSHno"
      },
      "execution_count": null,
      "outputs": []
    },
    {
      "cell_type": "markdown",
      "source": [
        "We do the same for females."
      ],
      "metadata": {
        "id": "_gUnhfm_SPtZ"
      }
    },
    {
      "cell_type": "code",
      "source": [
        "low1_F = education_abs_sheets['education_abs_sheet26']\n",
        "low2_F = education_abs_sheets['education_abs_sheet32']\n",
        "\n",
        "medium1_F = education_abs_sheets['education_abs_sheet27']\n",
        "medium2_F = education_abs_sheets['education_abs_sheet33']\n",
        "\n",
        "high1_F = education_abs_sheets['education_abs_sheet30']\n",
        "high2_F = education_abs_sheets['education_abs_sheet36']"
      ],
      "metadata": {
        "id": "l-XJ24F4SSps"
      },
      "execution_count": null,
      "outputs": []
    },
    {
      "cell_type": "code",
      "source": [
        "low1_F.set_index(['Country', 'Abbreviation'], inplace = True)\n",
        "low2_F.set_index(['Country', 'Abbreviation'], inplace = True)\n",
        "low_F = low1_F.fillna(1000000).add(low2_F.fillna(1000000), fill_value = 0).round(1)\n",
        "low_F = low_F.where(low_F < 1000000)\n",
        "low1_F.reset_index(inplace = True)\n",
        "low2_F.reset_index(inplace = True)\n",
        "low_F.reset_index(inplace = True)"
      ],
      "metadata": {
        "id": "VaHGENMfSSp1"
      },
      "execution_count": null,
      "outputs": []
    },
    {
      "cell_type": "code",
      "source": [
        "medium1_F.set_index(['Country', 'Abbreviation'], inplace = True)\n",
        "medium2_F.set_index(['Country', 'Abbreviation'], inplace = True)\n",
        "medium_F = medium1_F.fillna(1000000).add(medium2_F.fillna(1000000), fill_value = 0).round(1)\n",
        "medium_F = medium_F.where(medium_F < 1000000)\n",
        "medium1_F.reset_index(inplace = True)\n",
        "medium2_F.reset_index(inplace = True)\n",
        "medium_F.reset_index(inplace = True)"
      ],
      "metadata": {
        "id": "Ea1o7M7sSSp1"
      },
      "execution_count": null,
      "outputs": []
    },
    {
      "cell_type": "code",
      "source": [
        "high1_F.set_index(['Country', 'Abbreviation'], inplace = True)\n",
        "high2_F.set_index(['Country', 'Abbreviation'], inplace = True)\n",
        "high_F = high1_F.fillna(1000000).add(high2_F.fillna(1000000), fill_value = 0).round(1)\n",
        "high_F = high_F.where(high_F < 1000000)\n",
        "high1_F.reset_index(inplace = True)\n",
        "high2_F.reset_index(inplace = True)\n",
        "high_F.reset_index(inplace = True)"
      ],
      "metadata": {
        "id": "ga6OpcaqSSp2"
      },
      "execution_count": null,
      "outputs": []
    },
    {
      "cell_type": "markdown",
      "source": [
        "We extract info on differences between M and F."
      ],
      "metadata": {
        "id": "0BrzXrKbs2AM"
      }
    },
    {
      "cell_type": "code",
      "source": [
        "levels = ['low', 'medium', 'high']\n",
        "genders = ['M', 'F']\n",
        "\n",
        "sum_datasets = {}\n",
        "difference_datasets = {}\n",
        "percentage_datasets = {}\n",
        "\n",
        "for level in levels:\n",
        "    for gender in genders:\n",
        "\n",
        "        male_dataframe = f\"{level}_M\"\n",
        "        female_dataframe = f\"{level}_F\"\n",
        "        sum_dataframe = f\"{level}_sum\"\n",
        "        difference_dataframe = f\"{level}_difference\"\n",
        "        percentage_dataframe = f\"{level}_percentage\"\n",
        "\n",
        "        male_df = locals()[male_dataframe]\n",
        "        female_df = locals()[female_dataframe]\n",
        "\n",
        "        sum_df = male_df.copy()\n",
        "        sum_df.iloc[:, 2:] = male_df.iloc[:, 2:] + female_df.iloc[:, 2:]\n",
        "        sum_datasets[sum_dataframe] = sum_df\n",
        "\n",
        "        difference_df = male_df.copy()\n",
        "        difference_df.iloc[:, 2:] = male_df.iloc[:, 2:] - female_df.iloc[:, 2:]\n",
        "        difference_datasets[difference_dataframe] = difference_df\n",
        "\n",
        "        percentage_df = male_df.copy()\n",
        "        percentage_df.iloc[:, 2:] = (difference_df.iloc[:, 2:] / sum_df.iloc[:, 2:]) * 100\n",
        "        percentage_datasets[percentage_dataframe] = percentage_df"
      ],
      "metadata": {
        "id": "LmIQboTktGf_"
      },
      "execution_count": null,
      "outputs": []
    },
    {
      "cell_type": "markdown",
      "source": [
        "For each year (from 2009 to 2022) we retrieve the top 3 countries with highest percentual difference between M and F (for low, medium and high education level), considering just the ABSOLUTE VALUE of this percentage (NOT considering the sign)."
      ],
      "metadata": {
        "id": "T0Pb4gLk75zr"
      }
    },
    {
      "cell_type": "code",
      "source": [
        "def ordinal(n):\n",
        "    suffix = 'th' if 11 <= n <= 13 else {1: 'st', 2: 'nd', 3: 'rd'}.get(n % 10, 'th')\n",
        "    return f\"{n}{suffix}\"\n",
        "\n",
        "# Function to convert the percentage column to numeric\n",
        "def convert_to_numeric(df, column):\n",
        "    df[column] = pd.to_numeric(df[column], errors = 'coerce')\n",
        "    return df\n",
        "\n",
        "level_datasets = {\n",
        "    'low': {'M': low_M, 'F': low_F},\n",
        "    'medium': {'M': medium_M, 'F': medium_F},\n",
        "    'high': {'M': high_M, 'F': high_F}\n",
        "}\n",
        "\n",
        "for year in range(2009, 2023):\n",
        "    print(f\"\\nIn the year {year}:\")\n",
        "    donut_data = []\n",
        "    for level in levels:\n",
        "        percentage_df = percentage_datasets[f\"{level}_percentage\"]\n",
        "\n",
        "        # Reshape data using melt\n",
        "        melted_df = pd.melt(percentage_df, id_vars = ['Country'], var_name = 'Year', value_name = f\"{level}_difference\")\n",
        "\n",
        "        # Convert 'Year' and difference columns to numeric\n",
        "        melted_df = convert_to_numeric(melted_df, 'Year')\n",
        "        melted_df = convert_to_numeric(melted_df, f\"{level}_difference\")\n",
        "\n",
        "        # Get the top 3 countries with the highest difference in absolute percentage\n",
        "        top_countries = melted_df[melted_df['Year'] == year].sort_values(by = f\"{level}_difference\", key = lambda x: x.abs(), ascending = False).head(3)[['Country', f\"{level}_difference\"]]\n",
        "\n",
        "        for i, (country, percentage) in enumerate(top_countries.itertuples(index = False, name = None), start = 1):\n",
        "            print(f\"The {ordinal(i)} country with the highest difference in percentage between M and F for {level} education is {country} with a percentage of {percentage:.2f}%\")\n",
        "            valueM = level_datasets[level]['M'].loc[ level_datasets[level]['M']['Country'] == country, str(year) ].values[0]\n",
        "            valueF = level_datasets[level]['F'].loc[ level_datasets[level]['F']['Country'] == country, str(year) ].values[0]\n",
        "            donut_data.append({'name': country, 'abbreviation': country_abbreviations.get(country),'level': level, 'rank': i, 'valueM': valueM, 'valueF': valueF})\n",
        "\n",
        "    donut_df = pd.DataFrame(donut_data)\n",
        "    donut_df.to_csv(f\"donut{year}.csv\", index = False)"
      ],
      "metadata": {
        "id": "Cpc-gHI449Qk",
        "outputId": "7aabdfe5-2bee-41f2-884c-09b9c24ead02",
        "colab": {
          "base_uri": "https://localhost:8080/"
        }
      },
      "execution_count": null,
      "outputs": [
        {
          "output_type": "stream",
          "name": "stdout",
          "text": [
            "\n",
            "In the year 2009:\n",
            "The 1st country with the highest difference in percentage between M and F for low education is Spain with a percentage of 14.90%\n",
            "The 2nd country with the highest difference in percentage between M and F for low education is Greece with a percentage of 12.12%\n",
            "The 3rd country with the highest difference in percentage between M and F for low education is Malta with a percentage of 11.71%\n",
            "The 1st country with the highest difference in percentage between M and F for medium education is Bulgaria with a percentage of 12.53%\n",
            "The 2nd country with the highest difference in percentage between M and F for medium education is Türkiye with a percentage of 11.79%\n",
            "The 3rd country with the highest difference in percentage between M and F for medium education is North Macedonia with a percentage of 11.33%\n",
            "The 1st country with the highest difference in percentage between M and F for high education is Croatia with a percentage of -33.95%\n",
            "The 2nd country with the highest difference in percentage between M and F for high education is Slovenia with a percentage of -32.77%\n",
            "The 3rd country with the highest difference in percentage between M and F for high education is Estonia with a percentage of -32.51%\n",
            "\n",
            "In the year 2010:\n",
            "The 1st country with the highest difference in percentage between M and F for low education is Malta with a percentage of 18.39%\n",
            "The 2nd country with the highest difference in percentage between M and F for low education is Spain with a percentage of 14.86%\n",
            "The 3rd country with the highest difference in percentage between M and F for low education is Estonia with a percentage of 13.27%\n",
            "The 1st country with the highest difference in percentage between M and F for medium education is Bulgaria with a percentage of 11.69%\n",
            "The 2nd country with the highest difference in percentage between M and F for medium education is North Macedonia with a percentage of 11.64%\n",
            "The 3rd country with the highest difference in percentage between M and F for medium education is Türkiye with a percentage of 10.07%\n",
            "The 1st country with the highest difference in percentage between M and F for high education is Latvia with a percentage of -36.73%\n",
            "The 2nd country with the highest difference in percentage between M and F for high education is Slovenia with a percentage of -33.33%\n",
            "The 3rd country with the highest difference in percentage between M and F for high education is Estonia with a percentage of -33.20%\n",
            "\n",
            "In the year 2011:\n",
            "The 1st country with the highest difference in percentage between M and F for low education is Malta with a percentage of 20.00%\n",
            "The 2nd country with the highest difference in percentage between M and F for low education is Spain with a percentage of 14.88%\n",
            "The 3rd country with the highest difference in percentage between M and F for low education is Slovenia with a percentage of 13.70%\n",
            "The 1st country with the highest difference in percentage between M and F for medium education is North Macedonia with a percentage of 12.45%\n",
            "The 2nd country with the highest difference in percentage between M and F for medium education is Bulgaria with a percentage of 11.25%\n",
            "The 3rd country with the highest difference in percentage between M and F for medium education is Serbia with a percentage of 10.51%\n",
            "The 1st country with the highest difference in percentage between M and F for high education is Slovenia with a percentage of -37.40%\n",
            "The 2nd country with the highest difference in percentage between M and F for high education is Latvia with a percentage of -34.00%\n",
            "The 3rd country with the highest difference in percentage between M and F for high education is Cyprus with a percentage of -28.47%\n",
            "\n",
            "In the year 2012:\n",
            "The 1st country with the highest difference in percentage between M and F for low education is Malta with a percentage of 15.79%\n",
            "The 2nd country with the highest difference in percentage between M and F for low education is Latvia with a percentage of 14.77%\n",
            "The 3rd country with the highest difference in percentage between M and F for low education is Spain with a percentage of 14.08%\n",
            "The 1st country with the highest difference in percentage between M and F for medium education is North Macedonia with a percentage of 14.04%\n",
            "The 2nd country with the highest difference in percentage between M and F for medium education is Serbia with a percentage of 10.91%\n",
            "The 3rd country with the highest difference in percentage between M and F for medium education is Poland with a percentage of 10.07%\n",
            "The 1st country with the highest difference in percentage between M and F for high education is Latvia with a percentage of -33.25%\n",
            "The 2nd country with the highest difference in percentage between M and F for high education is Slovenia with a percentage of -31.95%\n",
            "The 3rd country with the highest difference in percentage between M and F for high education is Finland with a percentage of -29.16%\n",
            "\n",
            "In the year 2013:\n",
            "The 1st country with the highest difference in percentage between M and F for low education is Malta with a percentage of 17.47%\n",
            "The 2nd country with the highest difference in percentage between M and F for low education is Latvia with a percentage of 14.47%\n",
            "The 3rd country with the highest difference in percentage between M and F for low education is Iceland with a percentage of 13.31%\n",
            "The 1st country with the highest difference in percentage between M and F for medium education is North Macedonia with a percentage of 15.99%\n",
            "The 2nd country with the highest difference in percentage between M and F for medium education is Bulgaria with a percentage of 10.98%\n",
            "The 3rd country with the highest difference in percentage between M and F for medium education is Slovenia with a percentage of 9.88%\n",
            "The 1st country with the highest difference in percentage between M and F for high education is Portugal with a percentage of -31.81%\n",
            "The 2nd country with the highest difference in percentage between M and F for high education is Latvia with a percentage of -31.56%\n",
            "The 3rd country with the highest difference in percentage between M and F for high education is Cyprus with a percentage of -31.20%\n",
            "\n",
            "In the year 2014:\n",
            "The 1st country with the highest difference in percentage between M and F for low education is Estonia with a percentage of 17.31%\n",
            "The 2nd country with the highest difference in percentage between M and F for low education is Malta with a percentage of 15.15%\n",
            "The 3rd country with the highest difference in percentage between M and F for low education is Iceland with a percentage of 14.19%\n",
            "The 1st country with the highest difference in percentage between M and F for medium education is Cyprus with a percentage of 18.00%\n",
            "The 2nd country with the highest difference in percentage between M and F for medium education is North Macedonia with a percentage of 12.57%\n",
            "The 3rd country with the highest difference in percentage between M and F for medium education is Slovakia with a percentage of 10.98%\n",
            "The 1st country with the highest difference in percentage between M and F for high education is Cyprus with a percentage of -36.42%\n",
            "The 2nd country with the highest difference in percentage between M and F for high education is Latvia with a percentage of -27.51%\n",
            "The 3rd country with the highest difference in percentage between M and F for high education is Portugal with a percentage of -26.73%\n",
            "\n",
            "In the year 2015:\n",
            "The 1st country with the highest difference in percentage between M and F for low education is Malta with a percentage of 14.40%\n",
            "The 2nd country with the highest difference in percentage between M and F for low education is Spain with a percentage of 14.02%\n",
            "The 3rd country with the highest difference in percentage between M and F for low education is Iceland with a percentage of 13.46%\n",
            "The 1st country with the highest difference in percentage between M and F for medium education is Cyprus with a percentage of 14.73%\n",
            "The 2nd country with the highest difference in percentage between M and F for medium education is Latvia with a percentage of 12.18%\n",
            "The 3rd country with the highest difference in percentage between M and F for medium education is North Macedonia with a percentage of 11.88%\n",
            "The 1st country with the highest difference in percentage between M and F for high education is Cyprus with a percentage of -34.89%\n",
            "The 2nd country with the highest difference in percentage between M and F for high education is Latvia with a percentage of -34.79%\n",
            "The 3rd country with the highest difference in percentage between M and F for high education is Finland with a percentage of -26.84%\n",
            "\n",
            "In the year 2016:\n",
            "The 1st country with the highest difference in percentage between M and F for low education is Malta with a percentage of 21.21%\n",
            "The 2nd country with the highest difference in percentage between M and F for low education is Iceland with a percentage of 15.75%\n",
            "The 3rd country with the highest difference in percentage between M and F for low education is Estonia with a percentage of 13.85%\n",
            "The 1st country with the highest difference in percentage between M and F for medium education is Cyprus with a percentage of 15.64%\n",
            "The 2nd country with the highest difference in percentage between M and F for medium education is North Macedonia with a percentage of 13.79%\n",
            "The 3rd country with the highest difference in percentage between M and F for medium education is Montenegro with a percentage of 12.63%\n",
            "The 1st country with the highest difference in percentage between M and F for high education is Estonia with a percentage of -33.63%\n",
            "The 2nd country with the highest difference in percentage between M and F for high education is Cyprus with a percentage of -33.57%\n",
            "The 3rd country with the highest difference in percentage between M and F for high education is Latvia with a percentage of -28.07%\n",
            "\n",
            "In the year 2017:\n",
            "The 1st country with the highest difference in percentage between M and F for low education is Malta with a percentage of 21.93%\n",
            "The 2nd country with the highest difference in percentage between M and F for low education is Estonia with a percentage of 13.99%\n",
            "The 3rd country with the highest difference in percentage between M and F for low education is Portugal with a percentage of 13.20%\n",
            "The 1st country with the highest difference in percentage between M and F for medium education is Cyprus with a percentage of 16.48%\n",
            "The 2nd country with the highest difference in percentage between M and F for medium education is Montenegro with a percentage of 15.78%\n",
            "The 3rd country with the highest difference in percentage between M and F for medium education is Slovakia with a percentage of 12.30%\n",
            "The 1st country with the highest difference in percentage between M and F for high education is Estonia with a percentage of -31.63%\n",
            "The 2nd country with the highest difference in percentage between M and F for high education is Cyprus with a percentage of -30.12%\n",
            "The 3rd country with the highest difference in percentage between M and F for high education is Portugal with a percentage of -29.73%\n",
            "\n",
            "In the year 2018:\n",
            "The 1st country with the highest difference in percentage between M and F for low education is Malta with a percentage of 16.67%\n",
            "The 2nd country with the highest difference in percentage between M and F for low education is Iceland with a percentage of 13.90%\n",
            "The 3rd country with the highest difference in percentage between M and F for low education is Spain with a percentage of 13.17%\n",
            "The 1st country with the highest difference in percentage between M and F for medium education is Cyprus with a percentage of 14.92%\n",
            "The 2nd country with the highest difference in percentage between M and F for medium education is Montenegro with a percentage of 12.74%\n",
            "The 3rd country with the highest difference in percentage between M and F for medium education is Slovakia with a percentage of 11.86%\n",
            "The 1st country with the highest difference in percentage between M and F for high education is Cyprus with a percentage of -27.70%\n",
            "The 2nd country with the highest difference in percentage between M and F for high education is Portugal with a percentage of -26.94%\n",
            "The 3rd country with the highest difference in percentage between M and F for high education is Estonia with a percentage of -25.67%\n",
            "\n",
            "In the year 2019:\n",
            "The 1st country with the highest difference in percentage between M and F for low education is Iceland with a percentage of 18.44%\n",
            "The 2nd country with the highest difference in percentage between M and F for low education is Spain with a percentage of 14.96%\n",
            "The 3rd country with the highest difference in percentage between M and F for low education is Malta with a percentage of 14.42%\n",
            "The 1st country with the highest difference in percentage between M and F for medium education is Croatia with a percentage of 13.76%\n",
            "The 2nd country with the highest difference in percentage between M and F for medium education is Cyprus with a percentage of 13.64%\n",
            "The 3rd country with the highest difference in percentage between M and F for medium education is Sweden with a percentage of 11.90%\n",
            "The 1st country with the highest difference in percentage between M and F for high education is Croatia with a percentage of -35.20%\n",
            "The 2nd country with the highest difference in percentage between M and F for high education is Estonia with a percentage of -29.03%\n",
            "The 3rd country with the highest difference in percentage between M and F for high education is Cyprus with a percentage of -28.67%\n",
            "\n",
            "In the year 2020:\n",
            "The 1st country with the highest difference in percentage between M and F for low education is Malta with a percentage of 21.69%\n",
            "The 2nd country with the highest difference in percentage between M and F for low education is Iceland with a percentage of 16.13%\n",
            "The 3rd country with the highest difference in percentage between M and F for low education is Spain with a percentage of 14.55%\n",
            "The 1st country with the highest difference in percentage between M and F for medium education is Norway with a percentage of 13.66%\n",
            "The 2nd country with the highest difference in percentage between M and F for medium education is Slovenia with a percentage of 13.08%\n",
            "The 3rd country with the highest difference in percentage between M and F for medium education is Slovakia with a percentage of 12.95%\n",
            "The 1st country with the highest difference in percentage between M and F for high education is Croatia with a percentage of -28.94%\n",
            "The 2nd country with the highest difference in percentage between M and F for high education is Latvia with a percentage of -28.21%\n",
            "The 3rd country with the highest difference in percentage between M and F for high education is Cyprus with a percentage of -28.06%\n",
            "\n",
            "In the year 2021:\n",
            "The 1st country with the highest difference in percentage between M and F for low education is Malta with a percentage of 25.88%\n",
            "The 2nd country with the highest difference in percentage between M and F for low education is Iceland with a percentage of 16.31%\n",
            "The 3rd country with the highest difference in percentage between M and F for low education is Portugal with a percentage of 13.18%\n",
            "The 1st country with the highest difference in percentage between M and F for medium education is Slovakia with a percentage of 14.02%\n",
            "The 2nd country with the highest difference in percentage between M and F for medium education is Malta with a percentage of 11.75%\n",
            "The 3rd country with the highest difference in percentage between M and F for medium education is Slovenia with a percentage of 11.50%\n",
            "The 1st country with the highest difference in percentage between M and F for high education is Slovakia with a percentage of -28.45%\n",
            "The 2nd country with the highest difference in percentage between M and F for high education is Portugal with a percentage of -24.93%\n",
            "The 3rd country with the highest difference in percentage between M and F for high education is Croatia with a percentage of -23.10%\n",
            "\n",
            "In the year 2022:\n",
            "The 1st country with the highest difference in percentage between M and F for low education is Malta with a percentage of 17.32%\n",
            "The 2nd country with the highest difference in percentage between M and F for low education is Iceland with a percentage of 11.86%\n",
            "The 3rd country with the highest difference in percentage between M and F for low education is Portugal with a percentage of 11.80%\n",
            "The 1st country with the highest difference in percentage between M and F for medium education is Slovenia with a percentage of 14.75%\n",
            "The 2nd country with the highest difference in percentage between M and F for medium education is Slovakia with a percentage of 14.59%\n",
            "The 3rd country with the highest difference in percentage between M and F for medium education is Malta with a percentage of 11.92%\n",
            "The 1st country with the highest difference in percentage between M and F for high education is Croatia with a percentage of -28.58%\n",
            "The 2nd country with the highest difference in percentage between M and F for high education is Slovakia with a percentage of -27.86%\n",
            "The 3rd country with the highest difference in percentage between M and F for high education is Latvia with a percentage of -27.71%\n"
          ]
        }
      ]
    },
    {
      "cell_type": "markdown",
      "source": [
        "For each year (from 2009 to 2022) we retrieve the top 3 countries with highest percentual difference between M and F (for low, medium and high education level), considering THE SIGN of this percentage (NOT considering the absolute value)."
      ],
      "metadata": {
        "id": "_-9ZbPsP7yOx"
      }
    },
    {
      "cell_type": "code",
      "source": [
        "for year in range(2009, 2023):\n",
        "    print(f\"\\nIn the year {year}:\")\n",
        "\n",
        "    for level in levels:\n",
        "        percentage_df = percentage_datasets[f\"{level}_percentage\"]\n",
        "\n",
        "        # Reshape data using melt\n",
        "        melted_df = pd.melt(percentage_df, id_vars=['Country'], var_name='Year', value_name=f\"{level}_difference\")\n",
        "\n",
        "        # Convert 'Year' and difference columns to numeric\n",
        "        melted_df = convert_to_numeric(melted_df, 'Year')\n",
        "        melted_df = convert_to_numeric(melted_df, f\"{level}_difference\")\n",
        "\n",
        "        # Get the top 3 countries with the highest difference in percentage\n",
        "        top_countries = melted_df[melted_df['Year'] == year].nlargest(3, f\"{level}_difference\")[['Country', f\"{level}_difference\"]]\n",
        "\n",
        "        # Print information for each country\n",
        "        for i, (country, percentage) in enumerate(top_countries.itertuples(index = False, name = None), start=1):\n",
        "            print(f\"The {ordinal(i)} country with the highest difference in percentage between M and F for {level} education is {country} with a percentage of {percentage:.2f}%\")"
      ],
      "metadata": {
        "id": "2tuKrtp_1Fet",
        "outputId": "04680906-8ffe-4b0e-eadc-ffe330d1cda8",
        "colab": {
          "base_uri": "https://localhost:8080/"
        }
      },
      "execution_count": null,
      "outputs": [
        {
          "output_type": "stream",
          "name": "stdout",
          "text": [
            "\n",
            "In the year 2009:\n",
            "The 1st country with the highest difference in percentage between M and F for low education is Spain with a percentage of 14.90%\n",
            "The 2nd country with the highest difference in percentage between M and F for low education is Greece with a percentage of 12.12%\n",
            "The 3rd country with the highest difference in percentage between M and F for low education is Malta with a percentage of 11.71%\n",
            "The 1st country with the highest difference in percentage between M and F for medium education is Bulgaria with a percentage of 12.53%\n",
            "The 2nd country with the highest difference in percentage between M and F for medium education is Türkiye with a percentage of 11.79%\n",
            "The 3rd country with the highest difference in percentage between M and F for medium education is North Macedonia with a percentage of 11.33%\n",
            "The 1st country with the highest difference in percentage between M and F for high education is Switzerland with a percentage of 2.22%\n",
            "The 2nd country with the highest difference in percentage between M and F for high education is Türkiye with a percentage of -2.03%\n",
            "The 3rd country with the highest difference in percentage between M and F for high education is France with a percentage of -12.66%\n",
            "\n",
            "In the year 2010:\n",
            "The 1st country with the highest difference in percentage between M and F for low education is Malta with a percentage of 18.39%\n",
            "The 2nd country with the highest difference in percentage between M and F for low education is Spain with a percentage of 14.86%\n",
            "The 3rd country with the highest difference in percentage between M and F for low education is Estonia with a percentage of 13.27%\n",
            "The 1st country with the highest difference in percentage between M and F for medium education is Bulgaria with a percentage of 11.69%\n",
            "The 2nd country with the highest difference in percentage between M and F for medium education is North Macedonia with a percentage of 11.64%\n",
            "The 3rd country with the highest difference in percentage between M and F for medium education is Türkiye with a percentage of 10.07%\n",
            "The 1st country with the highest difference in percentage between M and F for high education is Switzerland with a percentage of 1.04%\n",
            "The 2nd country with the highest difference in percentage between M and F for high education is Türkiye with a percentage of -0.85%\n",
            "The 3rd country with the highest difference in percentage between M and F for high education is Romania with a percentage of -7.38%\n",
            "\n",
            "In the year 2011:\n",
            "The 1st country with the highest difference in percentage between M and F for low education is Malta with a percentage of 20.00%\n",
            "The 2nd country with the highest difference in percentage between M and F for low education is Spain with a percentage of 14.88%\n",
            "The 3rd country with the highest difference in percentage between M and F for low education is Slovenia with a percentage of 13.70%\n",
            "The 1st country with the highest difference in percentage between M and F for medium education is North Macedonia with a percentage of 12.45%\n",
            "The 2nd country with the highest difference in percentage between M and F for medium education is Bulgaria with a percentage of 11.25%\n",
            "The 3rd country with the highest difference in percentage between M and F for medium education is Serbia with a percentage of 10.51%\n",
            "The 1st country with the highest difference in percentage between M and F for high education is Türkiye with a percentage of 0.36%\n",
            "The 2nd country with the highest difference in percentage between M and F for high education is Switzerland with a percentage of -2.18%\n",
            "The 3rd country with the highest difference in percentage between M and F for high education is Romania with a percentage of -10.16%\n",
            "\n",
            "In the year 2012:\n",
            "The 1st country with the highest difference in percentage between M and F for low education is Malta with a percentage of 15.79%\n",
            "The 2nd country with the highest difference in percentage between M and F for low education is Latvia with a percentage of 14.77%\n",
            "The 3rd country with the highest difference in percentage between M and F for low education is Spain with a percentage of 14.08%\n",
            "The 1st country with the highest difference in percentage between M and F for medium education is North Macedonia with a percentage of 14.04%\n",
            "The 2nd country with the highest difference in percentage between M and F for medium education is Serbia with a percentage of 10.91%\n",
            "The 3rd country with the highest difference in percentage between M and F for medium education is Poland with a percentage of 10.07%\n",
            "The 1st country with the highest difference in percentage between M and F for high education is Türkiye with a percentage of 1.35%\n",
            "The 2nd country with the highest difference in percentage between M and F for high education is Switzerland with a percentage of -2.48%\n",
            "The 3rd country with the highest difference in percentage between M and F for high education is France with a percentage of -10.47%\n",
            "\n",
            "In the year 2013:\n",
            "The 1st country with the highest difference in percentage between M and F for low education is Malta with a percentage of 17.47%\n",
            "The 2nd country with the highest difference in percentage between M and F for low education is Latvia with a percentage of 14.47%\n",
            "The 3rd country with the highest difference in percentage between M and F for low education is Iceland with a percentage of 13.31%\n",
            "The 1st country with the highest difference in percentage between M and F for medium education is North Macedonia with a percentage of 15.99%\n",
            "The 2nd country with the highest difference in percentage between M and F for medium education is Bulgaria with a percentage of 10.98%\n",
            "The 3rd country with the highest difference in percentage between M and F for medium education is Slovenia with a percentage of 9.88%\n",
            "The 1st country with the highest difference in percentage between M and F for high education is Switzerland with a percentage of -0.23%\n",
            "The 2nd country with the highest difference in percentage between M and F for high education is Türkiye with a percentage of -0.84%\n",
            "The 3rd country with the highest difference in percentage between M and F for high education is Romania with a percentage of -11.28%\n",
            "\n",
            "In the year 2014:\n",
            "The 1st country with the highest difference in percentage between M and F for low education is Estonia with a percentage of 17.31%\n",
            "The 2nd country with the highest difference in percentage between M and F for low education is Malta with a percentage of 15.15%\n",
            "The 3rd country with the highest difference in percentage between M and F for low education is Iceland with a percentage of 14.19%\n",
            "The 1st country with the highest difference in percentage between M and F for medium education is Cyprus with a percentage of 18.00%\n",
            "The 2nd country with the highest difference in percentage between M and F for medium education is North Macedonia with a percentage of 12.57%\n",
            "The 3rd country with the highest difference in percentage between M and F for medium education is Slovakia with a percentage of 10.98%\n",
            "The 1st country with the highest difference in percentage between M and F for high education is Switzerland with a percentage of -1.44%\n",
            "The 2nd country with the highest difference in percentage between M and F for high education is Türkiye with a percentage of -1.90%\n",
            "The 3rd country with the highest difference in percentage between M and F for high education is Germany with a percentage of -7.66%\n",
            "\n",
            "In the year 2015:\n",
            "The 1st country with the highest difference in percentage between M and F for low education is Malta with a percentage of 14.40%\n",
            "The 2nd country with the highest difference in percentage between M and F for low education is Spain with a percentage of 14.02%\n",
            "The 3rd country with the highest difference in percentage between M and F for low education is Iceland with a percentage of 13.46%\n",
            "The 1st country with the highest difference in percentage between M and F for medium education is Cyprus with a percentage of 14.73%\n",
            "The 2nd country with the highest difference in percentage between M and F for medium education is Latvia with a percentage of 12.18%\n",
            "The 3rd country with the highest difference in percentage between M and F for medium education is North Macedonia with a percentage of 11.88%\n",
            "The 1st country with the highest difference in percentage between M and F for high education is Switzerland with a percentage of -3.53%\n",
            "The 2nd country with the highest difference in percentage between M and F for high education is Türkiye with a percentage of -4.84%\n",
            "The 3rd country with the highest difference in percentage between M and F for high education is Germany with a percentage of -7.15%\n",
            "\n",
            "In the year 2016:\n",
            "The 1st country with the highest difference in percentage between M and F for low education is Malta with a percentage of 21.21%\n",
            "The 2nd country with the highest difference in percentage between M and F for low education is Iceland with a percentage of 15.75%\n",
            "The 3rd country with the highest difference in percentage between M and F for low education is Estonia with a percentage of 13.85%\n",
            "The 1st country with the highest difference in percentage between M and F for medium education is Cyprus with a percentage of 15.64%\n",
            "The 2nd country with the highest difference in percentage between M and F for medium education is North Macedonia with a percentage of 13.79%\n",
            "The 3rd country with the highest difference in percentage between M and F for medium education is Montenegro with a percentage of 12.63%\n",
            "The 1st country with the highest difference in percentage between M and F for high education is Switzerland with a percentage of -0.35%\n",
            "The 2nd country with the highest difference in percentage between M and F for high education is Germany with a percentage of -4.27%\n",
            "The 3rd country with the highest difference in percentage between M and F for high education is Türkiye with a percentage of -6.40%\n",
            "\n",
            "In the year 2017:\n",
            "The 1st country with the highest difference in percentage between M and F for low education is Malta with a percentage of 21.93%\n",
            "The 2nd country with the highest difference in percentage between M and F for low education is Estonia with a percentage of 13.99%\n",
            "The 3rd country with the highest difference in percentage between M and F for low education is Portugal with a percentage of 13.20%\n",
            "The 1st country with the highest difference in percentage between M and F for medium education is Cyprus with a percentage of 16.48%\n",
            "The 2nd country with the highest difference in percentage between M and F for medium education is Montenegro with a percentage of 15.78%\n",
            "The 3rd country with the highest difference in percentage between M and F for medium education is Slovakia with a percentage of 12.30%\n",
            "The 1st country with the highest difference in percentage between M and F for high education is Germany with a percentage of -3.96%\n",
            "The 2nd country with the highest difference in percentage between M and F for high education is Switzerland with a percentage of -5.20%\n",
            "The 3rd country with the highest difference in percentage between M and F for high education is Türkiye with a percentage of -7.12%\n",
            "\n",
            "In the year 2018:\n",
            "The 1st country with the highest difference in percentage between M and F for low education is Malta with a percentage of 16.67%\n",
            "The 2nd country with the highest difference in percentage between M and F for low education is Iceland with a percentage of 13.90%\n",
            "The 3rd country with the highest difference in percentage between M and F for low education is Spain with a percentage of 13.17%\n",
            "The 1st country with the highest difference in percentage between M and F for medium education is Cyprus with a percentage of 14.92%\n",
            "The 2nd country with the highest difference in percentage between M and F for medium education is Montenegro with a percentage of 12.74%\n",
            "The 3rd country with the highest difference in percentage between M and F for medium education is Slovakia with a percentage of 11.86%\n",
            "The 1st country with the highest difference in percentage between M and F for high education is Germany with a percentage of -4.79%\n",
            "The 2nd country with the highest difference in percentage between M and F for high education is Malta with a percentage of -6.51%\n",
            "The 3rd country with the highest difference in percentage between M and F for high education is Switzerland with a percentage of -8.28%\n",
            "\n",
            "In the year 2019:\n",
            "The 1st country with the highest difference in percentage between M and F for low education is Iceland with a percentage of 18.44%\n",
            "The 2nd country with the highest difference in percentage between M and F for low education is Spain with a percentage of 14.96%\n",
            "The 3rd country with the highest difference in percentage between M and F for low education is Malta with a percentage of 14.42%\n",
            "The 1st country with the highest difference in percentage between M and F for medium education is Croatia with a percentage of 13.76%\n",
            "The 2nd country with the highest difference in percentage between M and F for medium education is Cyprus with a percentage of 13.64%\n",
            "The 3rd country with the highest difference in percentage between M and F for medium education is Sweden with a percentage of 11.90%\n",
            "The 1st country with the highest difference in percentage between M and F for high education is Iceland with a percentage of -3.88%\n",
            "The 2nd country with the highest difference in percentage between M and F for high education is Germany with a percentage of -4.06%\n",
            "The 3rd country with the highest difference in percentage between M and F for high education is Switzerland with a percentage of -4.10%\n",
            "\n",
            "In the year 2020:\n",
            "The 1st country with the highest difference in percentage between M and F for low education is Malta with a percentage of 21.69%\n",
            "The 2nd country with the highest difference in percentage between M and F for low education is Iceland with a percentage of 16.13%\n",
            "The 3rd country with the highest difference in percentage between M and F for low education is Spain with a percentage of 14.55%\n",
            "The 1st country with the highest difference in percentage between M and F for medium education is Norway with a percentage of 13.66%\n",
            "The 2nd country with the highest difference in percentage between M and F for medium education is Slovenia with a percentage of 13.08%\n",
            "The 3rd country with the highest difference in percentage between M and F for medium education is Slovakia with a percentage of 12.95%\n",
            "The 1st country with the highest difference in percentage between M and F for high education is Malta with a percentage of -1.17%\n",
            "The 2nd country with the highest difference in percentage between M and F for high education is Switzerland with a percentage of -7.26%\n",
            "The 3rd country with the highest difference in percentage between M and F for high education is Germany with a percentage of -7.46%\n",
            "\n",
            "In the year 2021:\n",
            "The 1st country with the highest difference in percentage between M and F for low education is Malta with a percentage of 25.88%\n",
            "The 2nd country with the highest difference in percentage between M and F for low education is Iceland with a percentage of 16.31%\n",
            "The 3rd country with the highest difference in percentage between M and F for low education is Portugal with a percentage of 13.18%\n",
            "The 1st country with the highest difference in percentage between M and F for medium education is Slovakia with a percentage of 14.02%\n",
            "The 2nd country with the highest difference in percentage between M and F for medium education is Malta with a percentage of 11.75%\n",
            "The 3rd country with the highest difference in percentage between M and F for medium education is Slovenia with a percentage of 11.50%\n",
            "The 1st country with the highest difference in percentage between M and F for high education is Switzerland with a percentage of -4.17%\n",
            "The 2nd country with the highest difference in percentage between M and F for high education is Germany with a percentage of -8.52%\n",
            "The 3rd country with the highest difference in percentage between M and F for high education is France with a percentage of -8.95%\n",
            "\n",
            "In the year 2022:\n",
            "The 1st country with the highest difference in percentage between M and F for low education is Malta with a percentage of 17.32%\n",
            "The 2nd country with the highest difference in percentage between M and F for low education is Iceland with a percentage of 11.86%\n",
            "The 3rd country with the highest difference in percentage between M and F for low education is Portugal with a percentage of 11.80%\n",
            "The 1st country with the highest difference in percentage between M and F for medium education is Slovenia with a percentage of 14.75%\n",
            "The 2nd country with the highest difference in percentage between M and F for medium education is Slovakia with a percentage of 14.59%\n",
            "The 3rd country with the highest difference in percentage between M and F for medium education is Malta with a percentage of 11.92%\n",
            "The 1st country with the highest difference in percentage between M and F for high education is Switzerland with a percentage of -7.50%\n",
            "The 2nd country with the highest difference in percentage between M and F for high education is Greece with a percentage of -7.62%\n",
            "The 3rd country with the highest difference in percentage between M and F for high education is Netherlands with a percentage of -7.83%\n"
          ]
        }
      ]
    },
    {
      "cell_type": "markdown",
      "source": [
        "## Education level: percentage --> we are NOT using this dataset for now!"
      ],
      "metadata": {
        "id": "v8Z8ecZph_WC"
      }
    },
    {
      "cell_type": "markdown",
      "source": [
        "We import the 18 sheets of the *pop_edu_sex_age_percentage* excel file (skipping useless rows/columns and avoiding the print of unharmful warnings) in a dictionary of datasets named *education_per_sheets*."
      ],
      "metadata": {
        "id": "Ae1albAoz1NT"
      }
    },
    {
      "cell_type": "code",
      "source": [
        "years = range(2009, 2023)\n",
        "sheet_names = [f'Sheet {i}' for i in range(1, 19)]\n",
        "file_path = '/content/drive/MyDrive/DV_project/story2/pop_edu_sex_age_percentage.xlsx'\n",
        "rows_to_skip = list(range(0, 10)) + [11, 12, 13, 44] + list(range(49, 56))\n",
        "selected_columns = ['TIME'] + [str(year) for year in years]\n",
        "\n",
        "# Just to suppress the unharmful warnings we were getting\n",
        "import warnings\n",
        "with warnings.catch_warnings():\n",
        "    warnings.filterwarnings(\"ignore\", category = UserWarning, module = \"openpyxl\")\n",
        "    # Dictionary with datasets: 'education_per_sheet1', ..., 'education_per_sheet36'\n",
        "    education_per_sheets = {f'education_per_sheet{i}': pd.read_excel(file_path, sheet_name = sheet_name, skiprows = rows_to_skip, na_values = ':', usecols = selected_columns)\n",
        "                            for i, sheet_name in enumerate(sheet_names, start = 1)}"
      ],
      "metadata": {
        "id": "8VQXjq95z1NU"
      },
      "execution_count": null,
      "outputs": []
    },
    {
      "cell_type": "markdown",
      "source": [
        "We add a column *Abbreviation* to the 18 datasets."
      ],
      "metadata": {
        "id": "o7MrEcFYz1NU"
      }
    },
    {
      "cell_type": "code",
      "source": [
        "for i in range(1, 19):\n",
        "    education_per_sheets[f'education_per_sheet{i}'].rename(columns = {'TIME': 'Country'}, inplace = True)\n",
        "    education_per_sheets[f'education_per_sheet{i}']['Abbreviation'] = education_per_sheets[f'education_per_sheet{i}']['Country'].map(country_abbreviations)"
      ],
      "metadata": {
        "id": "LFogvnuYz1NU"
      },
      "execution_count": null,
      "outputs": []
    },
    {
      "cell_type": "markdown",
      "source": [
        "## Enrolment by age --> from 15 to 29, in years 2013 to 2021"
      ],
      "metadata": {
        "id": "XX96WGlBh_da"
      }
    },
    {
      "cell_type": "code",
      "source": [
        "enrolment = pd.read_csv(\"/content/drive/MyDrive/DV_project/story2/enrolment_by_age.csv\")"
      ],
      "metadata": {
        "id": "Zu9LLuH7enFD"
      },
      "execution_count": 175,
      "outputs": []
    },
    {
      "cell_type": "code",
      "source": [
        "distinct_values_dict = {col: enrolment[col].unique() for col in enrolment.columns}\n",
        "for col, values in distinct_values_dict.items():\n",
        "    print(f\"\\nDistinct values for column '{col}': {values}\")"
      ],
      "metadata": {
        "colab": {
          "base_uri": "https://localhost:8080/"
        },
        "id": "VBNXPD0nfIbt",
        "outputId": "f9bc8957-6948-4367-f512-b9b9c7a8b9f8"
      },
      "execution_count": 176,
      "outputs": [
        {
          "output_type": "stream",
          "name": "stdout",
          "text": [
            "\n",
            "Distinct values for column 'COUNTRY': ['AUT' 'BEL' 'CZE' 'DNK' 'FIN' 'FRA' 'DEU' 'GRC' 'HUN' 'ISL' 'IRL' 'ITA'\n",
            " 'LUX' 'NLD' 'NOR' 'POL' 'PRT' 'SVK' 'ESP' 'SWE' 'CHE' 'TUR' 'EST' 'LVA'\n",
            " 'LTU' 'SVN' 'BGR' 'HRV' 'ROU']\n",
            "\n",
            "Distinct values for column 'Country': ['Austria' 'Belgium' 'Czechia' 'Denmark' 'Finland' 'France' 'Germany'\n",
            " 'Greece' 'Hungary' 'Iceland' 'Ireland' 'Italy' 'Luxembourg' 'Netherlands'\n",
            " 'Norway' 'Poland' 'Portugal' 'Slovak Republic' 'Spain' 'Sweden'\n",
            " 'Switzerland' 'Türkiye' 'Estonia' 'Latvia' 'Lithuania' 'Slovenia'\n",
            " 'Bulgaria' 'Croatia' 'Romania']\n",
            "\n",
            "Distinct values for column 'SEX': ['F' 'M' '_T']\n",
            "\n",
            "Distinct values for column 'Gender': ['Female' 'Male' 'Total']\n",
            "\n",
            "Distinct values for column 'AGE': ['Y15' 'Y16' 'Y17' 'Y18' 'Y19' 'Y20' 'Y21' 'Y22' 'Y23' 'Y24' 'Y25' 'Y26'\n",
            " 'Y27' 'Y28' 'Y29' '_T']\n",
            "\n",
            "Distinct values for column 'Age': ['15 years' '16 years' '17 years' '18 years' '19 years' '20 years'\n",
            " '21 years' '22 years' '23 years' '24 years' '25 years' '26 years'\n",
            " '27 years' '28 years' '29 years' 'Total']\n",
            "\n",
            "Distinct values for column 'INTENSITY': ['PT' '_T']\n",
            "\n",
            "Distinct values for column 'Intensity': ['Part-time' 'Full- and part-time']\n",
            "\n",
            "Distinct values for column 'EDUCATION_LEV': ['ISCED11_0' 'ISCED11_01' 'ISCED11_02' 'ISCED11_1' 'ISCED11_2'\n",
            " 'ISCED11_24' 'ISCED11_25' 'ISCED11_3' 'ISCED11_34' 'ISCED11_35'\n",
            " 'ISCED11_4' 'ISCED11_44' 'ISCED11_45' 'ISCED11_5' 'ISCED11_54'\n",
            " 'ISCED11_55' 'ISCED11_6' 'ISCED11_7' 'ISCED11_8' 'ISCED11_5T8'\n",
            " 'ISCED11_T']\n",
            "\n",
            "Distinct values for column 'Education level': ['Early childhood education' 'Early childhood educational development'\n",
            " 'Pre-primary education' 'Primary education' 'Lower secondary education'\n",
            " 'Lower secondary general education'\n",
            " 'Lower secondary vocational education' 'Upper secondary education'\n",
            " 'Upper secondary general education'\n",
            " 'Upper secondary vocational education'\n",
            " 'Post-secondary non-tertiary education'\n",
            " 'Post-secondary non-tertiary general education'\n",
            " 'Post-secondary non-tertiary vocational education'\n",
            " 'Short-cycle tertiary education' 'Short-cycle tertiary general education'\n",
            " 'Short-cycle tertiary vocational education'\n",
            " 'Bachelor’s or equivalent level' 'Master’s or equivalent level'\n",
            " 'Doctoral or equivalent level' 'Tertiary education' 'Total']\n",
            "\n",
            "Distinct values for column 'YEAR': [2013 2014 2015 2016 2017 2018 2019 2020 2021]\n",
            "\n",
            "Distinct values for column 'Year': [2013 2014 2015 2016 2017 2018 2019 2020 2021]\n",
            "\n",
            "Distinct values for column 'Value': [       nan 0.0000e+00 2.0000e+00 ... 4.8242e+04 4.2941e+04 4.0767e+04]\n",
            "\n",
            "Distinct values for column 'Flag Codes': ['m' nan 'o' 'k' 'w']\n",
            "\n",
            "Distinct values for column 'Flags': ['Missing value; data cannot exist' nan 'Missing value'\n",
            " 'Data included in another category' 'Includes data from another category']\n"
          ]
        }
      ]
    },
    {
      "cell_type": "code",
      "source": [
        "filtered_enrolment = enrolment[~enrolment['Flag Codes'].isin(['m', 'o']) \\\n",
        "                               & (enrolment['Value'].notna()) \\\n",
        "                               & (enrolment['Value']!= 0) \\\n",
        "                               & (enrolment['INTENSITY'] == '_T') \\\n",
        "                               & (enrolment['SEX'] == '_T')\n",
        "                               ]"
      ],
      "metadata": {
        "id": "3W8GGBVQ6JKg"
      },
      "execution_count": 177,
      "outputs": []
    },
    {
      "cell_type": "code",
      "source": [
        "enrolment_final = filtered_enrolment.copy()\n",
        "enrolment_final.drop(['SEX', 'Gender', 'AGE', 'INTENSITY', 'Intensity', 'YEAR', 'Flag Codes', 'Flags'], axis = 1, inplace = True)\n",
        "enrolment_final['Value'] = enrolment_final['Value'].round(0).astype(int)\n",
        "enrolment_final.rename(columns = {'COUNTRY': 'Abbreviation'}, inplace = True)\n",
        "enrolment_final['Country'] = enrolment_final['Abbreviation'].map(country_abbreviations_reversed)"
      ],
      "metadata": {
        "id": "uNgu1DhbCRrX"
      },
      "execution_count": 178,
      "outputs": []
    },
    {
      "cell_type": "code",
      "source": [
        "filtered_distinct_values_dict = {col: enrolment_final[col].unique() for col in enrolment_final.columns}\n",
        "for col, values in filtered_distinct_values_dict.items():\n",
        "    print(f\"\\nDistinct values for column '{col}': {values}\")"
      ],
      "metadata": {
        "colab": {
          "base_uri": "https://localhost:8080/"
        },
        "id": "-1vqiAoKBxMp",
        "outputId": "cad54ade-a883-4d6f-8636-d579cae2f907"
      },
      "execution_count": 179,
      "outputs": [
        {
          "output_type": "stream",
          "name": "stdout",
          "text": [
            "\n",
            "Distinct values for column 'Abbreviation': ['AUT' 'BEL' 'CZE' 'DNK' 'FIN' 'FRA' 'DEU' 'GRC' 'HUN' 'ISL' 'IRL' 'ITA'\n",
            " 'LUX' 'NLD' 'NOR' 'POL' 'PRT' 'SVK' 'ESP' 'SWE' 'CHE' 'TUR' 'EST' 'LVA'\n",
            " 'LTU' 'SVN' 'BGR' 'HRV' 'ROU']\n",
            "\n",
            "Distinct values for column 'Country': ['Austria' 'Belgium' 'Czechia' 'Denmark' 'Finland' 'France' 'Germany'\n",
            " 'Greece' 'Hungary' 'Iceland' 'Ireland' 'Italy' 'Luxembourg' 'Netherlands'\n",
            " 'Norway' 'Poland' 'Portugal' 'Slovakia' 'Spain' 'Sweden' 'Switzerland'\n",
            " 'Türkiye' 'Estonia' 'Latvia' 'Lithuania' 'Slovenia' 'Bulgaria' 'Croatia'\n",
            " 'Romania']\n",
            "\n",
            "Distinct values for column 'Age': ['15 years' '16 years' '17 years' '18 years' '19 years' '20 years'\n",
            " '21 years' '22 years' '23 years' '24 years' '25 years' '26 years'\n",
            " '27 years' '28 years' '29 years' 'Total']\n",
            "\n",
            "Distinct values for column 'EDUCATION_LEV': ['ISCED11_1' 'ISCED11_2' 'ISCED11_24' 'ISCED11_3' 'ISCED11_34'\n",
            " 'ISCED11_35' 'ISCED11_5' 'ISCED11_55' 'ISCED11_7' 'ISCED11_5T8'\n",
            " 'ISCED11_T' 'ISCED11_25' 'ISCED11_4' 'ISCED11_44' 'ISCED11_45'\n",
            " 'ISCED11_6' 'ISCED11_8' 'ISCED11_0' 'ISCED11_02' 'ISCED11_54'\n",
            " 'ISCED11_01']\n",
            "\n",
            "Distinct values for column 'Education level': ['Primary education' 'Lower secondary education'\n",
            " 'Lower secondary general education' 'Upper secondary education'\n",
            " 'Upper secondary general education'\n",
            " 'Upper secondary vocational education' 'Short-cycle tertiary education'\n",
            " 'Short-cycle tertiary vocational education'\n",
            " 'Master’s or equivalent level' 'Tertiary education' 'Total'\n",
            " 'Lower secondary vocational education'\n",
            " 'Post-secondary non-tertiary education'\n",
            " 'Post-secondary non-tertiary general education'\n",
            " 'Post-secondary non-tertiary vocational education'\n",
            " 'Bachelor’s or equivalent level' 'Doctoral or equivalent level'\n",
            " 'Early childhood education' 'Pre-primary education'\n",
            " 'Short-cycle tertiary general education'\n",
            " 'Early childhood educational development']\n",
            "\n",
            "Distinct values for column 'Year': [2013 2014 2015 2016 2017 2018 2019 2020 2021]\n",
            "\n",
            "Distinct values for column 'Value': [   3    2    1 ... 9868 9696 9978]\n"
          ]
        }
      ]
    },
    {
      "cell_type": "code",
      "source": [
        "education_level_dict = dict(zip(enrolment_final['EDUCATION_LEV'].unique(), enrolment_final['Education level'].unique()))\n",
        "sorted_education_level_dict = dict(sorted(education_level_dict.items()))\n",
        "sorted_education_level_dict"
      ],
      "metadata": {
        "colab": {
          "base_uri": "https://localhost:8080/"
        },
        "id": "DjUAIOkXG8zA",
        "outputId": "4917f6ab-e4bf-419d-e5ae-227dc04b56e3"
      },
      "execution_count": 180,
      "outputs": [
        {
          "output_type": "execute_result",
          "data": {
            "text/plain": [
              "{'ISCED11_0': 'Early childhood education',\n",
              " 'ISCED11_01': 'Early childhood educational development',\n",
              " 'ISCED11_02': 'Pre-primary education',\n",
              " 'ISCED11_1': 'Primary education',\n",
              " 'ISCED11_2': 'Lower secondary education',\n",
              " 'ISCED11_24': 'Lower secondary general education',\n",
              " 'ISCED11_25': 'Lower secondary vocational education',\n",
              " 'ISCED11_3': 'Upper secondary education',\n",
              " 'ISCED11_34': 'Upper secondary general education',\n",
              " 'ISCED11_35': 'Upper secondary vocational education',\n",
              " 'ISCED11_4': 'Post-secondary non-tertiary education',\n",
              " 'ISCED11_44': 'Post-secondary non-tertiary general education',\n",
              " 'ISCED11_45': 'Post-secondary non-tertiary vocational education',\n",
              " 'ISCED11_5': 'Short-cycle tertiary education',\n",
              " 'ISCED11_54': 'Short-cycle tertiary general education',\n",
              " 'ISCED11_55': 'Short-cycle tertiary vocational education',\n",
              " 'ISCED11_5T8': 'Tertiary education',\n",
              " 'ISCED11_6': 'Bachelor’s or equivalent level',\n",
              " 'ISCED11_7': 'Master’s or equivalent level',\n",
              " 'ISCED11_8': 'Doctoral or equivalent level',\n",
              " 'ISCED11_T': 'Total'}"
            ]
          },
          "metadata": {},
          "execution_count": 180
        }
      ]
    },
    {
      "cell_type": "code",
      "source": [
        "years = range(2013, 2022)\n",
        "enrolment_dict = {}\n",
        "\n",
        "for year in years:\n",
        "    current_year_df = enrolment_final[enrolment_final['Year'] == year].copy()\n",
        "    enrolment_dict[f'enrolment{year}_unfiltered'] = current_year_df\n",
        "    current_year_df = current_year_df[(current_year_df['Education level'] != 'Total') \\\n",
        "                                      & (current_year_df['Age'] != 'Total')]\n",
        "    enrolment_dict[f'enrolment{year}'] = current_year_df"
      ],
      "metadata": {
        "id": "mHZxaIolDwzi"
      },
      "execution_count": 181,
      "outputs": []
    },
    {
      "cell_type": "code",
      "source": [
        "years = range(2013, 2022)\n",
        "enrolment_country = {}\n",
        "\n",
        "for country in enrolment_final['Country'].unique():\n",
        "    enrolment_country[country] = {}\n",
        "\n",
        "    for year in years:\n",
        "        current_data = enrolment_final[(enrolment_final['Country'] == country) & (enrolment_final['Year'] == year)].copy()\n",
        "        enrolment_country[country][f'enrolment{year}_unfiltered'] = current_data.copy()\n",
        "        current_data = current_data[(current_data['Education level'] != 'Total') & (current_data['Age'] != 'Total')]\n",
        "        enrolment_country[country][f'enrolment{year}'] = current_data.copy()"
      ],
      "metadata": {
        "id": "On3Bd0L4NDLr"
      },
      "execution_count": 182,
      "outputs": []
    },
    {
      "cell_type": "markdown",
      "source": [
        "### Streamgraphs"
      ],
      "metadata": {
        "id": "7HWhgBkKeiaA"
      }
    },
    {
      "cell_type": "code",
      "source": [
        "streamgraph_dataframes = {}\n",
        "\n",
        "for country in enrolment_final['Country'].unique():\n",
        "    for year in years:\n",
        "\n",
        "        df = enrolment_country[country][f'enrolment{year}'].copy()\n",
        "        pivoted_df = df.pivot_table(index = 'Age', columns = 'EDUCATION_LEV', values = 'Value', fill_value = 0) ### Pivot the dataset\n",
        "        pivoted_df = pivoted_df.reset_index() ### Reset the index to make 'Age' a regular column\n",
        "        streamgraph_dataframes[f'enrolment{year}'] = pivoted_df ### Store the pivoted DataFrame in the dictionary\n",
        "\n",
        "        export_filename = f'streamgraph_{country_abbreviations.get(country)}_{year}.csv'\n",
        "        pivoted_df.to_csv(export_filename, index = False)"
      ],
      "metadata": {
        "id": "vN3eX8Ica4cJ"
      },
      "execution_count": 172,
      "outputs": []
    },
    {
      "cell_type": "markdown",
      "source": [
        "## Early leavers: 18 to 24 and percentage value"
      ],
      "metadata": {
        "id": "HrsoI50ypzOJ"
      }
    },
    {
      "cell_type": "markdown",
      "source": [
        "We import the 15 sheets of the *early_leavers_by_sex_labour* excel file (skipping useless rows/columns and avoiding the print of unharmful warnings) in a dictionary of datasets named *early_leavers_sheets*."
      ],
      "metadata": {
        "id": "7ykept1athal"
      }
    },
    {
      "cell_type": "code",
      "source": [
        "years = range(2009, 2023)\n",
        "sheet_names = [f'Sheet {i}' for i in range(1, 16)]\n",
        "file_path = '/content/drive/MyDrive/DV_project/story2/early_leavers_by_sex_labour.xlsx'\n",
        "rows_to_skip = list(range(0, 10)) + [11, 13, 44] + list(range(49, 58))\n",
        "selected_columns = ['TIME'] + [str(year) for year in years]\n",
        "\n",
        "# Just to suppress the unharmful warnings we were getting\n",
        "import warnings\n",
        "with warnings.catch_warnings():\n",
        "    warnings.filterwarnings(\"ignore\", category = UserWarning, module = \"openpyxl\")\n",
        "    # Dictionary with datasets: 'early_leavers_sheet1', ..., 'early_leavers_sheet15'\n",
        "    early_leavers_sheets = {f'early_leavers_sheet{i}': pd.read_excel(file_path, sheet_name = sheet_name, skiprows = rows_to_skip, na_values = ':', usecols = selected_columns)\n",
        "                            for i, sheet_name in enumerate(sheet_names, start = 1)}"
      ],
      "metadata": {
        "id": "Lbq2kx43q97_"
      },
      "execution_count": 7,
      "outputs": []
    },
    {
      "cell_type": "markdown",
      "source": [
        "We add a column *Abbreviation* to the 15 datasets."
      ],
      "metadata": {
        "id": "uiBZMRfGuvfb"
      }
    },
    {
      "cell_type": "code",
      "source": [
        "for i in range(1, 16):\n",
        "    early_leavers_sheets[f'early_leavers_sheet{i}'].rename(columns = {'TIME': 'Country'}, inplace = True)\n",
        "    early_leavers_sheets[f'early_leavers_sheet{i}']['Abbreviation'] = early_leavers_sheets[f'early_leavers_sheet{i}']['Country'].map(country_abbreviations)"
      ],
      "metadata": {
        "id": "rrlwDUWZuvfn"
      },
      "execution_count": 8,
      "outputs": []
    },
    {
      "cell_type": "markdown",
      "source": [
        "### Lollipop charts"
      ],
      "metadata": {
        "id": "TGcWscxFqs-_"
      }
    },
    {
      "cell_type": "code",
      "source": [
        "early_leavers_datasets = {}\n",
        "\n",
        "for year in years:\n",
        "    early_leavers_datasets[f'early_leavers_{year}'] = early_leavers_sheets['early_leavers_sheet1'][['Country', str(year), 'Abbreviation']].copy()\n",
        "    early_leavers_datasets[f'early_leavers_{year}'].dropna(subset = [str(year)], inplace = True)\n",
        "    early_leavers_datasets[f'early_leavers_{year}'].sort_values(by = [str(year)], ascending = [False], inplace = True)"
      ],
      "metadata": {
        "id": "-mVYhmIGxMge"
      },
      "execution_count": 47,
      "outputs": []
    },
    {
      "cell_type": "code",
      "source": [
        "header = ['name', 'abundance', 'abbreviation']\n",
        "\n",
        "for year in years:\n",
        "  df = early_leavers_datasets[f'early_leavers_{year}'].copy()\n",
        "\n",
        "  df.to_csv(f'lollipop{year}.csv', index = False, header = header)\n",
        "\n",
        "  df['sorting_key'] = (df['Abbreviation'] == 'EU')\n",
        "  df = df.sort_values(by = ['sorting_key', str(year), 'Country'], ascending = [False, False, True]).drop('sorting_key', axis = 1).reset_index(drop = True)\n",
        "  df.to_csv(f'lollipop{year}_EU.csv', index = False, header = header)"
      ],
      "metadata": {
        "id": "Elz7HLzIq1TY"
      },
      "execution_count": 48,
      "outputs": []
    },
    {
      "cell_type": "markdown",
      "source": [
        "### Pyramid/Waffle charts --> EU, ITA, TUR"
      ],
      "metadata": {
        "id": "kzT5JOz4q0NH"
      }
    },
    {
      "cell_type": "code",
      "source": [
        "early_leavers_sheets[f'early_leavers_sheet1']['Total'] = round(early_leavers_sheets[f'early_leavers_sheet1'].iloc[:, 1:15].mean(axis = 1), 1)\n",
        "total_df = early_leavers_sheets[f'early_leavers_sheet1'][['Country', 'Abbreviation', 'Total']]\n",
        "\n",
        "early_leavers_sheets[f'early_leavers_sheet2']['Employed'] = round(early_leavers_sheets[f'early_leavers_sheet2'].iloc[:, 1:15].mean(axis = 1), 1)\n",
        "employed_df = early_leavers_sheets[f'early_leavers_sheet2'][['Country', 'Abbreviation', 'Employed']]\n",
        "\n",
        "early_leavers_sheets[f'early_leavers_sheet3']['Unemployed'] = round(early_leavers_sheets[f'early_leavers_sheet3'].iloc[:, 1:15].mean(axis = 1), 1)\n",
        "unemployed_df = early_leavers_sheets[f'early_leavers_sheet3'][['Country', 'Abbreviation', 'Unemployed']]\n",
        "\n",
        "early_leavers_sheets[f'early_leavers_sheet4']['Want to work'] = round(early_leavers_sheets[f'early_leavers_sheet4'].iloc[:, 1:15].mean(axis = 1), 1)\n",
        "want_to_work_df = early_leavers_sheets[f'early_leavers_sheet4'][['Country', 'Abbreviation', 'Want to work']]\n",
        "\n",
        "early_leavers_sheets[f'early_leavers_sheet5']['Do not want to work'] = round(early_leavers_sheets[f'early_leavers_sheet5'].iloc[:, 1:15].mean(axis = 1), 1)\n",
        "do_not_want_to_work_df = early_leavers_sheets[f'early_leavers_sheet5'][['Country', 'Abbreviation', 'Do not want to work']]"
      ],
      "metadata": {
        "id": "W8BGbNc7xMaM"
      },
      "execution_count": 44,
      "outputs": []
    },
    {
      "cell_type": "code",
      "source": [
        "pyramid_df = pd.merge(total_df, employed_df, on = ['Country', 'Abbreviation'], how = 'inner') \\\n",
        "               .merge(unemployed_df, on = ['Country', 'Abbreviation'], how = 'inner') \\\n",
        "               .merge(want_to_work_df, on = ['Country', 'Abbreviation'], how = 'inner') \\\n",
        "               .merge(do_not_want_to_work_df, on = ['Country', 'Abbreviation'], how = 'inner')"
      ],
      "metadata": {
        "id": "0QBslDjXzn2t"
      },
      "execution_count": 45,
      "outputs": []
    },
    {
      "cell_type": "code",
      "source": [
        "pyramid_recap_df = pyramid_df[pyramid_df['Abbreviation'].isin(['ITA', 'TUR', 'EU'])]\n",
        "pyramid_recap_df"
      ],
      "metadata": {
        "colab": {
          "base_uri": "https://localhost:8080/",
          "height": 143
        },
        "id": "zlvmGmBo0DMV",
        "outputId": "85a7f1d4-f222-4ea2-9ecc-bc6c9a279ee5"
      },
      "execution_count": 46,
      "outputs": [
        {
          "output_type": "execute_result",
          "data": {
            "text/plain": [
              "                                      Country Abbreviation  Total  Employed  \\\n",
              "0   European Union - 27 countries (from 2020)           EU   11.3       4.9   \n",
              "12                                      Italy          ITA   15.2       5.5   \n",
              "34                                    Türkiye          TUR   36.2      16.0   \n",
              "\n",
              "    Unemployed  Want to work  Do not want to work  \n",
              "0          6.4           4.3                  2.2  \n",
              "12         9.6           7.3                  2.4  \n",
              "34        20.1           5.2                 14.9  "
            ],
            "text/html": [
              "\n",
              "  <div id=\"df-d2a4908d-4334-4f4e-8a6f-ad164ef454ff\" class=\"colab-df-container\">\n",
              "    <div>\n",
              "<style scoped>\n",
              "    .dataframe tbody tr th:only-of-type {\n",
              "        vertical-align: middle;\n",
              "    }\n",
              "\n",
              "    .dataframe tbody tr th {\n",
              "        vertical-align: top;\n",
              "    }\n",
              "\n",
              "    .dataframe thead th {\n",
              "        text-align: right;\n",
              "    }\n",
              "</style>\n",
              "<table border=\"1\" class=\"dataframe\">\n",
              "  <thead>\n",
              "    <tr style=\"text-align: right;\">\n",
              "      <th></th>\n",
              "      <th>Country</th>\n",
              "      <th>Abbreviation</th>\n",
              "      <th>Total</th>\n",
              "      <th>Employed</th>\n",
              "      <th>Unemployed</th>\n",
              "      <th>Want to work</th>\n",
              "      <th>Do not want to work</th>\n",
              "    </tr>\n",
              "  </thead>\n",
              "  <tbody>\n",
              "    <tr>\n",
              "      <th>0</th>\n",
              "      <td>European Union - 27 countries (from 2020)</td>\n",
              "      <td>EU</td>\n",
              "      <td>11.3</td>\n",
              "      <td>4.9</td>\n",
              "      <td>6.4</td>\n",
              "      <td>4.3</td>\n",
              "      <td>2.2</td>\n",
              "    </tr>\n",
              "    <tr>\n",
              "      <th>12</th>\n",
              "      <td>Italy</td>\n",
              "      <td>ITA</td>\n",
              "      <td>15.2</td>\n",
              "      <td>5.5</td>\n",
              "      <td>9.6</td>\n",
              "      <td>7.3</td>\n",
              "      <td>2.4</td>\n",
              "    </tr>\n",
              "    <tr>\n",
              "      <th>34</th>\n",
              "      <td>Türkiye</td>\n",
              "      <td>TUR</td>\n",
              "      <td>36.2</td>\n",
              "      <td>16.0</td>\n",
              "      <td>20.1</td>\n",
              "      <td>5.2</td>\n",
              "      <td>14.9</td>\n",
              "    </tr>\n",
              "  </tbody>\n",
              "</table>\n",
              "</div>\n",
              "    <div class=\"colab-df-buttons\">\n",
              "\n",
              "  <div class=\"colab-df-container\">\n",
              "    <button class=\"colab-df-convert\" onclick=\"convertToInteractive('df-d2a4908d-4334-4f4e-8a6f-ad164ef454ff')\"\n",
              "            title=\"Convert this dataframe to an interactive table.\"\n",
              "            style=\"display:none;\">\n",
              "\n",
              "  <svg xmlns=\"http://www.w3.org/2000/svg\" height=\"24px\" viewBox=\"0 -960 960 960\">\n",
              "    <path d=\"M120-120v-720h720v720H120Zm60-500h600v-160H180v160Zm220 220h160v-160H400v160Zm0 220h160v-160H400v160ZM180-400h160v-160H180v160Zm440 0h160v-160H620v160ZM180-180h160v-160H180v160Zm440 0h160v-160H620v160Z\"/>\n",
              "  </svg>\n",
              "    </button>\n",
              "\n",
              "  <style>\n",
              "    .colab-df-container {\n",
              "      display:flex;\n",
              "      gap: 12px;\n",
              "    }\n",
              "\n",
              "    .colab-df-convert {\n",
              "      background-color: #E8F0FE;\n",
              "      border: none;\n",
              "      border-radius: 50%;\n",
              "      cursor: pointer;\n",
              "      display: none;\n",
              "      fill: #1967D2;\n",
              "      height: 32px;\n",
              "      padding: 0 0 0 0;\n",
              "      width: 32px;\n",
              "    }\n",
              "\n",
              "    .colab-df-convert:hover {\n",
              "      background-color: #E2EBFA;\n",
              "      box-shadow: 0px 1px 2px rgba(60, 64, 67, 0.3), 0px 1px 3px 1px rgba(60, 64, 67, 0.15);\n",
              "      fill: #174EA6;\n",
              "    }\n",
              "\n",
              "    .colab-df-buttons div {\n",
              "      margin-bottom: 4px;\n",
              "    }\n",
              "\n",
              "    [theme=dark] .colab-df-convert {\n",
              "      background-color: #3B4455;\n",
              "      fill: #D2E3FC;\n",
              "    }\n",
              "\n",
              "    [theme=dark] .colab-df-convert:hover {\n",
              "      background-color: #434B5C;\n",
              "      box-shadow: 0px 1px 3px 1px rgba(0, 0, 0, 0.15);\n",
              "      filter: drop-shadow(0px 1px 2px rgba(0, 0, 0, 0.3));\n",
              "      fill: #FFFFFF;\n",
              "    }\n",
              "  </style>\n",
              "\n",
              "    <script>\n",
              "      const buttonEl =\n",
              "        document.querySelector('#df-d2a4908d-4334-4f4e-8a6f-ad164ef454ff button.colab-df-convert');\n",
              "      buttonEl.style.display =\n",
              "        google.colab.kernel.accessAllowed ? 'block' : 'none';\n",
              "\n",
              "      async function convertToInteractive(key) {\n",
              "        const element = document.querySelector('#df-d2a4908d-4334-4f4e-8a6f-ad164ef454ff');\n",
              "        const dataTable =\n",
              "          await google.colab.kernel.invokeFunction('convertToInteractive',\n",
              "                                                    [key], {});\n",
              "        if (!dataTable) return;\n",
              "\n",
              "        const docLinkHtml = 'Like what you see? Visit the ' +\n",
              "          '<a target=\"_blank\" href=https://colab.research.google.com/notebooks/data_table.ipynb>data table notebook</a>'\n",
              "          + ' to learn more about interactive tables.';\n",
              "        element.innerHTML = '';\n",
              "        dataTable['output_type'] = 'display_data';\n",
              "        await google.colab.output.renderOutput(dataTable, element);\n",
              "        const docLink = document.createElement('div');\n",
              "        docLink.innerHTML = docLinkHtml;\n",
              "        element.appendChild(docLink);\n",
              "      }\n",
              "    </script>\n",
              "  </div>\n",
              "\n",
              "\n",
              "<div id=\"df-ad4a88a4-a55d-4f5c-a186-a438855f368d\">\n",
              "  <button class=\"colab-df-quickchart\" onclick=\"quickchart('df-ad4a88a4-a55d-4f5c-a186-a438855f368d')\"\n",
              "            title=\"Suggest charts\"\n",
              "            style=\"display:none;\">\n",
              "\n",
              "<svg xmlns=\"http://www.w3.org/2000/svg\" height=\"24px\"viewBox=\"0 0 24 24\"\n",
              "     width=\"24px\">\n",
              "    <g>\n",
              "        <path d=\"M19 3H5c-1.1 0-2 .9-2 2v14c0 1.1.9 2 2 2h14c1.1 0 2-.9 2-2V5c0-1.1-.9-2-2-2zM9 17H7v-7h2v7zm4 0h-2V7h2v10zm4 0h-2v-4h2v4z\"/>\n",
              "    </g>\n",
              "</svg>\n",
              "  </button>\n",
              "\n",
              "<style>\n",
              "  .colab-df-quickchart {\n",
              "      --bg-color: #E8F0FE;\n",
              "      --fill-color: #1967D2;\n",
              "      --hover-bg-color: #E2EBFA;\n",
              "      --hover-fill-color: #174EA6;\n",
              "      --disabled-fill-color: #AAA;\n",
              "      --disabled-bg-color: #DDD;\n",
              "  }\n",
              "\n",
              "  [theme=dark] .colab-df-quickchart {\n",
              "      --bg-color: #3B4455;\n",
              "      --fill-color: #D2E3FC;\n",
              "      --hover-bg-color: #434B5C;\n",
              "      --hover-fill-color: #FFFFFF;\n",
              "      --disabled-bg-color: #3B4455;\n",
              "      --disabled-fill-color: #666;\n",
              "  }\n",
              "\n",
              "  .colab-df-quickchart {\n",
              "    background-color: var(--bg-color);\n",
              "    border: none;\n",
              "    border-radius: 50%;\n",
              "    cursor: pointer;\n",
              "    display: none;\n",
              "    fill: var(--fill-color);\n",
              "    height: 32px;\n",
              "    padding: 0;\n",
              "    width: 32px;\n",
              "  }\n",
              "\n",
              "  .colab-df-quickchart:hover {\n",
              "    background-color: var(--hover-bg-color);\n",
              "    box-shadow: 0 1px 2px rgba(60, 64, 67, 0.3), 0 1px 3px 1px rgba(60, 64, 67, 0.15);\n",
              "    fill: var(--button-hover-fill-color);\n",
              "  }\n",
              "\n",
              "  .colab-df-quickchart-complete:disabled,\n",
              "  .colab-df-quickchart-complete:disabled:hover {\n",
              "    background-color: var(--disabled-bg-color);\n",
              "    fill: var(--disabled-fill-color);\n",
              "    box-shadow: none;\n",
              "  }\n",
              "\n",
              "  .colab-df-spinner {\n",
              "    border: 2px solid var(--fill-color);\n",
              "    border-color: transparent;\n",
              "    border-bottom-color: var(--fill-color);\n",
              "    animation:\n",
              "      spin 1s steps(1) infinite;\n",
              "  }\n",
              "\n",
              "  @keyframes spin {\n",
              "    0% {\n",
              "      border-color: transparent;\n",
              "      border-bottom-color: var(--fill-color);\n",
              "      border-left-color: var(--fill-color);\n",
              "    }\n",
              "    20% {\n",
              "      border-color: transparent;\n",
              "      border-left-color: var(--fill-color);\n",
              "      border-top-color: var(--fill-color);\n",
              "    }\n",
              "    30% {\n",
              "      border-color: transparent;\n",
              "      border-left-color: var(--fill-color);\n",
              "      border-top-color: var(--fill-color);\n",
              "      border-right-color: var(--fill-color);\n",
              "    }\n",
              "    40% {\n",
              "      border-color: transparent;\n",
              "      border-right-color: var(--fill-color);\n",
              "      border-top-color: var(--fill-color);\n",
              "    }\n",
              "    60% {\n",
              "      border-color: transparent;\n",
              "      border-right-color: var(--fill-color);\n",
              "    }\n",
              "    80% {\n",
              "      border-color: transparent;\n",
              "      border-right-color: var(--fill-color);\n",
              "      border-bottom-color: var(--fill-color);\n",
              "    }\n",
              "    90% {\n",
              "      border-color: transparent;\n",
              "      border-bottom-color: var(--fill-color);\n",
              "    }\n",
              "  }\n",
              "</style>\n",
              "\n",
              "  <script>\n",
              "    async function quickchart(key) {\n",
              "      const quickchartButtonEl =\n",
              "        document.querySelector('#' + key + ' button');\n",
              "      quickchartButtonEl.disabled = true;  // To prevent multiple clicks.\n",
              "      quickchartButtonEl.classList.add('colab-df-spinner');\n",
              "      try {\n",
              "        const charts = await google.colab.kernel.invokeFunction(\n",
              "            'suggestCharts', [key], {});\n",
              "      } catch (error) {\n",
              "        console.error('Error during call to suggestCharts:', error);\n",
              "      }\n",
              "      quickchartButtonEl.classList.remove('colab-df-spinner');\n",
              "      quickchartButtonEl.classList.add('colab-df-quickchart-complete');\n",
              "    }\n",
              "    (() => {\n",
              "      let quickchartButtonEl =\n",
              "        document.querySelector('#df-ad4a88a4-a55d-4f5c-a186-a438855f368d button');\n",
              "      quickchartButtonEl.style.display =\n",
              "        google.colab.kernel.accessAllowed ? 'block' : 'none';\n",
              "    })();\n",
              "  </script>\n",
              "</div>\n",
              "    </div>\n",
              "  </div>\n"
            ]
          },
          "metadata": {},
          "execution_count": 46
        }
      ]
    },
    {
      "cell_type": "markdown",
      "source": [
        "# Download all CSV files"
      ],
      "metadata": {
        "id": "QYptvL_UF1vf"
      }
    },
    {
      "cell_type": "markdown",
      "source": [
        "We download all the CSV files we created."
      ],
      "metadata": {
        "id": "vhSy4rob1NaT"
      }
    },
    {
      "cell_type": "code",
      "source": [
        "directory_path = '/content'\n",
        "file_type = \".csv\"\n",
        "files_to_download = glob.glob(f\"{directory_path}/*{file_type}\")\n",
        "zip_filename = \"all_streamgraphs.zip\"\n",
        "with zipfile.ZipFile(zip_filename, \"w\") as zipf:\n",
        "    for file in files_to_download:\n",
        "        zipf.write(file, arcname = os.path.basename(file))\n",
        "files.download(zip_filename)"
      ],
      "metadata": {
        "colab": {
          "base_uri": "https://localhost:8080/",
          "height": 17
        },
        "id": "XKYseRagF5Gu",
        "outputId": "50a27324-30f1-4710-845c-873accace500"
      },
      "execution_count": 173,
      "outputs": [
        {
          "output_type": "display_data",
          "data": {
            "text/plain": [
              "<IPython.core.display.Javascript object>"
            ],
            "application/javascript": [
              "\n",
              "    async function download(id, filename, size) {\n",
              "      if (!google.colab.kernel.accessAllowed) {\n",
              "        return;\n",
              "      }\n",
              "      const div = document.createElement('div');\n",
              "      const label = document.createElement('label');\n",
              "      label.textContent = `Downloading \"${filename}\": `;\n",
              "      div.appendChild(label);\n",
              "      const progress = document.createElement('progress');\n",
              "      progress.max = size;\n",
              "      div.appendChild(progress);\n",
              "      document.body.appendChild(div);\n",
              "\n",
              "      const buffers = [];\n",
              "      let downloaded = 0;\n",
              "\n",
              "      const channel = await google.colab.kernel.comms.open(id);\n",
              "      // Send a message to notify the kernel that we're ready.\n",
              "      channel.send({})\n",
              "\n",
              "      for await (const message of channel.messages) {\n",
              "        // Send a message to notify the kernel that we're ready.\n",
              "        channel.send({})\n",
              "        if (message.buffers) {\n",
              "          for (const buffer of message.buffers) {\n",
              "            buffers.push(buffer);\n",
              "            downloaded += buffer.byteLength;\n",
              "            progress.value = downloaded;\n",
              "          }\n",
              "        }\n",
              "      }\n",
              "      const blob = new Blob(buffers, {type: 'application/binary'});\n",
              "      const a = document.createElement('a');\n",
              "      a.href = window.URL.createObjectURL(blob);\n",
              "      a.download = filename;\n",
              "      div.appendChild(a);\n",
              "      a.click();\n",
              "      div.remove();\n",
              "    }\n",
              "  "
            ]
          },
          "metadata": {}
        },
        {
          "output_type": "display_data",
          "data": {
            "text/plain": [
              "<IPython.core.display.Javascript object>"
            ],
            "application/javascript": [
              "download(\"download_69e72468-3db6-4208-9828-a6f5cb961dba\", \"all_streamgraphs.zip\", 328587)"
            ]
          },
          "metadata": {}
        }
      ]
    },
    {
      "cell_type": "markdown",
      "source": [
        "We remove all the CSV files we downloaded."
      ],
      "metadata": {
        "id": "8Tdp7NSO6ID2"
      }
    },
    {
      "cell_type": "code",
      "source": [
        "for file in files_to_download:\n",
        "    os.remove(file)"
      ],
      "metadata": {
        "id": "c_K8gA5D6Hv3"
      },
      "execution_count": 174,
      "outputs": []
    }
  ]
}