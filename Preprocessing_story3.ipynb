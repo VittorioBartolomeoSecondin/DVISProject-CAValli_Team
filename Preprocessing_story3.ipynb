{
  "nbformat": 4,
  "nbformat_minor": 0,
  "metadata": {
    "colab": {
      "provenance": [],
      "authorship_tag": "ABX9TyPa9ZKLPa+euXf63vGu/baR",
      "include_colab_link": true
    },
    "kernelspec": {
      "name": "python3",
      "display_name": "Python 3"
    },
    "language_info": {
      "name": "python"
    }
  },
  "cells": [
    {
      "cell_type": "markdown",
      "metadata": {
        "id": "view-in-github",
        "colab_type": "text"
      },
      "source": [
        "<a href=\"https://colab.research.google.com/github/VittorioBartolomeoSecondin/DVISProject-CAValli_Team/blob/main/Preprocessing_story3.ipynb\" target=\"_parent\"><img src=\"https://colab.research.google.com/assets/colab-badge.svg\" alt=\"Open In Colab\"/></a>"
      ]
    },
    {
      "cell_type": "markdown",
      "source": [
        "# Importing libraries and connecting to Google Drive"
      ],
      "metadata": {
        "id": "jYXUHoAb6l2w"
      }
    },
    {
      "cell_type": "code",
      "execution_count": null,
      "metadata": {
        "colab": {
          "base_uri": "https://localhost:8080/"
        },
        "id": "X5bxYVYS6aTo",
        "outputId": "a9655c59-1a1c-4a46-e179-99c83d35f46d"
      },
      "outputs": [
        {
          "output_type": "stream",
          "name": "stdout",
          "text": [
            "Mounted at /content/drive\n"
          ]
        }
      ],
      "source": [
        "import pandas as pd\n",
        "import matplotlib.pyplot as plt\n",
        "import numpy as np\n",
        "import glob\n",
        "import json\n",
        "import csv\n",
        "import requests\n",
        "import os\n",
        "import zipfile\n",
        "from google.colab import files\n",
        "from google.colab import drive\n",
        "drive.mount('/content/drive')"
      ]
    },
    {
      "cell_type": "markdown",
      "source": [
        "# Reading and preprocessing data"
      ],
      "metadata": {
        "id": "YivPdgm36wlH"
      }
    },
    {
      "cell_type": "code",
      "source": [
        "all_files = glob.glob(\"/content/drive/MyDrive/DV_project/story2/*.xlsx\")\n",
        "all_files.sort()\n",
        "print(all_files)"
      ],
      "metadata": {
        "colab": {
          "base_uri": "https://localhost:8080/"
        },
        "id": "PU8YUJ2E6w-H",
        "outputId": "0b020ba8-c249-4373-f167-53699ac7e866"
      },
      "execution_count": null,
      "outputs": [
        {
          "output_type": "stream",
          "name": "stdout",
          "text": [
            "['/content/drive/MyDrive/DV_project/story2/early_leavers_by_sex_labour.xlsx', '/content/drive/MyDrive/DV_project/story2/pop_edu_sex_age_absolute.xlsx', '/content/drive/MyDrive/DV_project/story2/pop_edu_sex_age_percentage.xlsx', '/content/drive/MyDrive/DV_project/story2/poverty_exclusion_risk.xlsx', '/content/drive/MyDrive/DV_project/story2/poverty_exclusion_risk_by_age.xlsx', '/content/drive/MyDrive/DV_project/story2/poverty_exclusion_risk_by_education.xlsx']\n"
          ]
        }
      ]
    },
    {
      "cell_type": "markdown",
      "source": [
        "## Dictionaries: country --> abbreviation (and viceversa)"
      ],
      "metadata": {
        "id": "luqSEIgmvytW"
      }
    },
    {
      "cell_type": "markdown",
      "source": [
        "We create 2 dictionaries linking each country to its short abbreviation (*country_abbreviations*) and viceversa (*country_abbreviations_reversed*)."
      ],
      "metadata": {
        "id": "MOTxKCJCx99z"
      }
    },
    {
      "cell_type": "code",
      "source": [
        "country_abbreviations = {\n",
        "    'European Union - 27 countries (from 2020)': 'EU',\n",
        "    'Belgium': 'BEL',\n",
        "    'Bulgaria': 'BGR',\n",
        "    'Czechia': 'CZE',\n",
        "    'Denmark': 'DNK',\n",
        "    'Germany': 'DEU',\n",
        "    'Estonia': 'EST',\n",
        "    'Ireland': 'IRL',\n",
        "    'Greece': 'GRC',\n",
        "    'Spain': 'ESP',\n",
        "    'France': 'FRA',\n",
        "    'Croatia': 'HRV',\n",
        "    'Italy': 'ITA',\n",
        "    'Cyprus': 'CYP',\n",
        "    'Latvia': 'LVA',\n",
        "    'Lithuania': 'LTU',\n",
        "    'Luxembourg': 'LUX',\n",
        "    'Hungary': 'HUN',\n",
        "    'Malta': 'MLT',\n",
        "    'Netherlands': 'NLD',\n",
        "    'Austria': 'AUT',\n",
        "    'Poland': 'POL',\n",
        "    'Portugal': 'PRT',\n",
        "    'Romania': 'ROU',\n",
        "    'Slovenia': 'SVN',\n",
        "    'Slovakia': 'SVK',\n",
        "    'Finland': 'FIN',\n",
        "    'Sweden': 'SWE',\n",
        "    'Iceland': 'ISL',\n",
        "    'Norway': 'NOR',\n",
        "    'Switzerland': 'CHE',\n",
        "    'Montenegro': 'MNE',\n",
        "    'North Macedonia': 'MKD',\n",
        "    'Serbia': 'SRB',\n",
        "    'Türkiye': 'TUR',\n",
        "}\n",
        "\n",
        "country_abbreviations_reversed = {value: key for key, value in country_abbreviations.items()}"
      ],
      "metadata": {
        "id": "7nS7WfqZRFyr"
      },
      "execution_count": null,
      "outputs": []
    },
    {
      "cell_type": "markdown",
      "source": [
        "# Download all CSV files"
      ],
      "metadata": {
        "id": "QYptvL_UF1vf"
      }
    },
    {
      "cell_type": "markdown",
      "source": [
        "We download all the CSV files we created."
      ],
      "metadata": {
        "id": "vhSy4rob1NaT"
      }
    },
    {
      "cell_type": "code",
      "source": [
        "directory_path = '/content'\n",
        "file_type = \".csv\"\n",
        "files_to_download = glob.glob(f\"{directory_path}/*{file_type}\")\n",
        "zip_filename = \"grouped_barcharts.zip\"\n",
        "with zipfile.ZipFile(zip_filename, \"w\") as zipf:\n",
        "    for file in files_to_download:\n",
        "        zipf.write(file, arcname = os.path.basename(file))\n",
        "files.download(zip_filename)"
      ],
      "metadata": {
        "colab": {
          "base_uri": "https://localhost:8080/",
          "height": 17
        },
        "id": "XKYseRagF5Gu",
        "outputId": "4ccc64e9-983c-4949-b235-fe35d19b6e39"
      },
      "execution_count": null,
      "outputs": [
        {
          "output_type": "display_data",
          "data": {
            "text/plain": [
              "<IPython.core.display.Javascript object>"
            ],
            "application/javascript": [
              "\n",
              "    async function download(id, filename, size) {\n",
              "      if (!google.colab.kernel.accessAllowed) {\n",
              "        return;\n",
              "      }\n",
              "      const div = document.createElement('div');\n",
              "      const label = document.createElement('label');\n",
              "      label.textContent = `Downloading \"${filename}\": `;\n",
              "      div.appendChild(label);\n",
              "      const progress = document.createElement('progress');\n",
              "      progress.max = size;\n",
              "      div.appendChild(progress);\n",
              "      document.body.appendChild(div);\n",
              "\n",
              "      const buffers = [];\n",
              "      let downloaded = 0;\n",
              "\n",
              "      const channel = await google.colab.kernel.comms.open(id);\n",
              "      // Send a message to notify the kernel that we're ready.\n",
              "      channel.send({})\n",
              "\n",
              "      for await (const message of channel.messages) {\n",
              "        // Send a message to notify the kernel that we're ready.\n",
              "        channel.send({})\n",
              "        if (message.buffers) {\n",
              "          for (const buffer of message.buffers) {\n",
              "            buffers.push(buffer);\n",
              "            downloaded += buffer.byteLength;\n",
              "            progress.value = downloaded;\n",
              "          }\n",
              "        }\n",
              "      }\n",
              "      const blob = new Blob(buffers, {type: 'application/binary'});\n",
              "      const a = document.createElement('a');\n",
              "      a.href = window.URL.createObjectURL(blob);\n",
              "      a.download = filename;\n",
              "      div.appendChild(a);\n",
              "      a.click();\n",
              "      div.remove();\n",
              "    }\n",
              "  "
            ]
          },
          "metadata": {}
        },
        {
          "output_type": "display_data",
          "data": {
            "text/plain": [
              "<IPython.core.display.Javascript object>"
            ],
            "application/javascript": [
              "download(\"download_b5270216-e0e0-4d1d-b349-d2fa9ddac3db\", \"grouped_barcharts.zip\", 5650)"
            ]
          },
          "metadata": {}
        }
      ]
    },
    {
      "cell_type": "markdown",
      "source": [
        "We remove all the CSV files we downloaded."
      ],
      "metadata": {
        "id": "8Tdp7NSO6ID2"
      }
    },
    {
      "cell_type": "code",
      "source": [
        "for file in files_to_download:\n",
        "    os.remove(file)"
      ],
      "metadata": {
        "id": "c_K8gA5D6Hv3"
      },
      "execution_count": null,
      "outputs": []
    }
  ]
}