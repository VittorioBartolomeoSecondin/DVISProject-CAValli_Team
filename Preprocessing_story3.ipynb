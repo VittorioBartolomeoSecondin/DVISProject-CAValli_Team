{
  "nbformat": 4,
  "nbformat_minor": 0,
  "metadata": {
    "colab": {
      "provenance": [],
      "authorship_tag": "ABX9TyMTuaZscJyxr1M3ls6FjOLk",
      "include_colab_link": true
    },
    "kernelspec": {
      "name": "python3",
      "display_name": "Python 3"
    },
    "language_info": {
      "name": "python"
    }
  },
  "cells": [
    {
      "cell_type": "markdown",
      "metadata": {
        "id": "view-in-github",
        "colab_type": "text"
      },
      "source": [
        "<a href=\"https://colab.research.google.com/github/VittorioBartolomeoSecondin/DVISProject-CAValli_Team/blob/main/Preprocessing_story3.ipynb\" target=\"_parent\"><img src=\"https://colab.research.google.com/assets/colab-badge.svg\" alt=\"Open In Colab\"/></a>"
      ]
    },
    {
      "cell_type": "markdown",
      "source": [
        "# Importing libraries and connecting to Google Drive"
      ],
      "metadata": {
        "id": "jYXUHoAb6l2w"
      }
    },
    {
      "cell_type": "code",
      "execution_count": 19,
      "metadata": {
        "colab": {
          "base_uri": "https://localhost:8080/"
        },
        "id": "X5bxYVYS6aTo",
        "outputId": "8fcfdfb6-6567-4e66-a2e6-9d2b0106639e"
      },
      "outputs": [
        {
          "output_type": "stream",
          "name": "stdout",
          "text": [
            "Drive already mounted at /content/drive; to attempt to forcibly remount, call drive.mount(\"/content/drive\", force_remount=True).\n"
          ]
        }
      ],
      "source": [
        "import pandas as pd\n",
        "import matplotlib.pyplot as plt\n",
        "import numpy as np\n",
        "import glob\n",
        "import json\n",
        "import csv\n",
        "import requests\n",
        "import os\n",
        "import zipfile\n",
        "from google.colab import files\n",
        "from google.colab import drive\n",
        "drive.mount('/content/drive')"
      ]
    },
    {
      "cell_type": "markdown",
      "source": [
        "# Reading and preprocessing data"
      ],
      "metadata": {
        "id": "YivPdgm36wlH"
      }
    },
    {
      "cell_type": "code",
      "source": [
        "all_files = glob.glob(\"/content/drive/MyDrive/DV_project/story3/*\")\n",
        "all_files.sort()\n",
        "print(all_files)"
      ],
      "metadata": {
        "colab": {
          "base_uri": "https://localhost:8080/"
        },
        "id": "PU8YUJ2E6w-H",
        "outputId": "7bfc74fb-b260-42e7-a40c-e9b62bcf758f"
      },
      "execution_count": 33,
      "outputs": [
        {
          "output_type": "stream",
          "name": "stdout",
          "text": [
            "['/content/drive/MyDrive/DV_project/story3/NEET_italy.csv', '/content/drive/MyDrive/DV_project/story3/italy.json']\n"
          ]
        }
      ]
    },
    {
      "cell_type": "markdown",
      "source": [
        "## Dictionaries: country --> abbreviation (and viceversa)"
      ],
      "metadata": {
        "id": "luqSEIgmvytW"
      }
    },
    {
      "cell_type": "markdown",
      "source": [
        "## NEET in Italy"
      ],
      "metadata": {
        "id": "on9U7FyIzNPK"
      }
    },
    {
      "cell_type": "markdown",
      "source": [
        "We read the CSV dataset."
      ],
      "metadata": {
        "id": "x_0PTiVWzSAY"
      }
    },
    {
      "cell_type": "code",
      "source": [
        "NEET_italy = pd.read_csv(\"/content/drive/MyDrive/DV_project/story3/NEET_italy.csv\", low_memory = False)"
      ],
      "metadata": {
        "id": "gvu0qIc4zQ0I"
      },
      "execution_count": 107,
      "outputs": []
    },
    {
      "cell_type": "markdown",
      "source": [
        "We observe the column values."
      ],
      "metadata": {
        "id": "ZIFIX4xl9LIi"
      }
    },
    {
      "cell_type": "code",
      "source": [
        "distinct_values_dict = {col: NEET_italy[col].unique() for col in NEET_italy.columns}\n",
        "for col, values in distinct_values_dict.items():\n",
        "    print(f\"\\nDistinct values for column '{col}': {values}\")"
      ],
      "metadata": {
        "colab": {
          "base_uri": "https://localhost:8080/"
        },
        "id": "1msTME3n3bSA",
        "outputId": "47b5b159-2aca-4a7b-b5a9-dc8b32e9f103"
      },
      "execution_count": 108,
      "outputs": [
        {
          "output_type": "stream",
          "name": "stdout",
          "text": [
            "\n",
            "Distinct values for column 'ITTER107': ['IT' 'ITC1' 'ITC2' 'ITC3' 'ITC4' 'ITDA' 'ITD1' 'ITD2' 'ITD3' 'ITD4'\n",
            " 'ITD5' 'ITE1' 'ITE2' 'ITE3' 'ITE4' 'ITF1' 'ITF2' 'ITF3' 'ITF4' 'ITF5'\n",
            " 'ITF6' 'ITG1' 'ITG2']\n",
            "\n",
            "Distinct values for column 'Territorio': ['Italia' 'Piemonte' \"Valle d'Aosta / Vallée d'Aoste\" 'Liguria'\n",
            " 'Lombardia' 'Trentino Alto Adige / Südtirol'\n",
            " 'Provincia Autonoma Bolzano / Bozen' 'Provincia Autonoma Trento' 'Veneto'\n",
            " 'Friuli-Venezia Giulia' 'Emilia-Romagna' 'Toscana' 'Umbria' 'Marche'\n",
            " 'Lazio' 'Abruzzo' 'Molise' 'Campania' 'Puglia' 'Basilicata' 'Calabria'\n",
            " 'Sicilia' 'Sardegna']\n",
            "\n",
            "Distinct values for column 'TIPO_DATO_FOL': ['NEET' 'NEET_I']\n",
            "\n",
            "Distinct values for column 'Tipo dato': ['giovani Neet di 15-34 anni (non occupati e non in istruzione)'\n",
            " 'incidenza dei giovani Neet di 15-34 anni (non occupati e non in istruzione)']\n",
            "\n",
            "Distinct values for column 'SEXISTAT1': [1 2 9]\n",
            "\n",
            "Distinct values for column 'Sesso': ['maschi' 'femmine' 'totale']\n",
            "\n",
            "Distinct values for column 'ETA1': ['Y15-29']\n",
            "\n",
            "Distinct values for column 'Classe di età': ['15-29 anni']\n",
            "\n",
            "Distinct values for column 'CONDIZIONE_PROF_EU': ['UNEM' 'TOTIN' 'LFP' 'NOT' 'TOT']\n",
            "\n",
            "Distinct values for column 'Condizione professionale europea': ['disoccupati' 'totale inattivi' 'forze lavoro potenziali'\n",
            " 'non cercano e non disponibili ' 'totale']\n",
            "\n",
            "Distinct values for column 'TIME': ['2009' '2009-Q1' '2009-Q2' '2009-Q4' '2009-Q3' '2010' '2010-Q2' '2010-Q1'\n",
            " '2010-Q4' '2010-Q3' '2011' '2011-Q1' '2011-Q2' '2011-Q4' '2011-Q3' '2012'\n",
            " '2012-Q2' '2012-Q1' '2012-Q4' '2012-Q3' '2013' '2013-Q1' '2013-Q2'\n",
            " '2013-Q4' '2013-Q3' '2014' '2014-Q2' '2014-Q1' '2014-Q4' '2014-Q3' '2015'\n",
            " '2015-Q1' '2015-Q2' '2015-Q4' '2015-Q3' '2016' '2016-Q2' '2016-Q1'\n",
            " '2016-Q4' '2016-Q3' '2017' '2017-Q1' '2017-Q2' '2017-Q4' '2017-Q3' '2018'\n",
            " '2018-Q2' '2018-Q1' '2018-Q4' '2018-Q3' '2019' '2019-Q1' '2019-Q2'\n",
            " '2019-Q4' '2019-Q3' '2020' '2020-Q2' '2020-Q1' '2020-Q3' '2020-Q4']\n",
            "\n",
            "Distinct values for column 'Seleziona periodo': ['2009' 'T1-2009' 'T2-2009' 'T4-2009' 'T3-2009' '2010' 'T2-2010' 'T1-2010'\n",
            " 'T4-2010' 'T3-2010' '2011' 'T1-2011' 'T2-2011' 'T4-2011' 'T3-2011' '2012'\n",
            " 'T2-2012' 'T1-2012' 'T4-2012' 'T3-2012' '2013' 'T1-2013' 'T2-2013'\n",
            " 'T4-2013' 'T3-2013' '2014' 'T2-2014' 'T1-2014' 'T4-2014' 'T3-2014' '2015'\n",
            " 'T1-2015' 'T2-2015' 'T4-2015' 'T3-2015' '2016' 'T2-2016' 'T1-2016'\n",
            " 'T4-2016' 'T3-2016' '2017' 'T1-2017' 'T2-2017' 'T4-2017' 'T3-2017' '2018'\n",
            " 'T2-2018' 'T1-2018' 'T4-2018' 'T3-2018' '2019' 'T1-2019' 'T2-2019'\n",
            " 'T4-2019' 'T3-2019' '2020' 'T2-2020' 'T1-2020' 'T3-2020' 'T4-2020']\n",
            "\n",
            "Distinct values for column 'Value': [355.29     355.442    316.162    ...  27.677167  27.736784  26.147063]\n"
          ]
        }
      ]
    },
    {
      "cell_type": "markdown",
      "source": [
        "We discard uninteresting information (like the gender, because we are going to consider just the total value)."
      ],
      "metadata": {
        "id": "afxut4Fc9wmJ"
      }
    },
    {
      "cell_type": "code",
      "source": [
        "filtered_NEET = NEET_italy[( NEET_italy['Sesso'] == 'totale') \\\n",
        "                           & (NEET_italy['Condizione professionale europea'] == 'totale') \\\n",
        "                           & (~NEET_italy['Territorio'].isin(['Provincia Autonoma Bolzano / Bozen', 'Provincia Autonoma Trento']) ) \\\n",
        "                           & (NEET_italy['TIME'].isin([str(year) for year in range(2009, 2021)]) )\n",
        "                           ]"
      ],
      "metadata": {
        "id": "XzokxFwC9wcq"
      },
      "execution_count": 141,
      "outputs": []
    },
    {
      "cell_type": "markdown",
      "source": [
        "We drop useless columns."
      ],
      "metadata": {
        "id": "1Y_cEMKm_dwe"
      }
    },
    {
      "cell_type": "code",
      "source": [
        "NEET_final = filtered_NEET.copy()\n",
        "NEET_final.drop(['ITTER107', 'Tipo dato', 'SEXISTAT1', 'Sesso', 'ETA1', 'Classe di età', 'CONDIZIONE_PROF_EU', 'Condizione professionale europea', 'Seleziona periodo'], axis = 1, inplace = True)"
      ],
      "metadata": {
        "id": "0n5lqp_H_e6e"
      },
      "execution_count": 142,
      "outputs": []
    },
    {
      "cell_type": "code",
      "source": [
        "NEET_absolute = NEET_final[NEET_final['TIPO_DATO_FOL'] == 'NEET']\n",
        "NEET_abs = NEET_absolute.copy()\n",
        "NEET_abs.drop('TIPO_DATO_FOL', axis = 1, inplace = True)\n",
        "\n",
        "NEET_percentage = NEET_final[NEET_final['TIPO_DATO_FOL'] == 'NEET_I']\n",
        "NEET_per = NEET_percentage.copy()\n",
        "NEET_per.drop('TIPO_DATO_FOL', axis = 1, inplace = True)"
      ],
      "metadata": {
        "id": "nVoICC5NAcb4"
      },
      "execution_count": 144,
      "outputs": []
    },
    {
      "cell_type": "code",
      "source": [
        "years = NEET_final['TIME'].unique()\n",
        "neet_dict = {}\n",
        "for year in years:\n",
        "    neet_temp = NEET_abs[NEET_abs['TIME'] == year].copy()\n",
        "    neet_per_temp = NEET_per[NEET_per['TIME'] == year].copy()\n",
        "    merged_df = pd.merge(neet_temp, neet_per_temp[['Territorio', 'Value']], on = ['Territorio'], how = 'left')\n",
        "\n",
        "    merged_df[f'{year}'] = (merged_df['Value_x'] * 1000).round(0).astype(int)\n",
        "    merged_df[f'{year}_K'] = merged_df['Value_x'].round(1)\n",
        "    merged_df[f'{year}_perc'] = merged_df['Value_y'].round(1)\n",
        "    merged_df.drop(['TIME', 'Value_x', 'Value_y'], axis = 1, inplace = True)\n",
        "\n",
        "    neet_dict[f'NEET_{year}'] = merged_df"
      ],
      "metadata": {
        "id": "3zM_OD4j_Rvw"
      },
      "execution_count": 145,
      "outputs": []
    },
    {
      "cell_type": "code",
      "source": [
        "from functools import reduce\n",
        "dataframes = [neet_dict[f'NEET_{year}'] for year in years]\n",
        "neet_dict['NEET'] = reduce(lambda left, right: pd.merge(left, right, on = 'Territorio', how = 'inner'), dataframes)"
      ],
      "metadata": {
        "id": "eb2C4uZvDDcZ"
      },
      "execution_count": 159,
      "outputs": []
    },
    {
      "cell_type": "code",
      "source": [
        "region_dict = {\n",
        "    \"Valle d'Aosta / Vallée d'Aoste\": \"Valle d'Aosta/Vallée d'Aoste\",\n",
        "    \"Trentino Alto Adige / Südtirol\": \"Trentino-Alto Adige/Südtirol\"\n",
        "}\n",
        "neet_dict['NEET']['Territorio'] = neet_dict['NEET']['Territorio'].replace(region_dict)\n",
        "neet_dict['NEET'].rename(columns = {'Territorio': 'Region'}, inplace = True)"
      ],
      "metadata": {
        "id": "RCPD4qEQVeyb"
      },
      "execution_count": 164,
      "outputs": []
    },
    {
      "cell_type": "code",
      "source": [
        "neet_dict['NEET'].to_csv('dumbbell.csv', index = False)"
      ],
      "metadata": {
        "id": "cDVI_th4NswM"
      },
      "execution_count": 165,
      "outputs": []
    },
    {
      "cell_type": "markdown",
      "source": [
        "# Download all CSV files"
      ],
      "metadata": {
        "id": "QYptvL_UF1vf"
      }
    },
    {
      "cell_type": "markdown",
      "source": [
        "We download all the CSV files we created."
      ],
      "metadata": {
        "id": "vhSy4rob1NaT"
      }
    },
    {
      "cell_type": "code",
      "source": [
        "directory_path = '/content'\n",
        "file_type = \".csv\"\n",
        "files_to_download = glob.glob(f\"{directory_path}/*{file_type}\")\n",
        "zip_filename = \"grouped_barcharts.zip\"\n",
        "with zipfile.ZipFile(zip_filename, \"w\") as zipf:\n",
        "    for file in files_to_download:\n",
        "        zipf.write(file, arcname = os.path.basename(file))\n",
        "files.download(zip_filename)"
      ],
      "metadata": {
        "colab": {
          "base_uri": "https://localhost:8080/",
          "height": 17
        },
        "id": "XKYseRagF5Gu",
        "outputId": "4ccc64e9-983c-4949-b235-fe35d19b6e39"
      },
      "execution_count": null,
      "outputs": [
        {
          "output_type": "display_data",
          "data": {
            "text/plain": [
              "<IPython.core.display.Javascript object>"
            ],
            "application/javascript": [
              "\n",
              "    async function download(id, filename, size) {\n",
              "      if (!google.colab.kernel.accessAllowed) {\n",
              "        return;\n",
              "      }\n",
              "      const div = document.createElement('div');\n",
              "      const label = document.createElement('label');\n",
              "      label.textContent = `Downloading \"${filename}\": `;\n",
              "      div.appendChild(label);\n",
              "      const progress = document.createElement('progress');\n",
              "      progress.max = size;\n",
              "      div.appendChild(progress);\n",
              "      document.body.appendChild(div);\n",
              "\n",
              "      const buffers = [];\n",
              "      let downloaded = 0;\n",
              "\n",
              "      const channel = await google.colab.kernel.comms.open(id);\n",
              "      // Send a message to notify the kernel that we're ready.\n",
              "      channel.send({})\n",
              "\n",
              "      for await (const message of channel.messages) {\n",
              "        // Send a message to notify the kernel that we're ready.\n",
              "        channel.send({})\n",
              "        if (message.buffers) {\n",
              "          for (const buffer of message.buffers) {\n",
              "            buffers.push(buffer);\n",
              "            downloaded += buffer.byteLength;\n",
              "            progress.value = downloaded;\n",
              "          }\n",
              "        }\n",
              "      }\n",
              "      const blob = new Blob(buffers, {type: 'application/binary'});\n",
              "      const a = document.createElement('a');\n",
              "      a.href = window.URL.createObjectURL(blob);\n",
              "      a.download = filename;\n",
              "      div.appendChild(a);\n",
              "      a.click();\n",
              "      div.remove();\n",
              "    }\n",
              "  "
            ]
          },
          "metadata": {}
        },
        {
          "output_type": "display_data",
          "data": {
            "text/plain": [
              "<IPython.core.display.Javascript object>"
            ],
            "application/javascript": [
              "download(\"download_b5270216-e0e0-4d1d-b349-d2fa9ddac3db\", \"grouped_barcharts.zip\", 5650)"
            ]
          },
          "metadata": {}
        }
      ]
    },
    {
      "cell_type": "markdown",
      "source": [
        "We remove all the CSV files we downloaded."
      ],
      "metadata": {
        "id": "8Tdp7NSO6ID2"
      }
    },
    {
      "cell_type": "code",
      "source": [
        "for file in files_to_download:\n",
        "    os.remove(file)"
      ],
      "metadata": {
        "id": "c_K8gA5D6Hv3"
      },
      "execution_count": null,
      "outputs": []
    },
    {
      "cell_type": "markdown",
      "source": [
        "# Choropleth Map: JSON file preparation"
      ],
      "metadata": {
        "id": "Fjavhm-pJwqF"
      }
    },
    {
      "cell_type": "markdown",
      "source": [
        "We load a JSON file containing a map of Italy."
      ],
      "metadata": {
        "id": "E5vqQ2ov03sz"
      }
    },
    {
      "cell_type": "code",
      "source": [
        "json_path = \"/content/drive/MyDrive/DV_project/story3/italy.json\"\n",
        "with open(json_path, 'r') as file:\n",
        "    json_file = json.load(file)"
      ],
      "metadata": {
        "id": "k3EHZZYxJygc"
      },
      "execution_count": 148,
      "outputs": []
    },
    {
      "cell_type": "code",
      "source": [
        "json_file['objects']['regions'].get('geometries')[0]['properties']"
      ],
      "metadata": {
        "colab": {
          "base_uri": "https://localhost:8080/"
        },
        "id": "y4d0qPWk3GSI",
        "outputId": "7f54569b-0135-42ee-fd17-c83700220183"
      },
      "execution_count": 154,
      "outputs": [
        {
          "output_type": "execute_result",
          "data": {
            "text/plain": [
              "{'reg_name': 'Piemonte', 'reg_istat_code_num': 1, 'reg_istat_code': '01'}"
            ]
          },
          "metadata": {},
          "execution_count": 154
        }
      ]
    },
    {
      "cell_type": "markdown",
      "source": [
        "We add to the JSON file information about the NEET abundance."
      ],
      "metadata": {
        "id": "RtYuQtf71d3D"
      }
    },
    {
      "cell_type": "code",
      "source": [
        "for idx in range(len(json_file['objects']['regions'].get('geometries'))):\n",
        "  print(json_file['objects']['regions'].get('geometries')[idx]['properties']['reg_name'])"
      ],
      "metadata": {
        "colab": {
          "base_uri": "https://localhost:8080/"
        },
        "id": "7smwG3uUU1m1",
        "outputId": "b779c428-3abf-4a28-f2e3-42b582f80800"
      },
      "execution_count": 156,
      "outputs": [
        {
          "output_type": "stream",
          "name": "stdout",
          "text": [
            "Piemonte\n",
            "Valle d'Aosta/Vallée d'Aoste\n",
            "Lombardia\n",
            "Trentino-Alto Adige/Südtirol\n",
            "Veneto\n",
            "Friuli-Venezia Giulia\n",
            "Liguria\n",
            "Emilia-Romagna\n",
            "Toscana\n",
            "Umbria\n",
            "Marche\n",
            "Lazio\n",
            "Abruzzo\n",
            "Molise\n",
            "Campania\n",
            "Puglia\n",
            "Basilicata\n",
            "Calabria\n",
            "Sicilia\n",
            "Sardegna\n"
          ]
        }
      ]
    },
    {
      "cell_type": "code",
      "source": [
        "\n",
        "Trentino Alto Adige / Südtirol"
      ],
      "metadata": {
        "id": "XE6sCyu3VOtS"
      },
      "execution_count": null,
      "outputs": []
    },
    {
      "cell_type": "code",
      "source": [
        "neet_dict['NEET']['Territorio']"
      ],
      "metadata": {
        "colab": {
          "base_uri": "https://localhost:8080/"
        },
        "id": "tU-lU32gU_65",
        "outputId": "47644c5f-63df-4974-f883-b058e84b8e94"
      },
      "execution_count": 157,
      "outputs": [
        {
          "output_type": "execute_result",
          "data": {
            "text/plain": [
              "0                             Italia\n",
              "1                           Piemonte\n",
              "2     Valle d'Aosta / Vallée d'Aoste\n",
              "3                            Liguria\n",
              "4                          Lombardia\n",
              "5     Trentino Alto Adige / Südtirol\n",
              "6                             Veneto\n",
              "7              Friuli-Venezia Giulia\n",
              "8                     Emilia-Romagna\n",
              "9                            Toscana\n",
              "10                            Umbria\n",
              "11                            Marche\n",
              "12                             Lazio\n",
              "13                           Abruzzo\n",
              "14                            Molise\n",
              "15                          Campania\n",
              "16                            Puglia\n",
              "17                        Basilicata\n",
              "18                          Calabria\n",
              "19                           Sicilia\n",
              "20                          Sardegna\n",
              "Name: Territorio, dtype: object"
            ]
          },
          "metadata": {},
          "execution_count": 157
        }
      ]
    },
    {
      "cell_type": "code",
      "source": [
        "for idx in range(len(json_file['objects']['regions'].get('geometries'))):\n",
        "\n",
        "  properties = json_file['objects']['regions'].get('geometries')[idx]['properties']\n",
        "  name = properties['reg_name']\n",
        "  abbreviation = state_abbreviations[name]\n",
        "\n",
        "  if country_abbreviations_reversed.get(abbreviation) is not None:\n",
        "    name = country_abbreviations_reversed.get(abbreviation)\n",
        "  del properties['NAME']\n",
        "\n",
        "  try:\n",
        "    row1000 = neet_sheets['neet_sheet3'][neet_sheets['neet_sheet3']['Country'] == name].values[0]\n",
        "    row = neet_sheets['neet_sheet3'][neet_sheets['neet_sheet3']['Country'] == name].values[0] * 1000\n",
        "    abundance1000 = list(row1000)[1:15]\n",
        "    abundance = list(row)[1:15]\n",
        "    properties['name'] = name\n",
        "    properties['abbreviation'] = abbreviation\n",
        "    properties['abundance'] = abundance\n",
        "    properties['abundance1000'] = abundance1000\n",
        "\n",
        "  except:\n",
        "    abundance = list(np.zeros(14))\n",
        "    properties['name'] = name\n",
        "    properties['abbreviation'] = abbreviation\n",
        "    properties['abundance'] = abundance\n",
        "    properties['abundance1000'] = abundance"
      ],
      "metadata": {
        "id": "v_We1y9mJyju"
      },
      "execution_count": null,
      "outputs": []
    },
    {
      "cell_type": "markdown",
      "source": [
        "We export the modified JSON file: we have still to remove by hand all info on Israel for a better visualisation of the map."
      ],
      "metadata": {
        "id": "kqhKhrWT1mR9"
      }
    },
    {
      "cell_type": "code",
      "source": [
        "# We then need to remove (by hand) 'Israel' from the JSON file for a better vis of the map\n",
        "out_path = \"/content/choropleth.json\"\n",
        "with open(out_path, 'w') as file:\n",
        "    json.dump(json_file, file)"
      ],
      "metadata": {
        "id": "9ba5iL__Kdjk"
      },
      "execution_count": null,
      "outputs": []
    }
  ]
}