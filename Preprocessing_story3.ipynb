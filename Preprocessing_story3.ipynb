{
  "nbformat": 4,
  "nbformat_minor": 0,
  "metadata": {
    "colab": {
      "provenance": [],
      "authorship_tag": "ABX9TyNn8zZEtamg6y8obZheBML5",
      "include_colab_link": true
    },
    "kernelspec": {
      "name": "python3",
      "display_name": "Python 3"
    },
    "language_info": {
      "name": "python"
    }
  },
  "cells": [
    {
      "cell_type": "markdown",
      "metadata": {
        "id": "view-in-github",
        "colab_type": "text"
      },
      "source": [
        "<a href=\"https://colab.research.google.com/github/VittorioBartolomeoSecondin/DVISProject-CAValli_Team/blob/main/Preprocessing_story3.ipynb\" target=\"_parent\"><img src=\"https://colab.research.google.com/assets/colab-badge.svg\" alt=\"Open In Colab\"/></a>"
      ]
    },
    {
      "cell_type": "markdown",
      "source": [
        "# Importing libraries and connecting to Google Drive"
      ],
      "metadata": {
        "id": "jYXUHoAb6l2w"
      }
    },
    {
      "cell_type": "code",
      "execution_count": 1,
      "metadata": {
        "colab": {
          "base_uri": "https://localhost:8080/"
        },
        "id": "X5bxYVYS6aTo",
        "outputId": "a3864a77-1db7-4afe-aa78-e3f14103e466"
      },
      "outputs": [
        {
          "output_type": "stream",
          "name": "stdout",
          "text": [
            "Mounted at /content/drive\n"
          ]
        }
      ],
      "source": [
        "import pandas as pd\n",
        "import matplotlib.pyplot as plt\n",
        "import numpy as np\n",
        "import glob\n",
        "import json\n",
        "import csv\n",
        "import requests\n",
        "import os\n",
        "import zipfile\n",
        "from google.colab import files\n",
        "from google.colab import drive\n",
        "drive.mount('/content/drive')"
      ]
    },
    {
      "cell_type": "markdown",
      "source": [
        "# Reading and preprocessing data"
      ],
      "metadata": {
        "id": "YivPdgm36wlH"
      }
    },
    {
      "cell_type": "code",
      "source": [
        "all_files = glob.glob(\"/content/drive/MyDrive/DV_project/story3/*\")\n",
        "all_files.sort()\n",
        "print(all_files)"
      ],
      "metadata": {
        "colab": {
          "base_uri": "https://localhost:8080/"
        },
        "id": "PU8YUJ2E6w-H",
        "outputId": "167dd738-9cee-4cee-ef63-36b598759ee2"
      },
      "execution_count": 2,
      "outputs": [
        {
          "output_type": "stream",
          "name": "stdout",
          "text": [
            "['/content/drive/MyDrive/DV_project/story3/LEAVERS_italy_2020.csv', '/content/drive/MyDrive/DV_project/story3/NEET_italy.csv', '/content/drive/MyDrive/DV_project/story3/NEET_italy_2020.csv', '/content/drive/MyDrive/DV_project/story3/NEET_italy_new.csv', '/content/drive/MyDrive/DV_project/story3/POVERTY_italy_2020.csv', '/content/drive/MyDrive/DV_project/story3/italy.json']\n"
          ]
        }
      ]
    },
    {
      "cell_type": "markdown",
      "source": [
        "## NEET in Italy"
      ],
      "metadata": {
        "id": "on9U7FyIzNPK"
      }
    },
    {
      "cell_type": "markdown",
      "source": [
        "We read the two CSV datasets (from 2009 to 2017, and from 2018 to 2023, to then merge together)."
      ],
      "metadata": {
        "id": "x_0PTiVWzSAY"
      }
    },
    {
      "cell_type": "code",
      "source": [
        "NEET_italy = pd.read_csv(\"/content/drive/MyDrive/DV_project/story3/NEET_italy.csv\", low_memory = False)\n",
        "NEET_italy_new = pd.read_csv(\"/content/drive/MyDrive/DV_project/story3/NEET_italy_new.csv\", low_memory = False)"
      ],
      "metadata": {
        "id": "gvu0qIc4zQ0I"
      },
      "execution_count": 3,
      "outputs": []
    },
    {
      "cell_type": "markdown",
      "source": [
        "We observe the column values of both datasets."
      ],
      "metadata": {
        "id": "ZIFIX4xl9LIi"
      }
    },
    {
      "cell_type": "code",
      "source": [
        "distinct_values_dict = {col: NEET_italy[col].unique() for col in NEET_italy.columns}\n",
        "for col, values in distinct_values_dict.items():\n",
        "    print(f\"\\nDistinct values for column '{col}': {values}\")"
      ],
      "metadata": {
        "colab": {
          "base_uri": "https://localhost:8080/"
        },
        "id": "1msTME3n3bSA",
        "outputId": "80a4ea6a-4de6-496b-edb6-143f2fd8cf88"
      },
      "execution_count": 4,
      "outputs": [
        {
          "output_type": "stream",
          "name": "stdout",
          "text": [
            "\n",
            "Distinct values for column 'ITTER107': ['IT' 'ITC1' 'ITC2' 'ITC3' 'ITC4' 'ITDA' 'ITD1' 'ITD2' 'ITD3' 'ITD4'\n",
            " 'ITD5' 'ITE1' 'ITE2' 'ITE3' 'ITE4' 'ITF1' 'ITF2' 'ITF3' 'ITF4' 'ITF5'\n",
            " 'ITF6' 'ITG1' 'ITG2']\n",
            "\n",
            "Distinct values for column 'Territorio': ['Italia' 'Piemonte' \"Valle d'Aosta / Vallée d'Aoste\" 'Liguria'\n",
            " 'Lombardia' 'Trentino Alto Adige / Südtirol'\n",
            " 'Provincia Autonoma Bolzano / Bozen' 'Provincia Autonoma Trento' 'Veneto'\n",
            " 'Friuli-Venezia Giulia' 'Emilia-Romagna' 'Toscana' 'Umbria' 'Marche'\n",
            " 'Lazio' 'Abruzzo' 'Molise' 'Campania' 'Puglia' 'Basilicata' 'Calabria'\n",
            " 'Sicilia' 'Sardegna']\n",
            "\n",
            "Distinct values for column 'TIPO_DATO_FOL': ['NEET' 'NEET_I']\n",
            "\n",
            "Distinct values for column 'Tipo dato': ['giovani Neet di 15-34 anni (non occupati e non in istruzione)'\n",
            " 'incidenza dei giovani Neet di 15-34 anni (non occupati e non in istruzione)']\n",
            "\n",
            "Distinct values for column 'SEXISTAT1': [1 2 9]\n",
            "\n",
            "Distinct values for column 'Sesso': ['maschi' 'femmine' 'totale']\n",
            "\n",
            "Distinct values for column 'ETA1': ['Y15-29']\n",
            "\n",
            "Distinct values for column 'Classe di età': ['15-29 anni']\n",
            "\n",
            "Distinct values for column 'CONDIZIONE_PROF_EU': ['UNEM' 'TOTIN' 'LFP' 'NOT' 'TOT']\n",
            "\n",
            "Distinct values for column 'Condizione professionale europea': ['disoccupati' 'totale inattivi' 'forze lavoro potenziali'\n",
            " 'non cercano e non disponibili ' 'totale']\n",
            "\n",
            "Distinct values for column 'TIME': ['2009' '2009-Q1' '2009-Q2' '2009-Q4' '2009-Q3' '2010' '2010-Q2' '2010-Q1'\n",
            " '2010-Q4' '2010-Q3' '2011' '2011-Q1' '2011-Q2' '2011-Q4' '2011-Q3' '2012'\n",
            " '2012-Q2' '2012-Q1' '2012-Q4' '2012-Q3' '2013' '2013-Q1' '2013-Q2'\n",
            " '2013-Q4' '2013-Q3' '2014' '2014-Q2' '2014-Q1' '2014-Q4' '2014-Q3' '2015'\n",
            " '2015-Q1' '2015-Q2' '2015-Q4' '2015-Q3' '2016' '2016-Q2' '2016-Q1'\n",
            " '2016-Q4' '2016-Q3' '2017' '2017-Q1' '2017-Q2' '2017-Q4' '2017-Q3' '2018'\n",
            " '2018-Q2' '2018-Q1' '2018-Q4' '2018-Q3' '2019' '2019-Q1' '2019-Q2'\n",
            " '2019-Q4' '2019-Q3' '2020' '2020-Q2' '2020-Q1' '2020-Q3' '2020-Q4']\n",
            "\n",
            "Distinct values for column 'Seleziona periodo': ['2009' 'T1-2009' 'T2-2009' 'T4-2009' 'T3-2009' '2010' 'T2-2010' 'T1-2010'\n",
            " 'T4-2010' 'T3-2010' '2011' 'T1-2011' 'T2-2011' 'T4-2011' 'T3-2011' '2012'\n",
            " 'T2-2012' 'T1-2012' 'T4-2012' 'T3-2012' '2013' 'T1-2013' 'T2-2013'\n",
            " 'T4-2013' 'T3-2013' '2014' 'T2-2014' 'T1-2014' 'T4-2014' 'T3-2014' '2015'\n",
            " 'T1-2015' 'T2-2015' 'T4-2015' 'T3-2015' '2016' 'T2-2016' 'T1-2016'\n",
            " 'T4-2016' 'T3-2016' '2017' 'T1-2017' 'T2-2017' 'T4-2017' 'T3-2017' '2018'\n",
            " 'T2-2018' 'T1-2018' 'T4-2018' 'T3-2018' '2019' 'T1-2019' 'T2-2019'\n",
            " 'T4-2019' 'T3-2019' '2020' 'T2-2020' 'T1-2020' 'T3-2020' 'T4-2020']\n",
            "\n",
            "Distinct values for column 'Value': [355.29     355.442    316.162    ...  27.677167  27.736784  26.147063]\n"
          ]
        }
      ]
    },
    {
      "cell_type": "code",
      "source": [
        "distinct_values_dict = {col: NEET_italy_new[col].unique() for col in NEET_italy_new.columns}\n",
        "for col, values in distinct_values_dict.items():\n",
        "    print(f\"\\nDistinct values for column '{col}': {values}\")"
      ],
      "metadata": {
        "colab": {
          "base_uri": "https://localhost:8080/"
        },
        "id": "dNAnzRCsByIp",
        "outputId": "0f3fcb18-21eb-445d-eca2-ea78f23a10c7"
      },
      "execution_count": 5,
      "outputs": [
        {
          "output_type": "stream",
          "name": "stdout",
          "text": [
            "\n",
            "Distinct values for column 'ITTER107': ['IT' 'ITC1' 'ITC2' 'ITC3' 'ITC4' 'ITDA' 'ITD1' 'ITD2' 'ITD3' 'ITD4'\n",
            " 'ITD5' 'ITE1' 'ITE2' 'ITE3' 'ITE4' 'ITF1' 'ITF2' 'ITF3' 'ITF4' 'ITF5'\n",
            " 'ITF6' 'ITG1' 'ITG2']\n",
            "\n",
            "Distinct values for column 'Territorio': ['Italia' 'Piemonte' \"Valle d'Aosta / Vallée d'Aoste\" 'Liguria'\n",
            " 'Lombardia' 'Trentino Alto Adige / Südtirol'\n",
            " 'Provincia Autonoma Bolzano / Bozen' 'Provincia Autonoma Trento' 'Veneto'\n",
            " 'Friuli-Venezia Giulia' 'Emilia-Romagna' 'Toscana' 'Umbria' 'Marche'\n",
            " 'Lazio' 'Abruzzo' 'Molise' 'Campania' 'Puglia' 'Basilicata' 'Calabria'\n",
            " 'Sicilia' 'Sardegna']\n",
            "\n",
            "Distinct values for column 'TIPO_DATO_FOL': ['NEET' 'NEET_I']\n",
            "\n",
            "Distinct values for column 'Tipo dato': ['giovani Neet di 15-34 anni (non occupati e non in istruzione)'\n",
            " 'incidenza dei giovani Neet di 15-34 anni (non occupati e non in istruzione)']\n",
            "\n",
            "Distinct values for column 'ETA1': ['Y15-29']\n",
            "\n",
            "Distinct values for column 'Classe di età': ['15-29 anni']\n",
            "\n",
            "Distinct values for column 'TIME': ['2018' '2018-Q2' '2018-Q1' '2018-Q4' '2018-Q3' '2019' '2019-Q1' '2019-Q2'\n",
            " '2019-Q4' '2019-Q3' '2020' '2020-Q2' '2020-Q1' '2020-Q3' '2020-Q4' '2021'\n",
            " '2022' '2021-Q1' '2021-Q2' '2021-Q3' '2021-Q4' '2022-Q1' '2022-Q2'\n",
            " '2022-Q3' '2022-Q4' '2023-Q1' '2023-Q2' '2023-Q3']\n",
            "\n",
            "Distinct values for column 'Seleziona periodo': ['2018' 'T2-2018' 'T1-2018' 'T4-2018' 'T3-2018' '2019' 'T1-2019' 'T2-2019'\n",
            " 'T4-2019' 'T3-2019' '2020' 'T2-2020' 'T1-2020' 'T3-2020' 'T4-2020' '2021'\n",
            " '2022' 'T1-2021' 'T2-2021' 'T3-2021' 'T4-2021' 'T1-2022' 'T2-2022'\n",
            " 'T3-2022' 'T4-2022' 'T1-2023' 'T2-2023' 'T3-2023']\n",
            "\n",
            "Distinct values for column 'Value': [2072.271    1987.519    2021.96     2101.613    2177.992    1960.424\n",
            " 1994.658    1878.994    1957.494    2010.548    2098.976    2136.748\n",
            " 2022.687    2149.437    2087.031    2031.626    1669.553    2141.588\n",
            " 2007.205    1990.87     1986.842    1892.323    1699.516    1547.687\n",
            " 1538.685    1442.598    1372.841    1448.637      23.184508   22.217424\n",
            "   22.545324   23.566322   24.415237   22.067804   22.397106   21.122604\n",
            "   22.085274   22.667647   23.742047   24.153707   22.797978   24.330677\n",
            "   23.689164   23.066929   19.036906   24.282109   22.784235   22.583158\n",
            "   22.615927   21.537065   19.350483   17.624353   17.625952   16.512547\n",
            "   15.702338   16.5466    103.418      96.819     117.639     112.874\n",
            "   90.615      17.60657    16.514095   20.014564   19.194039   15.351761\n",
            "    2.843       2.579       3.01        3.162       2.71       16.252215\n",
            "   14.70605    17.179385   18.005808   15.341938   38.926      34.773\n",
            "   39.938      38.516      29.432      19.818545   17.754189   20.382562\n",
            "   19.558219   14.820858  213.9       210.167     258.432     266.157\n",
            "  198.915      15.036368   14.686107   17.911056   18.353668   13.584102\n",
            "   21.486      18.824      23.352      26.823      18.23       12.516967\n",
            "   10.929952   13.518583   15.377163   10.460539    9.628       8.322\n",
            "   10.914      11.817       8.789      10.937181    9.407855   12.372887\n",
            "   13.271414    9.891953   11.857      10.502      12.439      15.006\n",
            "    9.441      14.178774   12.537306   14.715312   17.573075   11.051929\n",
            "  103.538      87.417     104.429      98.606      93.972      14.760315\n",
            "   12.421351   14.778037   13.888638   13.139445   22.839      21.877\n",
            "   21.903      26.104      22.102      14.35801    13.681505   13.663244\n",
            "   16.168373   13.543224   91.519      85.083      97.731      93.228\n",
            "   76.041      15.308302   14.10048    16.009114   15.138667   12.182407\n",
            "   79.235      77.595      86.727      89.182      69.555      16.002868\n",
            "   15.687991   17.490466   17.856578   13.751564   22.624      17.916\n",
            "   22.753      22.782      17.179      18.864652   15.032724   19.202788\n",
            "   19.177898   14.432132   35.788      32.753      38.211      34.022\n",
            "   27.911      16.633899   15.257656   17.897508   15.979972   13.121498\n",
            "  184.48      169.247     186.19      176.899     139.671      22.238724\n",
            "   20.510114   22.659039   21.600365   17.042921   39.303      42.885\n",
            "   38.849      38.879      32.561      20.529549   22.702007   20.827213\n",
            "   21.093093   17.894494   11.963      11.14       12.595      12.006\n",
            "    8.838      25.826299   24.478675   28.58083    27.734528   20.934199\n",
            "  373.241     350.912     356.564     338.673     286.058      35.857493\n",
            "   34.24544    35.329671   34.121402   29.671389  200.923     192.349\n",
            "  195.425     194.027     162.11       30.384458   29.560274   30.521994\n",
            "   30.638374   25.974838   23.781      23.086      23.312      21.355\n",
            "   17.082      26.033696   25.947489   26.801872   25.183971   20.603809\n",
            "  116.336     109.93      104.734      99.838      81.694      36.038872\n",
            "   34.980033   34.36572    33.505495   28.232164  323.064     312.578\n",
            "  309.935     287.818     250.01       38.361858   37.97464    38.434161\n",
            "   36.320204   32.410618   63.065      62.492      57.246      50.674\n",
            "   44.868      27.622047   27.924643   26.177857   23.638789   21.435226]\n"
          ]
        }
      ]
    },
    {
      "cell_type": "markdown",
      "source": [
        "We discard uninteresting information (like the gender)."
      ],
      "metadata": {
        "id": "afxut4Fc9wmJ"
      }
    },
    {
      "cell_type": "code",
      "source": [
        "years = {str(year) for year in range(2009, 2018)}\n",
        "filtered_NEET = NEET_italy[( NEET_italy['Sesso'] == 'totale') \\\n",
        "                           & (NEET_italy['Condizione professionale europea'] == 'totale') \\\n",
        "                           & (~NEET_italy['Territorio'].isin(['Provincia Autonoma Bolzano / Bozen', 'Provincia Autonoma Trento']) ) \\\n",
        "                           & (NEET_italy['TIME'].isin([str(year) for year in range(2009, 2018)]) )\n",
        "                           ]"
      ],
      "metadata": {
        "id": "XzokxFwC9wcq"
      },
      "execution_count": 6,
      "outputs": []
    },
    {
      "cell_type": "code",
      "source": [
        "years_new = {str(year) for year in range(2018, 2023)}\n",
        "filtered_NEET_new = NEET_italy_new[(~NEET_italy_new['Territorio'].isin(['Provincia Autonoma Bolzano / Bozen', 'Provincia Autonoma Trento']) ) \\\n",
        "                                   & (NEET_italy_new['TIME'].isin([str(year) for year in range(2018, 2023)]) )\n",
        "                                   ]"
      ],
      "metadata": {
        "id": "0TJ6jso_CFyq"
      },
      "execution_count": 7,
      "outputs": []
    },
    {
      "cell_type": "markdown",
      "source": [
        "We drop useless columns."
      ],
      "metadata": {
        "id": "1Y_cEMKm_dwe"
      }
    },
    {
      "cell_type": "code",
      "source": [
        "NEET_final = filtered_NEET.copy()\n",
        "NEET_final.drop(['ITTER107', 'Tipo dato', 'SEXISTAT1', 'Sesso', 'ETA1', 'Classe di età', 'CONDIZIONE_PROF_EU', 'Condizione professionale europea', 'Seleziona periodo'], axis = 1, inplace = True)\n",
        "\n",
        "NEET_final_new = filtered_NEET_new.copy()\n",
        "NEET_final_new.drop(['ITTER107', 'Tipo dato', 'ETA1', 'Classe di età', 'Seleziona periodo'], axis = 1, inplace = True)"
      ],
      "metadata": {
        "id": "0n5lqp_H_e6e"
      },
      "execution_count": 8,
      "outputs": []
    },
    {
      "cell_type": "markdown",
      "source": [
        "We subdivide for absolute value and for percentage for both datasets."
      ],
      "metadata": {
        "id": "mUCGJM0ZC31I"
      }
    },
    {
      "cell_type": "code",
      "source": [
        "NEET_absolute = NEET_final[NEET_final['TIPO_DATO_FOL'] == 'NEET']\n",
        "NEET_abs = NEET_absolute.copy()\n",
        "NEET_abs.drop('TIPO_DATO_FOL', axis = 1, inplace = True)\n",
        "NEET_percentage = NEET_final[NEET_final['TIPO_DATO_FOL'] == 'NEET_I']\n",
        "NEET_per = NEET_percentage.copy()\n",
        "NEET_per.drop('TIPO_DATO_FOL', axis = 1, inplace = True)\n",
        "\n",
        "NEET_absolute_new = NEET_final_new[NEET_final_new['TIPO_DATO_FOL'] == 'NEET']\n",
        "NEET_abs_new = NEET_absolute_new.copy()\n",
        "NEET_abs_new.drop('TIPO_DATO_FOL', axis = 1, inplace = True)\n",
        "NEET_percentage_new = NEET_final_new[NEET_final_new['TIPO_DATO_FOL'] == 'NEET_I']\n",
        "NEET_per_new = NEET_percentage_new.copy()\n",
        "NEET_per_new.drop('TIPO_DATO_FOL', axis = 1, inplace = True)"
      ],
      "metadata": {
        "id": "nVoICC5NAcb4"
      },
      "execution_count": 9,
      "outputs": []
    },
    {
      "cell_type": "markdown",
      "source": [
        "We create a dictionary of datasets, one for each year (with all regions, the absolute value, the absolute value in thousands persons and the percentage)."
      ],
      "metadata": {
        "id": "ROewaMAKDkuQ"
      }
    },
    {
      "cell_type": "code",
      "source": [
        "neet_dict = {}\n",
        "\n",
        "for year in years:\n",
        "    neet_temp = NEET_abs[NEET_abs['TIME'] == year].copy()\n",
        "    neet_per_temp = NEET_per[NEET_per['TIME'] == year].copy()\n",
        "    merged_df = pd.merge(neet_temp, neet_per_temp[['Territorio', 'Value']], on = ['Territorio'], how = 'left')\n",
        "\n",
        "    merged_df[f'{year}'] = (merged_df['Value_x'] * 1000).round(0).astype(int)\n",
        "    merged_df[f'{year}_K'] = merged_df['Value_x'].round(1)\n",
        "    merged_df[f'{year}_perc'] = merged_df['Value_y'].round(1)\n",
        "    merged_df.drop(['TIME', 'Value_x', 'Value_y'], axis = 1, inplace = True)\n",
        "\n",
        "    neet_dict[f'NEET_{year}'] = merged_df\n",
        "\n",
        "for year in years_new:\n",
        "    neet_temp_new = NEET_abs_new[NEET_abs_new['TIME'] == year].copy()\n",
        "    neet_per_temp_new = NEET_per_new[NEET_per_new['TIME'] == year].copy()\n",
        "    merged_df_new = pd.merge(neet_temp_new, neet_per_temp_new[['Territorio', 'Value']], on = ['Territorio'], how = 'left')\n",
        "\n",
        "    merged_df_new[f'{year}'] = (merged_df_new['Value_x'] * 1000).round(0).astype(int)\n",
        "    merged_df_new[f'{year}_K'] = merged_df_new['Value_x'].round(1)\n",
        "    merged_df_new[f'{year}_perc'] = merged_df_new['Value_y'].round(1)\n",
        "    merged_df_new.drop(['TIME', 'Value_x', 'Value_y'], axis = 1, inplace = True)\n",
        "\n",
        "    neet_dict[f'NEET_{year}'] = merged_df_new"
      ],
      "metadata": {
        "id": "3zM_OD4j_Rvw"
      },
      "execution_count": 10,
      "outputs": []
    },
    {
      "cell_type": "code",
      "source": [
        "from functools import reduce\n",
        "years_reduce = {str(year) for year in range(2009, 2023)}\n",
        "dataframes = [neet_dict[f'NEET_{year}'] for year in years_reduce]\n",
        "neet_dict['NEET'] = reduce(lambda left, right: pd.merge(left, right, on = 'Territorio', how = 'inner'), dataframes)"
      ],
      "metadata": {
        "id": "eb2C4uZvDDcZ"
      },
      "execution_count": 11,
      "outputs": []
    },
    {
      "cell_type": "code",
      "source": [
        "region_dict = {\n",
        "    \"Valle d'Aosta / Vallée d'Aoste\": \"Valle d'Aosta/Vallée d'Aoste\",\n",
        "    \"Trentino Alto Adige / Südtirol\": \"Trentino-Alto Adige/Südtirol\"\n",
        "}\n",
        "neet_dict['NEET']['Territorio'] = neet_dict['NEET']['Territorio'].replace(region_dict)\n",
        "neet_dict['NEET'].rename(columns = {'Territorio': 'Region'}, inplace = True)"
      ],
      "metadata": {
        "id": "RCPD4qEQVeyb"
      },
      "execution_count": 12,
      "outputs": []
    },
    {
      "cell_type": "code",
      "source": [
        "reordered_columns = sorted([col for col in neet_dict['NEET'].columns if col != 'Region'])\n",
        "neet_dict['NEET'] = neet_dict['NEET'][['Region'] + reordered_columns]"
      ],
      "metadata": {
        "id": "EsV5otvBHvFf"
      },
      "execution_count": 13,
      "outputs": []
    },
    {
      "cell_type": "code",
      "source": [
        "neet_dict['NEET'].to_csv('dumbbell.csv', index = False)"
      ],
      "metadata": {
        "id": "cDVI_th4NswM"
      },
      "execution_count": 14,
      "outputs": []
    },
    {
      "cell_type": "markdown",
      "source": [
        "## NEET vs POVERTY vs LEAVERS"
      ],
      "metadata": {
        "id": "efopqK6RSjbF"
      }
    },
    {
      "cell_type": "markdown",
      "source": [
        "### NEET (2020)"
      ],
      "metadata": {
        "id": "8BTv3pZvZDXu"
      }
    },
    {
      "cell_type": "code",
      "source": [
        "NEET_2020 = pd.read_csv(\"/content/drive/MyDrive/DV_project/story3/NEET_italy_2020.csv\", low_memory = False)"
      ],
      "metadata": {
        "id": "rdyoEmH7Snph"
      },
      "execution_count": 31,
      "outputs": []
    },
    {
      "cell_type": "markdown",
      "source": [
        "We discard uninteresting information, we drop useless columns and we subdivide for absolute value and for percentage."
      ],
      "metadata": {
        "id": "EszN1SldVdSd"
      }
    },
    {
      "cell_type": "code",
      "source": [
        "NEET_2020_filtered = NEET_2020[NEET_2020['TIME'] == '2020']\n",
        "\n",
        "NEET_2020_final = NEET_2020_filtered.copy()\n",
        "NEET_2020_final.drop(['ITTER107', 'Tipo dato', 'ETA1', 'Classe di età', 'Seleziona periodo', 'Flag Codes', 'Flags'], axis = 1, inplace = True)\n",
        "\n",
        "NEET_2020_absolute = NEET_2020_final[NEET_2020_final['TIPO_DATO_FOL'] == 'NEET']\n",
        "NEET_2020_abs = NEET_2020_absolute.copy()\n",
        "NEET_2020_abs.drop('TIPO_DATO_FOL', axis = 1, inplace = True)\n",
        "NEET_2020_percentage = NEET_2020_final[NEET_2020_final['TIPO_DATO_FOL'] == 'NEET_I']\n",
        "NEET_2020_per = NEET_2020_percentage.copy()\n",
        "NEET_2020_per.drop('TIPO_DATO_FOL', axis = 1, inplace = True)"
      ],
      "metadata": {
        "id": "pFXSXuSuUKyI"
      },
      "execution_count": 32,
      "outputs": []
    },
    {
      "cell_type": "markdown",
      "source": [
        "We create one dataframe with info on absolute value, absolute value in thousands and percentage."
      ],
      "metadata": {
        "id": "qyZssHr1VdSn"
      }
    },
    {
      "cell_type": "code",
      "source": [
        "NEET_2020_merged = pd.merge(NEET_2020_abs, NEET_2020_per[['Territorio', 'Value']], on = ['Territorio'], how = 'left')\n",
        "NEET_2020_merged['abs'] = (NEET_2020_merged['Value_x'] * 1000).round(0).astype(int)\n",
        "NEET_2020_merged['absK'] = NEET_2020_merged['Value_x'].round(1)\n",
        "NEET_2020_merged['neet'] = NEET_2020_merged['Value_y'].round(1)\n",
        "NEET_2020_merged.drop(['TIME', 'Value_x', 'Value_y'], axis = 1, inplace = True)\n",
        "NEET_2020_merged['Territorio'] = NEET_2020_merged['Territorio'].replace(region_dict)"
      ],
      "metadata": {
        "id": "yEdS-fB3VdSn"
      },
      "execution_count": 33,
      "outputs": []
    },
    {
      "cell_type": "markdown",
      "source": [
        "### POVERTY (2020)"
      ],
      "metadata": {
        "id": "3r2_UaLhZIPb"
      }
    },
    {
      "cell_type": "code",
      "source": [
        "POVERTY_2020 = pd.read_csv(\"/content/drive/MyDrive/DV_project/story3/POVERTY_italy_2020.csv\", low_memory = False)"
      ],
      "metadata": {
        "id": "XG107elVZLGl"
      },
      "execution_count": 18,
      "outputs": []
    },
    {
      "cell_type": "code",
      "source": [
        "POVERTY_2020.drop([\"Frequenza\", \"Indicatore\", \"Tempo\"], axis = 1, inplace = True)"
      ],
      "metadata": {
        "id": "JzMrfyILZRnj"
      },
      "execution_count": 20,
      "outputs": []
    },
    {
      "cell_type": "code",
      "source": [
        "region_dict_new = {\n",
        "    \"Valle d'Aosta / Vallée d'Aoste\": \"Valle d'Aosta/Vallée d'Aoste\",\n",
        "    \"Trentino Alto Adige / Südtirol\": \"Trentino-Alto Adige/Südtirol\"\n",
        "}"
      ],
      "metadata": {
        "id": "MNdxJsQSe3PN"
      },
      "execution_count": null,
      "outputs": []
    },
    {
      "cell_type": "code",
      "source": [
        "POVERTY_2020"
      ],
      "metadata": {
        "id": "8Nnw0IXEfNl7",
        "outputId": "4775841b-7c81-450f-fedf-f0778f592d7c",
        "colab": {
          "base_uri": "https://localhost:8080/",
          "height": 708
        }
      },
      "execution_count": 34,
      "outputs": [
        {
          "output_type": "execute_result",
          "data": {
            "text/plain": [
              "                            Territorio  Osservazione\n",
              "0                               Italia          13.5\n",
              "1                             Piemonte           8.9\n",
              "2   'Valle d\"'Aosta / Vallée d\"'Aoste'           6.9\n",
              "3                              Liguria          10.5\n",
              "4                            Lombardia           9.3\n",
              "5       Trentino Alto Adige / Südtirol           5.6\n",
              "6                               Veneto           8.2\n",
              "7                Friuli-Venezia Giulia           8.7\n",
              "8                       Emilia-Romagna           7.9\n",
              "9                              Toscana           8.5\n",
              "10                              Umbria          10.2\n",
              "11                              Marche          14.6\n",
              "12                               Lazio           7.5\n",
              "13                             Abruzzo          15.0\n",
              "14                              Molise          21.4\n",
              "15                            Campania          25.8\n",
              "16                              Puglia          22.3\n",
              "17                          Basilicata          26.5\n",
              "18                            Calabria          23.4\n",
              "19                             Sicilia          22.1\n",
              "20                            Sardegna          17.5"
            ],
            "text/html": [
              "\n",
              "  <div id=\"df-aa4a52d6-e10f-4542-9e95-bb830888e4d7\" class=\"colab-df-container\">\n",
              "    <div>\n",
              "<style scoped>\n",
              "    .dataframe tbody tr th:only-of-type {\n",
              "        vertical-align: middle;\n",
              "    }\n",
              "\n",
              "    .dataframe tbody tr th {\n",
              "        vertical-align: top;\n",
              "    }\n",
              "\n",
              "    .dataframe thead th {\n",
              "        text-align: right;\n",
              "    }\n",
              "</style>\n",
              "<table border=\"1\" class=\"dataframe\">\n",
              "  <thead>\n",
              "    <tr style=\"text-align: right;\">\n",
              "      <th></th>\n",
              "      <th>Territorio</th>\n",
              "      <th>Osservazione</th>\n",
              "    </tr>\n",
              "  </thead>\n",
              "  <tbody>\n",
              "    <tr>\n",
              "      <th>0</th>\n",
              "      <td>Italia</td>\n",
              "      <td>13.5</td>\n",
              "    </tr>\n",
              "    <tr>\n",
              "      <th>1</th>\n",
              "      <td>Piemonte</td>\n",
              "      <td>8.9</td>\n",
              "    </tr>\n",
              "    <tr>\n",
              "      <th>2</th>\n",
              "      <td>'Valle d\"'Aosta / Vallée d\"'Aoste'</td>\n",
              "      <td>6.9</td>\n",
              "    </tr>\n",
              "    <tr>\n",
              "      <th>3</th>\n",
              "      <td>Liguria</td>\n",
              "      <td>10.5</td>\n",
              "    </tr>\n",
              "    <tr>\n",
              "      <th>4</th>\n",
              "      <td>Lombardia</td>\n",
              "      <td>9.3</td>\n",
              "    </tr>\n",
              "    <tr>\n",
              "      <th>5</th>\n",
              "      <td>Trentino Alto Adige / Südtirol</td>\n",
              "      <td>5.6</td>\n",
              "    </tr>\n",
              "    <tr>\n",
              "      <th>6</th>\n",
              "      <td>Veneto</td>\n",
              "      <td>8.2</td>\n",
              "    </tr>\n",
              "    <tr>\n",
              "      <th>7</th>\n",
              "      <td>Friuli-Venezia Giulia</td>\n",
              "      <td>8.7</td>\n",
              "    </tr>\n",
              "    <tr>\n",
              "      <th>8</th>\n",
              "      <td>Emilia-Romagna</td>\n",
              "      <td>7.9</td>\n",
              "    </tr>\n",
              "    <tr>\n",
              "      <th>9</th>\n",
              "      <td>Toscana</td>\n",
              "      <td>8.5</td>\n",
              "    </tr>\n",
              "    <tr>\n",
              "      <th>10</th>\n",
              "      <td>Umbria</td>\n",
              "      <td>10.2</td>\n",
              "    </tr>\n",
              "    <tr>\n",
              "      <th>11</th>\n",
              "      <td>Marche</td>\n",
              "      <td>14.6</td>\n",
              "    </tr>\n",
              "    <tr>\n",
              "      <th>12</th>\n",
              "      <td>Lazio</td>\n",
              "      <td>7.5</td>\n",
              "    </tr>\n",
              "    <tr>\n",
              "      <th>13</th>\n",
              "      <td>Abruzzo</td>\n",
              "      <td>15.0</td>\n",
              "    </tr>\n",
              "    <tr>\n",
              "      <th>14</th>\n",
              "      <td>Molise</td>\n",
              "      <td>21.4</td>\n",
              "    </tr>\n",
              "    <tr>\n",
              "      <th>15</th>\n",
              "      <td>Campania</td>\n",
              "      <td>25.8</td>\n",
              "    </tr>\n",
              "    <tr>\n",
              "      <th>16</th>\n",
              "      <td>Puglia</td>\n",
              "      <td>22.3</td>\n",
              "    </tr>\n",
              "    <tr>\n",
              "      <th>17</th>\n",
              "      <td>Basilicata</td>\n",
              "      <td>26.5</td>\n",
              "    </tr>\n",
              "    <tr>\n",
              "      <th>18</th>\n",
              "      <td>Calabria</td>\n",
              "      <td>23.4</td>\n",
              "    </tr>\n",
              "    <tr>\n",
              "      <th>19</th>\n",
              "      <td>Sicilia</td>\n",
              "      <td>22.1</td>\n",
              "    </tr>\n",
              "    <tr>\n",
              "      <th>20</th>\n",
              "      <td>Sardegna</td>\n",
              "      <td>17.5</td>\n",
              "    </tr>\n",
              "  </tbody>\n",
              "</table>\n",
              "</div>\n",
              "    <div class=\"colab-df-buttons\">\n",
              "\n",
              "  <div class=\"colab-df-container\">\n",
              "    <button class=\"colab-df-convert\" onclick=\"convertToInteractive('df-aa4a52d6-e10f-4542-9e95-bb830888e4d7')\"\n",
              "            title=\"Convert this dataframe to an interactive table.\"\n",
              "            style=\"display:none;\">\n",
              "\n",
              "  <svg xmlns=\"http://www.w3.org/2000/svg\" height=\"24px\" viewBox=\"0 -960 960 960\">\n",
              "    <path d=\"M120-120v-720h720v720H120Zm60-500h600v-160H180v160Zm220 220h160v-160H400v160Zm0 220h160v-160H400v160ZM180-400h160v-160H180v160Zm440 0h160v-160H620v160ZM180-180h160v-160H180v160Zm440 0h160v-160H620v160Z\"/>\n",
              "  </svg>\n",
              "    </button>\n",
              "\n",
              "  <style>\n",
              "    .colab-df-container {\n",
              "      display:flex;\n",
              "      gap: 12px;\n",
              "    }\n",
              "\n",
              "    .colab-df-convert {\n",
              "      background-color: #E8F0FE;\n",
              "      border: none;\n",
              "      border-radius: 50%;\n",
              "      cursor: pointer;\n",
              "      display: none;\n",
              "      fill: #1967D2;\n",
              "      height: 32px;\n",
              "      padding: 0 0 0 0;\n",
              "      width: 32px;\n",
              "    }\n",
              "\n",
              "    .colab-df-convert:hover {\n",
              "      background-color: #E2EBFA;\n",
              "      box-shadow: 0px 1px 2px rgba(60, 64, 67, 0.3), 0px 1px 3px 1px rgba(60, 64, 67, 0.15);\n",
              "      fill: #174EA6;\n",
              "    }\n",
              "\n",
              "    .colab-df-buttons div {\n",
              "      margin-bottom: 4px;\n",
              "    }\n",
              "\n",
              "    [theme=dark] .colab-df-convert {\n",
              "      background-color: #3B4455;\n",
              "      fill: #D2E3FC;\n",
              "    }\n",
              "\n",
              "    [theme=dark] .colab-df-convert:hover {\n",
              "      background-color: #434B5C;\n",
              "      box-shadow: 0px 1px 3px 1px rgba(0, 0, 0, 0.15);\n",
              "      filter: drop-shadow(0px 1px 2px rgba(0, 0, 0, 0.3));\n",
              "      fill: #FFFFFF;\n",
              "    }\n",
              "  </style>\n",
              "\n",
              "    <script>\n",
              "      const buttonEl =\n",
              "        document.querySelector('#df-aa4a52d6-e10f-4542-9e95-bb830888e4d7 button.colab-df-convert');\n",
              "      buttonEl.style.display =\n",
              "        google.colab.kernel.accessAllowed ? 'block' : 'none';\n",
              "\n",
              "      async function convertToInteractive(key) {\n",
              "        const element = document.querySelector('#df-aa4a52d6-e10f-4542-9e95-bb830888e4d7');\n",
              "        const dataTable =\n",
              "          await google.colab.kernel.invokeFunction('convertToInteractive',\n",
              "                                                    [key], {});\n",
              "        if (!dataTable) return;\n",
              "\n",
              "        const docLinkHtml = 'Like what you see? Visit the ' +\n",
              "          '<a target=\"_blank\" href=https://colab.research.google.com/notebooks/data_table.ipynb>data table notebook</a>'\n",
              "          + ' to learn more about interactive tables.';\n",
              "        element.innerHTML = '';\n",
              "        dataTable['output_type'] = 'display_data';\n",
              "        await google.colab.output.renderOutput(dataTable, element);\n",
              "        const docLink = document.createElement('div');\n",
              "        docLink.innerHTML = docLinkHtml;\n",
              "        element.appendChild(docLink);\n",
              "      }\n",
              "    </script>\n",
              "  </div>\n",
              "\n",
              "\n",
              "<div id=\"df-e33b1bf8-1f78-4ec3-844e-e15f00f22490\">\n",
              "  <button class=\"colab-df-quickchart\" onclick=\"quickchart('df-e33b1bf8-1f78-4ec3-844e-e15f00f22490')\"\n",
              "            title=\"Suggest charts\"\n",
              "            style=\"display:none;\">\n",
              "\n",
              "<svg xmlns=\"http://www.w3.org/2000/svg\" height=\"24px\"viewBox=\"0 0 24 24\"\n",
              "     width=\"24px\">\n",
              "    <g>\n",
              "        <path d=\"M19 3H5c-1.1 0-2 .9-2 2v14c0 1.1.9 2 2 2h14c1.1 0 2-.9 2-2V5c0-1.1-.9-2-2-2zM9 17H7v-7h2v7zm4 0h-2V7h2v10zm4 0h-2v-4h2v4z\"/>\n",
              "    </g>\n",
              "</svg>\n",
              "  </button>\n",
              "\n",
              "<style>\n",
              "  .colab-df-quickchart {\n",
              "      --bg-color: #E8F0FE;\n",
              "      --fill-color: #1967D2;\n",
              "      --hover-bg-color: #E2EBFA;\n",
              "      --hover-fill-color: #174EA6;\n",
              "      --disabled-fill-color: #AAA;\n",
              "      --disabled-bg-color: #DDD;\n",
              "  }\n",
              "\n",
              "  [theme=dark] .colab-df-quickchart {\n",
              "      --bg-color: #3B4455;\n",
              "      --fill-color: #D2E3FC;\n",
              "      --hover-bg-color: #434B5C;\n",
              "      --hover-fill-color: #FFFFFF;\n",
              "      --disabled-bg-color: #3B4455;\n",
              "      --disabled-fill-color: #666;\n",
              "  }\n",
              "\n",
              "  .colab-df-quickchart {\n",
              "    background-color: var(--bg-color);\n",
              "    border: none;\n",
              "    border-radius: 50%;\n",
              "    cursor: pointer;\n",
              "    display: none;\n",
              "    fill: var(--fill-color);\n",
              "    height: 32px;\n",
              "    padding: 0;\n",
              "    width: 32px;\n",
              "  }\n",
              "\n",
              "  .colab-df-quickchart:hover {\n",
              "    background-color: var(--hover-bg-color);\n",
              "    box-shadow: 0 1px 2px rgba(60, 64, 67, 0.3), 0 1px 3px 1px rgba(60, 64, 67, 0.15);\n",
              "    fill: var(--button-hover-fill-color);\n",
              "  }\n",
              "\n",
              "  .colab-df-quickchart-complete:disabled,\n",
              "  .colab-df-quickchart-complete:disabled:hover {\n",
              "    background-color: var(--disabled-bg-color);\n",
              "    fill: var(--disabled-fill-color);\n",
              "    box-shadow: none;\n",
              "  }\n",
              "\n",
              "  .colab-df-spinner {\n",
              "    border: 2px solid var(--fill-color);\n",
              "    border-color: transparent;\n",
              "    border-bottom-color: var(--fill-color);\n",
              "    animation:\n",
              "      spin 1s steps(1) infinite;\n",
              "  }\n",
              "\n",
              "  @keyframes spin {\n",
              "    0% {\n",
              "      border-color: transparent;\n",
              "      border-bottom-color: var(--fill-color);\n",
              "      border-left-color: var(--fill-color);\n",
              "    }\n",
              "    20% {\n",
              "      border-color: transparent;\n",
              "      border-left-color: var(--fill-color);\n",
              "      border-top-color: var(--fill-color);\n",
              "    }\n",
              "    30% {\n",
              "      border-color: transparent;\n",
              "      border-left-color: var(--fill-color);\n",
              "      border-top-color: var(--fill-color);\n",
              "      border-right-color: var(--fill-color);\n",
              "    }\n",
              "    40% {\n",
              "      border-color: transparent;\n",
              "      border-right-color: var(--fill-color);\n",
              "      border-top-color: var(--fill-color);\n",
              "    }\n",
              "    60% {\n",
              "      border-color: transparent;\n",
              "      border-right-color: var(--fill-color);\n",
              "    }\n",
              "    80% {\n",
              "      border-color: transparent;\n",
              "      border-right-color: var(--fill-color);\n",
              "      border-bottom-color: var(--fill-color);\n",
              "    }\n",
              "    90% {\n",
              "      border-color: transparent;\n",
              "      border-bottom-color: var(--fill-color);\n",
              "    }\n",
              "  }\n",
              "</style>\n",
              "\n",
              "  <script>\n",
              "    async function quickchart(key) {\n",
              "      const quickchartButtonEl =\n",
              "        document.querySelector('#' + key + ' button');\n",
              "      quickchartButtonEl.disabled = true;  // To prevent multiple clicks.\n",
              "      quickchartButtonEl.classList.add('colab-df-spinner');\n",
              "      try {\n",
              "        const charts = await google.colab.kernel.invokeFunction(\n",
              "            'suggestCharts', [key], {});\n",
              "      } catch (error) {\n",
              "        console.error('Error during call to suggestCharts:', error);\n",
              "      }\n",
              "      quickchartButtonEl.classList.remove('colab-df-spinner');\n",
              "      quickchartButtonEl.classList.add('colab-df-quickchart-complete');\n",
              "    }\n",
              "    (() => {\n",
              "      let quickchartButtonEl =\n",
              "        document.querySelector('#df-e33b1bf8-1f78-4ec3-844e-e15f00f22490 button');\n",
              "      quickchartButtonEl.style.display =\n",
              "        google.colab.kernel.accessAllowed ? 'block' : 'none';\n",
              "    })();\n",
              "  </script>\n",
              "</div>\n",
              "    </div>\n",
              "  </div>\n"
            ]
          },
          "metadata": {},
          "execution_count": 34
        }
      ]
    },
    {
      "cell_type": "markdown",
      "source": [
        "### LEAVERS (2020)"
      ],
      "metadata": {
        "id": "qEHnyYOeZMPK"
      }
    },
    {
      "cell_type": "code",
      "source": [
        "LEAVERS_2020 = pd.read_csv(\"/content/drive/MyDrive/DV_project/story3/LEAVERS_italy_2020.csv\", low_memory = False)"
      ],
      "metadata": {
        "id": "BnsjdqWZZPHC"
      },
      "execution_count": 28,
      "outputs": []
    },
    {
      "cell_type": "code",
      "source": [
        "LEAVERS_2020.drop([\"Frequenza\", \"Indicatore\", \"Sesso\", \"Cittadinanza\", \"Tempo\"], axis = 1, inplace = True)"
      ],
      "metadata": {
        "id": "zgRlBSVZeOKG"
      },
      "execution_count": 29,
      "outputs": []
    },
    {
      "cell_type": "code",
      "source": [
        "LEAVERS_2020"
      ],
      "metadata": {
        "id": "0EyQvnmgeYu_",
        "outputId": "05457d96-959d-47c5-c441-407cc9d3e49e",
        "colab": {
          "base_uri": "https://localhost:8080/",
          "height": 708
        }
      },
      "execution_count": 30,
      "outputs": [
        {
          "output_type": "execute_result",
          "data": {
            "text/plain": [
              "                            Territorio  Osservazione\n",
              "0                               Italia          13.1\n",
              "1                             Piemonte          12.0\n",
              "2   'Valle d\"'Aosta / Vallée d\"'Aoste'          11.6\n",
              "3                              Liguria          10.7\n",
              "4                            Lombardia          11.9\n",
              "5       Trentino Alto Adige / Südtirol          11.1\n",
              "6                               Veneto          10.5\n",
              "7                Friuli-Venezia Giulia           8.5\n",
              "8                       Emilia-Romagna           9.3\n",
              "9                              Toscana          11.7\n",
              "10                              Umbria          11.2\n",
              "11                              Marche           9.8\n",
              "12                               Lazio          11.9\n",
              "13                             Abruzzo           8.0\n",
              "14                              Molise           8.6\n",
              "15                            Campania          17.3\n",
              "16                              Puglia          15.6\n",
              "17                          Basilicata          10.1\n",
              "18                            Calabria          16.6\n",
              "19                             Sicilia          19.4\n",
              "20                            Sardegna          12.0"
            ],
            "text/html": [
              "\n",
              "  <div id=\"df-85987e2e-4fa9-49f5-b52d-df4ff492d786\" class=\"colab-df-container\">\n",
              "    <div>\n",
              "<style scoped>\n",
              "    .dataframe tbody tr th:only-of-type {\n",
              "        vertical-align: middle;\n",
              "    }\n",
              "\n",
              "    .dataframe tbody tr th {\n",
              "        vertical-align: top;\n",
              "    }\n",
              "\n",
              "    .dataframe thead th {\n",
              "        text-align: right;\n",
              "    }\n",
              "</style>\n",
              "<table border=\"1\" class=\"dataframe\">\n",
              "  <thead>\n",
              "    <tr style=\"text-align: right;\">\n",
              "      <th></th>\n",
              "      <th>Territorio</th>\n",
              "      <th>Osservazione</th>\n",
              "    </tr>\n",
              "  </thead>\n",
              "  <tbody>\n",
              "    <tr>\n",
              "      <th>0</th>\n",
              "      <td>Italia</td>\n",
              "      <td>13.1</td>\n",
              "    </tr>\n",
              "    <tr>\n",
              "      <th>1</th>\n",
              "      <td>Piemonte</td>\n",
              "      <td>12.0</td>\n",
              "    </tr>\n",
              "    <tr>\n",
              "      <th>2</th>\n",
              "      <td>'Valle d\"'Aosta / Vallée d\"'Aoste'</td>\n",
              "      <td>11.6</td>\n",
              "    </tr>\n",
              "    <tr>\n",
              "      <th>3</th>\n",
              "      <td>Liguria</td>\n",
              "      <td>10.7</td>\n",
              "    </tr>\n",
              "    <tr>\n",
              "      <th>4</th>\n",
              "      <td>Lombardia</td>\n",
              "      <td>11.9</td>\n",
              "    </tr>\n",
              "    <tr>\n",
              "      <th>5</th>\n",
              "      <td>Trentino Alto Adige / Südtirol</td>\n",
              "      <td>11.1</td>\n",
              "    </tr>\n",
              "    <tr>\n",
              "      <th>6</th>\n",
              "      <td>Veneto</td>\n",
              "      <td>10.5</td>\n",
              "    </tr>\n",
              "    <tr>\n",
              "      <th>7</th>\n",
              "      <td>Friuli-Venezia Giulia</td>\n",
              "      <td>8.5</td>\n",
              "    </tr>\n",
              "    <tr>\n",
              "      <th>8</th>\n",
              "      <td>Emilia-Romagna</td>\n",
              "      <td>9.3</td>\n",
              "    </tr>\n",
              "    <tr>\n",
              "      <th>9</th>\n",
              "      <td>Toscana</td>\n",
              "      <td>11.7</td>\n",
              "    </tr>\n",
              "    <tr>\n",
              "      <th>10</th>\n",
              "      <td>Umbria</td>\n",
              "      <td>11.2</td>\n",
              "    </tr>\n",
              "    <tr>\n",
              "      <th>11</th>\n",
              "      <td>Marche</td>\n",
              "      <td>9.8</td>\n",
              "    </tr>\n",
              "    <tr>\n",
              "      <th>12</th>\n",
              "      <td>Lazio</td>\n",
              "      <td>11.9</td>\n",
              "    </tr>\n",
              "    <tr>\n",
              "      <th>13</th>\n",
              "      <td>Abruzzo</td>\n",
              "      <td>8.0</td>\n",
              "    </tr>\n",
              "    <tr>\n",
              "      <th>14</th>\n",
              "      <td>Molise</td>\n",
              "      <td>8.6</td>\n",
              "    </tr>\n",
              "    <tr>\n",
              "      <th>15</th>\n",
              "      <td>Campania</td>\n",
              "      <td>17.3</td>\n",
              "    </tr>\n",
              "    <tr>\n",
              "      <th>16</th>\n",
              "      <td>Puglia</td>\n",
              "      <td>15.6</td>\n",
              "    </tr>\n",
              "    <tr>\n",
              "      <th>17</th>\n",
              "      <td>Basilicata</td>\n",
              "      <td>10.1</td>\n",
              "    </tr>\n",
              "    <tr>\n",
              "      <th>18</th>\n",
              "      <td>Calabria</td>\n",
              "      <td>16.6</td>\n",
              "    </tr>\n",
              "    <tr>\n",
              "      <th>19</th>\n",
              "      <td>Sicilia</td>\n",
              "      <td>19.4</td>\n",
              "    </tr>\n",
              "    <tr>\n",
              "      <th>20</th>\n",
              "      <td>Sardegna</td>\n",
              "      <td>12.0</td>\n",
              "    </tr>\n",
              "  </tbody>\n",
              "</table>\n",
              "</div>\n",
              "    <div class=\"colab-df-buttons\">\n",
              "\n",
              "  <div class=\"colab-df-container\">\n",
              "    <button class=\"colab-df-convert\" onclick=\"convertToInteractive('df-85987e2e-4fa9-49f5-b52d-df4ff492d786')\"\n",
              "            title=\"Convert this dataframe to an interactive table.\"\n",
              "            style=\"display:none;\">\n",
              "\n",
              "  <svg xmlns=\"http://www.w3.org/2000/svg\" height=\"24px\" viewBox=\"0 -960 960 960\">\n",
              "    <path d=\"M120-120v-720h720v720H120Zm60-500h600v-160H180v160Zm220 220h160v-160H400v160Zm0 220h160v-160H400v160ZM180-400h160v-160H180v160Zm440 0h160v-160H620v160ZM180-180h160v-160H180v160Zm440 0h160v-160H620v160Z\"/>\n",
              "  </svg>\n",
              "    </button>\n",
              "\n",
              "  <style>\n",
              "    .colab-df-container {\n",
              "      display:flex;\n",
              "      gap: 12px;\n",
              "    }\n",
              "\n",
              "    .colab-df-convert {\n",
              "      background-color: #E8F0FE;\n",
              "      border: none;\n",
              "      border-radius: 50%;\n",
              "      cursor: pointer;\n",
              "      display: none;\n",
              "      fill: #1967D2;\n",
              "      height: 32px;\n",
              "      padding: 0 0 0 0;\n",
              "      width: 32px;\n",
              "    }\n",
              "\n",
              "    .colab-df-convert:hover {\n",
              "      background-color: #E2EBFA;\n",
              "      box-shadow: 0px 1px 2px rgba(60, 64, 67, 0.3), 0px 1px 3px 1px rgba(60, 64, 67, 0.15);\n",
              "      fill: #174EA6;\n",
              "    }\n",
              "\n",
              "    .colab-df-buttons div {\n",
              "      margin-bottom: 4px;\n",
              "    }\n",
              "\n",
              "    [theme=dark] .colab-df-convert {\n",
              "      background-color: #3B4455;\n",
              "      fill: #D2E3FC;\n",
              "    }\n",
              "\n",
              "    [theme=dark] .colab-df-convert:hover {\n",
              "      background-color: #434B5C;\n",
              "      box-shadow: 0px 1px 3px 1px rgba(0, 0, 0, 0.15);\n",
              "      filter: drop-shadow(0px 1px 2px rgba(0, 0, 0, 0.3));\n",
              "      fill: #FFFFFF;\n",
              "    }\n",
              "  </style>\n",
              "\n",
              "    <script>\n",
              "      const buttonEl =\n",
              "        document.querySelector('#df-85987e2e-4fa9-49f5-b52d-df4ff492d786 button.colab-df-convert');\n",
              "      buttonEl.style.display =\n",
              "        google.colab.kernel.accessAllowed ? 'block' : 'none';\n",
              "\n",
              "      async function convertToInteractive(key) {\n",
              "        const element = document.querySelector('#df-85987e2e-4fa9-49f5-b52d-df4ff492d786');\n",
              "        const dataTable =\n",
              "          await google.colab.kernel.invokeFunction('convertToInteractive',\n",
              "                                                    [key], {});\n",
              "        if (!dataTable) return;\n",
              "\n",
              "        const docLinkHtml = 'Like what you see? Visit the ' +\n",
              "          '<a target=\"_blank\" href=https://colab.research.google.com/notebooks/data_table.ipynb>data table notebook</a>'\n",
              "          + ' to learn more about interactive tables.';\n",
              "        element.innerHTML = '';\n",
              "        dataTable['output_type'] = 'display_data';\n",
              "        await google.colab.output.renderOutput(dataTable, element);\n",
              "        const docLink = document.createElement('div');\n",
              "        docLink.innerHTML = docLinkHtml;\n",
              "        element.appendChild(docLink);\n",
              "      }\n",
              "    </script>\n",
              "  </div>\n",
              "\n",
              "\n",
              "<div id=\"df-43642783-5396-4619-bf19-765c448b50f0\">\n",
              "  <button class=\"colab-df-quickchart\" onclick=\"quickchart('df-43642783-5396-4619-bf19-765c448b50f0')\"\n",
              "            title=\"Suggest charts\"\n",
              "            style=\"display:none;\">\n",
              "\n",
              "<svg xmlns=\"http://www.w3.org/2000/svg\" height=\"24px\"viewBox=\"0 0 24 24\"\n",
              "     width=\"24px\">\n",
              "    <g>\n",
              "        <path d=\"M19 3H5c-1.1 0-2 .9-2 2v14c0 1.1.9 2 2 2h14c1.1 0 2-.9 2-2V5c0-1.1-.9-2-2-2zM9 17H7v-7h2v7zm4 0h-2V7h2v10zm4 0h-2v-4h2v4z\"/>\n",
              "    </g>\n",
              "</svg>\n",
              "  </button>\n",
              "\n",
              "<style>\n",
              "  .colab-df-quickchart {\n",
              "      --bg-color: #E8F0FE;\n",
              "      --fill-color: #1967D2;\n",
              "      --hover-bg-color: #E2EBFA;\n",
              "      --hover-fill-color: #174EA6;\n",
              "      --disabled-fill-color: #AAA;\n",
              "      --disabled-bg-color: #DDD;\n",
              "  }\n",
              "\n",
              "  [theme=dark] .colab-df-quickchart {\n",
              "      --bg-color: #3B4455;\n",
              "      --fill-color: #D2E3FC;\n",
              "      --hover-bg-color: #434B5C;\n",
              "      --hover-fill-color: #FFFFFF;\n",
              "      --disabled-bg-color: #3B4455;\n",
              "      --disabled-fill-color: #666;\n",
              "  }\n",
              "\n",
              "  .colab-df-quickchart {\n",
              "    background-color: var(--bg-color);\n",
              "    border: none;\n",
              "    border-radius: 50%;\n",
              "    cursor: pointer;\n",
              "    display: none;\n",
              "    fill: var(--fill-color);\n",
              "    height: 32px;\n",
              "    padding: 0;\n",
              "    width: 32px;\n",
              "  }\n",
              "\n",
              "  .colab-df-quickchart:hover {\n",
              "    background-color: var(--hover-bg-color);\n",
              "    box-shadow: 0 1px 2px rgba(60, 64, 67, 0.3), 0 1px 3px 1px rgba(60, 64, 67, 0.15);\n",
              "    fill: var(--button-hover-fill-color);\n",
              "  }\n",
              "\n",
              "  .colab-df-quickchart-complete:disabled,\n",
              "  .colab-df-quickchart-complete:disabled:hover {\n",
              "    background-color: var(--disabled-bg-color);\n",
              "    fill: var(--disabled-fill-color);\n",
              "    box-shadow: none;\n",
              "  }\n",
              "\n",
              "  .colab-df-spinner {\n",
              "    border: 2px solid var(--fill-color);\n",
              "    border-color: transparent;\n",
              "    border-bottom-color: var(--fill-color);\n",
              "    animation:\n",
              "      spin 1s steps(1) infinite;\n",
              "  }\n",
              "\n",
              "  @keyframes spin {\n",
              "    0% {\n",
              "      border-color: transparent;\n",
              "      border-bottom-color: var(--fill-color);\n",
              "      border-left-color: var(--fill-color);\n",
              "    }\n",
              "    20% {\n",
              "      border-color: transparent;\n",
              "      border-left-color: var(--fill-color);\n",
              "      border-top-color: var(--fill-color);\n",
              "    }\n",
              "    30% {\n",
              "      border-color: transparent;\n",
              "      border-left-color: var(--fill-color);\n",
              "      border-top-color: var(--fill-color);\n",
              "      border-right-color: var(--fill-color);\n",
              "    }\n",
              "    40% {\n",
              "      border-color: transparent;\n",
              "      border-right-color: var(--fill-color);\n",
              "      border-top-color: var(--fill-color);\n",
              "    }\n",
              "    60% {\n",
              "      border-color: transparent;\n",
              "      border-right-color: var(--fill-color);\n",
              "    }\n",
              "    80% {\n",
              "      border-color: transparent;\n",
              "      border-right-color: var(--fill-color);\n",
              "      border-bottom-color: var(--fill-color);\n",
              "    }\n",
              "    90% {\n",
              "      border-color: transparent;\n",
              "      border-bottom-color: var(--fill-color);\n",
              "    }\n",
              "  }\n",
              "</style>\n",
              "\n",
              "  <script>\n",
              "    async function quickchart(key) {\n",
              "      const quickchartButtonEl =\n",
              "        document.querySelector('#' + key + ' button');\n",
              "      quickchartButtonEl.disabled = true;  // To prevent multiple clicks.\n",
              "      quickchartButtonEl.classList.add('colab-df-spinner');\n",
              "      try {\n",
              "        const charts = await google.colab.kernel.invokeFunction(\n",
              "            'suggestCharts', [key], {});\n",
              "      } catch (error) {\n",
              "        console.error('Error during call to suggestCharts:', error);\n",
              "      }\n",
              "      quickchartButtonEl.classList.remove('colab-df-spinner');\n",
              "      quickchartButtonEl.classList.add('colab-df-quickchart-complete');\n",
              "    }\n",
              "    (() => {\n",
              "      let quickchartButtonEl =\n",
              "        document.querySelector('#df-43642783-5396-4619-bf19-765c448b50f0 button');\n",
              "      quickchartButtonEl.style.display =\n",
              "        google.colab.kernel.accessAllowed ? 'block' : 'none';\n",
              "    })();\n",
              "  </script>\n",
              "</div>\n",
              "    </div>\n",
              "  </div>\n"
            ]
          },
          "metadata": {},
          "execution_count": 30
        }
      ]
    },
    {
      "cell_type": "markdown",
      "source": [
        "### Bubble chart"
      ],
      "metadata": {
        "id": "uwnGxxIsdwnb"
      }
    },
    {
      "cell_type": "code",
      "source": [
        "NEET_2020_merged.rename(columns = {'Territorio': 'Region'}, inplace = True)\n",
        "NEET_2020_merged"
      ],
      "metadata": {
        "id": "d0dC3pgfdy2K"
      },
      "execution_count": null,
      "outputs": []
    },
    {
      "cell_type": "markdown",
      "source": [
        "# Download all CSV files"
      ],
      "metadata": {
        "id": "QYptvL_UF1vf"
      }
    },
    {
      "cell_type": "markdown",
      "source": [
        "We download all the CSV files we created."
      ],
      "metadata": {
        "id": "vhSy4rob1NaT"
      }
    },
    {
      "cell_type": "code",
      "source": [
        "directory_path = '/content'\n",
        "file_type = \".csv\"\n",
        "files_to_download = glob.glob(f\"{directory_path}/*{file_type}\")\n",
        "zip_filename = \"grouped_barcharts.zip\"\n",
        "with zipfile.ZipFile(zip_filename, \"w\") as zipf:\n",
        "    for file in files_to_download:\n",
        "        zipf.write(file, arcname = os.path.basename(file))\n",
        "files.download(zip_filename)"
      ],
      "metadata": {
        "colab": {
          "base_uri": "https://localhost:8080/",
          "height": 17
        },
        "id": "XKYseRagF5Gu",
        "outputId": "4ccc64e9-983c-4949-b235-fe35d19b6e39"
      },
      "execution_count": null,
      "outputs": [
        {
          "output_type": "display_data",
          "data": {
            "text/plain": [
              "<IPython.core.display.Javascript object>"
            ],
            "application/javascript": [
              "\n",
              "    async function download(id, filename, size) {\n",
              "      if (!google.colab.kernel.accessAllowed) {\n",
              "        return;\n",
              "      }\n",
              "      const div = document.createElement('div');\n",
              "      const label = document.createElement('label');\n",
              "      label.textContent = `Downloading \"${filename}\": `;\n",
              "      div.appendChild(label);\n",
              "      const progress = document.createElement('progress');\n",
              "      progress.max = size;\n",
              "      div.appendChild(progress);\n",
              "      document.body.appendChild(div);\n",
              "\n",
              "      const buffers = [];\n",
              "      let downloaded = 0;\n",
              "\n",
              "      const channel = await google.colab.kernel.comms.open(id);\n",
              "      // Send a message to notify the kernel that we're ready.\n",
              "      channel.send({})\n",
              "\n",
              "      for await (const message of channel.messages) {\n",
              "        // Send a message to notify the kernel that we're ready.\n",
              "        channel.send({})\n",
              "        if (message.buffers) {\n",
              "          for (const buffer of message.buffers) {\n",
              "            buffers.push(buffer);\n",
              "            downloaded += buffer.byteLength;\n",
              "            progress.value = downloaded;\n",
              "          }\n",
              "        }\n",
              "      }\n",
              "      const blob = new Blob(buffers, {type: 'application/binary'});\n",
              "      const a = document.createElement('a');\n",
              "      a.href = window.URL.createObjectURL(blob);\n",
              "      a.download = filename;\n",
              "      div.appendChild(a);\n",
              "      a.click();\n",
              "      div.remove();\n",
              "    }\n",
              "  "
            ]
          },
          "metadata": {}
        },
        {
          "output_type": "display_data",
          "data": {
            "text/plain": [
              "<IPython.core.display.Javascript object>"
            ],
            "application/javascript": [
              "download(\"download_b5270216-e0e0-4d1d-b349-d2fa9ddac3db\", \"grouped_barcharts.zip\", 5650)"
            ]
          },
          "metadata": {}
        }
      ]
    },
    {
      "cell_type": "markdown",
      "source": [
        "We remove all the CSV files we downloaded."
      ],
      "metadata": {
        "id": "8Tdp7NSO6ID2"
      }
    },
    {
      "cell_type": "code",
      "source": [
        "for file in files_to_download:\n",
        "    os.remove(file)"
      ],
      "metadata": {
        "id": "c_K8gA5D6Hv3"
      },
      "execution_count": null,
      "outputs": []
    },
    {
      "cell_type": "markdown",
      "source": [
        "# Choropleth Map: JSON file preparation"
      ],
      "metadata": {
        "id": "Fjavhm-pJwqF"
      }
    },
    {
      "cell_type": "markdown",
      "source": [
        "We load a JSON file containing a map of Italy."
      ],
      "metadata": {
        "id": "E5vqQ2ov03sz"
      }
    },
    {
      "cell_type": "code",
      "source": [
        "json_path = \"/content/drive/MyDrive/DV_project/story3/italy.json\"\n",
        "with open(json_path, 'r') as file:\n",
        "    json_file = json.load(file)"
      ],
      "metadata": {
        "id": "k3EHZZYxJygc"
      },
      "execution_count": 153,
      "outputs": []
    },
    {
      "cell_type": "markdown",
      "source": [
        "We add to the JSON file information about the NEET abundance."
      ],
      "metadata": {
        "id": "RtYuQtf71d3D"
      }
    },
    {
      "cell_type": "code",
      "source": [
        "for idx in range(len(json_file['objects']['regions'].get('geometries'))):\n",
        "\n",
        "  properties = json_file['objects']['regions'].get('geometries')[idx]['properties']\n",
        "  region = properties['reg_name']\n",
        "\n",
        "  row = neet_dict['NEET'][neet_dict['NEET']['Region'] == region].values[0]\n",
        "\n",
        "  properties['abundance'] = list(row)[1::3]\n",
        "  properties['abundance1000'] = list(row)[2::3]\n",
        "  properties['percentage'] = list(row)[3::3]"
      ],
      "metadata": {
        "id": "v_We1y9mJyju"
      },
      "execution_count": 154,
      "outputs": []
    },
    {
      "cell_type": "markdown",
      "source": [
        "We export the modified JSON file: we have still to remove by hand all info on Israel for a better visualisation of the map."
      ],
      "metadata": {
        "id": "kqhKhrWT1mR9"
      }
    },
    {
      "cell_type": "code",
      "source": [
        "# We then need to remove (by hand) 'Israel' from the JSON file for a better vis of the map\n",
        "out_path = \"/content/choropleth_italy.json\"\n",
        "with open(out_path, 'w') as file:\n",
        "    json.dump(json_file, file)"
      ],
      "metadata": {
        "id": "9ba5iL__Kdjk"
      },
      "execution_count": 155,
      "outputs": []
    }
  ]
}